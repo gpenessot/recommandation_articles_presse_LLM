{
 "cells": [
  {
   "cell_type": "code",
   "execution_count": 158,
   "id": "a59dcb71-4159-4f80-9010-078f261b4bc7",
   "metadata": {},
   "outputs": [],
   "source": [
    "import pandas as pd\n",
    "import glob"
   ]
  },
  {
   "cell_type": "code",
   "execution_count": 159,
   "id": "e672e568-2d58-417b-bf09-0a1e1693f7bf",
   "metadata": {},
   "outputs": [],
   "source": [
    "csv_files = glob.glob('../data/raw/*.csv')"
   ]
  },
  {
   "cell_type": "code",
   "execution_count": 160,
   "id": "d852cdd4-e928-429d-b3fc-6fb4d8352c6e",
   "metadata": {},
   "outputs": [],
   "source": [
    "combined_csv = pd.DataFrame()"
   ]
  },
  {
   "cell_type": "code",
   "execution_count": 161,
   "id": "9410f12e-fec7-4192-8134-2abfcf5282e7",
   "metadata": {},
   "outputs": [],
   "source": [
    "for file in csv_files:\n",
    "    temp = pd.read_csv(file, index_col=0)\n",
    "    combined_csv = pd.concat([combined_csv, temp])"
   ]
  },
  {
   "cell_type": "code",
   "execution_count": 162,
   "id": "0cf58d21-91e5-4f51-9f55-b065a61dee8e",
   "metadata": {},
   "outputs": [],
   "source": [
    "combined_csv = combined_csv[~pd.isnull(combined_csv['content'])]\n",
    "combined_csv = combined_csv[~pd.isnull(combined_csv['author'])]"
   ]
  },
  {
   "cell_type": "code",
   "execution_count": 163,
   "id": "30eb086b-d787-45e5-8edc-99cae149318c",
   "metadata": {},
   "outputs": [],
   "source": [
    "combined_csv = combined_csv[~combined_csv['content'].str.startswith('Search\\r\\nDirect')]"
   ]
  },
  {
   "cell_type": "code",
   "execution_count": 164,
   "id": "a40cb36b-3d3c-488e-92e4-28cd98327dbe",
   "metadata": {},
   "outputs": [],
   "source": [
    "combined_csv = combined_csv.reset_index().drop(columns='index')"
   ]
  },
  {
   "cell_type": "code",
   "execution_count": 165,
   "id": "44b3ecd0-a043-4812-a2fb-63944368a217",
   "metadata": {},
   "outputs": [],
   "source": [
    "col_to_keep = ['author', 'title', 'publishedAt', 'content']"
   ]
  },
  {
   "cell_type": "code",
   "execution_count": 166,
   "id": "df8e2a3c-07e2-470b-b466-aa0445dbfa29",
   "metadata": {},
   "outputs": [],
   "source": [
    "combined_csv = combined_csv[col_to_keep]"
   ]
  },
  {
   "cell_type": "code",
   "execution_count": 167,
   "id": "be3a1b98-de38-46c8-bd55-48a69a23d7af",
   "metadata": {},
   "outputs": [],
   "source": [
    "dtype_dict = {'author':'str',\n",
    "              'title':'str',\n",
    "              'publishedAt':'datetime64[ns]',\n",
    "              'content':'str'}"
   ]
  },
  {
   "cell_type": "code",
   "execution_count": 168,
   "id": "b490a055-9181-4bd9-af38-93758d636d3d",
   "metadata": {},
   "outputs": [],
   "source": [
    "combined_csv = combined_csv.astype(dtype_dict)"
   ]
  },
  {
   "cell_type": "code",
   "execution_count": 169,
   "id": "3d9b679c-d183-44c6-aa80-834c0b90eef8",
   "metadata": {},
   "outputs": [],
   "source": [
    "combined_csv = combined_csv.drop_duplicates()"
   ]
  },
  {
   "cell_type": "code",
   "execution_count": 170,
   "id": "befa30d8-9d2d-4455-a4f0-83fe86a97814",
   "metadata": {},
   "outputs": [],
   "source": [
    "combined_csv.to_csv('../data/processed/articles.csv')"
   ]
  },
  {
   "cell_type": "code",
   "execution_count": 171,
   "id": "edecfb2a-4709-4baf-ad31-de2b2448c6a3",
   "metadata": {},
   "outputs": [
    {
     "data": {
      "text/plain": [
       "(99, 4)"
      ]
     },
     "execution_count": 171,
     "metadata": {},
     "output_type": "execute_result"
    }
   ],
   "source": [
    "combined_csv.shape"
   ]
  },
  {
   "cell_type": "code",
   "execution_count": null,
   "id": "f955c3bb-633b-464d-b115-0184e2c742f6",
   "metadata": {},
   "outputs": [],
   "source": []
  }
 ],
 "metadata": {
  "kernelspec": {
   "display_name": "Python 3 (ipykernel)",
   "language": "python",
   "name": "python3"
  },
  "language_info": {
   "codemirror_mode": {
    "name": "ipython",
    "version": 3
   },
   "file_extension": ".py",
   "mimetype": "text/x-python",
   "name": "python",
   "nbconvert_exporter": "python",
   "pygments_lexer": "ipython3",
   "version": "3.9.16"
  }
 },
 "nbformat": 4,
 "nbformat_minor": 5
}
