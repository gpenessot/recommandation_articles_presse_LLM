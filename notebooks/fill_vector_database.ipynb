{
 "cells": [
  {
   "cell_type": "code",
   "execution_count": 1,
   "id": "ab5bce44-4a11-42cb-9b76-047486e84517",
   "metadata": {},
   "outputs": [
    {
     "name": "stdout",
     "output_type": "stream",
     "text": [
      "WARNING:tensorflow:Please fix your imports. Module tensorflow.python.training.tracking.autotrackable has been moved to tensorflow.python.trackable.autotrackable. The old module will be deleted in version 2.11.\n",
      "WARNING:tensorflow:Please fix your imports. Module tensorflow.python.training.tracking.base has been moved to tensorflow.python.trackable.base. The old module will be deleted in version 2.11.\n",
      "WARNING:tensorflow:Please fix your imports. Module tensorflow.python.training.tracking.base_delegate has been moved to tensorflow.python.trackable.base_delegate. The old module will be deleted in version 2.11.\n",
      "WARNING:tensorflow:Please fix your imports. Module tensorflow.python.training.tracking.data_structures has been moved to tensorflow.python.trackable.data_structures. The old module will be deleted in version 2.11.\n",
      "WARNING:tensorflow:Please fix your imports. Module tensorflow.python.training.tracking.graph_view has been moved to tensorflow.python.checkpoint.graph_view. The old module will be deleted in version 2.11.\n",
      "WARNING:tensorflow:Please fix your imports. Module tensorflow.python.training.tracking.util has been moved to tensorflow.python.checkpoint.checkpoint. The old module will be deleted in version 2.11.\n",
      "WARNING:tensorflow:Please fix your imports. Module tensorflow.python.training.checkpoint_management has been moved to tensorflow.python.checkpoint.checkpoint_management. The old module will be deleted in version 2.9.\n",
      "WARNING:tensorflow:Please fix your imports. Module tensorflow.python.training.tracking.resource has been moved to tensorflow.python.trackable.resource. The old module will be deleted in version 2.11.\n",
      "WARNING:tensorflow:Please fix your imports. Module tensorflow.python.training.tracking.asset has been moved to tensorflow.python.trackable.asset. The old module will be deleted in version 2.11.\n",
      "WARNING:tensorflow:Please fix your imports. Module tensorflow.python.training.tracking.python_state has been moved to tensorflow.python.trackable.python_state. The old module will be deleted in version 2.11.\n",
      "WARNING:tensorflow:Please fix your imports. Module tensorflow.python.training.saving.checkpoint_options has been moved to tensorflow.python.checkpoint.checkpoint_options. The old module will be deleted in version 2.11.\n"
     ]
    }
   ],
   "source": [
    "from sentence_transformers import SentenceTransformer\n",
    "from qdrant_client import QdrantClient\n",
    "from qdrant_client import models\n",
    "from qdrant_client.http.models import Distance, VectorParams, PointStruct \n",
    "from qdrant_client.models import Filter\n",
    "from qdrant_client.http import models\n",
    "import numpy as np\n",
    "import pandas as pd\n",
    "import configparser"
   ]
  },
  {
   "cell_type": "code",
   "execution_count": 2,
   "id": "809e6ada-ca61-4d70-8f16-24e53b9bdc2d",
   "metadata": {},
   "outputs": [
    {
     "name": "stderr",
     "output_type": "stream",
     "text": [
      "No sentence-transformers model found with name C:\\Users\\gaelp/.cache\\torch\\sentence_transformers\\moussaKam_barthez. Creating a new one with MEAN pooling.\n"
     ]
    }
   ],
   "source": [
    "config=configparser.ConfigParser()\n",
    "config.read('../config.cfg')\n",
    "\n",
    "model_name = \"moussaKam/barthez\"\n",
    "encoder = SentenceTransformer(model_name_or_path=model_name)"
   ]
  },
  {
   "cell_type": "code",
   "execution_count": 3,
   "id": "9c7f4e7d-6e69-4c9e-a455-fb6094c1b834",
   "metadata": {},
   "outputs": [],
   "source": [
    "QDRANT_HOST=config['QDRANT']['host']\n",
    "QDRANT_PORT=config['QDRANT']['port']\n",
    "QDRANT_API_KEY=config['QDRANT']['qdrant_api_key']\n",
    "\n",
    "client = QdrantClient(url=QDRANT_HOST, \n",
    "                      port=QDRANT_PORT, \n",
    "                      api_key=QDRANT_API_KEY)"
   ]
  },
  {
   "cell_type": "code",
   "execution_count": 4,
   "id": "1c2b933e-3f69-4921-8158-ffbb283f5faf",
   "metadata": {},
   "outputs": [],
   "source": [
    "df = pd.read_csv('../data/processed/articles.csv', index_col=0, encoding='utf-8')"
   ]
  },
  {
   "cell_type": "code",
   "execution_count": 5,
   "id": "2491d55e-8bf1-46e6-a3c9-8d32d6cce61d",
   "metadata": {},
   "outputs": [],
   "source": [
    "df = df.reset_index()"
   ]
  },
  {
   "cell_type": "code",
   "execution_count": 6,
   "id": "ed07a2e8-6bc6-476c-a050-c584d5ae6d33",
   "metadata": {},
   "outputs": [],
   "source": [
    "df.columns = ['newsId', 'author', 'title', 'publishedAt', 'content']"
   ]
  },
  {
   "cell_type": "code",
   "execution_count": 7,
   "id": "83db350d-ee8d-4aa9-8469-eaeb2042a1ca",
   "metadata": {},
   "outputs": [],
   "source": [
    "def generate_item_sentence(item: pd.Series, text_columns=[\"title\"]) -> str:\n",
    "    return ' '.join([item[column] for column in text_columns])"
   ]
  },
  {
   "cell_type": "code",
   "execution_count": 8,
   "id": "afe6b350-79af-4f09-b0a5-7dd35e6cd9a0",
   "metadata": {},
   "outputs": [],
   "source": [
    "df[\"sentence\"] = df.apply(generate_item_sentence, axis=1)\n",
    "df[\"sentence_embedding\"] = df[\"sentence\"].apply(encoder.encode)"
   ]
  },
  {
   "cell_type": "code",
   "execution_count": 9,
   "id": "5f81f4fc-e05a-4fb2-880d-207ec95ffaac",
   "metadata": {},
   "outputs": [
    {
     "data": {
      "text/plain": [
       "True"
      ]
     },
     "execution_count": 9,
     "metadata": {},
     "output_type": "execute_result"
    }
   ],
   "source": [
    "client.create_collection(\n",
    "    collection_name = \"articles_fr_newsapi\",\n",
    "    vectors_config = models.VectorParams(\n",
    "        size = encoder.get_sentence_embedding_dimension(),\n",
    "        distance = models.Distance.COSINE,\n",
    "    ),\n",
    ")"
   ]
  },
  {
   "cell_type": "code",
   "execution_count": 10,
   "id": "4aa532a9-d782-4848-9097-1aa30581290b",
   "metadata": {},
   "outputs": [],
   "source": [
    "metadata_columns = df.drop([\"newsId\", \"sentence\", \"sentence_embedding\"], axis=1).columns\n",
    "\n",
    "def create_vector_point(item:pd.Series) -> PointStruct:\n",
    "    \"\"\"Turn vectors into PointStruct\"\"\"\n",
    "    return PointStruct(\n",
    "        id = item[\"newsId\"],\n",
    "        vector = item[\"sentence_embedding\"].tolist(),\n",
    "        payload = {\n",
    "            field: item[field]\n",
    "            for field in metadata_columns\n",
    "            if (str(item[field]) not in ['None', 'nan'])\n",
    "        }\n",
    "    )\n",
    "\n",
    "points = df.apply(create_vector_point, axis=1).tolist()"
   ]
  },
  {
   "cell_type": "code",
   "execution_count": 11,
   "id": "50a6d88a-95c3-420d-a891-ddee8b4bd0c9",
   "metadata": {},
   "outputs": [],
   "source": [
    "CHUNK_SIZE = 500\n",
    "n_chunks = np.ceil(len(points)/CHUNK_SIZE)\n",
    "\n",
    "for i, points_chunk in enumerate(np.array_split(points, n_chunks)):\n",
    "    client.upsert(\n",
    "        collection_name=\"articles_fr_newsapi\",\n",
    "        wait=True,\n",
    "        points=points_chunk.tolist()\n",
    "    )"
   ]
  },
  {
   "cell_type": "code",
   "execution_count": 12,
   "id": "803badbc-f01b-463a-8c4c-69499d8e6c03",
   "metadata": {},
   "outputs": [],
   "source": [
    "query_text = \"Macron\"\n",
    "query_vector = encoder.encode(query_text).tolist()"
   ]
  },
  {
   "cell_type": "code",
   "execution_count": 13,
   "id": "60af206d-a703-4dbe-9241-a3f993cab0b7",
   "metadata": {},
   "outputs": [
    {
     "data": {
      "text/plain": [
       "[ScoredPoint(id=48, version=0, score=0.46678478, payload={'content': 'La bagnole\\xa0? «\\xa0Moi, je ladore\\xa0!\\xa0», avait déclaré Emmanuel Macron lors dune interview télévisée le 24\\xa0septembre. Cette passion a sans doute incité le chef de lEtat à annoncer lui-même, jeudi 14\\xa0décemb… [+3356 chars]', 'title': 'Voiture électrique\\xa0: une démocratisation difficile'}, vector=None, shard_key=None),\n",
       " ScoredPoint(id=22, version=0, score=0.43773925, payload={'content': 'Les funérailles du Pape émérite Benoît XVI\\r\\nLa dépouille de Joseph Ratzinger, pape de\\xa02005 à\\xa02013, a été exposée dans la basilique Saint-Pierre de Rome.Andreas SOLARO/AFP\\r\\nPour la première fois depui… [+11062 chars]', 'title': '20 photos marquantes de\\xa02023'}, vector=None, shard_key=None),\n",
       " ScoredPoint(id=7, version=0, score=0.42466035, payload={'content': 'Depuis 2017\\xa0et les révélations sur le producteur de cinéma prédateur Harvey Weinstein, la vague qui a libéré la parole des femmes victimes de violences sexistes et sexuelles a aussi bouleversé la man… [+3427 chars]', 'title': 'Depardieu\\xa0: la faute politique du président'}, vector=None, shard_key=None),\n",
       " ScoredPoint(id=127, version=0, score=0.40177527, payload={'content': 'Une figure politique singulière disparaît avec Jacques Delors. Autodidacte formé par le syndicalisme chrétien, humaniste inspiré par le personnalisme engagé du philosophe Emmanuel Mounier, profondéme… [+3259 chars]', 'title': 'Le double héritage de Jacques Delors'}, vector=None, shard_key=None),\n",
       " ScoredPoint(id=153, version=0, score=0.400306, payload={'content': 'Lautomne 2023\\xa0a vu la résurgence du risque terroriste en France. Deux attentats au couteau ont été commis au nom de lorganisation Etat islamique. Chacun deux pose, à sa manière, le problème de la pré… [+2904 chars]', 'title': 'Prévention du terrorisme\\xa0: l’impossible risque zéro'}, vector=None, shard_key=None),\n",
       " ScoredPoint(id=109, version=0, score=0.35586882, payload={'content': 'Loin des champs de bataille dUkraine, un autre front de la guerre russe se déploie dans les Balkans, où Moscou tente dexploiter les tensions nationalistes contre laspiration des pays de la région à r… [+3208 chars]', 'title': 'Le double jeu dangereux de la Serbie'}, vector=None, shard_key=None),\n",
       " ScoredPoint(id=45, version=0, score=0.3551863, payload={'content': 'Un navire participe à la création dun port côtier nécessaire à la production pétrolière offshore à lembouchure de la rivière Demerara, à Georgetown, la capitale du Guyana, le 11\\xa0avril\\xa02023. MATIAS DE… [+2745 chars]', 'title': 'Le Guyana relance la soif mondiale de pétrole'}, vector=None, shard_key=None),\n",
       " ScoredPoint(id=71, version=0, score=0.33820614, payload={'content': 'Vincent Bolloré, à Paris, en\\xa02015. JACQUES DEMARTHON / AFP\\r\\nDes jolis coups, Vincent Bolloré en a fait dans sa carrière\\xa0: la Société commerciale daffrètement et de combustible (SCAC) au milieu des an… [+2596 chars]', 'title': 'Vincent Bolloré et Vivendi, le coup de sa vie'}, vector=None, shard_key=None),\n",
       " ScoredPoint(id=74, version=0, score=0.3310691, payload={'content': '<li>Parce quune autre personne (ou vous) est en train de lire Le Monde avec ce compte sur un autre appareil.\\r\\nVous ne pouvez lire Le Monde que sur un seul appareil à la fois (ordinateur, téléphone ou… [+626 chars]', 'title': 'Vidéo. En images\\xa0: Vladimir Poutine réitère son objectif en Ukraine'}, vector=None, shard_key=None),\n",
       " ScoredPoint(id=11, version=0, score=0.3310419, payload={'content': \"La Moldavie a rapidement embrayé. Dix jours après avoir bénéficié, comme son voisin ukrainien, d'une invitation des Vingt-Sept à entamer des négociations d'adhésion à l'Union européenne , la présiden… [+3289 chars]\", 'title': \"La Moldavie veut accélérer son rapprochement de l'Union européenne\"}, vector=None, shard_key=None)]"
      ]
     },
     "execution_count": 13,
     "metadata": {},
     "output_type": "execute_result"
    }
   ],
   "source": [
    "client.search(\n",
    "    collection_name=\"articles_fr_newsapi\",\n",
    "    query_vector=query_vector,\n",
    "    with_payload=[\"newsId\", \"title\", \"content\"],\n",
    "    query_filter=None\n",
    ")"
   ]
  },
  {
   "cell_type": "markdown",
   "id": "22f78ab8-145b-432a-b1a6-085c23f77d1b",
   "metadata": {},
   "source": [
    "## Affichage"
   ]
  },
  {
   "cell_type": "code",
   "execution_count": 16,
   "id": "ed2195ac-f396-4f07-a680-e48b2454357b",
   "metadata": {},
   "outputs": [],
   "source": [
    "import numpy as np\n",
    "import ast\n",
    "\n",
    "# Convert embeddings from CSV str type to NumPy Array\n",
    "embedding_array = np.array(\n",
    "    df['sentence_embedding'].to_list()\n",
    ")"
   ]
  },
  {
   "cell_type": "code",
   "execution_count": 18,
   "id": "09890f6a-34ce-4c36-a1a9-af5beb23e4ae",
   "metadata": {},
   "outputs": [],
   "source": [
    "query = \"Macron\"\n",
    "query_embedding_response = np.array(\n",
    "    encoder.encode(query)\n",
    ")"
   ]
  },
  {
   "cell_type": "code",
   "execution_count": 20,
   "id": "f8e14b2d-9962-443a-9542-68d68068710d",
   "metadata": {},
   "outputs": [],
   "source": [
    "from scipy.spatial.distance import cdist\n",
    "\n",
    "df['distance'] = cdist(\n",
    "    embedding_array,\n",
    "    [query_embedding_response]\n",
    ")"
   ]
  },
  {
   "cell_type": "code",
   "execution_count": 21,
   "id": "9c663685-422b-4418-86a1-9265bbdb0a02",
   "metadata": {},
   "outputs": [],
   "source": [
    "from sklearn.preprocessing import MinMaxScaler\n",
    "\n",
    "scaler = MinMaxScaler()\n",
    "\n",
    "scaler.fit(df[['distance']])\n",
    "\n",
    "df['normalised'] = scaler.transform(df[['distance']])"
   ]
  },
  {
   "cell_type": "code",
   "execution_count": 40,
   "id": "79b77cc5-1a86-453a-aab8-68a86bb2a052",
   "metadata": {},
   "outputs": [
    {
     "data": {
      "application/vnd.plotly.v1+json": {
       "config": {
        "plotlyServerURL": "https://plot.ly"
       },
       "data": [
        {
         "hovertemplate": "<b>%{hovertext}</b><br><br>x=%{x}<br>y=%{y}<br>Similarity=%{marker.color}<extra></extra>",
         "hovertext": [
          "Pour ses voeux aux Français, Emmanuel Macron veut faire de 2024 une « année de détermination »",
          "« L’agrivoltaïsme suppose que l’agriculture conserve une place principale »",
          "Artcurial, Sotheby's, Drouot : les maisons de vente peaufinent leur stratégie de marque",
          "Pour Paris 2024, les chantiers olympiques arrivent dans les temps",
          "La Bulgarie et la Roumanie vont partiellement intégrer l'espace Schengen",
          "Quand la sortie du réveillon est gâchée par le verglas",
          "Paris 2024 : « Quand la magie du sport opère »",
          "Depardieu : la faute politique du président",
          "VIDEO - Pourquoi l'Argentine manifeste contre le « mega-décret » de son nouveau président ?",
          "Vidéo. Les coulisses de notre enquête « Narco Business » sur le trafic de fentanyl des cartels mexicains",
          "Vidéo. A Gaza, des corps enterrés dans des fosses communes, tandis que la riposte israélienne s’intensifie",
          "La Moldavie veut accélérer son rapprochement de l'Union européenne",
          "Les images impressionnantes de l'explosion d'un navire russe dans le port de Feodossia, en Crimée",
          "VIDEO - Pourquoi l'enlisement de la guerre en Ukraine est la meilleure chose qui pouvait arriver à la Russie",
          "VIDEO - Démographie : faire moins d'enfants, est-ce vraiment un problème ?",
          "Google, Apple vs Epic Games : « Le monopole des géants du numérique s’érode trop doucement »",
          "VIDEO - Cet avion militaire américain qui pourrait révolutionner la guerre",
          "Vidéo. Bande de Gaza : avant la guerre, un territoire à l’agonie",
          "Marseille : «On aime ce club, mais pas au point de faire des violences ou des dégradations»",
          "Mal-logement : le parc HLM paralysé par le Covid",
          "Les dix évènements qui marqueront 2024",
          "Elections européennes : Emmanuel Macron et Marine Le Pen installent leur duel",
          "20 photos marquantes de 2023",
          "Le Japon frappé par un important séisme/tsunami mais sans dégâts majeurs",
          "Elections aux Etats-Unis, Russie, UE… Ces 8 scrutins de 2024 qui pourraient tout changer dans le monde",
          "Le smic augmente de 15 euros à partir du 1ᵉʳ janvier 2024",
          "Immobilier ancien : jusqu'où ira la baisse des prix en France ?",
          "Vidéo. Loi « immigration » : le texte consacre-t-il la « préférence nationale », prônée par le Rassemblement national ?",
          "Comment la France a-t-elle été chassée du Sahel ?",
          "Ukraine : « Au sein de l'Otan, nous avons toujours dit que ce serait une guerre longue »",
          "Bruno Le Maire renouvelle son opération séduction à Wall Street",
          "Transport sanitaire : « L’absence de dialogue avec les artisans taxis et de mesures d’accompagnement témoigne d’une gestion technocratique et centralisée »",
          "Le Guyana relance la soif mondiale de pétrole",
          "Carrefour fait une offre sur les magasins de proximité de Casino",
          "Guerre Israël - Hamas : Benyamin Netanyahou sous pression après la mort d'otages tués par des soldats israéliens",
          "Voiture électrique : une démocratisation difficile",
          "Matières premières : « Rayon de soleil pour le miel »",
          "Gaza : Israël s'apprête à inonder les tunnels du Hamas",
          "Vidéo. En images : Bourges, Capitale européenne de la culture en 2028",
          "La guerre Israël-Hamas donne l’occasion à l’Egypte de retrouver une influence diplomatique",
          "Vidéo. En images : à la COP28, un rapport final qui mentionne les énergies fossiles « pour la toute première fois »",
          "Google, Apple vs Epic Games : « Le monople des géants du numérique s’érode trop doucement »",
          "« Dubaï connexion, comment blanchir cinquante millions de dollars » : découvrez le troisième épisode de notre série vidéo « Narco Business »",
          "VIDEO - Armement : les Européens peuvent-ils prendre la main sur leur défense ?",
          "VIDEO - Pourquoi ne fabrique-t-on plus de vélos en France ?",
          "VIDEO - Faut-il vraiment lutter contre l'inflation ?",
          "VIDEO - Pourquoi c'est devenu cool de faire ses courses chez Action ?",
          "Loi immigration : la CMP a démarré sous haute tension",
          "Loi immigration : la caution pour les étudiants étrangers inquiète universités et grandes écoles",
          "Immobilier : plaidoyer pour une forte baisse des « frais de notaire »",
          "Loi immigration : les points chauds de la négociation entre le gouvernement et LR",
          "Casino : Intermarché et Auchan emportent la mise",
          "Au Moyen-Orient, le risque de l’instabilité s’accroît dangereusement",
          "Fin du bonus à l’achat de voitures électriques en Allemagne : « On peut difficilement faire plus brutal »",
          "« Le législateur devrait proposer une formule de calcul de la participation spécifique pour les entreprises de moins de 50 salariés »",
          "Vincent Bolloré et Vivendi, le coup de sa vie",
          "Améliorer le référendum pour le rendre enfin « démocratiquement correct »",
          "Vidéo. En images : Vladimir Poutine réitère son objectif en Ukraine",
          "Les magasins Casino deviennent un sujet social et politique",
          "Inquiets, les salariés de Casino lancent un préavis de grève",
          "VIDEO - Défense : est-ce que les Européens peuvent reprendre le contrôle de leur sécurité ?",
          "Crédit immobilier : les banques repartent à la conquête de nouveaux clients",
          "BFM-TV perd son pari Ruquier face à CNews",
          "Fiscalité : les monnaies numériques dans la ligne de mire",
          "Impôts : la fin de la taxe d'habitation, une manne modeste pour les propriétaires",
          "La France bat son record historique d'exportation d'électricité",
          "A Gaza, la guerre sans fin de Benyamin Nétanyahou",
          "Alimentation : « Les acteurs de la distribution ont un rôle-clé à jouer dans la lutte contre le gaspillage »",
          "Qui est responsable si des bougies de Noël enflamment la jupe d’une invitée ?",
          "Aux origines de la « Terre sainte », ou la lente construction d’une Palestine « mythifiée »",
          "Vidéo. Ukraine : ce que les images disent de la stratégie d’attaque russe des bâtiments civils d’Avdiïvka",
          "VIDEO - Les images de la croix installée sur la flèche de Notre-Dame de Paris",
          "Impôts : taxe d'habitation et taxe foncière en 10 questions pratiques",
          "Ces communes qui majorent la taxe d'habitation sur les résidences secondaires",
          "Intermarché contraint de revendre trois Casino trois mois après leur achat",
          "Mort de Jacques Delors, le « tsar de Bruxelles »",
          "Taxe foncière : la facture va encore s'alourdir en 2024",
          "Impôts : ce qui change pour les entreprises en 2024",
          "« Nous vivons mondialement une économie de casino avec des montages financiers toujours plus complexes »",
          "Le double jeu dangereux de la Serbie",
          "Dans les palaces, les nouvelles frontières de l’hyperluxe",
          "« A travers les légendes sur Jésus, nous arrivons à discerner en filigrane des éléments sur sa véritable existence »",
          "Vidéo. Le Sénégal manque de poisson (mais il y a peut-être une solution)",
          "Impôt : coup de pouce supplémentaire aux attributions gratuites d'actions (AGA)",
          "Impôts : la taxe foncière pèse moins sur les riches propriétaires",
          "Impôt : zoom sur les avantages du plan de partage de la valorisation de l'entreprise (PPVE)",
          "Clap de fin pour les magasins Habitat",
          "M&A : Lazard prend la tête d'un classement français très bousculé",
          "Schneider, L'Oréal, Stellantis : les moteurs du CAC 40 ont tourné à plein régime cette année",
          "Le double héritage de Jacques Delors",
          "Impôts : ce qui change pour les ménages en 2024",
          "Pourquoi l’avenir du Moyen-Orient dépend autant d’Israël",
          "Grève à la tour Eiffel : le monument fermé au public à l’occasion du centenaire du décès de Gustave Eiffel",
          "Schneider Electric retrouve le club fermé des sociétés valant plus de 100 milliards d'euros",
          "L'Oréal continue de progresser encore plus vite que le marché de la beauté",
          "Le M&A mondial signe sa pire année de la décennie",
          "Joseph Stiglitz : « Le résultat des élections aux Etats-Unis dépend des perspectives économiques pour 2024, elles-mêmes liées à l’évolution du conflit au Moyen-Orient »",
          "Le distributeur Grand Frais s’apprête à entrer dans Paris",
          "Chloé Morin : « Pour Emmanuel Macron, le rebond va être de plus en plus difficile »",
          "Avis de gros temps sur la dette des pays en développement",
          "Lutte anticorruption : l’exécutif ne peut être juge et partie",
          "Pour Emmanuel Macron, des voeux 2024 placés sous le signe de la crise politique",
          "Prévention du terrorisme : l’impossible risque zéro",
          "La Chine prise au piège de ses crédits accordés aux pays en développement",
          "Bourse : les 7 chiffres fous des placements en actions",
          "M&A : Lazard prend la tête d'un classement français très bousculé",
          "Européennes 2024 : le camp Macron redoute les effets de la loi immigration",
          "M&A : les prix d'acquisition des PME décrochent",
          "Israël devrait disposer d'un canon laser dès 2024",
          "Trains annulés : grosse pagaille pour des milliers de passagers d'Eurostar avant le nouvel An",
          "Le trafic Eurostar en provenance et vers Londres reprendra de manière normale dimanche après une journée d’annulations complète",
          "Les villes maintiennent leurs efforts pour réduire leurs factures d'énergie",
          "Dominique Méda, sociologue : « Confirmer le tournant social de l’Union européenne est la meilleure manière de rendre moins attractifs les discours de l’extrême droite »",
          "Pourquoi l’avenir du Moyen-Orient dépend autant d’Israël"
         ],
         "legendgroup": "",
         "marker": {
          "color": [
           0.887,
           0.465,
           0.783,
           0.89,
           0.546,
           0.452,
           0.357,
           0.082,
           0.431,
           0.542,
           0.694,
           0.43,
           0.748,
           0.953,
           0.466,
           0.459,
           0.627,
           0.309,
           0.665,
           0.307,
           0.92,
           0.698,
           0.089,
           0.747,
           0.779,
           0.939,
           0.592,
           0.555,
           0.427,
           0.853,
           0.485,
           0.672,
           0.27,
           0.535,
           0.575,
           0,
           0.14,
           0.564,
           0.44,
           0.648,
           0.642,
           0.452,
           0.726,
           0.633,
           0.607,
           0.387,
           0.753,
           0.253,
           0.57,
           0.414,
           0.582,
           0.426,
           0.598,
           0.615,
           0.817,
           0.28,
           0.312,
           0.336,
           0.458,
           1,
           0.503,
           0.479,
           0.429,
           0.408,
           0.637,
           0.461,
           0.468,
           0.813,
           0.498,
           0.61,
           0.655,
           0.796,
           0.666,
           0.826,
           0.55,
           0.351,
           0.667,
           0.578,
           0.798,
           0.344,
           0.343,
           0.82,
           0.422,
           0.483,
           0.423,
           0.53,
           0.488,
           0.491,
           0.585,
           0.143,
           0.602,
           0.437,
           0.628,
           0.711,
           0.991,
           0.852,
           0.966,
           0.602,
           0.516,
           0.341,
           0.367,
           0.778,
           0.032,
           0.672,
           0.333,
           0.491,
           0.646,
           0.381,
           0.523,
           0.671,
           0.745,
           0.686,
           0.828,
           0.437
          ],
          "coloraxis": "coloraxis",
          "opacity": 0.7,
          "symbol": "circle"
         },
         "mode": "markers",
         "name": "",
         "orientation": "v",
         "showlegend": false,
         "type": "scatter",
         "x": [
          -58.091263,
          39.524754,
          -20.685183,
          -62.22615,
          67.95137,
          -23.421963,
          -33.059666,
          -8.467453,
          26.572926,
          -6.496323,
          66.53681,
          61.42963,
          87.5705,
          61.846985,
          80.2076,
          5.0594487,
          49.380066,
          58.373894,
          13.38829,
          -30.704884,
          -88.62768,
          6.5663357,
          -80.44272,
          99.87582,
          -0.354113,
          -110.58273,
          -68.17407,
          32.436447,
          56.364716,
          47.567036,
          -36.064568,
          38.377567,
          16.726822,
          -57.296074,
          72.45418,
          -16.669537,
          -4.7613397,
          79.18797,
          -29.799412,
          83.3554,
          23.304317,
          -1.6616446,
          -13.654265,
          63.956734,
          90.59396,
          82.39221,
          87.816734,
          -40.355213,
          -59.40345,
          -64.650955,
          -50.635624,
          -40.069546,
          81.90404,
          19.331932,
          34.886757,
          -15.830052,
          9.198424,
          -12.693346,
          -68.51258,
          -52.787945,
          63.79196,
          -53.95308,
          -42.45204,
          -48.79262,
          -100.13988,
          24.700243,
          58.63488,
          31.349192,
          -2.4855833,
          57.030277,
          78.207596,
          13.606585,
          -107.51987,
          -113.39707,
          -51.17684,
          -34.428272,
          -95.55943,
          -91.60853,
          11.715194,
          -0.25083753,
          -14.090882,
          21.003056,
          70.59005,
          -90.27693,
          -95.76462,
          -85.172966,
          -117.99776,
          -33.028473,
          -20.019966,
          -35.277744,
          -98.36201,
          81.14845,
          23.19764,
          -16.174463,
          3.8612757,
          17.079792,
          57.168156,
          -51.71144,
          18.358597,
          30.629246,
          15.403403,
          -52.93566,
          5.612521,
          37.571705,
          -57.024055,
          -36.027912,
          -50.37547,
          -39.841633,
          86.65977,
          35.65526,
          34.697357,
          -126.03043,
          35.12074,
          74.3302
         ],
         "xaxis": "x",
         "y": [
          -35.61906,
          14.040458,
          33.069336,
          -49.41112,
          -96.59547,
          -43.19034,
          -34.60032,
          -67.07194,
          -14.132329,
          -4.471061,
          -40.411327,
          -92.753296,
          -32.342102,
          25.079876,
          6.408956,
          19.819847,
          -13.018611,
          -38.65351,
          38.078796,
          12.078361,
          -33.357235,
          98.69047,
          -28.360674,
          -34.92196,
          77.93008,
          7.2345653,
          35.75198,
          -6.0480843,
          7.841342,
          31.625048,
          -57.897564,
          48.756187,
          -71.71309,
          85.34652,
          -51.246925,
          -79.21794,
          7.4445906,
          -57.665985,
          -27.750536,
          46.23065,
          10.100382,
          20.263885,
          -5.762391,
          -6.27937,
          3.490169,
          -4.6057796,
          17.374405,
          -10.877792,
          -6.1376677,
          27.574057,
          -11.405239,
          70.89753,
          70.32007,
          17.357277,
          61.593178,
          -61.10707,
          5.9925246,
          -26.340021,
          82.43684,
          97.65173,
          0.90599,
          32.278873,
          -73.734245,
          0.3498161,
          31.208586,
          -97.95336,
          -51.687473,
          29.105822,
          31.690905,
          70.96865,
          -31.826593,
          -38.874878,
          39.656517,
          29.967066,
          80.862015,
          -110.20572,
          49.18557,
          1.4737574,
          58.221504,
          -68.28548,
          19.440193,
          52.505634,
          13.03539,
          19.99106,
          37.387318,
          25.954182,
          -24.694035,
          56.802387,
          45.027122,
          -103.02391,
          3.0746427,
          58.54536,
          -27.621649,
          56.344627,
          -114.16783,
          -110.39848,
          50.259544,
          58.004375,
          29.15158,
          -77.11851,
          -6.5283675,
          -40.783615,
          -17.060053,
          -76.47081,
          16.515764,
          50.81048,
          -23.313148,
          38.858547,
          -64.766655,
          -40.237946,
          -47.341557,
          26.68761,
          40.36216,
          58.49958
         ],
         "yaxis": "y"
        }
       ],
       "layout": {
        "coloraxis": {
         "colorbar": {
          "title": {
           "text": "Similarity"
          }
         },
         "colorscale": [
          [
           0,
           "#0d0887"
          ],
          [
           0.1111111111111111,
           "#46039f"
          ],
          [
           0.2222222222222222,
           "#7201a8"
          ],
          [
           0.3333333333333333,
           "#9c179e"
          ],
          [
           0.4444444444444444,
           "#bd3786"
          ],
          [
           0.5555555555555556,
           "#d8576b"
          ],
          [
           0.6666666666666666,
           "#ed7953"
          ],
          [
           0.7777777777777778,
           "#fb9f3a"
          ],
          [
           0.8888888888888888,
           "#fdca26"
          ],
          [
           1,
           "#f0f921"
          ]
         ]
        },
        "height": 650,
        "legend": {
         "tracegroupgap": 0
        },
        "template": {
         "data": {
          "bar": [
           {
            "error_x": {
             "color": "#2a3f5f"
            },
            "error_y": {
             "color": "#2a3f5f"
            },
            "marker": {
             "line": {
              "color": "#E5ECF6",
              "width": 0.5
             },
             "pattern": {
              "fillmode": "overlay",
              "size": 10,
              "solidity": 0.2
             }
            },
            "type": "bar"
           }
          ],
          "barpolar": [
           {
            "marker": {
             "line": {
              "color": "#E5ECF6",
              "width": 0.5
             },
             "pattern": {
              "fillmode": "overlay",
              "size": 10,
              "solidity": 0.2
             }
            },
            "type": "barpolar"
           }
          ],
          "carpet": [
           {
            "aaxis": {
             "endlinecolor": "#2a3f5f",
             "gridcolor": "white",
             "linecolor": "white",
             "minorgridcolor": "white",
             "startlinecolor": "#2a3f5f"
            },
            "baxis": {
             "endlinecolor": "#2a3f5f",
             "gridcolor": "white",
             "linecolor": "white",
             "minorgridcolor": "white",
             "startlinecolor": "#2a3f5f"
            },
            "type": "carpet"
           }
          ],
          "choropleth": [
           {
            "colorbar": {
             "outlinewidth": 0,
             "ticks": ""
            },
            "type": "choropleth"
           }
          ],
          "contour": [
           {
            "colorbar": {
             "outlinewidth": 0,
             "ticks": ""
            },
            "colorscale": [
             [
              0,
              "#0d0887"
             ],
             [
              0.1111111111111111,
              "#46039f"
             ],
             [
              0.2222222222222222,
              "#7201a8"
             ],
             [
              0.3333333333333333,
              "#9c179e"
             ],
             [
              0.4444444444444444,
              "#bd3786"
             ],
             [
              0.5555555555555556,
              "#d8576b"
             ],
             [
              0.6666666666666666,
              "#ed7953"
             ],
             [
              0.7777777777777778,
              "#fb9f3a"
             ],
             [
              0.8888888888888888,
              "#fdca26"
             ],
             [
              1,
              "#f0f921"
             ]
            ],
            "type": "contour"
           }
          ],
          "contourcarpet": [
           {
            "colorbar": {
             "outlinewidth": 0,
             "ticks": ""
            },
            "type": "contourcarpet"
           }
          ],
          "heatmap": [
           {
            "colorbar": {
             "outlinewidth": 0,
             "ticks": ""
            },
            "colorscale": [
             [
              0,
              "#0d0887"
             ],
             [
              0.1111111111111111,
              "#46039f"
             ],
             [
              0.2222222222222222,
              "#7201a8"
             ],
             [
              0.3333333333333333,
              "#9c179e"
             ],
             [
              0.4444444444444444,
              "#bd3786"
             ],
             [
              0.5555555555555556,
              "#d8576b"
             ],
             [
              0.6666666666666666,
              "#ed7953"
             ],
             [
              0.7777777777777778,
              "#fb9f3a"
             ],
             [
              0.8888888888888888,
              "#fdca26"
             ],
             [
              1,
              "#f0f921"
             ]
            ],
            "type": "heatmap"
           }
          ],
          "heatmapgl": [
           {
            "colorbar": {
             "outlinewidth": 0,
             "ticks": ""
            },
            "colorscale": [
             [
              0,
              "#0d0887"
             ],
             [
              0.1111111111111111,
              "#46039f"
             ],
             [
              0.2222222222222222,
              "#7201a8"
             ],
             [
              0.3333333333333333,
              "#9c179e"
             ],
             [
              0.4444444444444444,
              "#bd3786"
             ],
             [
              0.5555555555555556,
              "#d8576b"
             ],
             [
              0.6666666666666666,
              "#ed7953"
             ],
             [
              0.7777777777777778,
              "#fb9f3a"
             ],
             [
              0.8888888888888888,
              "#fdca26"
             ],
             [
              1,
              "#f0f921"
             ]
            ],
            "type": "heatmapgl"
           }
          ],
          "histogram": [
           {
            "marker": {
             "pattern": {
              "fillmode": "overlay",
              "size": 10,
              "solidity": 0.2
             }
            },
            "type": "histogram"
           }
          ],
          "histogram2d": [
           {
            "colorbar": {
             "outlinewidth": 0,
             "ticks": ""
            },
            "colorscale": [
             [
              0,
              "#0d0887"
             ],
             [
              0.1111111111111111,
              "#46039f"
             ],
             [
              0.2222222222222222,
              "#7201a8"
             ],
             [
              0.3333333333333333,
              "#9c179e"
             ],
             [
              0.4444444444444444,
              "#bd3786"
             ],
             [
              0.5555555555555556,
              "#d8576b"
             ],
             [
              0.6666666666666666,
              "#ed7953"
             ],
             [
              0.7777777777777778,
              "#fb9f3a"
             ],
             [
              0.8888888888888888,
              "#fdca26"
             ],
             [
              1,
              "#f0f921"
             ]
            ],
            "type": "histogram2d"
           }
          ],
          "histogram2dcontour": [
           {
            "colorbar": {
             "outlinewidth": 0,
             "ticks": ""
            },
            "colorscale": [
             [
              0,
              "#0d0887"
             ],
             [
              0.1111111111111111,
              "#46039f"
             ],
             [
              0.2222222222222222,
              "#7201a8"
             ],
             [
              0.3333333333333333,
              "#9c179e"
             ],
             [
              0.4444444444444444,
              "#bd3786"
             ],
             [
              0.5555555555555556,
              "#d8576b"
             ],
             [
              0.6666666666666666,
              "#ed7953"
             ],
             [
              0.7777777777777778,
              "#fb9f3a"
             ],
             [
              0.8888888888888888,
              "#fdca26"
             ],
             [
              1,
              "#f0f921"
             ]
            ],
            "type": "histogram2dcontour"
           }
          ],
          "mesh3d": [
           {
            "colorbar": {
             "outlinewidth": 0,
             "ticks": ""
            },
            "type": "mesh3d"
           }
          ],
          "parcoords": [
           {
            "line": {
             "colorbar": {
              "outlinewidth": 0,
              "ticks": ""
             }
            },
            "type": "parcoords"
           }
          ],
          "pie": [
           {
            "automargin": true,
            "type": "pie"
           }
          ],
          "scatter": [
           {
            "fillpattern": {
             "fillmode": "overlay",
             "size": 10,
             "solidity": 0.2
            },
            "type": "scatter"
           }
          ],
          "scatter3d": [
           {
            "line": {
             "colorbar": {
              "outlinewidth": 0,
              "ticks": ""
             }
            },
            "marker": {
             "colorbar": {
              "outlinewidth": 0,
              "ticks": ""
             }
            },
            "type": "scatter3d"
           }
          ],
          "scattercarpet": [
           {
            "marker": {
             "colorbar": {
              "outlinewidth": 0,
              "ticks": ""
             }
            },
            "type": "scattercarpet"
           }
          ],
          "scattergeo": [
           {
            "marker": {
             "colorbar": {
              "outlinewidth": 0,
              "ticks": ""
             }
            },
            "type": "scattergeo"
           }
          ],
          "scattergl": [
           {
            "marker": {
             "colorbar": {
              "outlinewidth": 0,
              "ticks": ""
             }
            },
            "type": "scattergl"
           }
          ],
          "scattermapbox": [
           {
            "marker": {
             "colorbar": {
              "outlinewidth": 0,
              "ticks": ""
             }
            },
            "type": "scattermapbox"
           }
          ],
          "scatterpolar": [
           {
            "marker": {
             "colorbar": {
              "outlinewidth": 0,
              "ticks": ""
             }
            },
            "type": "scatterpolar"
           }
          ],
          "scatterpolargl": [
           {
            "marker": {
             "colorbar": {
              "outlinewidth": 0,
              "ticks": ""
             }
            },
            "type": "scatterpolargl"
           }
          ],
          "scatterternary": [
           {
            "marker": {
             "colorbar": {
              "outlinewidth": 0,
              "ticks": ""
             }
            },
            "type": "scatterternary"
           }
          ],
          "surface": [
           {
            "colorbar": {
             "outlinewidth": 0,
             "ticks": ""
            },
            "colorscale": [
             [
              0,
              "#0d0887"
             ],
             [
              0.1111111111111111,
              "#46039f"
             ],
             [
              0.2222222222222222,
              "#7201a8"
             ],
             [
              0.3333333333333333,
              "#9c179e"
             ],
             [
              0.4444444444444444,
              "#bd3786"
             ],
             [
              0.5555555555555556,
              "#d8576b"
             ],
             [
              0.6666666666666666,
              "#ed7953"
             ],
             [
              0.7777777777777778,
              "#fb9f3a"
             ],
             [
              0.8888888888888888,
              "#fdca26"
             ],
             [
              1,
              "#f0f921"
             ]
            ],
            "type": "surface"
           }
          ],
          "table": [
           {
            "cells": {
             "fill": {
              "color": "#EBF0F8"
             },
             "line": {
              "color": "white"
             }
            },
            "header": {
             "fill": {
              "color": "#C8D4E3"
             },
             "line": {
              "color": "white"
             }
            },
            "type": "table"
           }
          ]
         },
         "layout": {
          "annotationdefaults": {
           "arrowcolor": "#2a3f5f",
           "arrowhead": 0,
           "arrowwidth": 1
          },
          "autotypenumbers": "strict",
          "coloraxis": {
           "colorbar": {
            "outlinewidth": 0,
            "ticks": ""
           }
          },
          "colorscale": {
           "diverging": [
            [
             0,
             "#8e0152"
            ],
            [
             0.1,
             "#c51b7d"
            ],
            [
             0.2,
             "#de77ae"
            ],
            [
             0.3,
             "#f1b6da"
            ],
            [
             0.4,
             "#fde0ef"
            ],
            [
             0.5,
             "#f7f7f7"
            ],
            [
             0.6,
             "#e6f5d0"
            ],
            [
             0.7,
             "#b8e186"
            ],
            [
             0.8,
             "#7fbc41"
            ],
            [
             0.9,
             "#4d9221"
            ],
            [
             1,
             "#276419"
            ]
           ],
           "sequential": [
            [
             0,
             "#0d0887"
            ],
            [
             0.1111111111111111,
             "#46039f"
            ],
            [
             0.2222222222222222,
             "#7201a8"
            ],
            [
             0.3333333333333333,
             "#9c179e"
            ],
            [
             0.4444444444444444,
             "#bd3786"
            ],
            [
             0.5555555555555556,
             "#d8576b"
            ],
            [
             0.6666666666666666,
             "#ed7953"
            ],
            [
             0.7777777777777778,
             "#fb9f3a"
            ],
            [
             0.8888888888888888,
             "#fdca26"
            ],
            [
             1,
             "#f0f921"
            ]
           ],
           "sequentialminus": [
            [
             0,
             "#0d0887"
            ],
            [
             0.1111111111111111,
             "#46039f"
            ],
            [
             0.2222222222222222,
             "#7201a8"
            ],
            [
             0.3333333333333333,
             "#9c179e"
            ],
            [
             0.4444444444444444,
             "#bd3786"
            ],
            [
             0.5555555555555556,
             "#d8576b"
            ],
            [
             0.6666666666666666,
             "#ed7953"
            ],
            [
             0.7777777777777778,
             "#fb9f3a"
            ],
            [
             0.8888888888888888,
             "#fdca26"
            ],
            [
             1,
             "#f0f921"
            ]
           ]
          },
          "colorway": [
           "#636efa",
           "#EF553B",
           "#00cc96",
           "#ab63fa",
           "#FFA15A",
           "#19d3f3",
           "#FF6692",
           "#B6E880",
           "#FF97FF",
           "#FECB52"
          ],
          "font": {
           "color": "#2a3f5f"
          },
          "geo": {
           "bgcolor": "white",
           "lakecolor": "white",
           "landcolor": "#E5ECF6",
           "showlakes": true,
           "showland": true,
           "subunitcolor": "white"
          },
          "hoverlabel": {
           "align": "left"
          },
          "hovermode": "closest",
          "mapbox": {
           "style": "light"
          },
          "paper_bgcolor": "white",
          "plot_bgcolor": "#E5ECF6",
          "polar": {
           "angularaxis": {
            "gridcolor": "white",
            "linecolor": "white",
            "ticks": ""
           },
           "bgcolor": "#E5ECF6",
           "radialaxis": {
            "gridcolor": "white",
            "linecolor": "white",
            "ticks": ""
           }
          },
          "scene": {
           "xaxis": {
            "backgroundcolor": "#E5ECF6",
            "gridcolor": "white",
            "gridwidth": 2,
            "linecolor": "white",
            "showbackground": true,
            "ticks": "",
            "zerolinecolor": "white"
           },
           "yaxis": {
            "backgroundcolor": "#E5ECF6",
            "gridcolor": "white",
            "gridwidth": 2,
            "linecolor": "white",
            "showbackground": true,
            "ticks": "",
            "zerolinecolor": "white"
           },
           "zaxis": {
            "backgroundcolor": "#E5ECF6",
            "gridcolor": "white",
            "gridwidth": 2,
            "linecolor": "white",
            "showbackground": true,
            "ticks": "",
            "zerolinecolor": "white"
           }
          },
          "shapedefaults": {
           "line": {
            "color": "#2a3f5f"
           }
          },
          "ternary": {
           "aaxis": {
            "gridcolor": "white",
            "linecolor": "white",
            "ticks": ""
           },
           "baxis": {
            "gridcolor": "white",
            "linecolor": "white",
            "ticks": ""
           },
           "bgcolor": "#E5ECF6",
           "caxis": {
            "gridcolor": "white",
            "linecolor": "white",
            "ticks": ""
           }
          },
          "title": {
           "x": 0.05
          },
          "xaxis": {
           "automargin": true,
           "gridcolor": "white",
           "linecolor": "white",
           "ticks": "",
           "title": {
            "standoff": 15
           },
           "zerolinecolor": "white",
           "zerolinewidth": 2
          },
          "yaxis": {
           "automargin": true,
           "gridcolor": "white",
           "linecolor": "white",
           "ticks": "",
           "title": {
            "standoff": 15
           },
           "zerolinecolor": "white",
           "zerolinewidth": 2
          }
         }
        },
        "title": {
         "text": "Similarity to 'Macron' visualised using t-SNE"
        },
        "width": 1000,
        "xaxis": {
         "anchor": "y",
         "autorange": true,
         "domain": [
          0,
          1
         ],
         "range": [
          -139.8935750488145,
          113.7389650488145
         ],
         "title": {
          "text": "x"
         },
         "type": "linear"
        },
        "yaxis": {
         "anchor": "x",
         "autorange": true,
         "domain": [
          0,
          1
         ],
         "range": [
          -128.12785087845967,
          112.65049087845969
         ],
         "title": {
          "text": "y"
         },
         "type": "linear"
        }
       }
      },
      "image/png": "[encoded data removed]",
      "text/html": [
       "<div>                            <div id=\"12eef869-9dd5-42c2-a055-07cedae12b36\" class=\"plotly-graph-div\" style=\"height:650px; width:1000px;\"></div>            <script type=\"text/javascript\">                require([\"plotly\"], function(Plotly) {                    window.PLOTLYENV=window.PLOTLYENV || {};                                    if (document.getElementById(\"12eef869-9dd5-42c2-a055-07cedae12b36\")) {                    Plotly.newPlot(                        \"12eef869-9dd5-42c2-a055-07cedae12b36\",                        [{\"hovertemplate\":\"<b>%{hovertext}</b><br><br>x=%{x}<br>y=%{y}<br>Similarity=%{marker.color}<extra></extra>\",\"hovertext\":[\"Pour ses voeux aux Français, Emmanuel Macron veut faire de 2024 une « année de détermination »\",\"« L’agrivoltaïsme suppose que l’agriculture conserve une place principale »\",\"Artcurial, Sotheby's, Drouot : les maisons de vente peaufinent leur stratégie de marque\",\"Pour Paris 2024, les chantiers olympiques arrivent dans les temps\",\"La Bulgarie et la Roumanie vont partiellement intégrer l'espace Schengen\",\"Quand la sortie du réveillon est gâchée par le verglas\",\"Paris 2024 : « Quand la magie du sport opère »\",\"Depardieu : la faute politique du président\",\"VIDEO - Pourquoi l'Argentine manifeste contre le « mega-décret » de son nouveau président ?\",\"Vidéo. Les coulisses de notre enquête « Narco Business » sur le trafic de fentanyl des cartels mexicains\",\"Vidéo. A Gaza, des corps enterrés dans des fosses communes, tandis que la riposte israélienne s’intensifie\",\"La Moldavie veut accélérer son rapprochement de l'Union européenne\",\"Les images impressionnantes de l'explosion d'un navire russe dans le port de Feodossia, en Crimée\",\"VIDEO - Pourquoi l'enlisement de la guerre en Ukraine est la meilleure chose qui pouvait arriver à la Russie\",\"VIDEO - Démographie : faire moins d'enfants, est-ce vraiment un problème ?\",\"Google, Apple vs Epic Games : « Le monopole des géants du numérique s’érode trop doucement »\",\"VIDEO - Cet avion militaire américain qui pourrait révolutionner la guerre\",\"Vidéo. Bande de Gaza : avant la guerre, un territoire à l’agonie\",\"Marseille : «On aime ce club, mais pas au point de faire des violences ou des dégradations»\",\"Mal-logement : le parc HLM paralysé par le Covid\",\"Les dix évènements qui marqueront 2024\",\"Elections européennes : Emmanuel Macron et Marine Le Pen installent leur duel\",\"20 photos marquantes de 2023\",\"Le Japon frappé par un important séisme/tsunami mais sans dégâts majeurs\",\"Elections aux Etats-Unis, Russie, UE… Ces 8 scrutins de 2024 qui pourraient tout changer dans le monde\",\"Le smic augmente de 15 euros à partir du 1ᵉʳ janvier 2024\",\"Immobilier ancien : jusqu'où ira la baisse des prix en France ?\",\"Vidéo. Loi « immigration » : le texte consacre-t-il la « préférence nationale », prônée par le Rassemblement national ?\",\"Comment la France a-t-elle été chassée du Sahel ?\",\"Ukraine : « Au sein de l'Otan, nous avons toujours dit que ce serait une guerre longue »\",\"Bruno Le Maire renouvelle son opération séduction à Wall Street\",\"Transport sanitaire : « L’absence de dialogue avec les artisans taxis et de mesures d’accompagnement témoigne d’une gestion technocratique et centralisée »\",\"Le Guyana relance la soif mondiale de pétrole\",\"Carrefour fait une offre sur les magasins de proximité de Casino\",\"Guerre Israël - Hamas : Benyamin Netanyahou sous pression après la mort d'otages tués par des soldats israéliens\",\"Voiture électrique : une démocratisation difficile\",\"Matières premières : « Rayon de soleil pour le miel »\",\"Gaza : Israël s'apprête à inonder les tunnels du Hamas\",\"Vidéo. En images : Bourges, Capitale européenne de la culture en 2028\",\"La guerre Israël-Hamas donne l’occasion à l’Egypte de retrouver une influence diplomatique\",\"Vidéo. En images : à la COP28, un rapport final qui mentionne les énergies fossiles « pour la toute première fois »\",\"Google, Apple vs Epic Games : « Le monople des géants du numérique s’érode trop doucement »\",\"« Dubaï connexion, comment blanchir cinquante millions de dollars » : découvrez le troisième épisode de notre série vidéo « Narco Business »\",\"VIDEO - Armement : les Européens peuvent-ils prendre la main sur leur défense ?\",\"VIDEO - Pourquoi ne fabrique-t-on plus de vélos en France ?\",\"VIDEO - Faut-il vraiment lutter contre l'inflation ?\",\"VIDEO - Pourquoi c'est devenu cool de faire ses courses chez Action ?\",\"Loi immigration : la CMP a démarré sous haute tension\",\"Loi immigration : la caution pour les étudiants étrangers inquiète universités et grandes écoles\",\"Immobilier : plaidoyer pour une forte baisse des « frais de notaire »\",\"Loi immigration : les points chauds de la négociation entre le gouvernement et LR\",\"Casino : Intermarché et Auchan emportent la mise\",\"Au Moyen-Orient, le risque de l’instabilité s’accroît dangereusement\",\"Fin du bonus à l’achat de voitures électriques en Allemagne : « On peut difficilement faire plus brutal »\",\"« Le législateur devrait proposer une formule de calcul de la participation spécifique pour les entreprises de moins de 50 salariés »\",\"Vincent Bolloré et Vivendi, le coup de sa vie\",\"Améliorer le référendum pour le rendre enfin « démocratiquement correct »\",\"Vidéo. En images : Vladimir Poutine réitère son objectif en Ukraine\",\"Les magasins Casino deviennent un sujet social et politique\",\"Inquiets, les salariés de Casino lancent un préavis de grève\",\"VIDEO - Défense : est-ce que les Européens peuvent reprendre le contrôle de leur sécurité ?\",\"Crédit immobilier : les banques repartent à la conquête de nouveaux clients\",\"BFM-TV perd son pari Ruquier face à CNews\",\"Fiscalité : les monnaies numériques dans la ligne de mire\",\"Impôts : la fin de la taxe d'habitation, une manne modeste pour les propriétaires\",\"La France bat son record historique d'exportation d'électricité\",\"A Gaza, la guerre sans fin de Benyamin Nétanyahou\",\"Alimentation : « Les acteurs de la distribution ont un rôle-clé à jouer dans la lutte contre le gaspillage »\",\"Qui est responsable si des bougies de Noël enflamment la jupe d’une invitée ?\",\"Aux origines de la « Terre sainte », ou la lente construction d’une Palestine « mythifiée »\",\"Vidéo. Ukraine : ce que les images disent de la stratégie d’attaque russe des bâtiments civils d’Avdiïvka\",\"VIDEO - Les images de la croix installée sur la flèche de Notre-Dame de Paris\",\"Impôts : taxe d'habitation et taxe foncière en 10 questions pratiques\",\"Ces communes qui majorent la taxe d'habitation sur les résidences secondaires\",\"Intermarché contraint de revendre trois Casino trois mois après leur achat\",\"Mort de Jacques Delors, le « tsar de Bruxelles »\",\"Taxe foncière : la facture va encore s'alourdir en 2024\",\"Impôts : ce qui change pour les entreprises en 2024\",\"« Nous vivons mondialement une économie de casino avec des montages financiers toujours plus complexes »\",\"Le double jeu dangereux de la Serbie\",\"Dans les palaces, les nouvelles frontières de l’hyperluxe\",\"« A travers les légendes sur Jésus, nous arrivons à discerner en filigrane des éléments sur sa véritable existence »\",\"Vidéo. Le Sénégal manque de poisson (mais il y a peut-être une solution)\",\"Impôt : coup de pouce supplémentaire aux attributions gratuites d'actions (AGA)\",\"Impôts : la taxe foncière pèse moins sur les riches propriétaires\",\"Impôt : zoom sur les avantages du plan de partage de la valorisation de l'entreprise (PPVE)\",\"Clap de fin pour les magasins Habitat\",\"M&A : Lazard prend la tête d'un classement français très bousculé\",\"Schneider, L'Oréal, Stellantis : les moteurs du CAC 40 ont tourné à plein régime cette année\",\"Le double héritage de Jacques Delors\",\"Impôts : ce qui change pour les ménages en 2024\",\"Pourquoi l’avenir du Moyen-Orient dépend autant d’Israël\",\"Grève à la tour Eiffel : le monument fermé au public à l’occasion du centenaire du décès de Gustave Eiffel\",\"Schneider Electric retrouve le club fermé des sociétés valant plus de 100 milliards d'euros\",\"L'Oréal continue de progresser encore plus vite que le marché de la beauté\",\"Le M&A mondial signe sa pire année de la décennie\",\"Joseph Stiglitz : « Le résultat des élections aux Etats-Unis dépend des perspectives économiques pour 2024, elles-mêmes liées à l’évolution du conflit au Moyen-Orient »\",\"Le distributeur Grand Frais s’apprête à entrer dans Paris\",\"Chloé Morin : « Pour Emmanuel Macron, le rebond va être de plus en plus difficile »\",\"Avis de gros temps sur la dette des pays en développement\",\"Lutte anticorruption : l’exécutif ne peut être juge et partie\",\"Pour Emmanuel Macron, des voeux 2024 placés sous le signe de la crise politique\",\"Prévention du terrorisme : l’impossible risque zéro\",\"La Chine prise au piège de ses crédits accordés aux pays en développement\",\"Bourse : les 7 chiffres fous des placements en actions\",\"M&A : Lazard prend la tête d'un classement français très bousculé\",\"Européennes 2024 : le camp Macron redoute les effets de la loi immigration\",\"M&A : les prix d'acquisition des PME décrochent\",\"Israël devrait disposer d'un canon laser dès 2024\",\"Trains annulés : grosse pagaille pour des milliers de passagers d'Eurostar avant le nouvel An\",\"Le trafic Eurostar en provenance et vers Londres reprendra de manière normale dimanche après une journée d’annulations complète\",\"Les villes maintiennent leurs efforts pour réduire leurs factures d'énergie\",\"Dominique Méda, sociologue : « Confirmer le tournant social de l’Union européenne est la meilleure manière de rendre moins attractifs les discours de l’extrême droite »\",\"Pourquoi l’avenir du Moyen-Orient dépend autant d’Israël\"],\"legendgroup\":\"\",\"marker\":{\"color\":[0.887,0.465,0.783,0.89,0.546,0.452,0.357,0.082,0.431,0.542,0.694,0.43,0.748,0.953,0.466,0.459,0.627,0.309,0.665,0.307,0.92,0.698,0.089,0.747,0.779,0.939,0.592,0.555,0.427,0.853,0.485,0.672,0.27,0.535,0.575,0.0,0.14,0.564,0.44,0.648,0.642,0.452,0.726,0.633,0.607,0.387,0.753,0.253,0.57,0.414,0.582,0.426,0.598,0.615,0.817,0.28,0.312,0.336,0.458,1.0,0.503,0.479,0.429,0.408,0.637,0.461,0.468,0.813,0.498,0.61,0.655,0.796,0.666,0.826,0.55,0.351,0.667,0.578,0.798,0.344,0.343,0.82,0.422,0.483,0.423,0.53,0.488,0.491,0.585,0.143,0.602,0.437,0.628,0.711,0.991,0.852,0.966,0.602,0.516,0.341,0.367,0.778,0.032,0.672,0.333,0.491,0.646,0.381,0.523,0.671,0.745,0.686,0.828,0.437],\"coloraxis\":\"coloraxis\",\"opacity\":0.7,\"symbol\":\"circle\"},\"mode\":\"markers\",\"name\":\"\",\"orientation\":\"v\",\"showlegend\":false,\"x\":[-58.091263,39.524754,-20.685183,-62.22615,67.95137,-23.421963,-33.059666,-8.467453,26.572926,-6.496323,66.53681,61.42963,87.5705,61.846985,80.2076,5.0594487,49.380066,58.373894,13.38829,-30.704884,-88.62768,6.5663357,-80.44272,99.87582,-0.354113,-110.58273,-68.17407,32.436447,56.364716,47.567036,-36.064568,38.377567,16.726822,-57.296074,72.45418,-16.669537,-4.7613397,79.18797,-29.799412,83.3554,23.304317,-1.6616446,-13.654265,63.956734,90.59396,82.39221,87.816734,-40.355213,-59.40345,-64.650955,-50.635624,-40.069546,81.90404,19.331932,34.886757,-15.830052,9.198424,-12.693346,-68.51258,-52.787945,63.79196,-53.95308,-42.45204,-48.79262,-100.13988,24.700243,58.63488,31.349192,-2.4855833,57.030277,78.207596,13.606585,-107.51987,-113.39707,-51.17684,-34.428272,-95.55943,-91.60853,11.715194,-0.25083753,-14.090882,21.003056,70.59005,-90.27693,-95.76462,-85.172966,-117.99776,-33.028473,-20.019966,-35.277744,-98.36201,81.14845,23.19764,-16.174463,3.8612757,17.079792,57.168156,-51.71144,18.358597,30.629246,15.403403,-52.93566,5.612521,37.571705,-57.024055,-36.027912,-50.37547,-39.841633,86.65977,35.65526,34.697357,-126.03043,35.12074,74.3302],\"xaxis\":\"x\",\"y\":[-35.61906,14.040458,33.069336,-49.41112,-96.59547,-43.19034,-34.60032,-67.07194,-14.132329,-4.471061,-40.411327,-92.753296,-32.342102,25.079876,6.408956,19.819847,-13.018611,-38.65351,38.078796,12.078361,-33.357235,98.69047,-28.360674,-34.92196,77.93008,7.2345653,35.75198,-6.0480843,7.841342,31.625048,-57.897564,48.756187,-71.71309,85.34652,-51.246925,-79.21794,7.4445906,-57.665985,-27.750536,46.23065,10.100382,20.263885,-5.762391,-6.27937,3.490169,-4.6057796,17.374405,-10.877792,-6.1376677,27.574057,-11.405239,70.89753,70.32007,17.357277,61.593178,-61.10707,5.9925246,-26.340021,82.43684,97.65173,0.90599,32.278873,-73.734245,0.3498161,31.208586,-97.95336,-51.687473,29.105822,31.690905,70.96865,-31.826593,-38.874878,39.656517,29.967066,80.862015,-110.20572,49.18557,1.4737574,58.221504,-68.28548,19.440193,52.505634,13.03539,19.99106,37.387318,25.954182,-24.694035,56.802387,45.027122,-103.02391,3.0746427,58.54536,-27.621649,56.344627,-114.16783,-110.39848,50.259544,58.004375,29.15158,-77.11851,-6.5283675,-40.783615,-17.060053,-76.47081,16.515764,50.81048,-23.313148,38.858547,-64.766655,-40.237946,-47.341557,26.68761,40.36216,58.49958],\"yaxis\":\"y\",\"type\":\"scatter\"}],                        {\"template\":{\"data\":{\"histogram2dcontour\":[{\"type\":\"histogram2dcontour\",\"colorbar\":{\"outlinewidth\":0,\"ticks\":\"\"},\"colorscale\":[[0.0,\"#0d0887\"],[0.1111111111111111,\"#46039f\"],[0.2222222222222222,\"#7201a8\"],[0.3333333333333333,\"#9c179e\"],[0.4444444444444444,\"#bd3786\"],[0.5555555555555556,\"#d8576b\"],[0.6666666666666666,\"#ed7953\"],[0.7777777777777778,\"#fb9f3a\"],[0.8888888888888888,\"#fdca26\"],[1.0,\"#f0f921\"]]}],\"choropleth\":[{\"type\":\"choropleth\",\"colorbar\":{\"outlinewidth\":0,\"ticks\":\"\"}}],\"histogram2d\":[{\"type\":\"histogram2d\",\"colorbar\":{\"outlinewidth\":0,\"ticks\":\"\"},\"colorscale\":[[0.0,\"#0d0887\"],[0.1111111111111111,\"#46039f\"],[0.2222222222222222,\"#7201a8\"],[0.3333333333333333,\"#9c179e\"],[0.4444444444444444,\"#bd3786\"],[0.5555555555555556,\"#d8576b\"],[0.6666666666666666,\"#ed7953\"],[0.7777777777777778,\"#fb9f3a\"],[0.8888888888888888,\"#fdca26\"],[1.0,\"#f0f921\"]]}],\"heatmap\":[{\"type\":\"heatmap\",\"colorbar\":{\"outlinewidth\":0,\"ticks\":\"\"},\"colorscale\":[[0.0,\"#0d0887\"],[0.1111111111111111,\"#46039f\"],[0.2222222222222222,\"#7201a8\"],[0.3333333333333333,\"#9c179e\"],[0.4444444444444444,\"#bd3786\"],[0.5555555555555556,\"#d8576b\"],[0.6666666666666666,\"#ed7953\"],[0.7777777777777778,\"#fb9f3a\"],[0.8888888888888888,\"#fdca26\"],[1.0,\"#f0f921\"]]}],\"heatmapgl\":[{\"type\":\"heatmapgl\",\"colorbar\":{\"outlinewidth\":0,\"ticks\":\"\"},\"colorscale\":[[0.0,\"#0d0887\"],[0.1111111111111111,\"#46039f\"],[0.2222222222222222,\"#7201a8\"],[0.3333333333333333,\"#9c179e\"],[0.4444444444444444,\"#bd3786\"],[0.5555555555555556,\"#d8576b\"],[0.6666666666666666,\"#ed7953\"],[0.7777777777777778,\"#fb9f3a\"],[0.8888888888888888,\"#fdca26\"],[1.0,\"#f0f921\"]]}],\"contourcarpet\":[{\"type\":\"contourcarpet\",\"colorbar\":{\"outlinewidth\":0,\"ticks\":\"\"}}],\"contour\":[{\"type\":\"contour\",\"colorbar\":{\"outlinewidth\":0,\"ticks\":\"\"},\"colorscale\":[[0.0,\"#0d0887\"],[0.1111111111111111,\"#46039f\"],[0.2222222222222222,\"#7201a8\"],[0.3333333333333333,\"#9c179e\"],[0.4444444444444444,\"#bd3786\"],[0.5555555555555556,\"#d8576b\"],[0.6666666666666666,\"#ed7953\"],[0.7777777777777778,\"#fb9f3a\"],[0.8888888888888888,\"#fdca26\"],[1.0,\"#f0f921\"]]}],\"surface\":[{\"type\":\"surface\",\"colorbar\":{\"outlinewidth\":0,\"ticks\":\"\"},\"colorscale\":[[0.0,\"#0d0887\"],[0.1111111111111111,\"#46039f\"],[0.2222222222222222,\"#7201a8\"],[0.3333333333333333,\"#9c179e\"],[0.4444444444444444,\"#bd3786\"],[0.5555555555555556,\"#d8576b\"],[0.6666666666666666,\"#ed7953\"],[0.7777777777777778,\"#fb9f3a\"],[0.8888888888888888,\"#fdca26\"],[1.0,\"#f0f921\"]]}],\"mesh3d\":[{\"type\":\"mesh3d\",\"colorbar\":{\"outlinewidth\":0,\"ticks\":\"\"}}],\"scatter\":[{\"fillpattern\":{\"fillmode\":\"overlay\",\"size\":10,\"solidity\":0.2},\"type\":\"scatter\"}],\"parcoords\":[{\"type\":\"parcoords\",\"line\":{\"colorbar\":{\"outlinewidth\":0,\"ticks\":\"\"}}}],\"scatterpolargl\":[{\"type\":\"scatterpolargl\",\"marker\":{\"colorbar\":{\"outlinewidth\":0,\"ticks\":\"\"}}}],\"bar\":[{\"error_x\":{\"color\":\"#2a3f5f\"},\"error_y\":{\"color\":\"#2a3f5f\"},\"marker\":{\"line\":{\"color\":\"#E5ECF6\",\"width\":0.5},\"pattern\":{\"fillmode\":\"overlay\",\"size\":10,\"solidity\":0.2}},\"type\":\"bar\"}],\"scattergeo\":[{\"type\":\"scattergeo\",\"marker\":{\"colorbar\":{\"outlinewidth\":0,\"ticks\":\"\"}}}],\"scatterpolar\":[{\"type\":\"scatterpolar\",\"marker\":{\"colorbar\":{\"outlinewidth\":0,\"ticks\":\"\"}}}],\"histogram\":[{\"marker\":{\"pattern\":{\"fillmode\":\"overlay\",\"size\":10,\"solidity\":0.2}},\"type\":\"histogram\"}],\"scattergl\":[{\"type\":\"scattergl\",\"marker\":{\"colorbar\":{\"outlinewidth\":0,\"ticks\":\"\"}}}],\"scatter3d\":[{\"type\":\"scatter3d\",\"line\":{\"colorbar\":{\"outlinewidth\":0,\"ticks\":\"\"}},\"marker\":{\"colorbar\":{\"outlinewidth\":0,\"ticks\":\"\"}}}],\"scattermapbox\":[{\"type\":\"scattermapbox\",\"marker\":{\"colorbar\":{\"outlinewidth\":0,\"ticks\":\"\"}}}],\"scatterternary\":[{\"type\":\"scatterternary\",\"marker\":{\"colorbar\":{\"outlinewidth\":0,\"ticks\":\"\"}}}],\"scattercarpet\":[{\"type\":\"scattercarpet\",\"marker\":{\"colorbar\":{\"outlinewidth\":0,\"ticks\":\"\"}}}],\"carpet\":[{\"aaxis\":{\"endlinecolor\":\"#2a3f5f\",\"gridcolor\":\"white\",\"linecolor\":\"white\",\"minorgridcolor\":\"white\",\"startlinecolor\":\"#2a3f5f\"},\"baxis\":{\"endlinecolor\":\"#2a3f5f\",\"gridcolor\":\"white\",\"linecolor\":\"white\",\"minorgridcolor\":\"white\",\"startlinecolor\":\"#2a3f5f\"},\"type\":\"carpet\"}],\"table\":[{\"cells\":{\"fill\":{\"color\":\"#EBF0F8\"},\"line\":{\"color\":\"white\"}},\"header\":{\"fill\":{\"color\":\"#C8D4E3\"},\"line\":{\"color\":\"white\"}},\"type\":\"table\"}],\"barpolar\":[{\"marker\":{\"line\":{\"color\":\"#E5ECF6\",\"width\":0.5},\"pattern\":{\"fillmode\":\"overlay\",\"size\":10,\"solidity\":0.2}},\"type\":\"barpolar\"}],\"pie\":[{\"automargin\":true,\"type\":\"pie\"}]},\"layout\":{\"autotypenumbers\":\"strict\",\"colorway\":[\"#636efa\",\"#EF553B\",\"#00cc96\",\"#ab63fa\",\"#FFA15A\",\"#19d3f3\",\"#FF6692\",\"#B6E880\",\"#FF97FF\",\"#FECB52\"],\"font\":{\"color\":\"#2a3f5f\"},\"hovermode\":\"closest\",\"hoverlabel\":{\"align\":\"left\"},\"paper_bgcolor\":\"white\",\"plot_bgcolor\":\"#E5ECF6\",\"polar\":{\"bgcolor\":\"#E5ECF6\",\"angularaxis\":{\"gridcolor\":\"white\",\"linecolor\":\"white\",\"ticks\":\"\"},\"radialaxis\":{\"gridcolor\":\"white\",\"linecolor\":\"white\",\"ticks\":\"\"}},\"ternary\":{\"bgcolor\":\"#E5ECF6\",\"aaxis\":{\"gridcolor\":\"white\",\"linecolor\":\"white\",\"ticks\":\"\"},\"baxis\":{\"gridcolor\":\"white\",\"linecolor\":\"white\",\"ticks\":\"\"},\"caxis\":{\"gridcolor\":\"white\",\"linecolor\":\"white\",\"ticks\":\"\"}},\"coloraxis\":{\"colorbar\":{\"outlinewidth\":0,\"ticks\":\"\"}},\"colorscale\":{\"sequential\":[[0.0,\"#0d0887\"],[0.1111111111111111,\"#46039f\"],[0.2222222222222222,\"#7201a8\"],[0.3333333333333333,\"#9c179e\"],[0.4444444444444444,\"#bd3786\"],[0.5555555555555556,\"#d8576b\"],[0.6666666666666666,\"#ed7953\"],[0.7777777777777778,\"#fb9f3a\"],[0.8888888888888888,\"#fdca26\"],[1.0,\"#f0f921\"]],\"sequentialminus\":[[0.0,\"#0d0887\"],[0.1111111111111111,\"#46039f\"],[0.2222222222222222,\"#7201a8\"],[0.3333333333333333,\"#9c179e\"],[0.4444444444444444,\"#bd3786\"],[0.5555555555555556,\"#d8576b\"],[0.6666666666666666,\"#ed7953\"],[0.7777777777777778,\"#fb9f3a\"],[0.8888888888888888,\"#fdca26\"],[1.0,\"#f0f921\"]],\"diverging\":[[0,\"#8e0152\"],[0.1,\"#c51b7d\"],[0.2,\"#de77ae\"],[0.3,\"#f1b6da\"],[0.4,\"#fde0ef\"],[0.5,\"#f7f7f7\"],[0.6,\"#e6f5d0\"],[0.7,\"#b8e186\"],[0.8,\"#7fbc41\"],[0.9,\"#4d9221\"],[1,\"#276419\"]]},\"xaxis\":{\"gridcolor\":\"white\",\"linecolor\":\"white\",\"ticks\":\"\",\"title\":{\"standoff\":15},\"zerolinecolor\":\"white\",\"automargin\":true,\"zerolinewidth\":2},\"yaxis\":{\"gridcolor\":\"white\",\"linecolor\":\"white\",\"ticks\":\"\",\"title\":{\"standoff\":15},\"zerolinecolor\":\"white\",\"automargin\":true,\"zerolinewidth\":2},\"scene\":{\"xaxis\":{\"backgroundcolor\":\"#E5ECF6\",\"gridcolor\":\"white\",\"linecolor\":\"white\",\"showbackground\":true,\"ticks\":\"\",\"zerolinecolor\":\"white\",\"gridwidth\":2},\"yaxis\":{\"backgroundcolor\":\"#E5ECF6\",\"gridcolor\":\"white\",\"linecolor\":\"white\",\"showbackground\":true,\"ticks\":\"\",\"zerolinecolor\":\"white\",\"gridwidth\":2},\"zaxis\":{\"backgroundcolor\":\"#E5ECF6\",\"gridcolor\":\"white\",\"linecolor\":\"white\",\"showbackground\":true,\"ticks\":\"\",\"zerolinecolor\":\"white\",\"gridwidth\":2}},\"shapedefaults\":{\"line\":{\"color\":\"#2a3f5f\"}},\"annotationdefaults\":{\"arrowcolor\":\"#2a3f5f\",\"arrowhead\":0,\"arrowwidth\":1},\"geo\":{\"bgcolor\":\"white\",\"landcolor\":\"#E5ECF6\",\"subunitcolor\":\"white\",\"showland\":true,\"showlakes\":true,\"lakecolor\":\"white\"},\"title\":{\"x\":0.05},\"mapbox\":{\"style\":\"light\"}}},\"xaxis\":{\"anchor\":\"y\",\"domain\":[0.0,1.0],\"title\":{\"text\":\"x\"}},\"yaxis\":{\"anchor\":\"x\",\"domain\":[0.0,1.0],\"title\":{\"text\":\"y\"}},\"coloraxis\":{\"colorbar\":{\"title\":{\"text\":\"Similarity\"}},\"colorscale\":[[0.0,\"#0d0887\"],[0.1111111111111111,\"#46039f\"],[0.2222222222222222,\"#7201a8\"],[0.3333333333333333,\"#9c179e\"],[0.4444444444444444,\"#bd3786\"],[0.5555555555555556,\"#d8576b\"],[0.6666666666666666,\"#ed7953\"],[0.7777777777777778,\"#fb9f3a\"],[0.8888888888888888,\"#fdca26\"],[1.0,\"#f0f921\"]]},\"legend\":{\"tracegroupgap\":0},\"title\":{\"text\":\"Similarity to 'Macron' visualised using t-SNE\"},\"width\":1000,\"height\":650},                        {\"responsive\": true}                    ).then(function(){\n",
       "                            \n",
       "var gd = document.getElementById('12eef869-9dd5-42c2-a055-07cedae12b36');\n",
       "var x = new MutationObserver(function (mutations, observer) {{\n",
       "        var display = window.getComputedStyle(gd).display;\n",
       "        if (!display || display === 'none') {{\n",
       "            console.log([gd, 'removed!']);\n",
       "            Plotly.purge(gd);\n",
       "            observer.disconnect();\n",
       "        }}\n",
       "}});\n",
       "\n",
       "// Listen for the removal of the full notebook cells\n",
       "var notebookContainer = gd.closest('#notebook-container');\n",
       "if (notebookContainer) {{\n",
       "    x.observe(notebookContainer, {childList: true});\n",
       "}}\n",
       "\n",
       "// Listen for the clearing of the current output cell\n",
       "var outputEl = gd.closest('.output');\n",
       "if (outputEl) {{\n",
       "    x.observe(outputEl, {childList: true});\n",
       "}}\n",
       "\n",
       "                        })                };                });            </script>        </div>"
      ]
     },
     "metadata": {},
     "output_type": "display_data"
    }
   ],
   "source": [
    "import plotly.express as px\n",
    "from sklearn.manifold import TSNE\n",
    "\n",
    "# Create a t-SNE model\n",
    "tsne_model = TSNE(\n",
    "    n_components = 2,\n",
    "    perplexity = 15,\n",
    "    random_state = 42,\n",
    "    init = 'random',\n",
    "    learning_rate = 200\n",
    ")\n",
    "tsne_embeddings = tsne_model.fit_transform(embedding_array)\n",
    "\n",
    "# Create a DataFrame for visualisation\n",
    "visualisation_data = pd.DataFrame(\n",
    "    {'x': tsne_embeddings[:, 0],\n",
    "     'y': tsne_embeddings[:, 1],\n",
    "     'title':df['title'],\n",
    "     'Similarity': df['normalised'].round(3)}\n",
    ")\n",
    "\n",
    "# Create the scatter plot using Plotly Express\n",
    "plot = px.scatter(\n",
    "    visualisation_data,\n",
    "    x = 'x',\n",
    "    y = 'y',\n",
    "    color = 'Similarity',\n",
    "    hover_name='title',\n",
    "    #color_continuous_scale = 'rainbow',\n",
    "    opacity = 0.7,\n",
    "    title = f\"Similarity to '{query}' visualised using t-SNE\"\n",
    ")\n",
    "\n",
    "plot.update_layout(\n",
    "    width = 1000,\n",
    "    height = 650\n",
    ")\n",
    "\n",
    "# Show the plot\n",
    "plot.show()"
   ]
  },
  {
   "cell_type": "code",
   "execution_count": null,
   "id": "3861652e-94a8-4f1a-9853-b4f920c11f99",
   "metadata": {},
   "outputs": [],
   "source": []
  },
  {
   "cell_type": "code",
   "execution_count": null,
   "id": "306df827-4e59-4f99-bfd6-2e9258baf5b7",
   "metadata": {},
   "outputs": [],
   "source": []
  },
  {
   "cell_type": "code",
   "execution_count": null,
   "id": "f46442b6-c2e2-4066-af98-b70d84360f20",
   "metadata": {},
   "outputs": [],
   "source": []
  }
 ],
 "metadata": {
  "kernelspec": {
   "display_name": "Python 3 (ipykernel)",
   "language": "python",
   "name": "python3"
  },
  "language_info": {
   "codemirror_mode": {
    "name": "ipython",
    "version": 3
   },
   "file_extension": ".py",
   "mimetype": "text/x-python",
   "name": "python",
   "nbconvert_exporter": "python",
   "pygments_lexer": "ipython3",
   "version": "3.9.16"
  }
 },
 "nbformat": 4,
 "nbformat_minor": 5
}
