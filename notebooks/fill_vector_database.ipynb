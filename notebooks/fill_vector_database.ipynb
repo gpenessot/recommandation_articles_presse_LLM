{
 "cells": [
  {
   "cell_type": "code",
   "execution_count": 1,
   "id": "ab5bce44-4a11-42cb-9b76-047486e84517",
   "metadata": {},
   "outputs": [
    {
     "name": "stdout",
     "output_type": "stream",
     "text": [
      "WARNING:tensorflow:Please fix your imports. Module tensorflow.python.training.tracking.autotrackable has been moved to tensorflow.python.trackable.autotrackable. The old module will be deleted in version 2.11.\n",
      "WARNING:tensorflow:Please fix your imports. Module tensorflow.python.training.tracking.base has been moved to tensorflow.python.trackable.base. The old module will be deleted in version 2.11.\n",
      "WARNING:tensorflow:Please fix your imports. Module tensorflow.python.training.tracking.base_delegate has been moved to tensorflow.python.trackable.base_delegate. The old module will be deleted in version 2.11.\n",
      "WARNING:tensorflow:Please fix your imports. Module tensorflow.python.training.tracking.data_structures has been moved to tensorflow.python.trackable.data_structures. The old module will be deleted in version 2.11.\n",
      "WARNING:tensorflow:Please fix your imports. Module tensorflow.python.training.tracking.graph_view has been moved to tensorflow.python.checkpoint.graph_view. The old module will be deleted in version 2.11.\n",
      "WARNING:tensorflow:Please fix your imports. Module tensorflow.python.training.tracking.util has been moved to tensorflow.python.checkpoint.checkpoint. The old module will be deleted in version 2.11.\n",
      "WARNING:tensorflow:Please fix your imports. Module tensorflow.python.training.checkpoint_management has been moved to tensorflow.python.checkpoint.checkpoint_management. The old module will be deleted in version 2.9.\n",
      "WARNING:tensorflow:Please fix your imports. Module tensorflow.python.training.tracking.resource has been moved to tensorflow.python.trackable.resource. The old module will be deleted in version 2.11.\n",
      "WARNING:tensorflow:Please fix your imports. Module tensorflow.python.training.tracking.asset has been moved to tensorflow.python.trackable.asset. The old module will be deleted in version 2.11.\n",
      "WARNING:tensorflow:Please fix your imports. Module tensorflow.python.training.tracking.python_state has been moved to tensorflow.python.trackable.python_state. The old module will be deleted in version 2.11.\n",
      "WARNING:tensorflow:Please fix your imports. Module tensorflow.python.training.saving.checkpoint_options has been moved to tensorflow.python.checkpoint.checkpoint_options. The old module will be deleted in version 2.11.\n"
     ]
    }
   ],
   "source": [
    "from sentence_transformers import SentenceTransformer\n",
    "from qdrant_client import QdrantClient\n",
    "from qdrant_client import models\n",
    "from qdrant_client.http.models import Distance, VectorParams, PointStruct \n",
    "from qdrant_client.models import Filter\n",
    "from qdrant_client.http import models\n",
    "import numpy as np\n",
    "import pandas as pd\n",
    "import configparser"
   ]
  },
  {
   "cell_type": "code",
   "execution_count": 2,
   "id": "809e6ada-ca61-4d70-8f16-24e53b9bdc2d",
   "metadata": {},
   "outputs": [
    {
     "name": "stderr",
     "output_type": "stream",
     "text": [
      "No sentence-transformers model found with name C:\\Users\\gaelp/.cache\\torch\\sentence_transformers\\moussaKam_barthez. Creating a new one with MEAN pooling.\n"
     ]
    }
   ],
   "source": [
    "config=configparser.ConfigParser()\n",
    "config.read('../config.cfg')\n",
    "\n",
    "model_name = \"moussaKam/barthez\"\n",
    "encoder = SentenceTransformer(model_name_or_path=model_name)"
   ]
  },
  {
   "cell_type": "code",
   "execution_count": 3,
   "id": "9c7f4e7d-6e69-4c9e-a455-fb6094c1b834",
   "metadata": {},
   "outputs": [],
   "source": [
    "QDRANT_HOST=config['QDRANT']['host']\n",
    "QDRANT_PORT=config['QDRANT']['port']\n",
    "QDRANT_API_KEY=config['QDRANT']['qdrant_api_key']\n",
    "\n",
    "client = QdrantClient(url=QDRANT_HOST, \n",
    "                      port=QDRANT_PORT, \n",
    "                      api_key=QDRANT_API_KEY)"
   ]
  },
  {
   "cell_type": "code",
   "execution_count": 4,
   "id": "1c2b933e-3f69-4921-8158-ffbb283f5faf",
   "metadata": {},
   "outputs": [],
   "source": [
    "df = pd.read_csv('../data/processed/articles.csv', index_col=0, encoding='utf-8')"
   ]
  },
  {
   "cell_type": "code",
   "execution_count": 5,
   "id": "2491d55e-8bf1-46e6-a3c9-8d32d6cce61d",
   "metadata": {},
   "outputs": [],
   "source": [
    "df = df.reset_index()"
   ]
  },
  {
   "cell_type": "code",
   "execution_count": 6,
   "id": "ed07a2e8-6bc6-476c-a050-c584d5ae6d33",
   "metadata": {},
   "outputs": [],
   "source": [
    "df.columns = ['newsId', 'author', 'title', 'publishedAt', 'content']"
   ]
  },
  {
   "cell_type": "code",
   "execution_count": 7,
   "id": "83db350d-ee8d-4aa9-8469-eaeb2042a1ca",
   "metadata": {},
   "outputs": [],
   "source": [
    "def generate_item_sentence(item: pd.Series, text_columns=[\"title\"]) -> str:\n",
    "    return ' '.join([item[column] for column in text_columns])"
   ]
  },
  {
   "cell_type": "code",
   "execution_count": 8,
   "id": "afe6b350-79af-4f09-b0a5-7dd35e6cd9a0",
   "metadata": {},
   "outputs": [],
   "source": [
    "df[\"sentence\"] = df.apply(generate_item_sentence, axis=1)\n",
    "df[\"sentence_embedding\"] = df[\"sentence\"].apply(encoder.encode)"
   ]
  },
  {
   "cell_type": "code",
   "execution_count": 9,
   "id": "5f81f4fc-e05a-4fb2-880d-207ec95ffaac",
   "metadata": {},
   "outputs": [
    {
     "data": {
      "text/plain": [
       "True"
      ]
     },
     "execution_count": 9,
     "metadata": {},
     "output_type": "execute_result"
    }
   ],
   "source": [
    "client.create_collection(\n",
    "    collection_name = \"articles_fr_newsapi\",\n",
    "    vectors_config = models.VectorParams(\n",
    "        size = encoder.get_sentence_embedding_dimension(),\n",
    "        distance = models.Distance.COSINE,\n",
    "    ),\n",
    ")"
   ]
  },
  {
   "cell_type": "code",
   "execution_count": 10,
   "id": "4aa532a9-d782-4848-9097-1aa30581290b",
   "metadata": {},
   "outputs": [],
   "source": [
    "metadata_columns = df.drop([\"newsId\", \"sentence\", \"sentence_embedding\"], axis=1).columns\n",
    "\n",
    "def create_vector_point(item:pd.Series) -> PointStruct:\n",
    "    \"\"\"Turn vectors into PointStruct\"\"\"\n",
    "    return PointStruct(\n",
    "        id = item[\"newsId\"],\n",
    "        vector = item[\"sentence_embedding\"].tolist(),\n",
    "        payload = {\n",
    "            field: item[field]\n",
    "            for field in metadata_columns\n",
    "            if (str(item[field]) not in ['None', 'nan'])\n",
    "        }\n",
    "    )\n",
    "\n",
    "points = df.apply(create_vector_point, axis=1).tolist()"
   ]
  },
  {
   "cell_type": "code",
   "execution_count": 11,
   "id": "50a6d88a-95c3-420d-a891-ddee8b4bd0c9",
   "metadata": {},
   "outputs": [],
   "source": [
    "CHUNK_SIZE = 500\n",
    "n_chunks = np.ceil(len(points)/CHUNK_SIZE)\n",
    "\n",
    "for i, points_chunk in enumerate(np.array_split(points, n_chunks)):\n",
    "    client.upsert(\n",
    "        collection_name=\"articles_fr_newsapi\",\n",
    "        wait=True,\n",
    "        points=points_chunk.tolist()\n",
    "    )"
   ]
  },
  {
   "cell_type": "code",
   "execution_count": 12,
   "id": "803badbc-f01b-463a-8c4c-69499d8e6c03",
   "metadata": {},
   "outputs": [],
   "source": [
    "query_text = \"Macron\"\n",
    "query_vector = encoder.encode(query_text).tolist()"
   ]
  },
  {
   "cell_type": "code",
   "execution_count": 13,
   "id": "60af206d-a703-4dbe-9241-a3f993cab0b7",
   "metadata": {},
   "outputs": [
    {
     "data": {
      "text/plain": [
       "[ScoredPoint(id=48, version=0, score=0.46678478, payload={'content': 'La bagnole\\xa0? «\\xa0Moi, je ladore\\xa0!\\xa0», avait déclaré Emmanuel Macron lors dune interview télévisée le 24\\xa0septembre. Cette passion a sans doute incité le chef de lEtat à annoncer lui-même, jeudi 14\\xa0décemb… [+3356 chars]', 'title': 'Voiture électrique\\xa0: une démocratisation difficile'}, vector=None, shard_key=None),\n",
       " ScoredPoint(id=22, version=0, score=0.43773925, payload={'content': 'Les funérailles du Pape émérite Benoît XVI\\r\\nLa dépouille de Joseph Ratzinger, pape de\\xa02005 à\\xa02013, a été exposée dans la basilique Saint-Pierre de Rome.Andreas SOLARO/AFP\\r\\nPour la première fois depui… [+11062 chars]', 'title': '20 photos marquantes de\\xa02023'}, vector=None, shard_key=None),\n",
       " ScoredPoint(id=7, version=0, score=0.42466035, payload={'content': 'Depuis 2017\\xa0et les révélations sur le producteur de cinéma prédateur Harvey Weinstein, la vague qui a libéré la parole des femmes victimes de violences sexistes et sexuelles a aussi bouleversé la man… [+3427 chars]', 'title': 'Depardieu\\xa0: la faute politique du président'}, vector=None, shard_key=None),\n",
       " ScoredPoint(id=127, version=0, score=0.40177527, payload={'content': 'Une figure politique singulière disparaît avec Jacques Delors. Autodidacte formé par le syndicalisme chrétien, humaniste inspiré par le personnalisme engagé du philosophe Emmanuel Mounier, profondéme… [+3259 chars]', 'title': 'Le double héritage de Jacques Delors'}, vector=None, shard_key=None),\n",
       " ScoredPoint(id=153, version=0, score=0.400306, payload={'content': 'Lautomne 2023\\xa0a vu la résurgence du risque terroriste en France. Deux attentats au couteau ont été commis au nom de lorganisation Etat islamique. Chacun deux pose, à sa manière, le problème de la pré… [+2904 chars]', 'title': 'Prévention du terrorisme\\xa0: l’impossible risque zéro'}, vector=None, shard_key=None),\n",
       " ScoredPoint(id=109, version=0, score=0.35586882, payload={'content': 'Loin des champs de bataille dUkraine, un autre front de la guerre russe se déploie dans les Balkans, où Moscou tente dexploiter les tensions nationalistes contre laspiration des pays de la région à r… [+3208 chars]', 'title': 'Le double jeu dangereux de la Serbie'}, vector=None, shard_key=None),\n",
       " ScoredPoint(id=45, version=0, score=0.3551863, payload={'content': 'Un navire participe à la création dun port côtier nécessaire à la production pétrolière offshore à lembouchure de la rivière Demerara, à Georgetown, la capitale du Guyana, le 11\\xa0avril\\xa02023. MATIAS DE… [+2745 chars]', 'title': 'Le Guyana relance la soif mondiale de pétrole'}, vector=None, shard_key=None),\n",
       " ScoredPoint(id=71, version=0, score=0.33820614, payload={'content': 'Vincent Bolloré, à Paris, en\\xa02015. JACQUES DEMARTHON / AFP\\r\\nDes jolis coups, Vincent Bolloré en a fait dans sa carrière\\xa0: la Société commerciale daffrètement et de combustible (SCAC) au milieu des an… [+2596 chars]', 'title': 'Vincent Bolloré et Vivendi, le coup de sa vie'}, vector=None, shard_key=None),\n",
       " ScoredPoint(id=74, version=0, score=0.3310691, payload={'content': '<li>Parce quune autre personne (ou vous) est en train de lire Le Monde avec ce compte sur un autre appareil.\\r\\nVous ne pouvez lire Le Monde que sur un seul appareil à la fois (ordinateur, téléphone ou… [+626 chars]', 'title': 'Vidéo. En images\\xa0: Vladimir Poutine réitère son objectif en Ukraine'}, vector=None, shard_key=None),\n",
       " ScoredPoint(id=11, version=0, score=0.3310419, payload={'content': \"La Moldavie a rapidement embrayé. Dix jours après avoir bénéficié, comme son voisin ukrainien, d'une invitation des Vingt-Sept à entamer des négociations d'adhésion à l'Union européenne , la présiden… [+3289 chars]\", 'title': \"La Moldavie veut accélérer son rapprochement de l'Union européenne\"}, vector=None, shard_key=None)]"
      ]
     },
     "execution_count": 13,
     "metadata": {},
     "output_type": "execute_result"
    }
   ],
   "source": [
    "client.search(\n",
    "    collection_name=\"articles_fr_newsapi\",\n",
    "    query_vector=query_vector,\n",
    "    with_payload=[\"newsId\", \"title\", \"content\"],\n",
    "    query_filter=None\n",
    ")"
   ]
  },
  {
   "cell_type": "markdown",
   "id": "22f78ab8-145b-432a-b1a6-085c23f77d1b",
   "metadata": {},
   "source": [
    "## Affichage"
   ]
  },
  {
   "cell_type": "code",
   "execution_count": 16,
   "id": "ed2195ac-f396-4f07-a680-e48b2454357b",
   "metadata": {},
   "outputs": [],
   "source": [
    "import numpy as np\n",
    "import ast\n",
    "\n",
    "# Convert embeddings from CSV str type to NumPy Array\n",
    "embedding_array = np.array(\n",
    "    df['sentence_embedding'].to_list()\n",
    ")"
   ]
  },
  {
   "cell_type": "code",
   "execution_count": 18,
   "id": "09890f6a-34ce-4c36-a1a9-af5beb23e4ae",
   "metadata": {},
   "outputs": [],
   "source": [
    "query = \"Macron\"\n",
    "query_embedding_response = np.array(\n",
    "    encoder.encode(query)\n",
    ")"
   ]
  },
  {
   "cell_type": "code",
   "execution_count": null,
   "id": "f8e14b2d-9962-443a-9542-68d68068710d",
   "metadata": {},
   "outputs": [],
   "source": [
    "from scipy.spatial.distance import cdist\n",
    "\n",
    "df['distance'] = cdist(\n",
    "    embedding_array,\n",
    "    [query_embedding_response]\n",
    ")"
   ]
  },
  {
   "cell_type": "code",
   "execution_count": null,
   "id": "9c663685-422b-4418-86a1-9265bbdb0a02",
   "metadata": {},
   "outputs": [],
   "source": [
    "from sklearn.preprocessing import MinMaxScaler\n",
    "\n",
    "scaler = MinMaxScaler()\n",
    "\n",
    "scaler.fit(df[['distance']])\n",
    "\n",
    "df['normalised'] = scaler.transform(df[['distance']])"
   ]
  },
  {
   "cell_type": "code",
   "execution_count": null,
   "id": "79b77cc5-1a86-453a-aab8-68a86bb2a052",
   "metadata": {},
   "outputs": [],
   "source": [
    "import plotly.express as px\n",
    "from sklearn.manifold import TSNE\n",
    "\n",
    "# Create a t-SNE model\n",
    "tsne_model = TSNE(\n",
    "    n_components = 2,\n",
    "    perplexity = 15,\n",
    "    random_state = 42,\n",
    "    init = 'random',\n",
    "    learning_rate = 200\n",
    ")\n",
    "tsne_embeddings = tsne_model.fit_transform(embedding_array)\n",
    "\n",
    "# Create a DataFrame for visualisation\n",
    "visualisation_data = pd.DataFrame(\n",
    "    {'x': tsne_embeddings[:, 0],\n",
    "     'y': tsne_embeddings[:, 1],\n",
    "     'Similarity': df['normalised']}\n",
    ")\n",
    "\n",
    "# Create the scatter plot using Plotly Express\n",
    "plot = px.scatter(\n",
    "    visualisation_data,\n",
    "    x = 'x',\n",
    "    y = 'y',\n",
    "    color = 'Similarity',\n",
    "    color_continuous_scale = 'rainbow',\n",
    "    opacity = 0.3,\n",
    "    title = f\"Similarity to '{query}' visualised using t-SNE\"\n",
    ")\n",
    "\n",
    "plot.update_layout(\n",
    "    width = 650,\n",
    "    height = 650\n",
    ")"
   ]
  },
  {
   "cell_type": "code",
   "execution_count": null,
   "id": "3861652e-94a8-4f1a-9853-b4f920c11f99",
   "metadata": {},
   "outputs": [],
   "source": [
    "# Show the plot\n",
    "plot.show()"
   ]
  },
  {
   "cell_type": "code",
   "execution_count": null,
   "id": "306df827-4e59-4f99-bfd6-2e9258baf5b7",
   "metadata": {},
   "outputs": [],
   "source": []
  },
  {
   "cell_type": "code",
   "execution_count": null,
   "id": "f46442b6-c2e2-4066-af98-b70d84360f20",
   "metadata": {},
   "outputs": [],
   "source": []
  }
 ],
 "metadata": {
  "kernelspec": {
   "display_name": "Python 3 (ipykernel)",
   "language": "python",
   "name": "python3"
  },
  "language_info": {
   "codemirror_mode": {
    "name": "ipython",
    "version": 3
   },
   "file_extension": ".py",
   "mimetype": "text/x-python",
   "name": "python",
   "nbconvert_exporter": "python",
   "pygments_lexer": "ipython3",
   "version": "3.9.16"
  }
 },
 "nbformat": 4,
 "nbformat_minor": 5
}
