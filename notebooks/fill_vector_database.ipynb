{
 "cells": [
  {
   "cell_type": "code",
   "execution_count": 12,
   "id": "ab5bce44-4a11-42cb-9b76-047486e84517",
   "metadata": {},
   "outputs": [],
   "source": [
    "from sentence_transformers import SentenceTransformer\n",
    "from qdrant_client import QdrantClient\n",
    "from qdrant_client import models\n",
    "from qdrant_client.http.models import Distance, VectorParams, PointStruct \n",
    "from qdrant_client.models import Filter\n",
    "from qdrant_client.http import models\n",
    "import numpy as np\n",
    "import pandas as pd\n",
    "import configparser\n",
    "import numpy as np"
   ]
  },
  {
   "cell_type": "code",
   "execution_count": 13,
   "id": "707ac925",
   "metadata": {},
   "outputs": [],
   "source": [
    "!export CUDA_VISIBLE_DEVICES=0,1"
   ]
  },
  {
   "cell_type": "code",
   "execution_count": 14,
   "id": "809e6ada-ca61-4d70-8f16-24e53b9bdc2d",
   "metadata": {},
   "outputs": [
    {
     "name": "stderr",
     "output_type": "stream",
     "text": [
      "No sentence-transformers model found with name /home/gael/.cache/torch/sentence_transformers/moussaKam_barthez/. Creating a new one with MEAN pooling.\n"
     ]
    }
   ],
   "source": [
    "config=configparser.ConfigParser()\n",
    "config.read('../config/config.cfg')\n",
    "\n",
    "model_name = \"/home/gael/.cache/torch/sentence_transformers/moussaKam_barthez/\"\n",
    "encoder = SentenceTransformer(model_name_or_path=model_name)"
   ]
  },
  {
   "cell_type": "code",
   "execution_count": 15,
   "id": "9c7f4e7d-6e69-4c9e-a455-fb6094c1b834",
   "metadata": {},
   "outputs": [],
   "source": [
    "QDRANT_HOST=config['QDRANT']['host']\n",
    "QDRANT_PORT=config['QDRANT']['port']\n",
    "QDRANT_API_KEY=config['QDRANT']['qdrant_api_key']\n",
    "\n",
    "client = QdrantClient(url=QDRANT_HOST, \n",
    "                      port=QDRANT_PORT, \n",
    "                      api_key=QDRANT_API_KEY)"
   ]
  },
  {
   "cell_type": "code",
   "execution_count": 16,
   "id": "1c2b933e-3f69-4921-8158-ffbb283f5faf",
   "metadata": {},
   "outputs": [],
   "source": [
    "df = pd.read_csv('../data/processed/articles.csv', index_col=0, encoding='utf-8')"
   ]
  },
  {
   "cell_type": "code",
   "execution_count": 17,
   "id": "2491d55e-8bf1-46e6-a3c9-8d32d6cce61d",
   "metadata": {},
   "outputs": [],
   "source": [
    "df = df.reset_index()"
   ]
  },
  {
   "cell_type": "code",
   "execution_count": 18,
   "id": "ed07a2e8-6bc6-476c-a050-c584d5ae6d33",
   "metadata": {},
   "outputs": [],
   "source": [
    "df.columns = ['newsId', 'author', 'title', 'publishedAt', 'content']"
   ]
  },
  {
   "cell_type": "code",
   "execution_count": 19,
   "id": "83db350d-ee8d-4aa9-8469-eaeb2042a1ca",
   "metadata": {},
   "outputs": [],
   "source": [
    "def generate_item_sentence(item: pd.Series, text_columns=[\"title\"]) -> str:\n",
    "    return ' '.join([item[column] for column in text_columns])"
   ]
  },
  {
   "cell_type": "code",
   "execution_count": 20,
   "id": "afe6b350-79af-4f09-b0a5-7dd35e6cd9a0",
   "metadata": {},
   "outputs": [],
   "source": [
    "df[\"sentence\"] = df.apply(generate_item_sentence, axis=1)\n",
    "df[\"sentence_embedding\"] = df[\"sentence\"].apply(encoder.encode)"
   ]
  },
  {
   "cell_type": "code",
   "execution_count": 21,
   "id": "5f81f4fc-e05a-4fb2-880d-207ec95ffaac",
   "metadata": {},
   "outputs": [
    {
     "data": {
      "text/plain": [
       "True"
      ]
     },
     "execution_count": 21,
     "metadata": {},
     "output_type": "execute_result"
    }
   ],
   "source": [
    "client.recreate_collection(\n",
    "    collection_name = \"articles_fr_newsapi\",\n",
    "    vectors_config = models.VectorParams(\n",
    "        size = encoder.get_sentence_embedding_dimension(),\n",
    "        distance = models.Distance.COSINE,\n",
    "    ),\n",
    ")"
   ]
  },
  {
   "cell_type": "code",
   "execution_count": 22,
   "id": "4aa532a9-d782-4848-9097-1aa30581290b",
   "metadata": {},
   "outputs": [],
   "source": [
    "metadata_columns = df.drop([\"newsId\", \"sentence\", \"sentence_embedding\"], axis=1).columns\n",
    "\n",
    "def create_vector_point(item:pd.Series) -> PointStruct:\n",
    "    \"\"\"Turn vectors into PointStruct\"\"\"\n",
    "    return PointStruct(\n",
    "        id = item[\"newsId\"],\n",
    "        vector = item[\"sentence_embedding\"].tolist(),\n",
    "        payload = {\n",
    "            field: item[field]\n",
    "            for field in metadata_columns\n",
    "            if (str(item[field]) not in ['None', 'nan'])\n",
    "        }\n",
    "    )\n",
    "\n",
    "points = df.apply(create_vector_point, axis=1).tolist()"
   ]
  },
  {
   "cell_type": "code",
   "execution_count": 23,
   "id": "50a6d88a-95c3-420d-a891-ddee8b4bd0c9",
   "metadata": {},
   "outputs": [],
   "source": [
    "CHUNK_SIZE = 500\n",
    "n_chunks = np.ceil(len(points)/CHUNK_SIZE)\n",
    "\n",
    "for i, points_chunk in enumerate(np.array_split(points, n_chunks)):\n",
    "    client.upsert(\n",
    "        collection_name=\"articles_fr_newsapi\",\n",
    "        wait=True,\n",
    "        points=points_chunk.tolist()\n",
    "    )"
   ]
  },
  {
   "cell_type": "code",
   "execution_count": 24,
   "id": "803badbc-f01b-463a-8c4c-69499d8e6c03",
   "metadata": {},
   "outputs": [],
   "source": [
    "query_text = \"Macron\"\n",
    "query_vector = encoder.encode(query_text).tolist()"
   ]
  },
  {
   "cell_type": "code",
   "execution_count": 25,
   "id": "60af206d-a703-4dbe-9241-a3f993cab0b7",
   "metadata": {},
   "outputs": [
    {
     "data": {
      "text/plain": [
       "[ScoredPoint(id=47, version=0, score=0.46678513, payload={'content': 'La bagnole\\xa0? «\\xa0Moi, je ladore\\xa0!\\xa0», avait déclaré Emmanuel Macron lors dune interview télévisée le 24\\xa0septembre. Cette passion a sans doute incité le chef de lEtat à annoncer lui-même, jeudi 14\\xa0décemb… [+3356 chars]', 'title': 'Voiture électrique\\xa0: une démocratisation difficile'}, vector=None, shard_key=None),\n",
       " ScoredPoint(id=130, version=0, score=0.46319127, payload={'content': \"Un petit air de\\xa02017, une potion de «\\xa0disruption\\xa0»\\xa0? En nommant Gabriel Attal à Matignon, contre l'avis de sa vieille garde, Emmanuel Macron s'offre la possibilité d'une «\\xa0régénération\\xa0» évoquée dans… [+2473 chars]\", 'title': \"Macron, l'opération sang neuf\"}, vector=None, shard_key=None),\n",
       " ScoredPoint(id=87, version=0, score=0.44700325, payload={'content': 'En\\xa02023, le groupe japonais Toyota a conservé la tête du classement mondial des constructeurs automobiles, avec près de dix millions de voitures vendues. Linformation, qui autrefois aurait fait les g… [+3385 chars]', 'title': 'Automobile\\xa0: une hiérarchie mondiale bousculée'}, vector=None, shard_key=None),\n",
       " ScoredPoint(id=170, version=0, score=0.4377394, payload={'content': 'Les funérailles du Pape émérite Benoît XVI\\r\\nLa dépouille de Joseph Ratzinger, pape de\\xa02005 à\\xa02013, a été exposée dans la basilique Saint-Pierre de Rome.Andreas SOLARO/AFP\\r\\nPour la première fois depui… [+11062 chars]', 'title': '20 photos marquantes de\\xa02023'}, vector=None, shard_key=None),\n",
       " ScoredPoint(id=7, version=0, score=0.42466053, payload={'content': 'Depuis 2017\\xa0et les révélations sur le producteur de cinéma prédateur Harvey Weinstein, la vague qui a libéré la parole des femmes victimes de violences sexistes et sexuelles a aussi bouleversé la man… [+3427 chars]', 'title': 'Depardieu\\xa0: la faute politique du président'}, vector=None, shard_key=None),\n",
       " ScoredPoint(id=23, version=0, score=0.40177536, payload={'content': 'Une figure politique singulière disparaît avec Jacques Delors. Autodidacte formé par le syndicalisme chrétien, humaniste inspiré par le personnalisme engagé du philosophe Emmanuel Mounier, profondéme… [+3259 chars]', 'title': 'Le double héritage de Jacques Delors'}, vector=None, shard_key=None),\n",
       " ScoredPoint(id=154, version=0, score=0.40030608, payload={'content': 'Lautomne 2023\\xa0a vu la résurgence du risque terroriste en France. Deux attentats au couteau ont été commis au nom de lorganisation Etat islamique. Chacun deux pose, à sa manière, le problème de la pré… [+2904 chars]', 'title': 'Prévention du terrorisme\\xa0: l’impossible risque zéro'}, vector=None, shard_key=None),\n",
       " ScoredPoint(id=215, version=0, score=0.35586894, payload={'content': 'Loin des champs de bataille dUkraine, un autre front de la guerre russe se déploie dans les Balkans, où Moscou tente dexploiter les tensions nationalistes contre laspiration des pays de la région à r… [+3208 chars]', 'title': 'Le double jeu dangereux de la Serbie'}, vector=None, shard_key=None),\n",
       " ScoredPoint(id=44, version=0, score=0.35518652, payload={'content': 'Un navire participe à la création dun port côtier nécessaire à la production pétrolière offshore à lembouchure de la rivière Demerara, à Georgetown, la capitale du Guyana, le 11\\xa0avril\\xa02023. MATIAS DE… [+2745 chars]', 'title': 'Le Guyana relance la soif mondiale de pétrole'}, vector=None, shard_key=None),\n",
       " ScoredPoint(id=232, version=0, score=0.35339186, payload={'content': \"Petite révolution au coeur de l'automobile américaine. Les ventes du constructeur sud coréen Hyundai y ont dépassé celles de Stellantis, propriétaire des pourtant iconiques Chrysler, Jeep et autres D… [+332 chars]\", 'title': 'Automobile\\xa0: Stellantis doublé par Hyundai aux Etats-Unis'}, vector=None, shard_key=None)]"
      ]
     },
     "execution_count": 25,
     "metadata": {},
     "output_type": "execute_result"
    }
   ],
   "source": [
    "client.search(\n",
    "    collection_name=\"articles_fr_newsapi\",\n",
    "    query_vector=query_vector,\n",
    "    with_payload=[\"newsId\", \"title\", \"content\"],\n",
    "    query_filter=None\n",
    ")"
   ]
  },
  {
   "cell_type": "markdown",
   "id": "22f78ab8-145b-432a-b1a6-085c23f77d1b",
   "metadata": {},
   "source": [
    "## Affichage"
   ]
  },
  {
   "cell_type": "code",
   "execution_count": 26,
   "id": "ed2195ac-f396-4f07-a680-e48b2454357b",
   "metadata": {},
   "outputs": [],
   "source": [
    "# Convert embeddings from CSV str type to NumPy Array\n",
    "embedding_array = np.array(\n",
    "    df['sentence_embedding'].to_list()\n",
    ")"
   ]
  },
  {
   "cell_type": "code",
   "execution_count": 27,
   "id": "09890f6a-34ce-4c36-a1a9-af5beb23e4ae",
   "metadata": {},
   "outputs": [],
   "source": [
    "query = \"Guerre en Ukraine\"\n",
    "query_embedding_response = np.array(\n",
    "    encoder.encode(query)\n",
    ")"
   ]
  },
  {
   "cell_type": "code",
   "execution_count": 28,
   "id": "f8e14b2d-9962-443a-9542-68d68068710d",
   "metadata": {},
   "outputs": [],
   "source": [
    "from scipy.spatial.distance import cdist\n",
    "\n",
    "df['distance'] = cdist(\n",
    "    embedding_array,\n",
    "    [query_embedding_response]\n",
    ")"
   ]
  },
  {
   "cell_type": "code",
   "execution_count": 29,
   "id": "9c663685-422b-4418-86a1-9265bbdb0a02",
   "metadata": {},
   "outputs": [],
   "source": [
    "from sklearn.preprocessing import MinMaxScaler\n",
    "\n",
    "scaler = MinMaxScaler()\n",
    "\n",
    "scaler.fit(df[['distance']])\n",
    "\n",
    "df['normalised'] = scaler.transform(df[['distance']])"
   ]
  },
  {
   "cell_type": "code",
   "execution_count": 30,
   "id": "79b77cc5-1a86-453a-aab8-68a86bb2a052",
   "metadata": {},
   "outputs": [
    {
     "data": {
      "application/vnd.plotly.v1+json": {
       "config": {
        "plotlyServerURL": "https://plot.ly"
       },
       "data": [
        {
         "hovertemplate": "<b>%{hovertext}</b><br><br>x=%{x}<br>y=%{y}<br>z=%{z}<br>Similarity=%{marker.color}<extra></extra>",
         "hovertext": [
          "Pour ses voeux aux Français, Emmanuel Macron veut faire de 2024 une « année de détermination »",
          "« L’agrivoltaïsme suppose que l’agriculture conserve une place principale »",
          "Artcurial, Sotheby's, Drouot : les maisons de vente peaufinent leur stratégie de marque",
          "Pour Paris 2024, les chantiers olympiques arrivent dans les temps",
          "La Bulgarie et la Roumanie vont partiellement intégrer l'espace Schengen",
          "Quand la sortie du réveillon est gâchée par le verglas",
          "Paris 2024 : « Quand la magie du sport opère »",
          "Depardieu : la faute politique du président",
          "VIDEO - Pourquoi l'Argentine manifeste contre le « mega-décret » de son nouveau président ?",
          "Vidéo. Les coulisses de notre enquête « Narco Business » sur le trafic de fentanyl des cartels mexicains",
          "Vidéo. A Gaza, des corps enterrés dans des fosses communes, tandis que la riposte israélienne s’intensifie",
          "La Moldavie veut accélérer son rapprochement de l'Union européenne",
          "Les images impressionnantes de l'explosion d'un navire russe dans le port de Feodossia, en Crimée",
          "VIDEO - Pourquoi l'enlisement de la guerre en Ukraine est la meilleure chose qui pouvait arriver à la Russie",
          "VIDEO - Démographie : faire moins d'enfants, est-ce vraiment un problème ?",
          "Google, Apple vs Epic Games : « Le monopole des géants du numérique s’érode trop doucement »",
          "VIDEO - Cet avion militaire américain qui pourrait révolutionner la guerre",
          "Vidéo. Bande de Gaza : avant la guerre, un territoire à l’agonie",
          "Marseille : «On aime ce club, mais pas au point de faire des violences ou des dégradations»",
          "Mal-logement : le parc HLM paralysé par le Covid",
          "Clap de fin pour les magasins Habitat",
          "M&A : Lazard prend la tête d'un classement français très bousculé",
          "Schneider, L'Oréal, Stellantis : les moteurs du CAC 40 ont tourné à plein régime cette année",
          "Le double héritage de Jacques Delors",
          "Impôts : ce qui change pour les ménages en 2024",
          "Pourquoi l’avenir du Moyen-Orient dépend autant d’Israël",
          "« Nous vivons mondialement une économie de casino avec des montages financiers toujours plus complexes »",
          "Grève à la tour Eiffel : le monument fermé au public à l’occasion du centenaire du décès de Gustave Eiffel",
          "Vidéo. Loi « immigration » : le texte consacre-t-il la « préférence nationale », prônée par le Rassemblement national ?",
          "Qui est responsable si des bougies de Noël enflamment la jupe d’une invitée ?",
          "« A travers les légendes sur Jésus, nous arrivons à discerner en filigrane des éléments sur sa véritable existence »",
          "Comment la France a-t-elle été chassée du Sahel ?",
          "Schneider Electric retrouve le club fermé des sociétés valant plus de 100 milliards d'euros",
          "VIDEO - Les images de la croix installée sur la flèche de Notre-Dame de Paris",
          "L'Oréal continue de progresser encore plus vite que le marché de la beauté",
          "Ukraine : « Au sein de l'Otan, nous avons toujours dit que ce serait une guerre longue »",
          "Bruno Le Maire renouvelle son opération séduction à Wall Street",
          "Transport sanitaire : « L’absence de dialogue avec les artisans taxis et de mesures d’accompagnement témoigne d’une gestion technocratique et centralisée »",
          "Le Guyana relance la soif mondiale de pétrole",
          "Carrefour fait une offre sur les magasins de proximité de Casino",
          "Guerre Israël - Hamas : Benyamin Netanyahou sous pression après la mort d'otages tués par des soldats israéliens",
          "Voiture électrique : une démocratisation difficile",
          "Matières premières : « Rayon de soleil pour le miel »",
          "Gaza : Israël s'apprête à inonder les tunnels du Hamas",
          "Vidéo. En images : Bourges, Capitale européenne de la culture en 2028",
          "La guerre Israël-Hamas donne l’occasion à l’Egypte de retrouver une influence diplomatique",
          "Vidéo. En images : à la COP28, un rapport final qui mentionne les énergies fossiles « pour la toute première fois »",
          "Google, Apple vs Epic Games : « Le monople des géants du numérique s’érode trop doucement »",
          "« Dubaï connexion, comment blanchir cinquante millions de dollars » : découvrez le troisième épisode de notre série vidéo « Narco Business »",
          "VIDEO - Armement : les Européens peuvent-ils prendre la main sur leur défense ?",
          "VIDEO - Pourquoi ne fabrique-t-on plus de vélos en France ?",
          "VIDEO - Faut-il vraiment lutter contre l'inflation ?",
          "VIDEO - Pourquoi c'est devenu cool de faire ses courses chez Action ?",
          "Crédit immobilier : les banques repartent à la conquête de nouveaux clients",
          "BFM-TV perd son pari Ruquier face à CNews",
          "Fiscalité : les monnaies numériques dans la ligne de mire",
          "Impôts : la fin de la taxe d'habitation, une manne modeste pour les propriétaires",
          "La France bat son record historique d'exportation d'électricité",
          "A Gaza, la guerre sans fin de Benyamin Nétanyahou",
          "Alimentation : « Les acteurs de la distribution ont un rôle-clé à jouer dans la lutte contre le gaspillage »",
          "Aux origines de la « Terre sainte », ou la lente construction d’une Palestine « mythifiée »",
          "Vidéo. Ukraine : ce que les images disent de la stratégie d’attaque russe des bâtiments civils d’Avdiïvka",
          "Impôts : taxe d'habitation et taxe foncière en 10 questions pratiques",
          "Ces communes qui majorent la taxe d'habitation sur les résidences secondaires",
          "En ces temps tragiques, que nous est-il permis d’espérer ?",
          "La France franchit le cap symbolique du million de voitures électriques",
          "« Gouvernement et secteur privé sont des alliés dans le financement de la R&D, pas des ennemis »",
          "Fusions-acquisitions : un rebond espéré en 2024 après le trou d’air de l’an passé",
          "Automobile : une hiérarchie mondiale bousculée",
          "Immobilier : ces passoires thermiques qui affolent le marché",
          "SNCF : le système D des voyageurs face au train cher",
          "Vidéo. Les coulisses de notre enquête « Narco Business » sur le trafic de fentanyl des cartels mexicains",
          "Disparition de Jacques Delors : pluie d'hommages pour l'artisan de l'Europe",
          "Mort de Jacques Delors, le « tsar de Bruxelles »",
          "Huîtres : la vague d'intoxications alimentaires au norovirus s'étend sur le littoral",
          "Bridgewater, le « Big Brother » du trading mondial, fait face à ses accusateurs",
          "Belarus: The opposition tries to get out of Lukashenko's trap",
          "AI start-ups are booming in San Francisco's 'Cerebral Valley'",
          "'Qatargate': Belgian investigation risks stalling",
          "Flooding in Northern France: 'It's only logical that rainfall will become more frequent and intense'",
          "Between North and South Korea, 2024 begins under high tension",
          "Trop d'eau, étiquetage non conforme… La répression des fraudes épingle des fabricants de beurre",
          "What exactly is Gérard Depardieu accused of?",
          "Un Boeing 737 MAX perd un hublot en plein vol et relance la question de la fiabilité",
          "Canada's carbon tax under threat from all sides",
          "Video. Why Middle East stability revolves around Israel",
          "Video. The year in review: 2023 in six minutes",
          "Video. Why are Ukrainian special forces fighting Russia's Wagner mercenaries in Sudan?",
          "La Nasa repousse le retour d'astronautes sur la Lune à 2026",
          "Air France prévoit de reprendre ses vols vers Tel-Aviv fin janvier",
          "The painful return of Ukrainian prisoners from Russia",
          "Hezbollah's elite Radwan force is in Israel's sights",
          "Les cours du pétrole chahutés entre tensions mondiales et demande molle",
          "Macron joue la carte Attal pour tenter de provoquer un « sursaut »",
          "Macron, l'opération sang neuf",
          "Gabriel Attal Premier ministre, une arme anti-Bardella en vue des élections européennes",
          "VIDEO - La déclaration du nouveau Premier ministre, Gabriel Attal",
          "VIDEO - Comment le Chinois BYD est devenu un géant de la voiture électrique",
          "2023 was the Earth's hottest year by far",
          "Attal Premier ministre : l'ascension fulgurante du « jeune Gabriel »",
          "Supply of F-16s to Ukraine: Pilot training ramps up",
          "German farmers stage 'week of action,' among fears of far-right exploitation",
          "The relentless struggle of South Sudanese displaced by war and endless flooding",
          "VIDEO - « Dès qu'il pleut, on a peur » : le Pas-de-Calais placé en vigilance rouge aux crues",
          "Le M&A mondial signe sa pire année de la décennie",
          "Joseph Stiglitz : « Le résultat des élections aux Etats-Unis dépend des perspectives économiques pour 2024, elles-mêmes liées à l’évolution du conflit au Moyen-Orient »",
          "Le distributeur Grand Frais s’apprête à entrer dans Paris",
          "Chloé Morin : « Pour Emmanuel Macron, le rebond va être de plus en plus difficile »",
          "Avis de gros temps sur la dette des pays en développement",
          "Lutte anticorruption : l’exécutif ne peut être juge et partie",
          "Pour Emmanuel Macron, des voeux 2024 placés sous le signe de la crise politique",
          "Prévention du terrorisme : l’impossible risque zéro",
          "La Chine prise au piège de ses crédits accordés aux pays en développement",
          "Bourse : les 7 chiffres fous des placements en actions",
          "M&A : Lazard prend la tête d'un classement français très bousculé",
          "Européennes 2024 : le camp Macron redoute les effets de la loi immigration",
          "M&A : les prix d'acquisition des PME décrochent",
          "Les dix évènements qui marqueront 2024",
          "Elections européennes : Emmanuel Macron et Marine Le Pen installent leur duel",
          "20 photos marquantes de 2023",
          "Le Japon frappé par un important séisme/tsunami mais sans dégâts majeurs",
          "Elections aux Etats-Unis, Russie, UE… Ces 8 scrutins de 2024 qui pourraient tout changer dans le monde",
          "Le smic augmente de 15 euros à partir du 1ᵉʳ janvier 2024",
          "Immobilier ancien : jusqu'où ira la baisse des prix en France ?",
          "Loi immigration : la CMP a démarré sous haute tension",
          "Loi immigration : la caution pour les étudiants étrangers inquiète universités et grandes écoles",
          "Immobilier : plaidoyer pour une forte baisse des « frais de notaire »",
          "Loi immigration : les points chauds de la négociation entre le gouvernement et LR",
          "Casino : Intermarché et Auchan emportent la mise",
          "Au Moyen-Orient, le risque de l’instabilité s’accroît dangereusement",
          "Fin du bonus à l’achat de voitures électriques en Allemagne : « On peut difficilement faire plus brutal »",
          "« Le législateur devrait proposer une formule de calcul de la participation spécifique pour les entreprises de moins de 50 salariés »",
          "Vincent Bolloré et Vivendi, le coup de sa vie",
          "Améliorer le référendum pour le rendre enfin « démocratiquement correct »",
          "Vidéo. En images : Vladimir Poutine réitère son objectif en Ukraine",
          "Les magasins Casino deviennent un sujet social et politique",
          "Inquiets, les salariés de Casino lancent un préavis de grève",
          "VIDEO - Défense : est-ce que les Européens peuvent reprendre le contrôle de leur sécurité ?",
          "Intermarché contraint de revendre trois Casino trois mois après leur achat",
          "Mort de Jacques Delors, le « tsar de Bruxelles »",
          "Taxe foncière : la facture va encore s'alourdir en 2024",
          "Impôts : ce qui change pour les entreprises en 2024",
          "Le double jeu dangereux de la Serbie",
          "Dans les palaces, les nouvelles frontières de l’hyperluxe",
          "Vidéo. Le Sénégal manque de poisson (mais il y a peut-être une solution)",
          "Impôt : coup de pouce supplémentaire aux attributions gratuites d'actions (AGA)",
          "Impôts : la taxe foncière pèse moins sur les riches propriétaires",
          "Impôt : zoom sur les avantages du plan de partage de la valorisation de l'entreprise (PPVE)",
          "« Le système de financement de la santé risque d’imploser en 2024 en France »",
          "Rolls-Royce a battu un nouveau record de ventes en 2023",
          "Automobile : Stellantis doublé par Hyundai aux Etats-Unis",
          "Le patronat allemand alerte sur la montée de l'extrême droite",
          "Inondations dans le Pas-de-Calais : un cas d’école",
          "Economie française : « Tentons d’imaginer 2024 comme porteuse de bonnes surprises »",
          "Défense : l’industrie française menacée par de nouveaux concurrents",
          "En ces temps tragiques, que nous est-il permis d’espérer ?",
          "VIDEO - Au Japon, un bilan humain et matériel qui s'alourdit après le séisme",
          "Vidéo. En images : l’Ukraine touchée par « un nombre record de missiles » lancés par la Russie",
          "Pourquoi l’avenir du Moyen-Orient dépend autant d’Israël",
          "Toyota assuré de rester premier constructeur automobile mondial en 2023",
          "Comment Stellantis a finalement réussi à convaincre la Bourse",
          "Un pick-up hydrogène : la réponse de Stellantis au Cybertruck de Tesla",
          "Trois ans après le Brexit, la City continue de transférer des emplois vers l'Europe",
          "Inflation : Pepsi, 7up, Lay's… Carrefour boycotte PepsiCo, Leclerc « tenté » de suivre",
          "Israël : le désaveu de la Cour suprême",
          "Légère remontée de l'inflation en France en décembre à 3,7 %",
          "Dès aujourd’hui, les grands patrons britanniques ont gagné autant qu’un salarié moyen en un an",
          "Livret A, LEP, PEL… les nouveaux taux de l'épargne réglementée",
          "« La transparence sur les informations sociales et environnementales incite les entreprises à mener une réflexion stratégique au service de leur pérennité »",
          "Le gouvernement veut s'attaquer à la « shrinkflation », l'inflation masquée en supermarché",
          "Patrick Artus : « Le reflux de l'inflation sera moins fort qu'annoncé »",
          "Vidéo. Les images de l’embrasement de l’avion de la Japan Airlines à Tokyo-Haneda",
          "« La City de Londres s’intéresse de très près au Labour britannique et ce dernier fait tout pour lui plaire »",
          "Vidéo. En images : le Japon touché par un important séisme",
          "« La France du “mais quand même…”, sans cesse occupée à négocier une exception à la règle, complique le vivre-ensemble »",
          "Israël devrait disposer d'un canon laser dès 2024",
          "Trains annulés : grosse pagaille pour des milliers de passagers d'Eurostar avant le nouvel An",
          "Le trafic Eurostar en provenance et vers Londres reprendra de manière normale dimanche après une journée d’annulations complète",
          "Les villes maintiennent leurs efforts pour réduire leurs factures d'énergie",
          "Dominique Méda, sociologue : « Confirmer le tournant social de l’Union européenne est la meilleure manière de rendre moins attractifs les discours de l’extrême droite »",
          "Pourquoi l’avenir du Moyen-Orient dépend autant d’Israël"
         ],
         "legendgroup": "",
         "marker": {
          "color": [
           0.519,
           0.459,
           0.646,
           0.467,
           0.381,
           0.253,
           0.189,
           0.084,
           0.357,
           0.297,
           0.39,
           0.256,
           0.424,
           0.345,
           0.377,
           0.289,
           0.326,
           0.109,
           0.425,
           0.332,
           0.359,
           0.423,
           0.442,
           0.163,
           0.318,
           0.392,
           0.42,
           0.395,
           0.426,
           0.317,
           0.388,
           0.403,
           0.435,
           0.478,
           0.647,
           0.404,
           0.305,
           0.507,
           0.128,
           0.324,
           0.371,
           0.083,
           0.084,
           0.446,
           0.194,
           0.405,
           0.316,
           0.315,
           0.38,
           0.41,
           0.445,
           0.419,
           0.491,
           0.332,
           0.471,
           0.222,
           0.475,
           0.389,
           0.262,
           0.483,
           0.399,
           0.238,
           0.431,
           0.595,
           0.527,
           0.416,
           0.481,
           0.42,
           0,
           0.367,
           0.188,
           0.297,
           0.477,
           0.325,
           0.434,
           0.315,
           0.656,
           0.75,
           0.738,
           0.791,
           0.856,
           0.43,
           0.798,
           0.537,
           0.786,
           0.577,
           0.314,
           0.709,
           0.678,
           0.578,
           0.987,
           0.9,
           0.633,
           0.348,
           0.189,
           0.191,
           0.35,
           0.499,
           1,
           0.26,
           0.926,
           0.877,
           0.892,
           0.472,
           0.517,
           0.45,
           0.52,
           0.335,
           0.089,
           0.336,
           0.42,
           0.123,
           0.28,
           0.205,
           0.423,
           0.332,
           0.288,
           0.614,
           0.528,
           0.096,
           0.462,
           0.431,
           0.618,
           0.373,
           0.172,
           0.327,
           0.301,
           0.352,
           0.447,
           0.5,
           0.409,
           0.499,
           0.263,
           0.274,
           0.116,
           0.287,
           0.65,
           0.278,
           0.39,
           0.325,
           0.455,
           0.33,
           0.209,
           0.4,
           0.339,
           0.444,
           0.341,
           0.396,
           0.412,
           0.521,
           0.112,
           0.425,
           0.374,
           0.367,
           0.328,
           0.527,
           0.534,
           0.278,
           0.392,
           0.495,
           0.333,
           0.264,
           0.389,
           0.507,
           0.376,
           0.428,
           0.492,
           0.638,
           0.482,
           0.483,
           0.528,
           0.424,
           0.577,
           0.188,
           0.387,
           0.413,
           0.551,
           0.533,
           0.449,
           0.457,
           0.392
          ],
          "coloraxis": "coloraxis",
          "opacity": 0.7,
          "symbol": "circle"
         },
         "mode": "markers",
         "name": "",
         "scene": "scene",
         "showlegend": false,
         "type": "scatter3d",
         "x": [
          -78.82161,
          -108.70668,
          6.6575265,
          -84.0695,
          77.051346,
          25.14945,
          55.809807,
          -4.7997417,
          5.8496513,
          -31.833868,
          -20.387997,
          -66.09683,
          -55.661686,
          -99.32261,
          -3.271335,
          -42.822353,
          -31.67866,
          -112.63577,
          -123.11123,
          -24.172796,
          127.23913,
          79.32186,
          -118.35626,
          48.539227,
          85.59626,
          -40.43418,
          -89.97594,
          22.713196,
          -9.968056,
          -62.35911,
          -133.81325,
          -31.97089,
          143.27417,
          9.36449,
          92.10276,
          -99.54623,
          174.02701,
          -111.45762,
          72.41014,
          98.05618,
          9.248466,
          -101.57954,
          82.242775,
          18.07338,
          68.07701,
          -135.09032,
          16.613977,
          1.4880202,
          -19.481459,
          -27.032293,
          172.45993,
          20.32775,
          17.761923,
          17.011757,
          129.8313,
          32.511242,
          -45.22389,
          90.69231,
          21.436209,
          -180.39844,
          -150.83194,
          -161.50197,
          -57.176445,
          -51.547867,
          -25.983898,
          134.61916,
          -164.5305,
          -27.175325,
          97.26089,
          -16.98887,
          10.980754,
          -16.450407,
          152.06442,
          -44.58455,
          -39.620483,
          -30.025702,
          61.905308,
          -20.187658,
          -29.970284,
          7.3921127,
          40.369534,
          48.2549,
          67.79499,
          -46.118202,
          -3.3470306,
          11.937866,
          4.934002,
          24.828669,
          -6.8800964,
          67.87334,
          55.170807,
          23.422482,
          -6.606348,
          -86.94178,
          130.69945,
          -61.53288,
          95.186615,
          -6.77441,
          35.662014,
          -43.118286,
          23.990732,
          -17.690657,
          27.27993,
          -9.483845,
          89.42095,
          -80.46603,
          107.99273,
          -96.6514,
          358.54688,
          -66.53637,
          96.016304,
          -22.226807,
          1.1026951,
          43.88972,
          88.782,
          69.19464,
          69.38435,
          -3.5744145,
          29.757559,
          18.34027,
          -78.79802,
          -40.64906,
          -85.63012,
          -74.186134,
          74.56681,
          30.310406,
          -69.94396,
          -33.523323,
          67.37438,
          -133.98053,
          -86.68402,
          -140.68098,
          83.1784,
          -140.34326,
          45.557648,
          55.733116,
          121.06022,
          119.43032,
          78.04035,
          22.99432,
          -94.588135,
          -46.30914,
          112.91921,
          32.220173,
          -69.42045,
          -108.27121,
          -68.73392,
          -14.020057,
          -65.4824,
          62.029613,
          117.816,
          -29.984632,
          -27.589062,
          221.69695,
          -77.78848,
          2.250781,
          4.6923814,
          -68.43842,
          -112.156654,
          154.15793,
          70.89683,
          95.75844,
          -54.287743,
          14.81716,
          43.24233,
          48.721718,
          -143.2256,
          23.806677,
          130.37126,
          -69.190315,
          -128.74521,
          -127.61289,
          -65.690544,
          61.53299,
          -12.99766,
          10.947211,
          89.38538,
          -86.44681,
          157.33601,
          130.66873,
          46.687046
         ],
         "y": [
          -6.1541023,
          54.34021,
          158.7701,
          -50.757767,
          -158.09373,
          -44.21467,
          -63.061916,
          -282.91415,
          53.34156,
          -49.055065,
          13.907672,
          180.9395,
          -54.250175,
          -143.46281,
          148.43323,
          4.7996492,
          -128.79555,
          -21.318502,
          -67.58567,
          19.693716,
          -5.769138,
          86.09366,
          -21.873367,
          -152.27544,
          -91.6469,
          -164.66452,
          -65.01094,
          -0.726139,
          -126.24801,
          16.484457,
          -55.388016,
          -126.93484,
          -54.097862,
          5.6807313,
          124.92423,
          -23.429668,
          -34.6225,
          16.160282,
          -42.372547,
          18.605469,
          41.354473,
          -3.1536853,
          -46.288876,
          63.16122,
          -68.73061,
          26.959028,
          -37.307194,
          -66.9107,
          -77.02623,
          -97.75877,
          11.404573,
          -174.51721,
          -151.7317,
          62.00168,
          -46.423782,
          45.90492,
          110.3184,
          143.38124,
          4.854042,
          -8.265726,
          -14.842557,
          37.26444,
          144.02802,
          122.800575,
          147.58244,
          -22.467001,
          -15.055135,
          111.556496,
          3.9365046,
          31.731474,
          2.3347907,
          -38.639828,
          6.653734,
          129.66368,
          66.46664,
          -30.122498,
          4.153556,
          -64.746185,
          -60.897926,
          -64.38441,
          -18.12572,
          132.89203,
          -9.910289,
          -125.65753,
          -15.961543,
          -57.139206,
          -92.89472,
          -26.142952,
          103.27393,
          120.34234,
          -45.487255,
          10.430675,
          81.93238,
          -121.48948,
          -112.34344,
          -110.4872,
          -105.4617,
          -135.05223,
          -71.825836,
          -18.625607,
          -55.671097,
          -21.542515,
          -24.880772,
          14.944842,
          128.68779,
          37.5405,
          102.450165,
          -71.52778,
          80.62545,
          30.193527,
          -23.11105,
          43.3167,
          -33.612183,
          61.637817,
          71.08974,
          -23.965515,
          72.4877,
          65.86272,
          -109.1786,
          89.28482,
          43.451622,
          26.414948,
          76.21417,
          130.50189,
          13.574134,
          12.322477,
          115.471924,
          -172.94267,
          76.46376,
          81.61817,
          19.684351,
          78.64948,
          -93.28155,
          -111.95161,
          -72.50472,
          3.682153,
          47.082085,
          49.947323,
          39.09888,
          -167.2679,
          117.54951,
          52.787395,
          -56.07324,
          116.780334,
          -93.221825,
          -124.39675,
          96.972176,
          95.85871,
          78.6415,
          71.08881,
          -0.63343745,
          -107.27838,
          38.001286,
          -89.03747,
          -20.272778,
          -153.29228,
          -30.990974,
          -27.985193,
          62.11979,
          35.135216,
          -145.25635,
          -58.707947,
          -53.895428,
          97.338844,
          19.310734,
          173.97224,
          98.73571,
          114.68796,
          -127.10836,
          63.447124,
          27.391567,
          -91.82164,
          -17.675402,
          -62.512173,
          -79.63091,
          90.44618,
          52.64339,
          -71.151825,
          -85.68116,
          94.01124,
          -139.96532
         ],
         "z": [
          -102.75156,
          6.605788,
          32.041718,
          -87.10349,
          36.7701,
          30.93046,
          31.56606,
          232.4173,
          -112.552345,
          73.02209,
          71.43052,
          -8.94382,
          125.22584,
          49.862606,
          -30.695908,
          29.928951,
          122.947716,
          52.064842,
          101.36885,
          -20.951998,
          31.67714,
          -10.957666,
          -54.928272,
          108.4135,
          -74.00615,
          -27.791824,
          -6.38082,
          147.04086,
          -55.23188,
          95.42511,
          -4.0667253,
          25.377676,
          -89.75474,
          191.09187,
          -90.03678,
          106.32033,
          7.678559,
          -12.866696,
          -14.236074,
          30.029074,
          71.59294,
          -158.59793,
          -153.06247,
          92.75981,
          57.518955,
          110.454025,
          89.310165,
          6.104526,
          50.304855,
          -11.951688,
          -66.27153,
          -36.426716,
          15.447201,
          -51.391125,
          -35.48119,
          -7.4706717,
          -55.74098,
          10.478442,
          65.13921,
          -42.30614,
          71.275406,
          -7.6168475,
          -64.54559,
          -95.358665,
          90.22473,
          -108.61547,
          14.29916,
          15.3760805,
          145.92372,
          -54.221684,
          13.936072,
          52.998165,
          97.70767,
          -150.1151,
          81.019035,
          12.647331,
          -110.737915,
          -124.372,
          -83.03478,
          161.25438,
          -140.40465,
          63.84282,
          -69.51911,
          91.82524,
          -131.44041,
          -83.198784,
          -101.95118,
          -98.911705,
          144.14499,
          117.896484,
          -89.61319,
          -99.71067,
          -14.492133,
          -16.846203,
          -15.329795,
          -49.48306,
          96.65111,
          137.55609,
          -47.22383,
          156.59926,
          -128.84146,
          -93.7676,
          -60.651,
          130.97076,
          -42.951416,
          -54.441986,
          62.721123,
          73.23555,
          -3.9815679,
          4.1672444,
          85.8741,
          16.821945,
          -23.317966,
          -79.59128,
          -94.857765,
          57.365208,
          -45.82997,
          -168.26239,
          59.40076,
          -155.68713,
          159.74002,
          -153.06721,
          -117.911995,
          20.8637,
          -20.377989,
          -29.455755,
          48.441727,
          42.52436,
          31.638535,
          62.01859,
          50.6722,
          -70.47884,
          -12.940486,
          -14.184529,
          97.528336,
          21.692892,
          46.725273,
          -60.255123,
          36.1856,
          81.08046,
          -48.489456,
          -99.19594,
          15.6292305,
          0.7973108,
          37.956142,
          112.689,
          -66.49254,
          -78.396286,
          -13.426058,
          150.58485,
          -57.331158,
          -162.35727,
          136.19728,
          210.51138,
          18.283306,
          -120.45446,
          -196.25012,
          67.433655,
          93.80907,
          -12.955604,
          -23.471415,
          -120.271675,
          -26.298525,
          49.058525,
          98.54935,
          -34.66853,
          -11.923958,
          -75.23688,
          53.138798,
          39.600563,
          -84.42325,
          -75.24596,
          -35.912674,
          130.42386,
          101.09752,
          114.59334,
          102.7383,
          -140.94827,
          54.170753,
          -9.24096,
          -84.89406
         ]
        }
       ],
       "layout": {
        "coloraxis": {
         "colorbar": {
          "title": {
           "text": "Similarity"
          }
         },
         "colorscale": [
          [
           0,
           "#0d0887"
          ],
          [
           0.1111111111111111,
           "#46039f"
          ],
          [
           0.2222222222222222,
           "#7201a8"
          ],
          [
           0.3333333333333333,
           "#9c179e"
          ],
          [
           0.4444444444444444,
           "#bd3786"
          ],
          [
           0.5555555555555556,
           "#d8576b"
          ],
          [
           0.6666666666666666,
           "#ed7953"
          ],
          [
           0.7777777777777778,
           "#fb9f3a"
          ],
          [
           0.8888888888888888,
           "#fdca26"
          ],
          [
           1,
           "#f0f921"
          ]
         ]
        },
        "height": 650,
        "legend": {
         "tracegroupgap": 0
        },
        "scene": {
         "domain": {
          "x": [
           0,
           1
          ],
          "y": [
           0,
           1
          ]
         },
         "xaxis": {
          "title": {
           "text": "x"
          }
         },
         "yaxis": {
          "title": {
           "text": "y"
          }
         },
         "zaxis": {
          "title": {
           "text": "z"
          }
         }
        },
        "template": {
         "data": {
          "bar": [
           {
            "error_x": {
             "color": "#2a3f5f"
            },
            "error_y": {
             "color": "#2a3f5f"
            },
            "marker": {
             "line": {
              "color": "#E5ECF6",
              "width": 0.5
             },
             "pattern": {
              "fillmode": "overlay",
              "size": 10,
              "solidity": 0.2
             }
            },
            "type": "bar"
           }
          ],
          "barpolar": [
           {
            "marker": {
             "line": {
              "color": "#E5ECF6",
              "width": 0.5
             },
             "pattern": {
              "fillmode": "overlay",
              "size": 10,
              "solidity": 0.2
             }
            },
            "type": "barpolar"
           }
          ],
          "carpet": [
           {
            "aaxis": {
             "endlinecolor": "#2a3f5f",
             "gridcolor": "white",
             "linecolor": "white",
             "minorgridcolor": "white",
             "startlinecolor": "#2a3f5f"
            },
            "baxis": {
             "endlinecolor": "#2a3f5f",
             "gridcolor": "white",
             "linecolor": "white",
             "minorgridcolor": "white",
             "startlinecolor": "#2a3f5f"
            },
            "type": "carpet"
           }
          ],
          "choropleth": [
           {
            "colorbar": {
             "outlinewidth": 0,
             "ticks": ""
            },
            "type": "choropleth"
           }
          ],
          "contour": [
           {
            "colorbar": {
             "outlinewidth": 0,
             "ticks": ""
            },
            "colorscale": [
             [
              0,
              "#0d0887"
             ],
             [
              0.1111111111111111,
              "#46039f"
             ],
             [
              0.2222222222222222,
              "#7201a8"
             ],
             [
              0.3333333333333333,
              "#9c179e"
             ],
             [
              0.4444444444444444,
              "#bd3786"
             ],
             [
              0.5555555555555556,
              "#d8576b"
             ],
             [
              0.6666666666666666,
              "#ed7953"
             ],
             [
              0.7777777777777778,
              "#fb9f3a"
             ],
             [
              0.8888888888888888,
              "#fdca26"
             ],
             [
              1,
              "#f0f921"
             ]
            ],
            "type": "contour"
           }
          ],
          "contourcarpet": [
           {
            "colorbar": {
             "outlinewidth": 0,
             "ticks": ""
            },
            "type": "contourcarpet"
           }
          ],
          "heatmap": [
           {
            "colorbar": {
             "outlinewidth": 0,
             "ticks": ""
            },
            "colorscale": [
             [
              0,
              "#0d0887"
             ],
             [
              0.1111111111111111,
              "#46039f"
             ],
             [
              0.2222222222222222,
              "#7201a8"
             ],
             [
              0.3333333333333333,
              "#9c179e"
             ],
             [
              0.4444444444444444,
              "#bd3786"
             ],
             [
              0.5555555555555556,
              "#d8576b"
             ],
             [
              0.6666666666666666,
              "#ed7953"
             ],
             [
              0.7777777777777778,
              "#fb9f3a"
             ],
             [
              0.8888888888888888,
              "#fdca26"
             ],
             [
              1,
              "#f0f921"
             ]
            ],
            "type": "heatmap"
           }
          ],
          "heatmapgl": [
           {
            "colorbar": {
             "outlinewidth": 0,
             "ticks": ""
            },
            "colorscale": [
             [
              0,
              "#0d0887"
             ],
             [
              0.1111111111111111,
              "#46039f"
             ],
             [
              0.2222222222222222,
              "#7201a8"
             ],
             [
              0.3333333333333333,
              "#9c179e"
             ],
             [
              0.4444444444444444,
              "#bd3786"
             ],
             [
              0.5555555555555556,
              "#d8576b"
             ],
             [
              0.6666666666666666,
              "#ed7953"
             ],
             [
              0.7777777777777778,
              "#fb9f3a"
             ],
             [
              0.8888888888888888,
              "#fdca26"
             ],
             [
              1,
              "#f0f921"
             ]
            ],
            "type": "heatmapgl"
           }
          ],
          "histogram": [
           {
            "marker": {
             "pattern": {
              "fillmode": "overlay",
              "size": 10,
              "solidity": 0.2
             }
            },
            "type": "histogram"
           }
          ],
          "histogram2d": [
           {
            "colorbar": {
             "outlinewidth": 0,
             "ticks": ""
            },
            "colorscale": [
             [
              0,
              "#0d0887"
             ],
             [
              0.1111111111111111,
              "#46039f"
             ],
             [
              0.2222222222222222,
              "#7201a8"
             ],
             [
              0.3333333333333333,
              "#9c179e"
             ],
             [
              0.4444444444444444,
              "#bd3786"
             ],
             [
              0.5555555555555556,
              "#d8576b"
             ],
             [
              0.6666666666666666,
              "#ed7953"
             ],
             [
              0.7777777777777778,
              "#fb9f3a"
             ],
             [
              0.8888888888888888,
              "#fdca26"
             ],
             [
              1,
              "#f0f921"
             ]
            ],
            "type": "histogram2d"
           }
          ],
          "histogram2dcontour": [
           {
            "colorbar": {
             "outlinewidth": 0,
             "ticks": ""
            },
            "colorscale": [
             [
              0,
              "#0d0887"
             ],
             [
              0.1111111111111111,
              "#46039f"
             ],
             [
              0.2222222222222222,
              "#7201a8"
             ],
             [
              0.3333333333333333,
              "#9c179e"
             ],
             [
              0.4444444444444444,
              "#bd3786"
             ],
             [
              0.5555555555555556,
              "#d8576b"
             ],
             [
              0.6666666666666666,
              "#ed7953"
             ],
             [
              0.7777777777777778,
              "#fb9f3a"
             ],
             [
              0.8888888888888888,
              "#fdca26"
             ],
             [
              1,
              "#f0f921"
             ]
            ],
            "type": "histogram2dcontour"
           }
          ],
          "mesh3d": [
           {
            "colorbar": {
             "outlinewidth": 0,
             "ticks": ""
            },
            "type": "mesh3d"
           }
          ],
          "parcoords": [
           {
            "line": {
             "colorbar": {
              "outlinewidth": 0,
              "ticks": ""
             }
            },
            "type": "parcoords"
           }
          ],
          "pie": [
           {
            "automargin": true,
            "type": "pie"
           }
          ],
          "scatter": [
           {
            "fillpattern": {
             "fillmode": "overlay",
             "size": 10,
             "solidity": 0.2
            },
            "type": "scatter"
           }
          ],
          "scatter3d": [
           {
            "line": {
             "colorbar": {
              "outlinewidth": 0,
              "ticks": ""
             }
            },
            "marker": {
             "colorbar": {
              "outlinewidth": 0,
              "ticks": ""
             }
            },
            "type": "scatter3d"
           }
          ],
          "scattercarpet": [
           {
            "marker": {
             "colorbar": {
              "outlinewidth": 0,
              "ticks": ""
             }
            },
            "type": "scattercarpet"
           }
          ],
          "scattergeo": [
           {
            "marker": {
             "colorbar": {
              "outlinewidth": 0,
              "ticks": ""
             }
            },
            "type": "scattergeo"
           }
          ],
          "scattergl": [
           {
            "marker": {
             "colorbar": {
              "outlinewidth": 0,
              "ticks": ""
             }
            },
            "type": "scattergl"
           }
          ],
          "scattermapbox": [
           {
            "marker": {
             "colorbar": {
              "outlinewidth": 0,
              "ticks": ""
             }
            },
            "type": "scattermapbox"
           }
          ],
          "scatterpolar": [
           {
            "marker": {
             "colorbar": {
              "outlinewidth": 0,
              "ticks": ""
             }
            },
            "type": "scatterpolar"
           }
          ],
          "scatterpolargl": [
           {
            "marker": {
             "colorbar": {
              "outlinewidth": 0,
              "ticks": ""
             }
            },
            "type": "scatterpolargl"
           }
          ],
          "scatterternary": [
           {
            "marker": {
             "colorbar": {
              "outlinewidth": 0,
              "ticks": ""
             }
            },
            "type": "scatterternary"
           }
          ],
          "surface": [
           {
            "colorbar": {
             "outlinewidth": 0,
             "ticks": ""
            },
            "colorscale": [
             [
              0,
              "#0d0887"
             ],
             [
              0.1111111111111111,
              "#46039f"
             ],
             [
              0.2222222222222222,
              "#7201a8"
             ],
             [
              0.3333333333333333,
              "#9c179e"
             ],
             [
              0.4444444444444444,
              "#bd3786"
             ],
             [
              0.5555555555555556,
              "#d8576b"
             ],
             [
              0.6666666666666666,
              "#ed7953"
             ],
             [
              0.7777777777777778,
              "#fb9f3a"
             ],
             [
              0.8888888888888888,
              "#fdca26"
             ],
             [
              1,
              "#f0f921"
             ]
            ],
            "type": "surface"
           }
          ],
          "table": [
           {
            "cells": {
             "fill": {
              "color": "#EBF0F8"
             },
             "line": {
              "color": "white"
             }
            },
            "header": {
             "fill": {
              "color": "#C8D4E3"
             },
             "line": {
              "color": "white"
             }
            },
            "type": "table"
           }
          ]
         },
         "layout": {
          "annotationdefaults": {
           "arrowcolor": "#2a3f5f",
           "arrowhead": 0,
           "arrowwidth": 1
          },
          "autotypenumbers": "strict",
          "coloraxis": {
           "colorbar": {
            "outlinewidth": 0,
            "ticks": ""
           }
          },
          "colorscale": {
           "diverging": [
            [
             0,
             "#8e0152"
            ],
            [
             0.1,
             "#c51b7d"
            ],
            [
             0.2,
             "#de77ae"
            ],
            [
             0.3,
             "#f1b6da"
            ],
            [
             0.4,
             "#fde0ef"
            ],
            [
             0.5,
             "#f7f7f7"
            ],
            [
             0.6,
             "#e6f5d0"
            ],
            [
             0.7,
             "#b8e186"
            ],
            [
             0.8,
             "#7fbc41"
            ],
            [
             0.9,
             "#4d9221"
            ],
            [
             1,
             "#276419"
            ]
           ],
           "sequential": [
            [
             0,
             "#0d0887"
            ],
            [
             0.1111111111111111,
             "#46039f"
            ],
            [
             0.2222222222222222,
             "#7201a8"
            ],
            [
             0.3333333333333333,
             "#9c179e"
            ],
            [
             0.4444444444444444,
             "#bd3786"
            ],
            [
             0.5555555555555556,
             "#d8576b"
            ],
            [
             0.6666666666666666,
             "#ed7953"
            ],
            [
             0.7777777777777778,
             "#fb9f3a"
            ],
            [
             0.8888888888888888,
             "#fdca26"
            ],
            [
             1,
             "#f0f921"
            ]
           ],
           "sequentialminus": [
            [
             0,
             "#0d0887"
            ],
            [
             0.1111111111111111,
             "#46039f"
            ],
            [
             0.2222222222222222,
             "#7201a8"
            ],
            [
             0.3333333333333333,
             "#9c179e"
            ],
            [
             0.4444444444444444,
             "#bd3786"
            ],
            [
             0.5555555555555556,
             "#d8576b"
            ],
            [
             0.6666666666666666,
             "#ed7953"
            ],
            [
             0.7777777777777778,
             "#fb9f3a"
            ],
            [
             0.8888888888888888,
             "#fdca26"
            ],
            [
             1,
             "#f0f921"
            ]
           ]
          },
          "colorway": [
           "#636efa",
           "#EF553B",
           "#00cc96",
           "#ab63fa",
           "#FFA15A",
           "#19d3f3",
           "#FF6692",
           "#B6E880",
           "#FF97FF",
           "#FECB52"
          ],
          "font": {
           "color": "#2a3f5f"
          },
          "geo": {
           "bgcolor": "white",
           "lakecolor": "white",
           "landcolor": "#E5ECF6",
           "showlakes": true,
           "showland": true,
           "subunitcolor": "white"
          },
          "hoverlabel": {
           "align": "left"
          },
          "hovermode": "closest",
          "mapbox": {
           "style": "light"
          },
          "paper_bgcolor": "white",
          "plot_bgcolor": "#E5ECF6",
          "polar": {
           "angularaxis": {
            "gridcolor": "white",
            "linecolor": "white",
            "ticks": ""
           },
           "bgcolor": "#E5ECF6",
           "radialaxis": {
            "gridcolor": "white",
            "linecolor": "white",
            "ticks": ""
           }
          },
          "scene": {
           "xaxis": {
            "backgroundcolor": "#E5ECF6",
            "gridcolor": "white",
            "gridwidth": 2,
            "linecolor": "white",
            "showbackground": true,
            "ticks": "",
            "zerolinecolor": "white"
           },
           "yaxis": {
            "backgroundcolor": "#E5ECF6",
            "gridcolor": "white",
            "gridwidth": 2,
            "linecolor": "white",
            "showbackground": true,
            "ticks": "",
            "zerolinecolor": "white"
           },
           "zaxis": {
            "backgroundcolor": "#E5ECF6",
            "gridcolor": "white",
            "gridwidth": 2,
            "linecolor": "white",
            "showbackground": true,
            "ticks": "",
            "zerolinecolor": "white"
           }
          },
          "shapedefaults": {
           "line": {
            "color": "#2a3f5f"
           }
          },
          "ternary": {
           "aaxis": {
            "gridcolor": "white",
            "linecolor": "white",
            "ticks": ""
           },
           "baxis": {
            "gridcolor": "white",
            "linecolor": "white",
            "ticks": ""
           },
           "bgcolor": "#E5ECF6",
           "caxis": {
            "gridcolor": "white",
            "linecolor": "white",
            "ticks": ""
           }
          },
          "title": {
           "x": 0.05
          },
          "xaxis": {
           "automargin": true,
           "gridcolor": "white",
           "linecolor": "white",
           "ticks": "",
           "title": {
            "standoff": 15
           },
           "zerolinecolor": "white",
           "zerolinewidth": 2
          },
          "yaxis": {
           "automargin": true,
           "gridcolor": "white",
           "linecolor": "white",
           "ticks": "",
           "title": {
            "standoff": 15
           },
           "zerolinecolor": "white",
           "zerolinewidth": 2
          }
         }
        },
        "title": {
         "text": "Similarity to 'Guerre en Ukraine' visualised using t-SNE"
        },
        "width": 1000
       }
      }
     },
     "metadata": {},
     "output_type": "display_data"
    }
   ],
   "source": [
    "import plotly.express as px\n",
    "from sklearn.manifold import TSNE\n",
    "\n",
    "# Create a t-SNE model\n",
    "tsne_model = TSNE(\n",
    "    n_components = 3,\n",
    "    perplexity = 15,\n",
    "    random_state = 42,\n",
    "    init = 'random',\n",
    "    learning_rate = 200\n",
    ")\n",
    "tsne_embeddings = tsne_model.fit_transform(embedding_array)\n",
    "\n",
    "# Create a DataFrame for visualisation\n",
    "visualisation_data = pd.DataFrame(\n",
    "    {'x': tsne_embeddings[:, 0],\n",
    "     'y': tsne_embeddings[:, 1],\n",
    "     'z': tsne_embeddings[:, 2],\n",
    "     'title':df['title'],\n",
    "     'Similarity': df['normalised'].round(3)}\n",
    ")\n",
    "\n",
    "# Create the scatter plot using Plotly Express\n",
    "plot = px.scatter_3d(\n",
    "    visualisation_data,\n",
    "    x = 'x',\n",
    "    y = 'y',\n",
    "    z = 'z',\n",
    "    color = 'Similarity',\n",
    "    hover_name='title',\n",
    "    #color_continuous_scale = 'rainbow',\n",
    "    opacity = 0.7,\n",
    "    title = f\"Similarity to '{query}' visualised using t-SNE\"\n",
    ")\n",
    "\n",
    "plot.update_layout(\n",
    "    width = 1000,\n",
    "    height = 650\n",
    ")\n",
    "\n",
    "# Show the plot\n",
    "plot.show()"
   ]
  },
  {
   "cell_type": "code",
   "execution_count": null,
   "id": "3861652e-94a8-4f1a-9853-b4f920c11f99",
   "metadata": {},
   "outputs": [],
   "source": []
  },
  {
   "cell_type": "code",
   "execution_count": null,
   "id": "f46442b6-c2e2-4066-af98-b70d84360f20",
   "metadata": {},
   "outputs": [],
   "source": []
  },
  {
   "cell_type": "code",
   "execution_count": null,
   "id": "9d20e570-7455-46db-8509-9649b0315d08",
   "metadata": {},
   "outputs": [],
   "source": []
  },
  {
   "cell_type": "code",
   "execution_count": null,
   "id": "3551f5d9",
   "metadata": {},
   "outputs": [],
   "source": []
  },
  {
   "cell_type": "code",
   "execution_count": null,
   "id": "1f66ab9c",
   "metadata": {},
   "outputs": [],
   "source": []
  },
  {
   "cell_type": "code",
   "execution_count": null,
   "id": "3bfe51a3",
   "metadata": {},
   "outputs": [],
   "source": []
  }
 ],
 "metadata": {
  "kernelspec": {
   "display_name": "Python 3 (ipykernel)",
   "language": "python",
   "name": "python3"
  },
  "language_info": {
   "codemirror_mode": {
    "name": "ipython",
    "version": 3
   },
   "file_extension": ".py",
   "mimetype": "text/x-python",
   "name": "python",
   "nbconvert_exporter": "python",
   "pygments_lexer": "ipython3",
   "version": "3.10.13"
  }
 },
 "nbformat": 4,
 "nbformat_minor": 5
}
