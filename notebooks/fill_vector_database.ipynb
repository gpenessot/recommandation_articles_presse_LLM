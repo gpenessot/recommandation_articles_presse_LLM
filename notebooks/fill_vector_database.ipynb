{
 "cells": [
  {
   "cell_type": "code",
   "execution_count": 26,
   "id": "ab5bce44-4a11-42cb-9b76-047486e84517",
   "metadata": {},
   "outputs": [],
   "source": [
    "from sentence_transformers import SentenceTransformer\n",
    "from qdrant_client import QdrantClient\n",
    "from qdrant_client import models\n",
    "from qdrant_client.http.models import Distance, VectorParams, PointStruct \n",
    "from qdrant_client.models import Filter\n",
    "from qdrant_client.http import models\n",
    "import numpy as np\n",
    "import pandas as pd\n",
    "import configparser"
   ]
  },
  {
   "cell_type": "code",
   "execution_count": 29,
   "id": "809e6ada-ca61-4d70-8f16-24e53b9bdc2d",
   "metadata": {},
   "outputs": [
    {
     "name": "stderr",
     "output_type": "stream",
     "text": [
      "No sentence-transformers model found with name /home/gael/.cache/torch/sentence_transformers/moussaKam_barthez. Creating a new one with MEAN pooling.\n"
     ]
    }
   ],
   "source": [
    "config=configparser.ConfigParser()\n",
    "config.read('../config/config.cfg')\n",
    "\n",
    "model_name = \"moussaKam/barthez\"\n",
    "encoder = SentenceTransformer(model_name_or_path=model_name)"
   ]
  },
  {
   "cell_type": "code",
   "execution_count": 30,
   "id": "9c7f4e7d-6e69-4c9e-a455-fb6094c1b834",
   "metadata": {},
   "outputs": [],
   "source": [
    "QDRANT_HOST=config['QDRANT']['host']\n",
    "QDRANT_PORT=config['QDRANT']['port']\n",
    "QDRANT_API_KEY=config['QDRANT']['qdrant_api_key']\n",
    "\n",
    "client = QdrantClient(url=QDRANT_HOST, \n",
    "                      port=QDRANT_PORT, \n",
    "                      api_key=QDRANT_API_KEY)"
   ]
  },
  {
   "cell_type": "code",
   "execution_count": 31,
   "id": "1c2b933e-3f69-4921-8158-ffbb283f5faf",
   "metadata": {},
   "outputs": [],
   "source": [
    "df = pd.read_csv('../data/processed/articles.csv', index_col=0, encoding='utf-8')"
   ]
  },
  {
   "cell_type": "code",
   "execution_count": 32,
   "id": "2491d55e-8bf1-46e6-a3c9-8d32d6cce61d",
   "metadata": {},
   "outputs": [],
   "source": [
    "df = df.reset_index()"
   ]
  },
  {
   "cell_type": "code",
   "execution_count": 33,
   "id": "ed07a2e8-6bc6-476c-a050-c584d5ae6d33",
   "metadata": {},
   "outputs": [],
   "source": [
    "df.columns = ['newsId', 'author', 'title', 'publishedAt', 'content']"
   ]
  },
  {
   "cell_type": "code",
   "execution_count": 34,
   "id": "83db350d-ee8d-4aa9-8469-eaeb2042a1ca",
   "metadata": {},
   "outputs": [],
   "source": [
    "def generate_item_sentence(item: pd.Series, text_columns=[\"title\"]) -> str:\n",
    "    return ' '.join([item[column] for column in text_columns])"
   ]
  },
  {
   "cell_type": "code",
   "execution_count": 35,
   "id": "afe6b350-79af-4f09-b0a5-7dd35e6cd9a0",
   "metadata": {},
   "outputs": [],
   "source": [
    "df[\"sentence\"] = df.apply(generate_item_sentence, axis=1)\n",
    "df[\"sentence_embedding\"] = df[\"sentence\"].apply(encoder.encode)"
   ]
  },
  {
   "cell_type": "code",
   "execution_count": null,
   "id": "5f81f4fc-e05a-4fb2-880d-207ec95ffaac",
   "metadata": {},
   "outputs": [],
   "source": [
    "client.create_collection(\n",
    "    collection_name = \"articles_fr_newsapi\",\n",
    "    vectors_config = models.VectorParams(\n",
    "        size = encoder.get_sentence_embedding_dimension(),\n",
    "        distance = models.Distance.COSINE,\n",
    "    ),\n",
    ")"
   ]
  },
  {
   "cell_type": "code",
   "execution_count": 36,
   "id": "4aa532a9-d782-4848-9097-1aa30581290b",
   "metadata": {},
   "outputs": [],
   "source": [
    "metadata_columns = df.drop([\"newsId\", \"sentence\", \"sentence_embedding\"], axis=1).columns\n",
    "\n",
    "def create_vector_point(item:pd.Series) -> PointStruct:\n",
    "    \"\"\"Turn vectors into PointStruct\"\"\"\n",
    "    return PointStruct(\n",
    "        id = item[\"newsId\"],\n",
    "        vector = item[\"sentence_embedding\"].tolist(),\n",
    "        payload = {\n",
    "            field: item[field]\n",
    "            for field in metadata_columns\n",
    "            if (str(item[field]) not in ['None', 'nan'])\n",
    "        }\n",
    "    )\n",
    "\n",
    "points = df.apply(create_vector_point, axis=1).tolist()"
   ]
  },
  {
   "cell_type": "code",
   "execution_count": 37,
   "id": "50a6d88a-95c3-420d-a891-ddee8b4bd0c9",
   "metadata": {},
   "outputs": [],
   "source": [
    "CHUNK_SIZE = 500\n",
    "n_chunks = np.ceil(len(points)/CHUNK_SIZE)\n",
    "\n",
    "for i, points_chunk in enumerate(np.array_split(points, n_chunks)):\n",
    "    client.upsert(\n",
    "        collection_name=\"articles_fr_newsapi\",\n",
    "        wait=True,\n",
    "        points=points_chunk.tolist()\n",
    "    )"
   ]
  },
  {
   "cell_type": "code",
   "execution_count": 38,
   "id": "803badbc-f01b-463a-8c4c-69499d8e6c03",
   "metadata": {},
   "outputs": [],
   "source": [
    "query_text = \"Macron\"\n",
    "query_vector = encoder.encode(query_text).tolist()"
   ]
  },
  {
   "cell_type": "code",
   "execution_count": 39,
   "id": "60af206d-a703-4dbe-9241-a3f993cab0b7",
   "metadata": {},
   "outputs": [
    {
     "data": {
      "text/plain": [
       "[ScoredPoint(id=47, version=4, score=0.4667848, payload={'content': 'La bagnole\\xa0? «\\xa0Moi, je ladore\\xa0!\\xa0», avait déclaré Emmanuel Macron lors dune interview télévisée le 24\\xa0septembre. Cette passion a sans doute incité le chef de lEtat à annoncer lui-même, jeudi 14\\xa0décemb… [+3356 chars]', 'title': 'Voiture électrique\\xa0: une démocratisation difficile'}, vector=None, shard_key=None),\n",
       " ScoredPoint(id=87, version=4, score=0.44700313, payload={'content': 'En\\xa02023, le groupe japonais Toyota a conservé la tête du classement mondial des constructeurs automobiles, avec près de dix millions de voitures vendues. Linformation, qui autrefois aurait fait les g… [+3385 chars]', 'title': 'Automobile\\xa0: une hiérarchie mondiale bousculée'}, vector=None, shard_key=None),\n",
       " ScoredPoint(id=148, version=4, score=0.43773925, payload={'content': 'Les funérailles du Pape émérite Benoît XVI\\r\\nLa dépouille de Joseph Ratzinger, pape de\\xa02005 à\\xa02013, a été exposée dans la basilique Saint-Pierre de Rome.Andreas SOLARO/AFP\\r\\nPour la première fois depui… [+11062 chars]', 'title': '20 photos marquantes de\\xa02023'}, vector=None, shard_key=None),\n",
       " ScoredPoint(id=7, version=4, score=0.42466035, payload={'content': 'Depuis 2017\\xa0et les révélations sur le producteur de cinéma prédateur Harvey Weinstein, la vague qui a libéré la parole des femmes victimes de violences sexistes et sexuelles a aussi bouleversé la man… [+3427 chars]', 'title': 'Depardieu\\xa0: la faute politique du président'}, vector=None, shard_key=None),\n",
       " ScoredPoint(id=23, version=4, score=0.40177518, payload={'content': 'Une figure politique singulière disparaît avec Jacques Delors. Autodidacte formé par le syndicalisme chrétien, humaniste inspiré par le personnalisme engagé du philosophe Emmanuel Mounier, profondéme… [+3259 chars]', 'title': 'Le double héritage de Jacques Delors'}, vector=None, shard_key=None),\n",
       " ScoredPoint(id=132, version=4, score=0.40030602, payload={'content': 'Lautomne 2023\\xa0a vu la résurgence du risque terroriste en France. Deux attentats au couteau ont été commis au nom de lorganisation Etat islamique. Chacun deux pose, à sa manière, le problème de la pré… [+2904 chars]', 'title': 'Prévention du terrorisme\\xa0: l’impossible risque zéro'}, vector=None, shard_key=None),\n",
       " ScoredPoint(id=193, version=4, score=0.3558687, payload={'content': 'Loin des champs de bataille dUkraine, un autre front de la guerre russe se déploie dans les Balkans, où Moscou tente dexploiter les tensions nationalistes contre laspiration des pays de la région à r… [+3208 chars]', 'title': 'Le double jeu dangereux de la Serbie'}, vector=None, shard_key=None),\n",
       " ScoredPoint(id=44, version=4, score=0.35518628, payload={'content': 'Un navire participe à la création dun port côtier nécessaire à la production pétrolière offshore à lembouchure de la rivière Demerara, à Georgetown, la capitale du Guyana, le 11\\xa0avril\\xa02023. MATIAS DE… [+2745 chars]', 'title': 'Le Guyana relance la soif mondiale de pétrole'}, vector=None, shard_key=None),\n",
       " ScoredPoint(id=210, version=4, score=0.3533917, payload={'content': \"Petite révolution au coeur de l'automobile américaine. Les ventes du constructeur sud coréen Hyundai y ont dépassé celles de Stellantis, propriétaire des pourtant iconiques Chrysler, Jeep et autres D… [+332 chars]\", 'title': 'Automobile\\xa0: Stellantis doublé par Hyundai aux Etats-Unis'}, vector=None, shard_key=None),\n",
       " ScoredPoint(id=89, version=4, score=0.34704983, payload={'content': 'Un TGV à quai à la gare du Nord, à Paris, en octobre 2023. MIGUEL MEDINA / AFP\\r\\n«\\xa0Vite, dépêchez-vous, notre train est à quai\\xa0!\\xa0», sexclame une jeune femme, en poussant ses amis vers la foule de voya… [+2938 chars]', 'title': 'SNCF\\xa0: le système\\xa0D des voyageurs face au train cher'}, vector=None, shard_key=None)]"
      ]
     },
     "execution_count": 39,
     "metadata": {},
     "output_type": "execute_result"
    }
   ],
   "source": [
    "client.search(\n",
    "    collection_name=\"articles_fr_newsapi\",\n",
    "    query_vector=query_vector,\n",
    "    with_payload=[\"newsId\", \"title\", \"content\"],\n",
    "    query_filter=None\n",
    ")"
   ]
  },
  {
   "cell_type": "markdown",
   "id": "22f78ab8-145b-432a-b1a6-085c23f77d1b",
   "metadata": {},
   "source": [
    "## Affichage"
   ]
  },
  {
   "cell_type": "code",
   "execution_count": 40,
   "id": "ed2195ac-f396-4f07-a680-e48b2454357b",
   "metadata": {},
   "outputs": [],
   "source": [
    "import numpy as np\n",
    "import ast\n",
    "\n",
    "# Convert embeddings from CSV str type to NumPy Array\n",
    "embedding_array = np.array(\n",
    "    df['sentence_embedding'].to_list()\n",
    ")"
   ]
  },
  {
   "cell_type": "code",
   "execution_count": 41,
   "id": "09890f6a-34ce-4c36-a1a9-af5beb23e4ae",
   "metadata": {},
   "outputs": [],
   "source": [
    "query = \"Guerre en Ukraine\"\n",
    "query_embedding_response = np.array(\n",
    "    encoder.encode(query)\n",
    ")"
   ]
  },
  {
   "cell_type": "code",
   "execution_count": 42,
   "id": "f8e14b2d-9962-443a-9542-68d68068710d",
   "metadata": {},
   "outputs": [],
   "source": [
    "from scipy.spatial.distance import cdist\n",
    "\n",
    "df['distance'] = cdist(\n",
    "    embedding_array,\n",
    "    [query_embedding_response]\n",
    ")"
   ]
  },
  {
   "cell_type": "code",
   "execution_count": 43,
   "id": "9c663685-422b-4418-86a1-9265bbdb0a02",
   "metadata": {},
   "outputs": [],
   "source": [
    "from sklearn.preprocessing import MinMaxScaler\n",
    "\n",
    "scaler = MinMaxScaler()\n",
    "\n",
    "scaler.fit(df[['distance']])\n",
    "\n",
    "df['normalised'] = scaler.transform(df[['distance']])"
   ]
  },
  {
   "cell_type": "code",
   "execution_count": 44,
   "id": "79b77cc5-1a86-453a-aab8-68a86bb2a052",
   "metadata": {},
   "outputs": [
    {
     "data": {
      "application/vnd.plotly.v1+json": {
       "config": {
        "plotlyServerURL": "https://plot.ly"
       },
       "data": [
        {
         "hovertemplate": "<b>%{hovertext}</b><br><br>x=%{x}<br>y=%{y}<br>z=%{z}<br>Similarity=%{marker.color}<extra></extra>",
         "hovertext": [
          "Pour ses voeux aux Français, Emmanuel Macron veut faire de 2024 une « année de détermination »",
          "« L’agrivoltaïsme suppose que l’agriculture conserve une place principale »",
          "Artcurial, Sotheby's, Drouot : les maisons de vente peaufinent leur stratégie de marque",
          "Pour Paris 2024, les chantiers olympiques arrivent dans les temps",
          "La Bulgarie et la Roumanie vont partiellement intégrer l'espace Schengen",
          "Quand la sortie du réveillon est gâchée par le verglas",
          "Paris 2024 : « Quand la magie du sport opère »",
          "Depardieu : la faute politique du président",
          "VIDEO - Pourquoi l'Argentine manifeste contre le « mega-décret » de son nouveau président ?",
          "Vidéo. Les coulisses de notre enquête « Narco Business » sur le trafic de fentanyl des cartels mexicains",
          "Vidéo. A Gaza, des corps enterrés dans des fosses communes, tandis que la riposte israélienne s’intensifie",
          "La Moldavie veut accélérer son rapprochement de l'Union européenne",
          "Les images impressionnantes de l'explosion d'un navire russe dans le port de Feodossia, en Crimée",
          "VIDEO - Pourquoi l'enlisement de la guerre en Ukraine est la meilleure chose qui pouvait arriver à la Russie",
          "VIDEO - Démographie : faire moins d'enfants, est-ce vraiment un problème ?",
          "Google, Apple vs Epic Games : « Le monopole des géants du numérique s’érode trop doucement »",
          "VIDEO - Cet avion militaire américain qui pourrait révolutionner la guerre",
          "Vidéo. Bande de Gaza : avant la guerre, un territoire à l’agonie",
          "Marseille : «On aime ce club, mais pas au point de faire des violences ou des dégradations»",
          "Mal-logement : le parc HLM paralysé par le Covid",
          "Clap de fin pour les magasins Habitat",
          "M&A : Lazard prend la tête d'un classement français très bousculé",
          "Schneider, L'Oréal, Stellantis : les moteurs du CAC 40 ont tourné à plein régime cette année",
          "Le double héritage de Jacques Delors",
          "Impôts : ce qui change pour les ménages en 2024",
          "Pourquoi l’avenir du Moyen-Orient dépend autant d’Israël",
          "« Nous vivons mondialement une économie de casino avec des montages financiers toujours plus complexes »",
          "Grève à la tour Eiffel : le monument fermé au public à l’occasion du centenaire du décès de Gustave Eiffel",
          "Vidéo. Loi « immigration » : le texte consacre-t-il la « préférence nationale », prônée par le Rassemblement national ?",
          "Qui est responsable si des bougies de Noël enflamment la jupe d’une invitée ?",
          "« A travers les légendes sur Jésus, nous arrivons à discerner en filigrane des éléments sur sa véritable existence »",
          "Comment la France a-t-elle été chassée du Sahel ?",
          "Schneider Electric retrouve le club fermé des sociétés valant plus de 100 milliards d'euros",
          "VIDEO - Les images de la croix installée sur la flèche de Notre-Dame de Paris",
          "L'Oréal continue de progresser encore plus vite que le marché de la beauté",
          "Ukraine : « Au sein de l'Otan, nous avons toujours dit que ce serait une guerre longue »",
          "Bruno Le Maire renouvelle son opération séduction à Wall Street",
          "Transport sanitaire : « L’absence de dialogue avec les artisans taxis et de mesures d’accompagnement témoigne d’une gestion technocratique et centralisée »",
          "Le Guyana relance la soif mondiale de pétrole",
          "Carrefour fait une offre sur les magasins de proximité de Casino",
          "Guerre Israël - Hamas : Benyamin Netanyahou sous pression après la mort d'otages tués par des soldats israéliens",
          "Voiture électrique : une démocratisation difficile",
          "Matières premières : « Rayon de soleil pour le miel »",
          "Gaza : Israël s'apprête à inonder les tunnels du Hamas",
          "Vidéo. En images : Bourges, Capitale européenne de la culture en 2028",
          "La guerre Israël-Hamas donne l’occasion à l’Egypte de retrouver une influence diplomatique",
          "Vidéo. En images : à la COP28, un rapport final qui mentionne les énergies fossiles « pour la toute première fois »",
          "Google, Apple vs Epic Games : « Le monople des géants du numérique s’érode trop doucement »",
          "« Dubaï connexion, comment blanchir cinquante millions de dollars » : découvrez le troisième épisode de notre série vidéo « Narco Business »",
          "VIDEO - Armement : les Européens peuvent-ils prendre la main sur leur défense ?",
          "VIDEO - Pourquoi ne fabrique-t-on plus de vélos en France ?",
          "VIDEO - Faut-il vraiment lutter contre l'inflation ?",
          "VIDEO - Pourquoi c'est devenu cool de faire ses courses chez Action ?",
          "Crédit immobilier : les banques repartent à la conquête de nouveaux clients",
          "BFM-TV perd son pari Ruquier face à CNews",
          "Fiscalité : les monnaies numériques dans la ligne de mire",
          "Impôts : la fin de la taxe d'habitation, une manne modeste pour les propriétaires",
          "La France bat son record historique d'exportation d'électricité",
          "A Gaza, la guerre sans fin de Benyamin Nétanyahou",
          "Alimentation : « Les acteurs de la distribution ont un rôle-clé à jouer dans la lutte contre le gaspillage »",
          "Aux origines de la « Terre sainte », ou la lente construction d’une Palestine « mythifiée »",
          "Vidéo. Ukraine : ce que les images disent de la stratégie d’attaque russe des bâtiments civils d’Avdiïvka",
          "Impôts : taxe d'habitation et taxe foncière en 10 questions pratiques",
          "Ces communes qui majorent la taxe d'habitation sur les résidences secondaires",
          "En ces temps tragiques, que nous est-il permis d’espérer ?",
          "La France franchit le cap symbolique du million de voitures électriques",
          "« Gouvernement et secteur privé sont des alliés dans le financement de la R&D, pas des ennemis »",
          "Fusions-acquisitions : un rebond espéré en 2024 après le trou d’air de l’an passé",
          "Automobile : une hiérarchie mondiale bousculée",
          "Immobilier : ces passoires thermiques qui affolent le marché",
          "SNCF : le système D des voyageurs face au train cher",
          "Vidéo. Les coulisses de notre enquête « Narco Business » sur le trafic de fentanyl des cartels mexicains",
          "Disparition de Jacques Delors : pluie d'hommages pour l'artisan de l'Europe",
          "Mort de Jacques Delors, le « tsar de Bruxelles »",
          "Huîtres : la vague d'intoxications alimentaires au norovirus s'étend sur le littoral",
          "Bridgewater, le « Big Brother » du trading mondial, fait face à ses accusateurs",
          "Belarus: The opposition tries to get out of Lukashenko's trap",
          "AI start-ups are booming in San Francisco's 'Cerebral Valley'",
          "'Qatargate': Belgian investigation risks stalling",
          "Flooding in Northern France: 'It's only logical that rainfall will become more frequent and intense'",
          "Between North and South Korea, 2024 begins under high tension",
          "Trop d'eau, étiquetage non conforme… La répression des fraudes épingle des fabricants de beurre",
          "What exactly is Gérard Depardieu accused of?",
          "Un Boeing 737 MAX perd un hublot en plein vol et relance la question de la fiabilité",
          "Canada's carbon tax under threat from all sides",
          "Video. Why Middle East stability revolves around Israel",
          "Video. The year in review: 2023 in six minutes",
          "Video. Why are Ukrainian special forces fighting Russia's Wagner mercenaries in Sudan?",
          "Le M&A mondial signe sa pire année de la décennie",
          "Joseph Stiglitz : « Le résultat des élections aux Etats-Unis dépend des perspectives économiques pour 2024, elles-mêmes liées à l’évolution du conflit au Moyen-Orient »",
          "Le distributeur Grand Frais s’apprête à entrer dans Paris",
          "Chloé Morin : « Pour Emmanuel Macron, le rebond va être de plus en plus difficile »",
          "Avis de gros temps sur la dette des pays en développement",
          "Lutte anticorruption : l’exécutif ne peut être juge et partie",
          "Pour Emmanuel Macron, des voeux 2024 placés sous le signe de la crise politique",
          "Prévention du terrorisme : l’impossible risque zéro",
          "La Chine prise au piège de ses crédits accordés aux pays en développement",
          "Bourse : les 7 chiffres fous des placements en actions",
          "M&A : Lazard prend la tête d'un classement français très bousculé",
          "Européennes 2024 : le camp Macron redoute les effets de la loi immigration",
          "M&A : les prix d'acquisition des PME décrochent",
          "Les dix évènements qui marqueront 2024",
          "Elections européennes : Emmanuel Macron et Marine Le Pen installent leur duel",
          "20 photos marquantes de 2023",
          "Le Japon frappé par un important séisme/tsunami mais sans dégâts majeurs",
          "Elections aux Etats-Unis, Russie, UE… Ces 8 scrutins de 2024 qui pourraient tout changer dans le monde",
          "Le smic augmente de 15 euros à partir du 1ᵉʳ janvier 2024",
          "Immobilier ancien : jusqu'où ira la baisse des prix en France ?",
          "Loi immigration : la CMP a démarré sous haute tension",
          "Loi immigration : la caution pour les étudiants étrangers inquiète universités et grandes écoles",
          "Immobilier : plaidoyer pour une forte baisse des « frais de notaire »",
          "Loi immigration : les points chauds de la négociation entre le gouvernement et LR",
          "Casino : Intermarché et Auchan emportent la mise",
          "Au Moyen-Orient, le risque de l’instabilité s’accroît dangereusement",
          "Fin du bonus à l’achat de voitures électriques en Allemagne : « On peut difficilement faire plus brutal »",
          "« Le législateur devrait proposer une formule de calcul de la participation spécifique pour les entreprises de moins de 50 salariés »",
          "Vincent Bolloré et Vivendi, le coup de sa vie",
          "Améliorer le référendum pour le rendre enfin « démocratiquement correct »",
          "Vidéo. En images : Vladimir Poutine réitère son objectif en Ukraine",
          "Les magasins Casino deviennent un sujet social et politique",
          "Inquiets, les salariés de Casino lancent un préavis de grève",
          "VIDEO - Défense : est-ce que les Européens peuvent reprendre le contrôle de leur sécurité ?",
          "Intermarché contraint de revendre trois Casino trois mois après leur achat",
          "Mort de Jacques Delors, le « tsar de Bruxelles »",
          "Taxe foncière : la facture va encore s'alourdir en 2024",
          "Impôts : ce qui change pour les entreprises en 2024",
          "Le double jeu dangereux de la Serbie",
          "Dans les palaces, les nouvelles frontières de l’hyperluxe",
          "Vidéo. Le Sénégal manque de poisson (mais il y a peut-être une solution)",
          "Impôt : coup de pouce supplémentaire aux attributions gratuites d'actions (AGA)",
          "Impôts : la taxe foncière pèse moins sur les riches propriétaires",
          "Impôt : zoom sur les avantages du plan de partage de la valorisation de l'entreprise (PPVE)",
          "« Le système de financement de la santé risque d’imploser en 2024 en France »",
          "Rolls-Royce a battu un nouveau record de ventes en 2023",
          "Automobile : Stellantis doublé par Hyundai aux Etats-Unis",
          "Le patronat allemand alerte sur la montée de l'extrême droite",
          "Inondations dans le Pas-de-Calais : un cas d’école",
          "Economie française : « Tentons d’imaginer 2024 comme porteuse de bonnes surprises »",
          "Défense : l’industrie française menacée par de nouveaux concurrents",
          "En ces temps tragiques, que nous est-il permis d’espérer ?",
          "VIDEO - « Dès qu'il pleut, on a peur » : le Pas-de-Calais placé en vigilance rouge aux crues",
          "VIDEO - Au Japon, un bilan humain et matériel qui s'alourdit après le séisme",
          "Vidéo. En images : l’Ukraine touchée par « un nombre record de missiles » lancés par la Russie",
          "Pourquoi l’avenir du Moyen-Orient dépend autant d’Israël",
          "Toyota assuré de rester premier constructeur automobile mondial en 2023",
          "Comment Stellantis a finalement réussi à convaincre la Bourse",
          "Un pick-up hydrogène : la réponse de Stellantis au Cybertruck de Tesla",
          "Trois ans après le Brexit, la City continue de transférer des emplois vers l'Europe",
          "Inflation : Pepsi, 7up, Lay's… Carrefour boycotte PepsiCo, Leclerc « tenté » de suivre",
          "Israël : le désaveu de la Cour suprême",
          "Légère remontée de l'inflation en France en décembre à 3,7 %",
          "Dès aujourd’hui, les grands patrons britanniques ont gagné autant qu’un salarié moyen en un an",
          "Livret A, LEP, PEL… les nouveaux taux de l'épargne réglementée",
          "« La transparence sur les informations sociales et environnementales incite les entreprises à mener une réflexion stratégique au service de leur pérennité »",
          "Le gouvernement veut s'attaquer à la « shrinkflation », l'inflation masquée en supermarché",
          "Patrick Artus : « Le reflux de l'inflation sera moins fort qu'annoncé »",
          "Vidéo. Les images de l’embrasement de l’avion de la Japan Airlines à Tokyo-Haneda",
          "« La City de Londres s’intéresse de très près au Labour britannique et ce dernier fait tout pour lui plaire »",
          "Vidéo. En images : le Japon touché par un important séisme",
          "« La France du “mais quand même…”, sans cesse occupée à négocier une exception à la règle, complique le vivre-ensemble »",
          "Israël devrait disposer d'un canon laser dès 2024",
          "Trains annulés : grosse pagaille pour des milliers de passagers d'Eurostar avant le nouvel An",
          "Le trafic Eurostar en provenance et vers Londres reprendra de manière normale dimanche après une journée d’annulations complète",
          "Les villes maintiennent leurs efforts pour réduire leurs factures d'énergie",
          "Dominique Méda, sociologue : « Confirmer le tournant social de l’Union européenne est la meilleure manière de rendre moins attractifs les discours de l’extrême droite »",
          "Pourquoi l’avenir du Moyen-Orient dépend autant d’Israël"
         ],
         "legendgroup": "",
         "marker": {
          "color": [
           0.606,
           0.536,
           0.755,
           0.545,
           0.445,
           0.295,
           0.221,
           0.098,
           0.417,
           0.346,
           0.456,
           0.298,
           0.496,
           0.403,
           0.44,
           0.338,
           0.381,
           0.127,
           0.497,
           0.388,
           0.419,
           0.494,
           0.516,
           0.191,
           0.372,
           0.458,
           0.491,
           0.462,
           0.497,
           0.371,
           0.453,
           0.471,
           0.508,
           0.559,
           0.756,
           0.472,
           0.356,
           0.592,
           0.15,
           0.379,
           0.433,
           0.097,
           0.098,
           0.521,
           0.227,
           0.473,
           0.369,
           0.368,
           0.443,
           0.479,
           0.52,
           0.49,
           0.574,
           0.387,
           0.551,
           0.259,
           0.554,
           0.454,
           0.306,
           0.564,
           0.467,
           0.278,
           0.503,
           0.695,
           0.616,
           0.486,
           0.562,
           0.49,
           0,
           0.429,
           0.22,
           0.346,
           0.558,
           0.38,
           0.506,
           0.368,
           0.766,
           0.876,
           0.862,
           0.924,
           1,
           0.502,
           0.932,
           0.627,
           0.918,
           0.674,
           0.367,
           0.829,
           0.604,
           0.525,
           0.608,
           0.391,
           0.104,
           0.392,
           0.49,
           0.143,
           0.327,
           0.239,
           0.494,
           0.388,
           0.337,
           0.717,
           0.616,
           0.112,
           0.54,
           0.504,
           0.722,
           0.436,
           0.201,
           0.382,
           0.352,
           0.411,
           0.523,
           0.584,
           0.478,
           0.582,
           0.307,
           0.32,
           0.135,
           0.335,
           0.759,
           0.324,
           0.456,
           0.38,
           0.532,
           0.385,
           0.244,
           0.467,
           0.396,
           0.519,
           0.398,
           0.463,
           0.481,
           0.609,
           0.131,
           0.496,
           0.437,
           0.429,
           0.383,
           0.616,
           0.551,
           0.624,
           0.325,
           0.458,
           0.578,
           0.389,
           0.309,
           0.454,
           0.592,
           0.439,
           0.5,
           0.575,
           0.745,
           0.563,
           0.564,
           0.617,
           0.496,
           0.674,
           0.22,
           0.452,
           0.482,
           0.643,
           0.622,
           0.524,
           0.534,
           0.458
          ],
          "coloraxis": "coloraxis",
          "opacity": 0.7,
          "symbol": "circle"
         },
         "mode": "markers",
         "name": "",
         "scene": "scene",
         "showlegend": false,
         "type": "scatter3d",
         "x": [
          -107.29183,
          1.6309241,
          -78.43434,
          -101.59723,
          -65.00907,
          83.90509,
          58.215004,
          34.963367,
          -126.45308,
          -144.42752,
          38.47377,
          80.81048,
          123.387764,
          117.362434,
          -61.7315,
          30.678179,
          87.561134,
          7.9283,
          113.973854,
          -126.53842,
          -17.268255,
          -131.03175,
          -89.16663,
          -46.96513,
          67.023125,
          46.351215,
          18.798376,
          137.68678,
          55.924862,
          28.497896,
          -38.21149,
          143.06306,
          -57.04927,
          100.685104,
          -88.93122,
          126.35605,
          45.31513,
          -37.31257,
          -16.809824,
          14.453801,
          -13.789317,
          33.866386,
          33.455082,
          -25.159132,
          24.89193,
          66.4382,
          1.0439197,
          -191.63565,
          7.849637,
          79.35217,
          -120.182,
          84.52849,
          195.11903,
          -113.6307,
          81.04412,
          -14.29042,
          -10.589233,
          -115.57254,
          2.7098184,
          -117.42478,
          0.043638147,
          168.45744,
          -166.95091,
          -174.24226,
          98.1481,
          -87.230965,
          -21.387693,
          -54.3542,
          -133.62416,
          -122.07396,
          53.59585,
          24.037195,
          29.049341,
          144.13878,
          119.89816,
          71.74235,
          -64.28353,
          -43.074497,
          -70.70362,
          152.95485,
          -22.053349,
          39.842487,
          -22.42567,
          -44.753258,
          29.303541,
          -27.423405,
          -71.85319,
          47.729755,
          -144.15407,
          -48.249043,
          47.82636,
          88.521,
          -69.18146,
          -45.413857,
          165.56937,
          -11.197427,
          -75.139725,
          -109.85196,
          118.91136,
          25.792927,
          -65.556725,
          -96.51326,
          148.0308,
          -98.3292,
          84.19228,
          -53.710175,
          -226.55641,
          -98.01185,
          10.658298,
          -23.94106,
          -111.2181,
          -134.9397,
          -103.93126,
          11.117437,
          75.85146,
          8.473185,
          69.349785,
          94.170166,
          111.48465,
          28.044006,
          45.477623,
          91.67458,
          7.613061,
          -89.08419,
          -177.02284,
          -155.17749,
          14.957197,
          -19.652376,
          65.20993,
          55.789562,
          5.3796973,
          -86.260445,
          -73.5034,
          93.45414,
          -53.93017,
          26.82386,
          13.118434,
          -50.015434,
          -50.82482,
          109.10817,
          -71.49858,
          67.540085,
          -51.26744,
          113.039154,
          -58.99122,
          95.3472,
          -153.38095,
          3.6216245,
          -4.5917063,
          -27.921026,
          -76.48688,
          -5.449085,
          -153.75049,
          -214.19864,
          24.289505,
          178.81885,
          -172.10542,
          -78.46125,
          49.949272,
          -13.304256,
          -52.837685,
          162.65765,
          136.8806,
          -177.2786,
          -135.2597,
          34.475
         ],
         "y": [
          48.55784,
          -52.622612,
          -166.07018,
          100.681206,
          170.00313,
          -59.90594,
          -22.655687,
          43.511414,
          37.16178,
          135.81274,
          108.47282,
          154.09218,
          6.9757643,
          68.45662,
          -35.768394,
          -71.068054,
          -40.633793,
          94.43192,
          -32.00715,
          -22.220844,
          2.5515535,
          86.32951,
          -49.28076,
          100.72244,
          161.48146,
          -137.72353,
          -9.940183,
          71.72196,
          42.98943,
          -70.54101,
          -2.8856695,
          -100.87998,
          -81.09497,
          129.91072,
          173.70944,
          24.883318,
          80.901566,
          -81.341415,
          65.410995,
          102.00486,
          156.28905,
          131.51987,
          -26.93479,
          -68.81606,
          -23.571714,
          81.43553,
          160.42986,
          -611.51996,
          -26.541962,
          21.399412,
          -43.78225,
          -75.797874,
          27.758816,
          -33.47841,
          79.83397,
          -9.123995,
          124.117775,
          94.16615,
          133.26318,
          -98.18352,
          94.138084,
          -1.8924506,
          -3.0329025,
          28.769999,
          -113.70005,
          -109.47656,
          -47.47251,
          -19.55595,
          -118.7313,
          -9.2056265,
          -1.6321502,
          -3.3520005,
          200.67422,
          -68.045494,
          -136.07532,
          101.88767,
          -70.57426,
          -141.5709,
          -76.68953,
          107.329384,
          -93.59495,
          -119.677124,
          -53.160446,
          88.93394,
          79.86297,
          -110.523506,
          -121.53932,
          136.98213,
          99.84215,
          -2.116542,
          -117.20422,
          1.4043943,
          55.758755,
          14.469375,
          -43.39947,
          50.981815,
          77.76644,
          13.327417,
          -42.38791,
          32.30309,
          -9.695612,
          31.750647,
          29.098892,
          9.543035,
          -141.44188,
          51.578354,
          -27.6055,
          -46.909313,
          34.44802,
          28.33607,
          -64.906784,
          -112.54801,
          11.387887,
          5.5674367,
          -12.893965,
          -109.94541,
          51.761456,
          44.445534,
          -23.387133,
          -13.982243,
          -51.7448,
          39.50901,
          -97.24314,
          112.212555,
          -58.706017,
          -21.819742,
          57.50316,
          -143.47954,
          -61.89385,
          -50.401726,
          150.89508,
          52.65469,
          -48.332176,
          23.193401,
          65.00621,
          72.68168,
          -182.84244,
          9.543069,
          111.805466,
          -126.13855,
          169.92934,
          -179.17009,
          -136.14738,
          86.02943,
          113.79634,
          72.354195,
          43.158173,
          17.092247,
          -111.84168,
          106.51502,
          158.88611,
          -184.37627,
          -60.673878,
          -23.061766,
          -95.73375,
          -35.946064,
          29.850895,
          -154.9757,
          -149.91112,
          -161.67572,
          -94.18749,
          34.78666,
          10.011411,
          70.84508,
          -401.8545,
          45.081947
         ],
         "z": [
          137.4747,
          101.3231,
          0.21169668,
          119.36879,
          103.778915,
          -45.149475,
          -51.676285,
          -109.08559,
          -112.39914,
          -10.755688,
          44.75399,
          69.07594,
          -68.30874,
          32.438828,
          -170.57753,
          -66.60756,
          -114.33607,
          54.448917,
          74.53977,
          101.26319,
          -86.89362,
          58.38907,
          145.63101,
          12.778683,
          -63.91632,
          82.45927,
          191.33878,
          -91.43666,
          54.551754,
          -8.697463,
          56.85414,
          -1.9865725,
          -25.64138,
          3.9430146,
          -27.671509,
          64.138824,
          -54.744,
          105.54631,
          -90.33719,
          -187.52415,
          1.8762583,
          -23.505993,
          -2.2590537,
          28.073713,
          -55.49473,
          103.17941,
          83.23318,
          -104.114334,
          38.161095,
          -13.41733,
          -140.08226,
          22.03505,
          29.658878,
          -34.37149,
          -158.06483,
          -29.977947,
          -73.55264,
          -45.212948,
          34.86418,
          102.382286,
          106.99527,
          -62.070198,
          -6.9316072,
          -38.76113,
          106.31725,
          -33.85675,
          167.4389,
          0.57987076,
          -81.309166,
          -75.3321,
          -104.332245,
          66.56831,
          21.410215,
          -84.78362,
          51.051476,
          -101.94629,
          -90.923515,
          -83.71923,
          -130.19028,
          -32.5249,
          -84.620186,
          -57.43994,
          -118.81427,
          171.58595,
          175.66925,
          -128.24403,
          -109.916435,
          130.23186,
          -89.48647,
          110.58369,
          -127.47113,
          91.926926,
          -87.09612,
          164.58195,
          -5.686484,
          55.80786,
          -109.438835,
          -23.197182,
          137.56706,
          3.4930217,
          -49.44148,
          70.015755,
          -10.192151,
          38.26431,
          -3.7597964,
          96.36292,
          -5.986254,
          4.546755,
          -45.940056,
          -4.4764485,
          30.691723,
          5.002976,
          -170.94354,
          127.236946,
          47.088253,
          126.49788,
          -92.46503,
          149.10269,
          -8.440088,
          -143.67961,
          -188.22311,
          9.680625,
          193.27258,
          21.50625,
          10.955978,
          47.983,
          -134.3951,
          53.458023,
          78.36599,
          148.66655,
          -85.99742,
          7.520143,
          75.58187,
          -185.53563,
          -35.881012,
          -1.3352051,
          -72.8945,
          -124.76477,
          78.542076,
          -61.187428,
          35.600952,
          -15.735215,
          126.375916,
          95.58012,
          -46.05991,
          -25.95869,
          32.06171,
          -194.82823,
          -26.67112,
          -143.75577,
          -95.50078,
          100.5502,
          -55.280537,
          -73.109314,
          47.10325,
          69.50787,
          100.382454,
          64.30286,
          8.553296,
          3.0344377,
          38.81393,
          120.99434,
          -131.866,
          -21.007782,
          140.39532,
          114.45941
         ]
        }
       ],
       "layout": {
        "coloraxis": {
         "colorbar": {
          "title": {
           "text": "Similarity"
          }
         },
         "colorscale": [
          [
           0,
           "#0d0887"
          ],
          [
           0.1111111111111111,
           "#46039f"
          ],
          [
           0.2222222222222222,
           "#7201a8"
          ],
          [
           0.3333333333333333,
           "#9c179e"
          ],
          [
           0.4444444444444444,
           "#bd3786"
          ],
          [
           0.5555555555555556,
           "#d8576b"
          ],
          [
           0.6666666666666666,
           "#ed7953"
          ],
          [
           0.7777777777777778,
           "#fb9f3a"
          ],
          [
           0.8888888888888888,
           "#fdca26"
          ],
          [
           1,
           "#f0f921"
          ]
         ]
        },
        "height": 650,
        "legend": {
         "tracegroupgap": 0
        },
        "scene": {
         "domain": {
          "x": [
           0,
           1
          ],
          "y": [
           0,
           1
          ]
         },
         "xaxis": {
          "title": {
           "text": "x"
          }
         },
         "yaxis": {
          "title": {
           "text": "y"
          }
         },
         "zaxis": {
          "title": {
           "text": "z"
          }
         }
        },
        "template": {
         "data": {
          "bar": [
           {
            "error_x": {
             "color": "#2a3f5f"
            },
            "error_y": {
             "color": "#2a3f5f"
            },
            "marker": {
             "line": {
              "color": "#E5ECF6",
              "width": 0.5
             },
             "pattern": {
              "fillmode": "overlay",
              "size": 10,
              "solidity": 0.2
             }
            },
            "type": "bar"
           }
          ],
          "barpolar": [
           {
            "marker": {
             "line": {
              "color": "#E5ECF6",
              "width": 0.5
             },
             "pattern": {
              "fillmode": "overlay",
              "size": 10,
              "solidity": 0.2
             }
            },
            "type": "barpolar"
           }
          ],
          "carpet": [
           {
            "aaxis": {
             "endlinecolor": "#2a3f5f",
             "gridcolor": "white",
             "linecolor": "white",
             "minorgridcolor": "white",
             "startlinecolor": "#2a3f5f"
            },
            "baxis": {
             "endlinecolor": "#2a3f5f",
             "gridcolor": "white",
             "linecolor": "white",
             "minorgridcolor": "white",
             "startlinecolor": "#2a3f5f"
            },
            "type": "carpet"
           }
          ],
          "choropleth": [
           {
            "colorbar": {
             "outlinewidth": 0,
             "ticks": ""
            },
            "type": "choropleth"
           }
          ],
          "contour": [
           {
            "colorbar": {
             "outlinewidth": 0,
             "ticks": ""
            },
            "colorscale": [
             [
              0,
              "#0d0887"
             ],
             [
              0.1111111111111111,
              "#46039f"
             ],
             [
              0.2222222222222222,
              "#7201a8"
             ],
             [
              0.3333333333333333,
              "#9c179e"
             ],
             [
              0.4444444444444444,
              "#bd3786"
             ],
             [
              0.5555555555555556,
              "#d8576b"
             ],
             [
              0.6666666666666666,
              "#ed7953"
             ],
             [
              0.7777777777777778,
              "#fb9f3a"
             ],
             [
              0.8888888888888888,
              "#fdca26"
             ],
             [
              1,
              "#f0f921"
             ]
            ],
            "type": "contour"
           }
          ],
          "contourcarpet": [
           {
            "colorbar": {
             "outlinewidth": 0,
             "ticks": ""
            },
            "type": "contourcarpet"
           }
          ],
          "heatmap": [
           {
            "colorbar": {
             "outlinewidth": 0,
             "ticks": ""
            },
            "colorscale": [
             [
              0,
              "#0d0887"
             ],
             [
              0.1111111111111111,
              "#46039f"
             ],
             [
              0.2222222222222222,
              "#7201a8"
             ],
             [
              0.3333333333333333,
              "#9c179e"
             ],
             [
              0.4444444444444444,
              "#bd3786"
             ],
             [
              0.5555555555555556,
              "#d8576b"
             ],
             [
              0.6666666666666666,
              "#ed7953"
             ],
             [
              0.7777777777777778,
              "#fb9f3a"
             ],
             [
              0.8888888888888888,
              "#fdca26"
             ],
             [
              1,
              "#f0f921"
             ]
            ],
            "type": "heatmap"
           }
          ],
          "heatmapgl": [
           {
            "colorbar": {
             "outlinewidth": 0,
             "ticks": ""
            },
            "colorscale": [
             [
              0,
              "#0d0887"
             ],
             [
              0.1111111111111111,
              "#46039f"
             ],
             [
              0.2222222222222222,
              "#7201a8"
             ],
             [
              0.3333333333333333,
              "#9c179e"
             ],
             [
              0.4444444444444444,
              "#bd3786"
             ],
             [
              0.5555555555555556,
              "#d8576b"
             ],
             [
              0.6666666666666666,
              "#ed7953"
             ],
             [
              0.7777777777777778,
              "#fb9f3a"
             ],
             [
              0.8888888888888888,
              "#fdca26"
             ],
             [
              1,
              "#f0f921"
             ]
            ],
            "type": "heatmapgl"
           }
          ],
          "histogram": [
           {
            "marker": {
             "pattern": {
              "fillmode": "overlay",
              "size": 10,
              "solidity": 0.2
             }
            },
            "type": "histogram"
           }
          ],
          "histogram2d": [
           {
            "colorbar": {
             "outlinewidth": 0,
             "ticks": ""
            },
            "colorscale": [
             [
              0,
              "#0d0887"
             ],
             [
              0.1111111111111111,
              "#46039f"
             ],
             [
              0.2222222222222222,
              "#7201a8"
             ],
             [
              0.3333333333333333,
              "#9c179e"
             ],
             [
              0.4444444444444444,
              "#bd3786"
             ],
             [
              0.5555555555555556,
              "#d8576b"
             ],
             [
              0.6666666666666666,
              "#ed7953"
             ],
             [
              0.7777777777777778,
              "#fb9f3a"
             ],
             [
              0.8888888888888888,
              "#fdca26"
             ],
             [
              1,
              "#f0f921"
             ]
            ],
            "type": "histogram2d"
           }
          ],
          "histogram2dcontour": [
           {
            "colorbar": {
             "outlinewidth": 0,
             "ticks": ""
            },
            "colorscale": [
             [
              0,
              "#0d0887"
             ],
             [
              0.1111111111111111,
              "#46039f"
             ],
             [
              0.2222222222222222,
              "#7201a8"
             ],
             [
              0.3333333333333333,
              "#9c179e"
             ],
             [
              0.4444444444444444,
              "#bd3786"
             ],
             [
              0.5555555555555556,
              "#d8576b"
             ],
             [
              0.6666666666666666,
              "#ed7953"
             ],
             [
              0.7777777777777778,
              "#fb9f3a"
             ],
             [
              0.8888888888888888,
              "#fdca26"
             ],
             [
              1,
              "#f0f921"
             ]
            ],
            "type": "histogram2dcontour"
           }
          ],
          "mesh3d": [
           {
            "colorbar": {
             "outlinewidth": 0,
             "ticks": ""
            },
            "type": "mesh3d"
           }
          ],
          "parcoords": [
           {
            "line": {
             "colorbar": {
              "outlinewidth": 0,
              "ticks": ""
             }
            },
            "type": "parcoords"
           }
          ],
          "pie": [
           {
            "automargin": true,
            "type": "pie"
           }
          ],
          "scatter": [
           {
            "fillpattern": {
             "fillmode": "overlay",
             "size": 10,
             "solidity": 0.2
            },
            "type": "scatter"
           }
          ],
          "scatter3d": [
           {
            "line": {
             "colorbar": {
              "outlinewidth": 0,
              "ticks": ""
             }
            },
            "marker": {
             "colorbar": {
              "outlinewidth": 0,
              "ticks": ""
             }
            },
            "type": "scatter3d"
           }
          ],
          "scattercarpet": [
           {
            "marker": {
             "colorbar": {
              "outlinewidth": 0,
              "ticks": ""
             }
            },
            "type": "scattercarpet"
           }
          ],
          "scattergeo": [
           {
            "marker": {
             "colorbar": {
              "outlinewidth": 0,
              "ticks": ""
             }
            },
            "type": "scattergeo"
           }
          ],
          "scattergl": [
           {
            "marker": {
             "colorbar": {
              "outlinewidth": 0,
              "ticks": ""
             }
            },
            "type": "scattergl"
           }
          ],
          "scattermapbox": [
           {
            "marker": {
             "colorbar": {
              "outlinewidth": 0,
              "ticks": ""
             }
            },
            "type": "scattermapbox"
           }
          ],
          "scatterpolar": [
           {
            "marker": {
             "colorbar": {
              "outlinewidth": 0,
              "ticks": ""
             }
            },
            "type": "scatterpolar"
           }
          ],
          "scatterpolargl": [
           {
            "marker": {
             "colorbar": {
              "outlinewidth": 0,
              "ticks": ""
             }
            },
            "type": "scatterpolargl"
           }
          ],
          "scatterternary": [
           {
            "marker": {
             "colorbar": {
              "outlinewidth": 0,
              "ticks": ""
             }
            },
            "type": "scatterternary"
           }
          ],
          "surface": [
           {
            "colorbar": {
             "outlinewidth": 0,
             "ticks": ""
            },
            "colorscale": [
             [
              0,
              "#0d0887"
             ],
             [
              0.1111111111111111,
              "#46039f"
             ],
             [
              0.2222222222222222,
              "#7201a8"
             ],
             [
              0.3333333333333333,
              "#9c179e"
             ],
             [
              0.4444444444444444,
              "#bd3786"
             ],
             [
              0.5555555555555556,
              "#d8576b"
             ],
             [
              0.6666666666666666,
              "#ed7953"
             ],
             [
              0.7777777777777778,
              "#fb9f3a"
             ],
             [
              0.8888888888888888,
              "#fdca26"
             ],
             [
              1,
              "#f0f921"
             ]
            ],
            "type": "surface"
           }
          ],
          "table": [
           {
            "cells": {
             "fill": {
              "color": "#EBF0F8"
             },
             "line": {
              "color": "white"
             }
            },
            "header": {
             "fill": {
              "color": "#C8D4E3"
             },
             "line": {
              "color": "white"
             }
            },
            "type": "table"
           }
          ]
         },
         "layout": {
          "annotationdefaults": {
           "arrowcolor": "#2a3f5f",
           "arrowhead": 0,
           "arrowwidth": 1
          },
          "autotypenumbers": "strict",
          "coloraxis": {
           "colorbar": {
            "outlinewidth": 0,
            "ticks": ""
           }
          },
          "colorscale": {
           "diverging": [
            [
             0,
             "#8e0152"
            ],
            [
             0.1,
             "#c51b7d"
            ],
            [
             0.2,
             "#de77ae"
            ],
            [
             0.3,
             "#f1b6da"
            ],
            [
             0.4,
             "#fde0ef"
            ],
            [
             0.5,
             "#f7f7f7"
            ],
            [
             0.6,
             "#e6f5d0"
            ],
            [
             0.7,
             "#b8e186"
            ],
            [
             0.8,
             "#7fbc41"
            ],
            [
             0.9,
             "#4d9221"
            ],
            [
             1,
             "#276419"
            ]
           ],
           "sequential": [
            [
             0,
             "#0d0887"
            ],
            [
             0.1111111111111111,
             "#46039f"
            ],
            [
             0.2222222222222222,
             "#7201a8"
            ],
            [
             0.3333333333333333,
             "#9c179e"
            ],
            [
             0.4444444444444444,
             "#bd3786"
            ],
            [
             0.5555555555555556,
             "#d8576b"
            ],
            [
             0.6666666666666666,
             "#ed7953"
            ],
            [
             0.7777777777777778,
             "#fb9f3a"
            ],
            [
             0.8888888888888888,
             "#fdca26"
            ],
            [
             1,
             "#f0f921"
            ]
           ],
           "sequentialminus": [
            [
             0,
             "#0d0887"
            ],
            [
             0.1111111111111111,
             "#46039f"
            ],
            [
             0.2222222222222222,
             "#7201a8"
            ],
            [
             0.3333333333333333,
             "#9c179e"
            ],
            [
             0.4444444444444444,
             "#bd3786"
            ],
            [
             0.5555555555555556,
             "#d8576b"
            ],
            [
             0.6666666666666666,
             "#ed7953"
            ],
            [
             0.7777777777777778,
             "#fb9f3a"
            ],
            [
             0.8888888888888888,
             "#fdca26"
            ],
            [
             1,
             "#f0f921"
            ]
           ]
          },
          "colorway": [
           "#636efa",
           "#EF553B",
           "#00cc96",
           "#ab63fa",
           "#FFA15A",
           "#19d3f3",
           "#FF6692",
           "#B6E880",
           "#FF97FF",
           "#FECB52"
          ],
          "font": {
           "color": "#2a3f5f"
          },
          "geo": {
           "bgcolor": "white",
           "lakecolor": "white",
           "landcolor": "#E5ECF6",
           "showlakes": true,
           "showland": true,
           "subunitcolor": "white"
          },
          "hoverlabel": {
           "align": "left"
          },
          "hovermode": "closest",
          "mapbox": {
           "style": "light"
          },
          "paper_bgcolor": "white",
          "plot_bgcolor": "#E5ECF6",
          "polar": {
           "angularaxis": {
            "gridcolor": "white",
            "linecolor": "white",
            "ticks": ""
           },
           "bgcolor": "#E5ECF6",
           "radialaxis": {
            "gridcolor": "white",
            "linecolor": "white",
            "ticks": ""
           }
          },
          "scene": {
           "xaxis": {
            "backgroundcolor": "#E5ECF6",
            "gridcolor": "white",
            "gridwidth": 2,
            "linecolor": "white",
            "showbackground": true,
            "ticks": "",
            "zerolinecolor": "white"
           },
           "yaxis": {
            "backgroundcolor": "#E5ECF6",
            "gridcolor": "white",
            "gridwidth": 2,
            "linecolor": "white",
            "showbackground": true,
            "ticks": "",
            "zerolinecolor": "white"
           },
           "zaxis": {
            "backgroundcolor": "#E5ECF6",
            "gridcolor": "white",
            "gridwidth": 2,
            "linecolor": "white",
            "showbackground": true,
            "ticks": "",
            "zerolinecolor": "white"
           }
          },
          "shapedefaults": {
           "line": {
            "color": "#2a3f5f"
           }
          },
          "ternary": {
           "aaxis": {
            "gridcolor": "white",
            "linecolor": "white",
            "ticks": ""
           },
           "baxis": {
            "gridcolor": "white",
            "linecolor": "white",
            "ticks": ""
           },
           "bgcolor": "#E5ECF6",
           "caxis": {
            "gridcolor": "white",
            "linecolor": "white",
            "ticks": ""
           }
          },
          "title": {
           "x": 0.05
          },
          "xaxis": {
           "automargin": true,
           "gridcolor": "white",
           "linecolor": "white",
           "ticks": "",
           "title": {
            "standoff": 15
           },
           "zerolinecolor": "white",
           "zerolinewidth": 2
          },
          "yaxis": {
           "automargin": true,
           "gridcolor": "white",
           "linecolor": "white",
           "ticks": "",
           "title": {
            "standoff": 15
           },
           "zerolinecolor": "white",
           "zerolinewidth": 2
          }
         }
        },
        "title": {
         "text": "Similarity to 'Guerre en Ukraine' visualised using t-SNE"
        },
        "width": 1000
       }
      },
      "text/html": [
       "<div>                            <div id=\"aa73310a-4eb0-47f5-9b11-51e6e30be98e\" class=\"plotly-graph-div\" style=\"height:650px; width:1000px;\"></div>            <script type=\"text/javascript\">                require([\"plotly\"], function(Plotly) {                    window.PLOTLYENV=window.PLOTLYENV || {};                                    if (document.getElementById(\"aa73310a-4eb0-47f5-9b11-51e6e30be98e\")) {                    Plotly.newPlot(                        \"aa73310a-4eb0-47f5-9b11-51e6e30be98e\",                        [{\"hovertemplate\":\"\\u003cb\\u003e%{hovertext}\\u003c\\u002fb\\u003e\\u003cbr\\u003e\\u003cbr\\u003ex=%{x}\\u003cbr\\u003ey=%{y}\\u003cbr\\u003ez=%{z}\\u003cbr\\u003eSimilarity=%{marker.color}\\u003cextra\\u003e\\u003c\\u002fextra\\u003e\",\"hovertext\":[\"Pour ses voeux aux Français, Emmanuel Macron veut faire de 2024 une « année de détermination »\",\"« L’agrivoltaïsme suppose que l’agriculture conserve une place principale »\",\"Artcurial, Sotheby's, Drouot : les maisons de vente peaufinent leur stratégie de marque\",\"Pour Paris 2024, les chantiers olympiques arrivent dans les temps\",\"La Bulgarie et la Roumanie vont partiellement intégrer l'espace Schengen\",\"Quand la sortie du réveillon est gâchée par le verglas\",\"Paris 2024 : « Quand la magie du sport opère »\",\"Depardieu : la faute politique du président\",\"VIDEO - Pourquoi l'Argentine manifeste contre le « mega-décret » de son nouveau président ?\",\"Vidéo. Les coulisses de notre enquête « Narco Business » sur le trafic de fentanyl des cartels mexicains\",\"Vidéo. A Gaza, des corps enterrés dans des fosses communes, tandis que la riposte israélienne s’intensifie\",\"La Moldavie veut accélérer son rapprochement de l'Union européenne\",\"Les images impressionnantes de l'explosion d'un navire russe dans le port de Feodossia, en Crimée\",\"VIDEO - Pourquoi l'enlisement de la guerre en Ukraine est la meilleure chose qui pouvait arriver à la Russie\",\"VIDEO - Démographie : faire moins d'enfants, est-ce vraiment un problème ?\",\"Google, Apple vs Epic Games : « Le monopole des géants du numérique s’érode trop doucement »\",\"VIDEO - Cet avion militaire américain qui pourrait révolutionner la guerre\",\"Vidéo. Bande de Gaza : avant la guerre, un territoire à l’agonie\",\"Marseille : «On aime ce club, mais pas au point de faire des violences ou des dégradations»\",\"Mal-logement : le parc HLM paralysé par le Covid\",\"Clap de fin pour les magasins Habitat\",\"M&A : Lazard prend la tête d'un classement français très bousculé\",\"Schneider, L'Oréal, Stellantis : les moteurs du CAC 40 ont tourné à plein régime cette année\",\"Le double héritage de Jacques Delors\",\"Impôts : ce qui change pour les ménages en 2024\",\"Pourquoi l’avenir du Moyen-Orient dépend autant d’Israël\",\"« Nous vivons mondialement une économie de casino avec des montages financiers toujours plus complexes »\",\"Grève à la tour Eiffel : le monument fermé au public à l’occasion du centenaire du décès de Gustave Eiffel\",\"Vidéo. Loi « immigration » : le texte consacre-t-il la « préférence nationale », prônée par le Rassemblement national ?\",\"Qui est responsable si des bougies de Noël enflamment la jupe d’une invitée ?\",\"« A travers les légendes sur Jésus, nous arrivons à discerner en filigrane des éléments sur sa véritable existence »\",\"Comment la France a-t-elle été chassée du Sahel ?\",\"Schneider Electric retrouve le club fermé des sociétés valant plus de 100 milliards d'euros\",\"VIDEO - Les images de la croix installée sur la flèche de Notre-Dame de Paris\",\"L'Oréal continue de progresser encore plus vite que le marché de la beauté\",\"Ukraine : « Au sein de l'Otan, nous avons toujours dit que ce serait une guerre longue »\",\"Bruno Le Maire renouvelle son opération séduction à Wall Street\",\"Transport sanitaire : « L’absence de dialogue avec les artisans taxis et de mesures d’accompagnement témoigne d’une gestion technocratique et centralisée »\",\"Le Guyana relance la soif mondiale de pétrole\",\"Carrefour fait une offre sur les magasins de proximité de Casino\",\"Guerre Israël - Hamas : Benyamin Netanyahou sous pression après la mort d'otages tués par des soldats israéliens\",\"Voiture électrique : une démocratisation difficile\",\"Matières premières : « Rayon de soleil pour le miel »\",\"Gaza : Israël s'apprête à inonder les tunnels du Hamas\",\"Vidéo. En images : Bourges, Capitale européenne de la culture en 2028\",\"La guerre Israël-Hamas donne l’occasion à l’Egypte de retrouver une influence diplomatique\",\"Vidéo. En images : à la COP28, un rapport final qui mentionne les énergies fossiles « pour la toute première fois »\",\"Google, Apple vs Epic Games : « Le monople des géants du numérique s’érode trop doucement »\",\"« Dubaï connexion, comment blanchir cinquante millions de dollars » : découvrez le troisième épisode de notre série vidéo « Narco Business »\",\"VIDEO - Armement : les Européens peuvent-ils prendre la main sur leur défense ?\",\"VIDEO - Pourquoi ne fabrique-t-on plus de vélos en France ?\",\"VIDEO - Faut-il vraiment lutter contre l'inflation ?\",\"VIDEO - Pourquoi c'est devenu cool de faire ses courses chez Action ?\",\"Crédit immobilier : les banques repartent à la conquête de nouveaux clients\",\"BFM-TV perd son pari Ruquier face à CNews\",\"Fiscalité : les monnaies numériques dans la ligne de mire\",\"Impôts : la fin de la taxe d'habitation, une manne modeste pour les propriétaires\",\"La France bat son record historique d'exportation d'électricité\",\"A Gaza, la guerre sans fin de Benyamin Nétanyahou\",\"Alimentation : « Les acteurs de la distribution ont un rôle-clé à jouer dans la lutte contre le gaspillage »\",\"Aux origines de la « Terre sainte », ou la lente construction d’une Palestine « mythifiée »\",\"Vidéo. Ukraine : ce que les images disent de la stratégie d’attaque russe des bâtiments civils d’Avdiïvka\",\"Impôts : taxe d'habitation et taxe foncière en 10 questions pratiques\",\"Ces communes qui majorent la taxe d'habitation sur les résidences secondaires\",\"En ces temps tragiques, que nous est-il permis d’espérer ?\",\"La France franchit le cap symbolique du million de voitures électriques\",\"« Gouvernement et secteur privé sont des alliés dans le financement de la R&D, pas des ennemis »\",\"Fusions-acquisitions : un rebond espéré en 2024 après le trou d’air de l’an passé\",\"Automobile : une hiérarchie mondiale bousculée\",\"Immobilier : ces passoires thermiques qui affolent le marché\",\"SNCF : le système D des voyageurs face au train cher\",\"Vidéo. Les coulisses de notre enquête « Narco Business » sur le trafic de fentanyl des cartels mexicains\",\"Disparition de Jacques Delors : pluie d'hommages pour l'artisan de l'Europe\",\"Mort de Jacques Delors, le « tsar de Bruxelles »\",\"Huîtres : la vague d'intoxications alimentaires au norovirus s'étend sur le littoral\",\"Bridgewater, le « Big Brother » du trading mondial, fait face à ses accusateurs\",\"Belarus: The opposition tries to get out of Lukashenko's trap\",\"AI start-ups are booming in San Francisco's 'Cerebral Valley'\",\"'Qatargate': Belgian investigation risks stalling\",\"Flooding in Northern France: 'It's only logical that rainfall will become more frequent and intense'\",\"Between North and South Korea, 2024 begins under high tension\",\"Trop d'eau, étiquetage non conforme… La répression des fraudes épingle des fabricants de beurre\",\"What exactly is Gérard Depardieu accused of?\",\"Un Boeing 737 MAX perd un hublot en plein vol et relance la question de la fiabilité\",\"Canada's carbon tax under threat from all sides\",\"Video. Why Middle East stability revolves around Israel\",\"Video. The year in review: 2023 in six minutes\",\"Video. Why are Ukrainian special forces fighting Russia's Wagner mercenaries in Sudan?\",\"Le M&A mondial signe sa pire année de la décennie\",\"Joseph Stiglitz : « Le résultat des élections aux Etats-Unis dépend des perspectives économiques pour 2024, elles-mêmes liées à l’évolution du conflit au Moyen-Orient »\",\"Le distributeur Grand Frais s’apprête à entrer dans Paris\",\"Chloé Morin : « Pour Emmanuel Macron, le rebond va être de plus en plus difficile »\",\"Avis de gros temps sur la dette des pays en développement\",\"Lutte anticorruption : l’exécutif ne peut être juge et partie\",\"Pour Emmanuel Macron, des voeux 2024 placés sous le signe de la crise politique\",\"Prévention du terrorisme : l’impossible risque zéro\",\"La Chine prise au piège de ses crédits accordés aux pays en développement\",\"Bourse : les 7 chiffres fous des placements en actions\",\"M&A : Lazard prend la tête d'un classement français très bousculé\",\"Européennes 2024 : le camp Macron redoute les effets de la loi immigration\",\"M&A : les prix d'acquisition des PME décrochent\",\"Les dix évènements qui marqueront 2024\",\"Elections européennes : Emmanuel Macron et Marine Le Pen installent leur duel\",\"20 photos marquantes de 2023\",\"Le Japon frappé par un important séisme\\u002ftsunami mais sans dégâts majeurs\",\"Elections aux Etats-Unis, Russie, UE… Ces 8 scrutins de 2024 qui pourraient tout changer dans le monde\",\"Le smic augmente de 15 euros à partir du 1ᵉʳ janvier 2024\",\"Immobilier ancien : jusqu'où ira la baisse des prix en France ?\",\"Loi immigration : la CMP a démarré sous haute tension\",\"Loi immigration : la caution pour les étudiants étrangers inquiète universités et grandes écoles\",\"Immobilier : plaidoyer pour une forte baisse des « frais de notaire »\",\"Loi immigration : les points chauds de la négociation entre le gouvernement et LR\",\"Casino : Intermarché et Auchan emportent la mise\",\"Au Moyen-Orient, le risque de l’instabilité s’accroît dangereusement\",\"Fin du bonus à l’achat de voitures électriques en Allemagne : « On peut difficilement faire plus brutal »\",\"« Le législateur devrait proposer une formule de calcul de la participation spécifique pour les entreprises de moins de 50 salariés »\",\"Vincent Bolloré et Vivendi, le coup de sa vie\",\"Améliorer le référendum pour le rendre enfin « démocratiquement correct »\",\"Vidéo. En images : Vladimir Poutine réitère son objectif en Ukraine\",\"Les magasins Casino deviennent un sujet social et politique\",\"Inquiets, les salariés de Casino lancent un préavis de grève\",\"VIDEO - Défense : est-ce que les Européens peuvent reprendre le contrôle de leur sécurité ?\",\"Intermarché contraint de revendre trois Casino trois mois après leur achat\",\"Mort de Jacques Delors, le « tsar de Bruxelles »\",\"Taxe foncière : la facture va encore s'alourdir en 2024\",\"Impôts : ce qui change pour les entreprises en 2024\",\"Le double jeu dangereux de la Serbie\",\"Dans les palaces, les nouvelles frontières de l’hyperluxe\",\"Vidéo. Le Sénégal manque de poisson (mais il y a peut-être une solution)\",\"Impôt : coup de pouce supplémentaire aux attributions gratuites d'actions (AGA)\",\"Impôts : la taxe foncière pèse moins sur les riches propriétaires\",\"Impôt : zoom sur les avantages du plan de partage de la valorisation de l'entreprise (PPVE)\",\"« Le système de financement de la santé risque d’imploser en 2024 en France »\",\"Rolls-Royce a battu un nouveau record de ventes en 2023\",\"Automobile : Stellantis doublé par Hyundai aux Etats-Unis\",\"Le patronat allemand alerte sur la montée de l'extrême droite\",\"Inondations dans le Pas-de-Calais : un cas d’école\",\"Economie française : « Tentons d’imaginer 2024 comme porteuse de bonnes surprises »\",\"Défense : l’industrie française menacée par de nouveaux concurrents\",\"En ces temps tragiques, que nous est-il permis d’espérer ?\",\"VIDEO - « Dès qu'il pleut, on a peur » : le Pas-de-Calais placé en vigilance rouge aux crues\",\"VIDEO - Au Japon, un bilan humain et matériel qui s'alourdit après le séisme\",\"Vidéo. En images : l’Ukraine touchée par « un nombre record de missiles » lancés par la Russie\",\"Pourquoi l’avenir du Moyen-Orient dépend autant d’Israël\",\"Toyota assuré de rester premier constructeur automobile mondial en 2023\",\"Comment Stellantis a finalement réussi à convaincre la Bourse\",\"Un pick-up hydrogène : la réponse de Stellantis au Cybertruck de Tesla\",\"Trois ans après le Brexit, la City continue de transférer des emplois vers l'Europe\",\"Inflation : Pepsi, 7up, Lay's… Carrefour boycotte PepsiCo, Leclerc « tenté » de suivre\",\"Israël : le désaveu de la Cour suprême\",\"Légère remontée de l'inflation en France en décembre à 3,7 %\",\"Dès aujourd’hui, les grands patrons britanniques ont gagné autant qu’un salarié moyen en un an\",\"Livret A, LEP, PEL… les nouveaux taux de l'épargne réglementée\",\"« La transparence sur les informations sociales et environnementales incite les entreprises à mener une réflexion stratégique au service de leur pérennité »\",\"Le gouvernement veut s'attaquer à la « shrinkflation », l'inflation masquée en supermarché\",\"Patrick Artus : « Le reflux de l'inflation sera moins fort qu'annoncé »\",\"Vidéo. Les images de l’embrasement de l’avion de la Japan Airlines à Tokyo-Haneda\",\"« La City de Londres s’intéresse de très près au Labour britannique et ce dernier fait tout pour lui plaire »\",\"Vidéo. En images : le Japon touché par un important séisme\",\"« La France du “mais quand même…”, sans cesse occupée à négocier une exception à la règle, complique le vivre-ensemble »\",\"Israël devrait disposer d'un canon laser dès 2024\",\"Trains annulés : grosse pagaille pour des milliers de passagers d'Eurostar avant le nouvel An\",\"Le trafic Eurostar en provenance et vers Londres reprendra de manière normale dimanche après une journée d’annulations complète\",\"Les villes maintiennent leurs efforts pour réduire leurs factures d'énergie\",\"Dominique Méda, sociologue : « Confirmer le tournant social de l’Union européenne est la meilleure manière de rendre moins attractifs les discours de l’extrême droite »\",\"Pourquoi l’avenir du Moyen-Orient dépend autant d’Israël\"],\"legendgroup\":\"\",\"marker\":{\"color\":[0.606,0.536,0.755,0.545,0.445,0.295,0.221,0.098,0.417,0.346,0.456,0.298,0.496,0.403,0.44,0.338,0.381,0.127,0.497,0.388,0.419,0.494,0.516,0.191,0.372,0.458,0.491,0.462,0.497,0.371,0.453,0.471,0.508,0.559,0.756,0.472,0.356,0.592,0.15,0.379,0.433,0.097,0.098,0.521,0.227,0.473,0.369,0.368,0.443,0.479,0.52,0.49,0.574,0.387,0.551,0.259,0.554,0.454,0.306,0.564,0.467,0.278,0.503,0.695,0.616,0.486,0.562,0.49,0.0,0.429,0.22,0.346,0.558,0.38,0.506,0.368,0.766,0.876,0.862,0.924,1.0,0.502,0.932,0.627,0.918,0.674,0.367,0.829,0.604,0.525,0.608,0.391,0.104,0.392,0.49,0.143,0.327,0.239,0.494,0.388,0.337,0.717,0.616,0.112,0.54,0.504,0.722,0.436,0.201,0.382,0.352,0.411,0.523,0.584,0.478,0.582,0.307,0.32,0.135,0.335,0.759,0.324,0.456,0.38,0.532,0.385,0.244,0.467,0.396,0.519,0.398,0.463,0.481,0.609,0.131,0.496,0.437,0.429,0.383,0.616,0.551,0.624,0.325,0.458,0.578,0.389,0.309,0.454,0.592,0.439,0.5,0.575,0.745,0.563,0.564,0.617,0.496,0.674,0.22,0.452,0.482,0.643,0.622,0.524,0.534,0.458],\"coloraxis\":\"coloraxis\",\"opacity\":0.7,\"symbol\":\"circle\"},\"mode\":\"markers\",\"name\":\"\",\"scene\":\"scene\",\"showlegend\":false,\"x\":[-107.29183,1.6309241,-78.43434,-101.59723,-65.00907,83.90509,58.215004,34.963367,-126.45308,-144.42752,38.47377,80.81048,123.387764,117.362434,-61.7315,30.678179,87.561134,7.9283,113.973854,-126.53842,-17.268255,-131.03175,-89.16663,-46.96513,67.023125,46.351215,18.798376,137.68678,55.924862,28.497896,-38.21149,143.06306,-57.04927,100.685104,-88.93122,126.35605,45.31513,-37.31257,-16.809824,14.453801,-13.789317,33.866386,33.455082,-25.159132,24.89193,66.4382,1.0439197,-191.63565,7.849637,79.35217,-120.182,84.52849,195.11903,-113.6307,81.04412,-14.29042,-10.589233,-115.57254,2.7098184,-117.42478,0.043638147,168.45744,-166.95091,-174.24226,98.1481,-87.230965,-21.387693,-54.3542,-133.62416,-122.07396,53.59585,24.037195,29.049341,144.13878,119.89816,71.74235,-64.28353,-43.074497,-70.70362,152.95485,-22.053349,39.842487,-22.42567,-44.753258,29.303541,-27.423405,-71.85319,47.729755,-144.15407,-48.249043,47.82636,88.521,-69.18146,-45.413857,165.56937,-11.197427,-75.139725,-109.85196,118.91136,25.792927,-65.556725,-96.51326,148.0308,-98.3292,84.19228,-53.710175,-226.55641,-98.01185,10.658298,-23.94106,-111.2181,-134.9397,-103.93126,11.117437,75.85146,8.473185,69.349785,94.170166,111.48465,28.044006,45.477623,91.67458,7.613061,-89.08419,-177.02284,-155.17749,14.957197,-19.652376,65.20993,55.789562,5.3796973,-86.260445,-73.5034,93.45414,-53.93017,26.82386,13.118434,-50.015434,-50.82482,109.10817,-71.49858,67.540085,-51.26744,113.039154,-58.99122,95.3472,-153.38095,3.6216245,-4.5917063,-27.921026,-76.48688,-5.449085,-153.75049,-214.19864,24.289505,178.81885,-172.10542,-78.46125,49.949272,-13.304256,-52.837685,162.65765,136.8806,-177.2786,-135.2597,34.475],\"y\":[48.55784,-52.622612,-166.07018,100.681206,170.00313,-59.90594,-22.655687,43.511414,37.16178,135.81274,108.47282,154.09218,6.9757643,68.45662,-35.768394,-71.068054,-40.633793,94.43192,-32.00715,-22.220844,2.5515535,86.32951,-49.28076,100.72244,161.48146,-137.72353,-9.940183,71.72196,42.98943,-70.54101,-2.8856695,-100.87998,-81.09497,129.91072,173.70944,24.883318,80.901566,-81.341415,65.410995,102.00486,156.28905,131.51987,-26.93479,-68.81606,-23.571714,81.43553,160.42986,-611.51996,-26.541962,21.399412,-43.78225,-75.797874,27.758816,-33.47841,79.83397,-9.123995,124.117775,94.16615,133.26318,-98.18352,94.138084,-1.8924506,-3.0329025,28.769999,-113.70005,-109.47656,-47.47251,-19.55595,-118.7313,-9.2056265,-1.6321502,-3.3520005,200.67422,-68.045494,-136.07532,101.88767,-70.57426,-141.5709,-76.68953,107.329384,-93.59495,-119.677124,-53.160446,88.93394,79.86297,-110.523506,-121.53932,136.98213,99.84215,-2.116542,-117.20422,1.4043943,55.758755,14.469375,-43.39947,50.981815,77.76644,13.327417,-42.38791,32.30309,-9.695612,31.750647,29.098892,9.543035,-141.44188,51.578354,-27.6055,-46.909313,34.44802,28.33607,-64.906784,-112.54801,11.387887,5.5674367,-12.893965,-109.94541,51.761456,44.445534,-23.387133,-13.982243,-51.7448,39.50901,-97.24314,112.212555,-58.706017,-21.819742,57.50316,-143.47954,-61.89385,-50.401726,150.89508,52.65469,-48.332176,23.193401,65.00621,72.68168,-182.84244,9.543069,111.805466,-126.13855,169.92934,-179.17009,-136.14738,86.02943,113.79634,72.354195,43.158173,17.092247,-111.84168,106.51502,158.88611,-184.37627,-60.673878,-23.061766,-95.73375,-35.946064,29.850895,-154.9757,-149.91112,-161.67572,-94.18749,34.78666,10.011411,70.84508,-401.8545,45.081947],\"z\":[137.4747,101.3231,0.21169668,119.36879,103.778915,-45.149475,-51.676285,-109.08559,-112.39914,-10.755688,44.75399,69.07594,-68.30874,32.438828,-170.57753,-66.60756,-114.33607,54.448917,74.53977,101.26319,-86.89362,58.38907,145.63101,12.778683,-63.91632,82.45927,191.33878,-91.43666,54.551754,-8.697463,56.85414,-1.9865725,-25.64138,3.9430146,-27.671509,64.138824,-54.744,105.54631,-90.33719,-187.52415,1.8762583,-23.505993,-2.2590537,28.073713,-55.49473,103.17941,83.23318,-104.114334,38.161095,-13.41733,-140.08226,22.03505,29.658878,-34.37149,-158.06483,-29.977947,-73.55264,-45.212948,34.86418,102.382286,106.99527,-62.070198,-6.9316072,-38.76113,106.31725,-33.85675,167.4389,0.57987076,-81.309166,-75.3321,-104.332245,66.56831,21.410215,-84.78362,51.051476,-101.94629,-90.923515,-83.71923,-130.19028,-32.5249,-84.620186,-57.43994,-118.81427,171.58595,175.66925,-128.24403,-109.916435,130.23186,-89.48647,110.58369,-127.47113,91.926926,-87.09612,164.58195,-5.686484,55.80786,-109.438835,-23.197182,137.56706,3.4930217,-49.44148,70.015755,-10.192151,38.26431,-3.7597964,96.36292,-5.986254,4.546755,-45.940056,-4.4764485,30.691723,5.002976,-170.94354,127.236946,47.088253,126.49788,-92.46503,149.10269,-8.440088,-143.67961,-188.22311,9.680625,193.27258,21.50625,10.955978,47.983,-134.3951,53.458023,78.36599,148.66655,-85.99742,7.520143,75.58187,-185.53563,-35.881012,-1.3352051,-72.8945,-124.76477,78.542076,-61.187428,35.600952,-15.735215,126.375916,95.58012,-46.05991,-25.95869,32.06171,-194.82823,-26.67112,-143.75577,-95.50078,100.5502,-55.280537,-73.109314,47.10325,69.50787,100.382454,64.30286,8.553296,3.0344377,38.81393,120.99434,-131.866,-21.007782,140.39532,114.45941],\"type\":\"scatter3d\"}],                        {\"template\":{\"data\":{\"histogram2dcontour\":[{\"type\":\"histogram2dcontour\",\"colorbar\":{\"outlinewidth\":0,\"ticks\":\"\"},\"colorscale\":[[0.0,\"#0d0887\"],[0.1111111111111111,\"#46039f\"],[0.2222222222222222,\"#7201a8\"],[0.3333333333333333,\"#9c179e\"],[0.4444444444444444,\"#bd3786\"],[0.5555555555555556,\"#d8576b\"],[0.6666666666666666,\"#ed7953\"],[0.7777777777777778,\"#fb9f3a\"],[0.8888888888888888,\"#fdca26\"],[1.0,\"#f0f921\"]]}],\"choropleth\":[{\"type\":\"choropleth\",\"colorbar\":{\"outlinewidth\":0,\"ticks\":\"\"}}],\"histogram2d\":[{\"type\":\"histogram2d\",\"colorbar\":{\"outlinewidth\":0,\"ticks\":\"\"},\"colorscale\":[[0.0,\"#0d0887\"],[0.1111111111111111,\"#46039f\"],[0.2222222222222222,\"#7201a8\"],[0.3333333333333333,\"#9c179e\"],[0.4444444444444444,\"#bd3786\"],[0.5555555555555556,\"#d8576b\"],[0.6666666666666666,\"#ed7953\"],[0.7777777777777778,\"#fb9f3a\"],[0.8888888888888888,\"#fdca26\"],[1.0,\"#f0f921\"]]}],\"heatmap\":[{\"type\":\"heatmap\",\"colorbar\":{\"outlinewidth\":0,\"ticks\":\"\"},\"colorscale\":[[0.0,\"#0d0887\"],[0.1111111111111111,\"#46039f\"],[0.2222222222222222,\"#7201a8\"],[0.3333333333333333,\"#9c179e\"],[0.4444444444444444,\"#bd3786\"],[0.5555555555555556,\"#d8576b\"],[0.6666666666666666,\"#ed7953\"],[0.7777777777777778,\"#fb9f3a\"],[0.8888888888888888,\"#fdca26\"],[1.0,\"#f0f921\"]]}],\"heatmapgl\":[{\"type\":\"heatmapgl\",\"colorbar\":{\"outlinewidth\":0,\"ticks\":\"\"},\"colorscale\":[[0.0,\"#0d0887\"],[0.1111111111111111,\"#46039f\"],[0.2222222222222222,\"#7201a8\"],[0.3333333333333333,\"#9c179e\"],[0.4444444444444444,\"#bd3786\"],[0.5555555555555556,\"#d8576b\"],[0.6666666666666666,\"#ed7953\"],[0.7777777777777778,\"#fb9f3a\"],[0.8888888888888888,\"#fdca26\"],[1.0,\"#f0f921\"]]}],\"contourcarpet\":[{\"type\":\"contourcarpet\",\"colorbar\":{\"outlinewidth\":0,\"ticks\":\"\"}}],\"contour\":[{\"type\":\"contour\",\"colorbar\":{\"outlinewidth\":0,\"ticks\":\"\"},\"colorscale\":[[0.0,\"#0d0887\"],[0.1111111111111111,\"#46039f\"],[0.2222222222222222,\"#7201a8\"],[0.3333333333333333,\"#9c179e\"],[0.4444444444444444,\"#bd3786\"],[0.5555555555555556,\"#d8576b\"],[0.6666666666666666,\"#ed7953\"],[0.7777777777777778,\"#fb9f3a\"],[0.8888888888888888,\"#fdca26\"],[1.0,\"#f0f921\"]]}],\"surface\":[{\"type\":\"surface\",\"colorbar\":{\"outlinewidth\":0,\"ticks\":\"\"},\"colorscale\":[[0.0,\"#0d0887\"],[0.1111111111111111,\"#46039f\"],[0.2222222222222222,\"#7201a8\"],[0.3333333333333333,\"#9c179e\"],[0.4444444444444444,\"#bd3786\"],[0.5555555555555556,\"#d8576b\"],[0.6666666666666666,\"#ed7953\"],[0.7777777777777778,\"#fb9f3a\"],[0.8888888888888888,\"#fdca26\"],[1.0,\"#f0f921\"]]}],\"mesh3d\":[{\"type\":\"mesh3d\",\"colorbar\":{\"outlinewidth\":0,\"ticks\":\"\"}}],\"scatter\":[{\"fillpattern\":{\"fillmode\":\"overlay\",\"size\":10,\"solidity\":0.2},\"type\":\"scatter\"}],\"parcoords\":[{\"type\":\"parcoords\",\"line\":{\"colorbar\":{\"outlinewidth\":0,\"ticks\":\"\"}}}],\"scatterpolargl\":[{\"type\":\"scatterpolargl\",\"marker\":{\"colorbar\":{\"outlinewidth\":0,\"ticks\":\"\"}}}],\"bar\":[{\"error_x\":{\"color\":\"#2a3f5f\"},\"error_y\":{\"color\":\"#2a3f5f\"},\"marker\":{\"line\":{\"color\":\"#E5ECF6\",\"width\":0.5},\"pattern\":{\"fillmode\":\"overlay\",\"size\":10,\"solidity\":0.2}},\"type\":\"bar\"}],\"scattergeo\":[{\"type\":\"scattergeo\",\"marker\":{\"colorbar\":{\"outlinewidth\":0,\"ticks\":\"\"}}}],\"scatterpolar\":[{\"type\":\"scatterpolar\",\"marker\":{\"colorbar\":{\"outlinewidth\":0,\"ticks\":\"\"}}}],\"histogram\":[{\"marker\":{\"pattern\":{\"fillmode\":\"overlay\",\"size\":10,\"solidity\":0.2}},\"type\":\"histogram\"}],\"scattergl\":[{\"type\":\"scattergl\",\"marker\":{\"colorbar\":{\"outlinewidth\":0,\"ticks\":\"\"}}}],\"scatter3d\":[{\"type\":\"scatter3d\",\"line\":{\"colorbar\":{\"outlinewidth\":0,\"ticks\":\"\"}},\"marker\":{\"colorbar\":{\"outlinewidth\":0,\"ticks\":\"\"}}}],\"scattermapbox\":[{\"type\":\"scattermapbox\",\"marker\":{\"colorbar\":{\"outlinewidth\":0,\"ticks\":\"\"}}}],\"scatterternary\":[{\"type\":\"scatterternary\",\"marker\":{\"colorbar\":{\"outlinewidth\":0,\"ticks\":\"\"}}}],\"scattercarpet\":[{\"type\":\"scattercarpet\",\"marker\":{\"colorbar\":{\"outlinewidth\":0,\"ticks\":\"\"}}}],\"carpet\":[{\"aaxis\":{\"endlinecolor\":\"#2a3f5f\",\"gridcolor\":\"white\",\"linecolor\":\"white\",\"minorgridcolor\":\"white\",\"startlinecolor\":\"#2a3f5f\"},\"baxis\":{\"endlinecolor\":\"#2a3f5f\",\"gridcolor\":\"white\",\"linecolor\":\"white\",\"minorgridcolor\":\"white\",\"startlinecolor\":\"#2a3f5f\"},\"type\":\"carpet\"}],\"table\":[{\"cells\":{\"fill\":{\"color\":\"#EBF0F8\"},\"line\":{\"color\":\"white\"}},\"header\":{\"fill\":{\"color\":\"#C8D4E3\"},\"line\":{\"color\":\"white\"}},\"type\":\"table\"}],\"barpolar\":[{\"marker\":{\"line\":{\"color\":\"#E5ECF6\",\"width\":0.5},\"pattern\":{\"fillmode\":\"overlay\",\"size\":10,\"solidity\":0.2}},\"type\":\"barpolar\"}],\"pie\":[{\"automargin\":true,\"type\":\"pie\"}]},\"layout\":{\"autotypenumbers\":\"strict\",\"colorway\":[\"#636efa\",\"#EF553B\",\"#00cc96\",\"#ab63fa\",\"#FFA15A\",\"#19d3f3\",\"#FF6692\",\"#B6E880\",\"#FF97FF\",\"#FECB52\"],\"font\":{\"color\":\"#2a3f5f\"},\"hovermode\":\"closest\",\"hoverlabel\":{\"align\":\"left\"},\"paper_bgcolor\":\"white\",\"plot_bgcolor\":\"#E5ECF6\",\"polar\":{\"bgcolor\":\"#E5ECF6\",\"angularaxis\":{\"gridcolor\":\"white\",\"linecolor\":\"white\",\"ticks\":\"\"},\"radialaxis\":{\"gridcolor\":\"white\",\"linecolor\":\"white\",\"ticks\":\"\"}},\"ternary\":{\"bgcolor\":\"#E5ECF6\",\"aaxis\":{\"gridcolor\":\"white\",\"linecolor\":\"white\",\"ticks\":\"\"},\"baxis\":{\"gridcolor\":\"white\",\"linecolor\":\"white\",\"ticks\":\"\"},\"caxis\":{\"gridcolor\":\"white\",\"linecolor\":\"white\",\"ticks\":\"\"}},\"coloraxis\":{\"colorbar\":{\"outlinewidth\":0,\"ticks\":\"\"}},\"colorscale\":{\"sequential\":[[0.0,\"#0d0887\"],[0.1111111111111111,\"#46039f\"],[0.2222222222222222,\"#7201a8\"],[0.3333333333333333,\"#9c179e\"],[0.4444444444444444,\"#bd3786\"],[0.5555555555555556,\"#d8576b\"],[0.6666666666666666,\"#ed7953\"],[0.7777777777777778,\"#fb9f3a\"],[0.8888888888888888,\"#fdca26\"],[1.0,\"#f0f921\"]],\"sequentialminus\":[[0.0,\"#0d0887\"],[0.1111111111111111,\"#46039f\"],[0.2222222222222222,\"#7201a8\"],[0.3333333333333333,\"#9c179e\"],[0.4444444444444444,\"#bd3786\"],[0.5555555555555556,\"#d8576b\"],[0.6666666666666666,\"#ed7953\"],[0.7777777777777778,\"#fb9f3a\"],[0.8888888888888888,\"#fdca26\"],[1.0,\"#f0f921\"]],\"diverging\":[[0,\"#8e0152\"],[0.1,\"#c51b7d\"],[0.2,\"#de77ae\"],[0.3,\"#f1b6da\"],[0.4,\"#fde0ef\"],[0.5,\"#f7f7f7\"],[0.6,\"#e6f5d0\"],[0.7,\"#b8e186\"],[0.8,\"#7fbc41\"],[0.9,\"#4d9221\"],[1,\"#276419\"]]},\"xaxis\":{\"gridcolor\":\"white\",\"linecolor\":\"white\",\"ticks\":\"\",\"title\":{\"standoff\":15},\"zerolinecolor\":\"white\",\"automargin\":true,\"zerolinewidth\":2},\"yaxis\":{\"gridcolor\":\"white\",\"linecolor\":\"white\",\"ticks\":\"\",\"title\":{\"standoff\":15},\"zerolinecolor\":\"white\",\"automargin\":true,\"zerolinewidth\":2},\"scene\":{\"xaxis\":{\"backgroundcolor\":\"#E5ECF6\",\"gridcolor\":\"white\",\"linecolor\":\"white\",\"showbackground\":true,\"ticks\":\"\",\"zerolinecolor\":\"white\",\"gridwidth\":2},\"yaxis\":{\"backgroundcolor\":\"#E5ECF6\",\"gridcolor\":\"white\",\"linecolor\":\"white\",\"showbackground\":true,\"ticks\":\"\",\"zerolinecolor\":\"white\",\"gridwidth\":2},\"zaxis\":{\"backgroundcolor\":\"#E5ECF6\",\"gridcolor\":\"white\",\"linecolor\":\"white\",\"showbackground\":true,\"ticks\":\"\",\"zerolinecolor\":\"white\",\"gridwidth\":2}},\"shapedefaults\":{\"line\":{\"color\":\"#2a3f5f\"}},\"annotationdefaults\":{\"arrowcolor\":\"#2a3f5f\",\"arrowhead\":0,\"arrowwidth\":1},\"geo\":{\"bgcolor\":\"white\",\"landcolor\":\"#E5ECF6\",\"subunitcolor\":\"white\",\"showland\":true,\"showlakes\":true,\"lakecolor\":\"white\"},\"title\":{\"x\":0.05},\"mapbox\":{\"style\":\"light\"}}},\"scene\":{\"domain\":{\"x\":[0.0,1.0],\"y\":[0.0,1.0]},\"xaxis\":{\"title\":{\"text\":\"x\"}},\"yaxis\":{\"title\":{\"text\":\"y\"}},\"zaxis\":{\"title\":{\"text\":\"z\"}}},\"coloraxis\":{\"colorbar\":{\"title\":{\"text\":\"Similarity\"}},\"colorscale\":[[0.0,\"#0d0887\"],[0.1111111111111111,\"#46039f\"],[0.2222222222222222,\"#7201a8\"],[0.3333333333333333,\"#9c179e\"],[0.4444444444444444,\"#bd3786\"],[0.5555555555555556,\"#d8576b\"],[0.6666666666666666,\"#ed7953\"],[0.7777777777777778,\"#fb9f3a\"],[0.8888888888888888,\"#fdca26\"],[1.0,\"#f0f921\"]]},\"legend\":{\"tracegroupgap\":0},\"title\":{\"text\":\"Similarity to 'Guerre en Ukraine' visualised using t-SNE\"},\"width\":1000,\"height\":650},                        {\"responsive\": true}                    ).then(function(){\n",
       "                            \n",
       "var gd = document.getElementById('aa73310a-4eb0-47f5-9b11-51e6e30be98e');\n",
       "var x = new MutationObserver(function (mutations, observer) {{\n",
       "        var display = window.getComputedStyle(gd).display;\n",
       "        if (!display || display === 'none') {{\n",
       "            console.log([gd, 'removed!']);\n",
       "            Plotly.purge(gd);\n",
       "            observer.disconnect();\n",
       "        }}\n",
       "}});\n",
       "\n",
       "// Listen for the removal of the full notebook cells\n",
       "var notebookContainer = gd.closest('#notebook-container');\n",
       "if (notebookContainer) {{\n",
       "    x.observe(notebookContainer, {childList: true});\n",
       "}}\n",
       "\n",
       "// Listen for the clearing of the current output cell\n",
       "var outputEl = gd.closest('.output');\n",
       "if (outputEl) {{\n",
       "    x.observe(outputEl, {childList: true});\n",
       "}}\n",
       "\n",
       "                        })                };                });            </script>        </div>"
      ]
     },
     "metadata": {},
     "output_type": "display_data"
    }
   ],
   "source": [
    "import plotly.express as px\n",
    "from sklearn.manifold import TSNE\n",
    "\n",
    "# Create a t-SNE model\n",
    "tsne_model = TSNE(\n",
    "    n_components = 3,\n",
    "    perplexity = 15,\n",
    "    random_state = 42,\n",
    "    init = 'random',\n",
    "    learning_rate = 200\n",
    ")\n",
    "tsne_embeddings = tsne_model.fit_transform(embedding_array)\n",
    "\n",
    "# Create a DataFrame for visualisation\n",
    "visualisation_data = pd.DataFrame(\n",
    "    {'x': tsne_embeddings[:, 0],\n",
    "     'y': tsne_embeddings[:, 1],\n",
    "     'z': tsne_embeddings[:, 2],\n",
    "     'title':df['title'],\n",
    "     'Similarity': df['normalised'].round(3)}\n",
    ")\n",
    "\n",
    "# Create the scatter plot using Plotly Express\n",
    "plot = px.scatter_3d(\n",
    "    visualisation_data,\n",
    "    x = 'x',\n",
    "    y = 'y',\n",
    "    z = 'z',\n",
    "    color = 'Similarity',\n",
    "    hover_name='title',\n",
    "    #color_continuous_scale = 'rainbow',\n",
    "    opacity = 0.7,\n",
    "    title = f\"Similarity to '{query}' visualised using t-SNE\"\n",
    ")\n",
    "\n",
    "plot.update_layout(\n",
    "    width = 1000,\n",
    "    height = 650\n",
    ")\n",
    "\n",
    "# Show the plot\n",
    "plot.show()"
   ]
  },
  {
   "cell_type": "code",
   "execution_count": null,
   "id": "3861652e-94a8-4f1a-9853-b4f920c11f99",
   "metadata": {},
   "outputs": [],
   "source": []
  },
  {
   "cell_type": "code",
   "execution_count": null,
   "id": "f46442b6-c2e2-4066-af98-b70d84360f20",
   "metadata": {},
   "outputs": [],
   "source": []
  },
  {
   "cell_type": "code",
   "execution_count": null,
   "id": "9d20e570-7455-46db-8509-9649b0315d08",
   "metadata": {},
   "outputs": [],
   "source": []
  }
 ],
 "metadata": {
  "kernelspec": {
   "display_name": "Python 3 (ipykernel)",
   "language": "python",
   "name": "python3"
  },
  "language_info": {
   "codemirror_mode": {
    "name": "ipython",
    "version": 3
   },
   "file_extension": ".py",
   "mimetype": "text/x-python",
   "name": "python",
   "nbconvert_exporter": "python",
   "pygments_lexer": "ipython3",
   "version": "3.10.13"
  }
 },
 "nbformat": 4,
 "nbformat_minor": 5
}
