{
 "cells": [
  {
   "cell_type": "code",
   "execution_count": 41,
   "id": "ab5bce44-4a11-42cb-9b76-047486e84517",
   "metadata": {},
   "outputs": [],
   "source": [
    "from sentence_transformers import SentenceTransformer\n",
    "from qdrant_client import QdrantClient\n",
    "from qdrant_client import models\n",
    "from qdrant_client.http.models import Distance, VectorParams, PointStruct \n",
    "from qdrant_client.models import Filter\n",
    "from qdrant_client.http import models\n",
    "import numpy as np\n",
    "import pandas as pd\n",
    "import configparser"
   ]
  },
  {
   "cell_type": "code",
   "execution_count": 42,
   "id": "809e6ada-ca61-4d70-8f16-24e53b9bdc2d",
   "metadata": {},
   "outputs": [
    {
     "name": "stderr",
     "output_type": "stream",
     "text": [
      "No sentence-transformers model found with name C:\\Users\\gaelp/.cache\\torch\\sentence_transformers\\moussaKam_barthez. Creating a new one with MEAN pooling.\n"
     ]
    }
   ],
   "source": [
    "config=configparser.ConfigParser()\n",
    "config.read('../config.cfg')\n",
    "\n",
    "model_name = \"moussaKam/barthez\"\n",
    "encoder = SentenceTransformer(model_name_or_path=model_name)"
   ]
  },
  {
   "cell_type": "code",
   "execution_count": 43,
   "id": "9c7f4e7d-6e69-4c9e-a455-fb6094c1b834",
   "metadata": {},
   "outputs": [],
   "source": [
    "QDRANT_HOST=config['QDRANT']['host']\n",
    "QDRANT_PORT=config['QDRANT']['port']\n",
    "QDRANT_API_KEY=config['QDRANT']['qdrant_api_key']\n",
    "\n",
    "client = QdrantClient(url=QDRANT_HOST, \n",
    "                      port=QDRANT_PORT, \n",
    "                      api_key=QDRANT_API_KEY)"
   ]
  },
  {
   "cell_type": "code",
   "execution_count": 44,
   "id": "1c2b933e-3f69-4921-8158-ffbb283f5faf",
   "metadata": {},
   "outputs": [],
   "source": [
    "df = pd.read_csv('../data/processed/articles.csv', index_col=0, encoding='utf-8')"
   ]
  },
  {
   "cell_type": "code",
   "execution_count": 45,
   "id": "2491d55e-8bf1-46e6-a3c9-8d32d6cce61d",
   "metadata": {},
   "outputs": [],
   "source": [
    "df = df.reset_index()"
   ]
  },
  {
   "cell_type": "code",
   "execution_count": 46,
   "id": "ed07a2e8-6bc6-476c-a050-c584d5ae6d33",
   "metadata": {},
   "outputs": [],
   "source": [
    "df.columns = ['newsId', 'author', 'title', 'publishedAt', 'content']"
   ]
  },
  {
   "cell_type": "code",
   "execution_count": 47,
   "id": "83db350d-ee8d-4aa9-8469-eaeb2042a1ca",
   "metadata": {},
   "outputs": [],
   "source": [
    "def generate_item_sentence(item: pd.Series, text_columns=[\"title\"]) -> str:\n",
    "    return ' '.join([item[column] for column in text_columns])"
   ]
  },
  {
   "cell_type": "code",
   "execution_count": 48,
   "id": "afe6b350-79af-4f09-b0a5-7dd35e6cd9a0",
   "metadata": {},
   "outputs": [],
   "source": [
    "df[\"sentence\"] = df.apply(generate_item_sentence, axis=1)\n",
    "df[\"sentence_embedding\"] = df[\"sentence\"].apply(encoder.encode)"
   ]
  },
  {
   "cell_type": "code",
   "execution_count": null,
   "id": "5f81f4fc-e05a-4fb2-880d-207ec95ffaac",
   "metadata": {},
   "outputs": [],
   "source": [
    "client.create_collection(\n",
    "    collection_name = \"articles_fr_newsapi\",\n",
    "    vectors_config = models.VectorParams(\n",
    "        size = encoder.get_sentence_embedding_dimension(),\n",
    "        distance = models.Distance.COSINE,\n",
    "    ),\n",
    ")"
   ]
  },
  {
   "cell_type": "code",
   "execution_count": 50,
   "id": "4aa532a9-d782-4848-9097-1aa30581290b",
   "metadata": {},
   "outputs": [],
   "source": [
    "metadata_columns = df.drop([\"newsId\", \"sentence\", \"sentence_embedding\"], axis=1).columns\n",
    "\n",
    "def create_vector_point(item:pd.Series) -> PointStruct:\n",
    "    \"\"\"Turn vectors into PointStruct\"\"\"\n",
    "    return PointStruct(\n",
    "        id = item[\"newsId\"],\n",
    "        vector = item[\"sentence_embedding\"].tolist(),\n",
    "        payload = {\n",
    "            field: item[field]\n",
    "            for field in metadata_columns\n",
    "            if (str(item[field]) not in ['None', 'nan'])\n",
    "        }\n",
    "    )\n",
    "\n",
    "points = df.apply(create_vector_point, axis=1).tolist()"
   ]
  },
  {
   "cell_type": "code",
   "execution_count": 51,
   "id": "50a6d88a-95c3-420d-a891-ddee8b4bd0c9",
   "metadata": {},
   "outputs": [],
   "source": [
    "CHUNK_SIZE = 500\n",
    "n_chunks = np.ceil(len(points)/CHUNK_SIZE)\n",
    "\n",
    "for i, points_chunk in enumerate(np.array_split(points, n_chunks)):\n",
    "    client.upsert(\n",
    "        collection_name=\"articles_fr_newsapi\",\n",
    "        wait=True,\n",
    "        points=points_chunk.tolist()\n",
    "    )"
   ]
  },
  {
   "cell_type": "code",
   "execution_count": 52,
   "id": "803badbc-f01b-463a-8c4c-69499d8e6c03",
   "metadata": {},
   "outputs": [],
   "source": [
    "query_text = \"Macron\"\n",
    "query_vector = encoder.encode(query_text).tolist()"
   ]
  },
  {
   "cell_type": "code",
   "execution_count": 53,
   "id": "60af206d-a703-4dbe-9241-a3f993cab0b7",
   "metadata": {},
   "outputs": [
    {
     "data": {
      "text/plain": [
       "[ScoredPoint(id=69, version=1, score=0.46678478, payload={'content': 'La bagnole\\xa0? «\\xa0Moi, je ladore\\xa0!\\xa0», avait déclaré Emmanuel Macron lors dune interview télévisée le 24\\xa0septembre. Cette passion a sans doute incité le chef de lEtat à annoncer lui-même, jeudi 14\\xa0décemb… [+3356 chars]', 'title': 'Voiture électrique\\xa0: une démocratisation difficile'}, vector=None, shard_key=None),\n",
       " ScoredPoint(id=22, version=1, score=0.43773925, payload={'content': 'Les funérailles du Pape émérite Benoît XVI\\r\\nLa dépouille de Joseph Ratzinger, pape de\\xa02005 à\\xa02013, a été exposée dans la basilique Saint-Pierre de Rome.Andreas SOLARO/AFP\\r\\nPour la première fois depui… [+11062 chars]', 'title': '20 photos marquantes de\\xa02023'}, vector=None, shard_key=None),\n",
       " ScoredPoint(id=7, version=1, score=0.42466035, payload={'content': 'Depuis 2017\\xa0et les révélations sur le producteur de cinéma prédateur Harvey Weinstein, la vague qui a libéré la parole des femmes victimes de violences sexistes et sexuelles a aussi bouleversé la man… [+3427 chars]', 'title': 'Depardieu\\xa0: la faute politique du président'}, vector=None, shard_key=None),\n",
       " ScoredPoint(id=148, version=1, score=0.40177527, payload={'content': 'Une figure politique singulière disparaît avec Jacques Delors. Autodidacte formé par le syndicalisme chrétien, humaniste inspiré par le personnalisme engagé du philosophe Emmanuel Mounier, profondéme… [+3259 chars]', 'title': 'Le double héritage de Jacques Delors'}, vector=None, shard_key=None),\n",
       " ScoredPoint(id=174, version=1, score=0.400306, payload={'content': 'Lautomne 2023\\xa0a vu la résurgence du risque terroriste en France. Deux attentats au couteau ont été commis au nom de lorganisation Etat islamique. Chacun deux pose, à sa manière, le problème de la pré… [+2904 chars]', 'title': 'Prévention du terrorisme\\xa0: l’impossible risque zéro'}, vector=None, shard_key=None),\n",
       " ScoredPoint(id=153, version=0, score=0.400306, payload={'content': 'Lautomne 2023\\xa0a vu la résurgence du risque terroriste en France. Deux attentats au couteau ont été commis au nom de lorganisation Etat islamique. Chacun deux pose, à sa manière, le problème de la pré… [+2904 chars]', 'title': 'Prévention du terrorisme\\xa0: l’impossible risque zéro'}, vector=None, shard_key=None),\n",
       " ScoredPoint(id=130, version=1, score=0.35586882, payload={'content': 'Loin des champs de bataille dUkraine, un autre front de la guerre russe se déploie dans les Balkans, où Moscou tente dexploiter les tensions nationalistes contre laspiration des pays de la région à r… [+3208 chars]', 'title': 'Le double jeu dangereux de la Serbie'}, vector=None, shard_key=None),\n",
       " ScoredPoint(id=66, version=1, score=0.3551863, payload={'content': 'Un navire participe à la création dun port côtier nécessaire à la production pétrolière offshore à lembouchure de la rivière Demerara, à Georgetown, la capitale du Guyana, le 11\\xa0avril\\xa02023. MATIAS DE… [+2745 chars]', 'title': 'Le Guyana relance la soif mondiale de pétrole'}, vector=None, shard_key=None),\n",
       " ScoredPoint(id=92, version=1, score=0.33820614, payload={'content': 'Vincent Bolloré, à Paris, en\\xa02015. JACQUES DEMARTHON / AFP\\r\\nDes jolis coups, Vincent Bolloré en a fait dans sa carrière\\xa0: la Société commerciale daffrètement et de combustible (SCAC) au milieu des an… [+2596 chars]', 'title': 'Vincent Bolloré et Vivendi, le coup de sa vie'}, vector=None, shard_key=None),\n",
       " ScoredPoint(id=95, version=1, score=0.3310691, payload={'content': '<li>Parce quune autre personne (ou vous) est en train de lire Le Monde avec ce compte sur un autre appareil.\\r\\nVous ne pouvez lire Le Monde que sur un seul appareil à la fois (ordinateur, téléphone ou… [+626 chars]', 'title': 'Vidéo. En images\\xa0: Vladimir Poutine réitère son objectif en Ukraine'}, vector=None, shard_key=None)]"
      ]
     },
     "execution_count": 53,
     "metadata": {},
     "output_type": "execute_result"
    }
   ],
   "source": [
    "client.search(\n",
    "    collection_name=\"articles_fr_newsapi\",\n",
    "    query_vector=query_vector,\n",
    "    with_payload=[\"newsId\", \"title\", \"content\"],\n",
    "    query_filter=None\n",
    ")"
   ]
  },
  {
   "cell_type": "markdown",
   "id": "22f78ab8-145b-432a-b1a6-085c23f77d1b",
   "metadata": {},
   "source": [
    "## Affichage"
   ]
  },
  {
   "cell_type": "code",
   "execution_count": 55,
   "id": "ed2195ac-f396-4f07-a680-e48b2454357b",
   "metadata": {},
   "outputs": [],
   "source": [
    "import numpy as np\n",
    "import ast\n",
    "\n",
    "# Convert embeddings from CSV str type to NumPy Array\n",
    "embedding_array = np.array(\n",
    "    df['sentence_embedding'].to_list()\n",
    ")"
   ]
  },
  {
   "cell_type": "code",
   "execution_count": 64,
   "id": "09890f6a-34ce-4c36-a1a9-af5beb23e4ae",
   "metadata": {},
   "outputs": [],
   "source": [
    "query = \"Guerre en Ukraine\"\n",
    "query_embedding_response = np.array(\n",
    "    encoder.encode(query)\n",
    ")"
   ]
  },
  {
   "cell_type": "code",
   "execution_count": 65,
   "id": "f8e14b2d-9962-443a-9542-68d68068710d",
   "metadata": {},
   "outputs": [],
   "source": [
    "from scipy.spatial.distance import cdist\n",
    "\n",
    "df['distance'] = cdist(\n",
    "    embedding_array,\n",
    "    [query_embedding_response]\n",
    ")"
   ]
  },
  {
   "cell_type": "code",
   "execution_count": 66,
   "id": "9c663685-422b-4418-86a1-9265bbdb0a02",
   "metadata": {},
   "outputs": [],
   "source": [
    "from sklearn.preprocessing import MinMaxScaler\n",
    "\n",
    "scaler = MinMaxScaler()\n",
    "\n",
    "scaler.fit(df[['distance']])\n",
    "\n",
    "df['normalised'] = scaler.transform(df[['distance']])"
   ]
  },
  {
   "cell_type": "code",
   "execution_count": 67,
   "id": "79b77cc5-1a86-453a-aab8-68a86bb2a052",
   "metadata": {},
   "outputs": [
    {
     "data": {
      "application/vnd.plotly.v1+json": {
       "config": {
        "plotlyServerURL": "https://plot.ly"
       },
       "data": [
        {
         "hovertemplate": "<b>%{hovertext}</b><br><br>x=%{x}<br>y=%{y}<br>Similarity=%{marker.color}<extra></extra>",
         "hovertext": [
          "Pour ses voeux aux Français, Emmanuel Macron veut faire de 2024 une « année de détermination »",
          "« L’agrivoltaïsme suppose que l’agriculture conserve une place principale »",
          "Artcurial, Sotheby's, Drouot : les maisons de vente peaufinent leur stratégie de marque",
          "Pour Paris 2024, les chantiers olympiques arrivent dans les temps",
          "La Bulgarie et la Roumanie vont partiellement intégrer l'espace Schengen",
          "Quand la sortie du réveillon est gâchée par le verglas",
          "Paris 2024 : « Quand la magie du sport opère »",
          "Depardieu : la faute politique du président",
          "VIDEO - Pourquoi l'Argentine manifeste contre le « mega-décret » de son nouveau président ?",
          "Vidéo. Les coulisses de notre enquête « Narco Business » sur le trafic de fentanyl des cartels mexicains",
          "Vidéo. A Gaza, des corps enterrés dans des fosses communes, tandis que la riposte israélienne s’intensifie",
          "La Moldavie veut accélérer son rapprochement de l'Union européenne",
          "Les images impressionnantes de l'explosion d'un navire russe dans le port de Feodossia, en Crimée",
          "VIDEO - Pourquoi l'enlisement de la guerre en Ukraine est la meilleure chose qui pouvait arriver à la Russie",
          "VIDEO - Démographie : faire moins d'enfants, est-ce vraiment un problème ?",
          "Google, Apple vs Epic Games : « Le monopole des géants du numérique s’érode trop doucement »",
          "VIDEO - Cet avion militaire américain qui pourrait révolutionner la guerre",
          "Vidéo. Bande de Gaza : avant la guerre, un territoire à l’agonie",
          "Marseille : «On aime ce club, mais pas au point de faire des violences ou des dégradations»",
          "Mal-logement : le parc HLM paralysé par le Covid",
          "Les dix évènements qui marqueront 2024",
          "Elections européennes : Emmanuel Macron et Marine Le Pen installent leur duel",
          "20 photos marquantes de 2023",
          "Le Japon frappé par un important séisme/tsunami mais sans dégâts majeurs",
          "Elections aux Etats-Unis, Russie, UE… Ces 8 scrutins de 2024 qui pourraient tout changer dans le monde",
          "Le smic augmente de 15 euros à partir du 1ᵉʳ janvier 2024",
          "Immobilier ancien : jusqu'où ira la baisse des prix en France ?",
          "Vidéo. Loi « immigration » : le texte consacre-t-il la « préférence nationale », prônée par le Rassemblement national ?",
          "Comment la France a-t-elle été chassée du Sahel ?",
          "Trois ans après le Brexit, la City continue de transférer des emplois vers l'Europe",
          "Inflation : Pepsi, 7up, Lay's… Carrefour boycotte PepsiCo, Leclerc « tenté » de suivre",
          "Israël : le désaveu de la Cour suprême",
          "Légère remontée de l'inflation en France en décembre à 3,7 %",
          "Dès aujourd’hui, les grands patrons britanniques ont gagné autant qu’un salarié moyen en un an",
          "Livret A, LEP, PEL… les nouveaux taux de l'épargne réglementée",
          "« La transparence sur les informations sociales et environnementales incite les entreprises à mener une réflexion stratégique au service de leur pérennité »",
          "Le gouvernement veut s'attaquer à la « shrinkflation », l'inflation masquée en supermarché",
          "Patrick Artus : « Le reflux de l'inflation sera moins fort qu'annoncé »",
          "Vidéo. Les images de l’embrasement de l’avion de la Japan Airlines à Tokyo-Haneda",
          "« La City de Londres s’intéresse de très près au Labour britannique et ce dernier fait tout pour lui plaire »",
          "Vidéo. En images : le Japon touché par un important séisme",
          "« La France du “mais quand même…”, sans cesse occupée à négocier une exception à la règle, complique le vivre-ensemble »",
          "Vidéo. En images : l’Ukraine touchée par « un nombre record de missiles » lancés par la Russie",
          "Vidéo. Les coulisses de notre enquête « Narco Business » sur le trafic de fentanyl des cartels mexicains",
          "Ukraine : « Au sein de l'Otan, nous avons toujours dit que ce serait une guerre longue »",
          "Bruno Le Maire renouvelle son opération séduction à Wall Street",
          "Transport sanitaire : « L’absence de dialogue avec les artisans taxis et de mesures d’accompagnement témoigne d’une gestion technocratique et centralisée »",
          "Le Guyana relance la soif mondiale de pétrole",
          "Carrefour fait une offre sur les magasins de proximité de Casino",
          "Guerre Israël - Hamas : Benyamin Netanyahou sous pression après la mort d'otages tués par des soldats israéliens",
          "Voiture électrique : une démocratisation difficile",
          "Matières premières : « Rayon de soleil pour le miel »",
          "Gaza : Israël s'apprête à inonder les tunnels du Hamas",
          "Vidéo. En images : Bourges, Capitale européenne de la culture en 2028",
          "La guerre Israël-Hamas donne l’occasion à l’Egypte de retrouver une influence diplomatique",
          "Vidéo. En images : à la COP28, un rapport final qui mentionne les énergies fossiles « pour la toute première fois »",
          "Google, Apple vs Epic Games : « Le monople des géants du numérique s’érode trop doucement »",
          "« Dubaï connexion, comment blanchir cinquante millions de dollars » : découvrez le troisième épisode de notre série vidéo « Narco Business »",
          "VIDEO - Armement : les Européens peuvent-ils prendre la main sur leur défense ?",
          "VIDEO - Pourquoi ne fabrique-t-on plus de vélos en France ?",
          "VIDEO - Faut-il vraiment lutter contre l'inflation ?",
          "VIDEO - Pourquoi c'est devenu cool de faire ses courses chez Action ?",
          "Loi immigration : la CMP a démarré sous haute tension",
          "Loi immigration : la caution pour les étudiants étrangers inquiète universités et grandes écoles",
          "Immobilier : plaidoyer pour une forte baisse des « frais de notaire »",
          "Loi immigration : les points chauds de la négociation entre le gouvernement et LR",
          "Casino : Intermarché et Auchan emportent la mise",
          "Au Moyen-Orient, le risque de l’instabilité s’accroît dangereusement",
          "Fin du bonus à l’achat de voitures électriques en Allemagne : « On peut difficilement faire plus brutal »",
          "« Le législateur devrait proposer une formule de calcul de la participation spécifique pour les entreprises de moins de 50 salariés »",
          "Vincent Bolloré et Vivendi, le coup de sa vie",
          "Améliorer le référendum pour le rendre enfin « démocratiquement correct »",
          "Vidéo. En images : Vladimir Poutine réitère son objectif en Ukraine",
          "Les magasins Casino deviennent un sujet social et politique",
          "Inquiets, les salariés de Casino lancent un préavis de grève",
          "VIDEO - Défense : est-ce que les Européens peuvent reprendre le contrôle de leur sécurité ?",
          "Crédit immobilier : les banques repartent à la conquête de nouveaux clients",
          "BFM-TV perd son pari Ruquier face à CNews",
          "Fiscalité : les monnaies numériques dans la ligne de mire",
          "Impôts : la fin de la taxe d'habitation, une manne modeste pour les propriétaires",
          "La France bat son record historique d'exportation d'électricité",
          "A Gaza, la guerre sans fin de Benyamin Nétanyahou",
          "Alimentation : « Les acteurs de la distribution ont un rôle-clé à jouer dans la lutte contre le gaspillage »",
          "Qui est responsable si des bougies de Noël enflamment la jupe d’une invitée ?",
          "Aux origines de la « Terre sainte », ou la lente construction d’une Palestine « mythifiée »",
          "Vidéo. Ukraine : ce que les images disent de la stratégie d’attaque russe des bâtiments civils d’Avdiïvka",
          "VIDEO - Les images de la croix installée sur la flèche de Notre-Dame de Paris",
          "Impôts : taxe d'habitation et taxe foncière en 10 questions pratiques",
          "Ces communes qui majorent la taxe d'habitation sur les résidences secondaires",
          "Intermarché contraint de revendre trois Casino trois mois après leur achat",
          "Mort de Jacques Delors, le « tsar de Bruxelles »",
          "Taxe foncière : la facture va encore s'alourdir en 2024",
          "Impôts : ce qui change pour les entreprises en 2024",
          "« Nous vivons mondialement une économie de casino avec des montages financiers toujours plus complexes »",
          "Le double jeu dangereux de la Serbie",
          "Dans les palaces, les nouvelles frontières de l’hyperluxe",
          "« A travers les légendes sur Jésus, nous arrivons à discerner en filigrane des éléments sur sa véritable existence »",
          "Vidéo. Le Sénégal manque de poisson (mais il y a peut-être une solution)",
          "Impôt : coup de pouce supplémentaire aux attributions gratuites d'actions (AGA)",
          "Impôts : la taxe foncière pèse moins sur les riches propriétaires",
          "Impôt : zoom sur les avantages du plan de partage de la valorisation de l'entreprise (PPVE)",
          "Clap de fin pour les magasins Habitat",
          "M&A : Lazard prend la tête d'un classement français très bousculé",
          "Schneider, L'Oréal, Stellantis : les moteurs du CAC 40 ont tourné à plein régime cette année",
          "Le double héritage de Jacques Delors",
          "Impôts : ce qui change pour les ménages en 2024",
          "Pourquoi l’avenir du Moyen-Orient dépend autant d’Israël",
          "Grève à la tour Eiffel : le monument fermé au public à l’occasion du centenaire du décès de Gustave Eiffel",
          "Schneider Electric retrouve le club fermé des sociétés valant plus de 100 milliards d'euros",
          "L'Oréal continue de progresser encore plus vite que le marché de la beauté",
          "Le M&A mondial signe sa pire année de la décennie",
          "Joseph Stiglitz : « Le résultat des élections aux Etats-Unis dépend des perspectives économiques pour 2024, elles-mêmes liées à l’évolution du conflit au Moyen-Orient »",
          "Le distributeur Grand Frais s’apprête à entrer dans Paris",
          "Chloé Morin : « Pour Emmanuel Macron, le rebond va être de plus en plus difficile »",
          "Avis de gros temps sur la dette des pays en développement",
          "Lutte anticorruption : l’exécutif ne peut être juge et partie",
          "Pour Emmanuel Macron, des voeux 2024 placés sous le signe de la crise politique",
          "Prévention du terrorisme : l’impossible risque zéro",
          "La Chine prise au piège de ses crédits accordés aux pays en développement",
          "Bourse : les 7 chiffres fous des placements en actions",
          "M&A : Lazard prend la tête d'un classement français très bousculé",
          "Européennes 2024 : le camp Macron redoute les effets de la loi immigration",
          "M&A : les prix d'acquisition des PME décrochent",
          "Israël devrait disposer d'un canon laser dès 2024",
          "Trains annulés : grosse pagaille pour des milliers de passagers d'Eurostar avant le nouvel An",
          "Le trafic Eurostar en provenance et vers Londres reprendra de manière normale dimanche après une journée d’annulations complète",
          "Les villes maintiennent leurs efforts pour réduire leurs factures d'énergie",
          "Dominique Méda, sociologue : « Confirmer le tournant social de l’Union européenne est la meilleure manière de rendre moins attractifs les discours de l’extrême droite »",
          "Pourquoi l’avenir du Moyen-Orient dépend autant d’Israël"
         ],
         "legendgroup": "",
         "marker": {
          "color": [
           0.769,
           0.663,
           0.993,
           0.677,
           0.526,
           0.3,
           0.188,
           0.002,
           0.484,
           0.377,
           0.542,
           0.305,
           0.602,
           0.462,
           0.519,
           0.364,
           0.429,
           0.046,
           0.604,
           0.439,
           0.936,
           0.784,
           0.023,
           0.669,
           0.615,
           0.944,
           0.512,
           0.605,
           0.565,
           0.539,
           0.748,
           0.517,
           0.608,
           0.721,
           0.978,
           0.705,
           0.705,
           0.785,
           0.602,
           0.872,
           0.186,
           0.537,
           0.344,
           0.377,
           0.567,
           0.392,
           0.748,
           0.081,
           0.426,
           0.508,
           0,
           0.002,
           0.641,
           0.197,
           0.569,
           0.411,
           0.41,
           0.524,
           0.577,
           0.639,
           0.593,
           0.72,
           0.158,
           0.431,
           0.386,
           0.475,
           0.643,
           0.736,
           0.576,
           0.733,
           0.318,
           0.337,
           0.058,
           0.36,
           1,
           0.344,
           0.439,
           0.685,
           0.245,
           0.691,
           0.54,
           0.316,
           0.706,
           0.413,
           0.558,
           0.274,
           0.698,
           0.614,
           0.904,
           0.542,
           0.427,
           0.657,
           0.435,
           0.595,
           0.222,
           0.559,
           0.538,
           0.452,
           0.637,
           0.456,
           0.552,
           0.487,
           0.6,
           0.634,
           0.142,
           0.415,
           0.546,
           0.551,
           0.621,
           0.995,
           0.766,
           0.647,
           0.771,
           0.445,
           0.012,
           0.447,
           0.595,
           0.07,
           0.348,
           0.215,
           0.6,
           0.44,
           0.363,
           0.582,
           0.825,
           0.793,
           0.645,
           0.66,
           0.546
          ],
          "coloraxis": "coloraxis",
          "opacity": 0.7,
          "symbol": "circle"
         },
         "mode": "markers",
         "name": "",
         "orientation": "v",
         "showlegend": false,
         "type": "scatter",
         "x": [
          3.6286051,
          -5.3387346,
          -5.235308,
          4.7351165,
          1.2740533,
          3.4266531,
          3.317844,
          8.712342,
          3.6693394,
          4.702162,
          11.9999075,
          2.145154,
          11.043671,
          5.768706,
          10.637909,
          -1.0204506,
          9.980354,
          10.9201355,
          1.5635628,
          -6.5655932,
          -19.08549,
          -0.5053609,
          -18.376968,
          15.976027,
          1.1807321,
          -6.306945,
          -10.991293,
          2.229883,
          7.4217772,
          -8.912879,
          -3.216991,
          13.3766575,
          -13.096765,
          0.63045216,
          -12.622253,
          -6.8950768,
          -3.50346,
          -15.063378,
          11.275842,
          -1.7835593,
          15.441075,
          -2.4429817,
          14.106589,
          4.59939,
          3.1530094,
          -11.890292,
          -4.9454393,
          4.8076158,
          -16.866838,
          14.093902,
          10.230813,
          2.8328104,
          15.550572,
          3.3895216,
          -1.3164059,
          3.5922778,
          -1.3393984,
          6.3211536,
          8.652159,
          9.563162,
          11.419641,
          12.33733,
          -0.94147044,
          -2.9731503,
          -9.623589,
          -1.5908195,
          -13.098426,
          2.3064392,
          2.3691034,
          -7.0373573,
          7.3801003,
          -1.595749,
          16.603275,
          -18.6806,
          -16.254614,
          8.014477,
          -8.903956,
          7.535145,
          -3.4767764,
          -10.498325,
          -6.9965754,
          11.975394,
          -5.0804396,
          1.421244,
          -4.1248627,
          13.100394,
          8.982043,
          -12.05193,
          -12.642878,
          -15.876864,
          15.961016,
          -9.662758,
          -6.4611106,
          -9.556263,
          9.247903,
          -0.976223,
          -8.380517,
          6.297917,
          -9.578602,
          -10.204843,
          -10.585449,
          -18.059795,
          -8.969662,
          -7.4359274,
          15.161558,
          -6.645109,
          0.4746722,
          5.798907,
          -6.840769,
          -9.187906,
          -10.039055,
          -1.3806478,
          -3.4395905,
          0.046606395,
          -2.4386506,
          -0.80498004,
          3.24262,
          7.6772842,
          -2.7074838,
          -7.1767883,
          -9.614919,
          0.4218241,
          -10.048811,
          17.24317,
          -17.042828,
          -16.712366,
          -14.442546,
          -3.1915236,
          0.532866
         ],
         "xaxis": "x",
         "y": [
          -15.931312,
          6.7479987,
          -0.19347723,
          -18.044102,
          -5.7763324,
          -9.776985,
          -11.886297,
          -8.058243,
          3.288481,
          0.82400626,
          -1.472009,
          -5.859837,
          2.6405382,
          11.716383,
          12.491184,
          2.0689862,
          8.196037,
          -2.0106225,
          8.825656,
          2.850127,
          -17.758232,
          -17.5466,
          -16.572561,
          5.927561,
          -20.083254,
          -21.721931,
          -11.671896,
          3.6011868,
          14.039917,
          7.6903796,
          1.2711517,
          -5.430527,
          -10.267485,
          12.744642,
          -14.957121,
          12.38946,
          4.7833643,
          -8.550189,
          3.7935555,
          10.622836,
          4.6739244,
          8.570947,
          3.2321308,
          0.15923901,
          10.593212,
          3.8216963,
          9.342898,
          -5.6740603,
          -2.3500218,
          -2.706713,
          -10.139632,
          -1.5721337,
          -2.8252695,
          -12.737415,
          19.620869,
          6.426459,
          1.4685582,
          0.24859181,
          10.517765,
          13.838596,
          14.28599,
          11.732556,
          -12.720855,
          -13.253622,
          -12.044905,
          -14.227038,
          -3.8089921,
          19.206589,
          6.534971,
          14.115801,
          -8.69375,
          6.873097,
          2.9260204,
          -1.5214114,
          0.10762081,
          11.014519,
          -10.308832,
          -12.558927,
          -14.900358,
          -19.318306,
          -6.1193805,
          -3.7766562,
          12.117666,
          -0.22198519,
          17.448298,
          2.4449837,
          4.299311,
          -19.348375,
          -20.996918,
          -2.4195008,
          -12.314706,
          -21.962044,
          -18.824493,
          9.753887,
          -7.0803075,
          -0.69652504,
          11.866452,
          8.828186,
          -16.749426,
          -20.083286,
          -16.66368,
          -4.601555,
          -4.9205475,
          -1.4915485,
          -12.409897,
          -19.552206,
          18.608412,
          4.0481286,
          -3.2499504,
          -0.51162016,
          -2.576006,
          15.000875,
          -2.8653872,
          7.8440857,
          -7.5301213,
          4.1404366,
          -16.671448,
          -3.319495,
          -8.196329,
          -12.19556,
          -4.9269047,
          -15.810851,
          -7.2173567,
          -2.9117355,
          11.153097,
          11.882961,
          -22.560825,
          9.458355,
          17.932621
         ],
         "yaxis": "y"
        }
       ],
       "layout": {
        "coloraxis": {
         "colorbar": {
          "title": {
           "text": "Similarity"
          }
         },
         "colorscale": [
          [
           0,
           "rgb(150,0,90)"
          ],
          [
           0.125,
           "rgb(0,0,200)"
          ],
          [
           0.25,
           "rgb(0,25,255)"
          ],
          [
           0.375,
           "rgb(0,152,255)"
          ],
          [
           0.5,
           "rgb(44,255,150)"
          ],
          [
           0.625,
           "rgb(151,255,0)"
          ],
          [
           0.75,
           "rgb(255,234,0)"
          ],
          [
           0.875,
           "rgb(255,111,0)"
          ],
          [
           1,
           "rgb(255,0,0)"
          ]
         ]
        },
        "height": 650,
        "legend": {
         "tracegroupgap": 0
        },
        "template": {
         "data": {
          "bar": [
           {
            "error_x": {
             "color": "#2a3f5f"
            },
            "error_y": {
             "color": "#2a3f5f"
            },
            "marker": {
             "line": {
              "color": "#E5ECF6",
              "width": 0.5
             },
             "pattern": {
              "fillmode": "overlay",
              "size": 10,
              "solidity": 0.2
             }
            },
            "type": "bar"
           }
          ],
          "barpolar": [
           {
            "marker": {
             "line": {
              "color": "#E5ECF6",
              "width": 0.5
             },
             "pattern": {
              "fillmode": "overlay",
              "size": 10,
              "solidity": 0.2
             }
            },
            "type": "barpolar"
           }
          ],
          "carpet": [
           {
            "aaxis": {
             "endlinecolor": "#2a3f5f",
             "gridcolor": "white",
             "linecolor": "white",
             "minorgridcolor": "white",
             "startlinecolor": "#2a3f5f"
            },
            "baxis": {
             "endlinecolor": "#2a3f5f",
             "gridcolor": "white",
             "linecolor": "white",
             "minorgridcolor": "white",
             "startlinecolor": "#2a3f5f"
            },
            "type": "carpet"
           }
          ],
          "choropleth": [
           {
            "colorbar": {
             "outlinewidth": 0,
             "ticks": ""
            },
            "type": "choropleth"
           }
          ],
          "contour": [
           {
            "colorbar": {
             "outlinewidth": 0,
             "ticks": ""
            },
            "colorscale": [
             [
              0,
              "#0d0887"
             ],
             [
              0.1111111111111111,
              "#46039f"
             ],
             [
              0.2222222222222222,
              "#7201a8"
             ],
             [
              0.3333333333333333,
              "#9c179e"
             ],
             [
              0.4444444444444444,
              "#bd3786"
             ],
             [
              0.5555555555555556,
              "#d8576b"
             ],
             [
              0.6666666666666666,
              "#ed7953"
             ],
             [
              0.7777777777777778,
              "#fb9f3a"
             ],
             [
              0.8888888888888888,
              "#fdca26"
             ],
             [
              1,
              "#f0f921"
             ]
            ],
            "type": "contour"
           }
          ],
          "contourcarpet": [
           {
            "colorbar": {
             "outlinewidth": 0,
             "ticks": ""
            },
            "type": "contourcarpet"
           }
          ],
          "heatmap": [
           {
            "colorbar": {
             "outlinewidth": 0,
             "ticks": ""
            },
            "colorscale": [
             [
              0,
              "#0d0887"
             ],
             [
              0.1111111111111111,
              "#46039f"
             ],
             [
              0.2222222222222222,
              "#7201a8"
             ],
             [
              0.3333333333333333,
              "#9c179e"
             ],
             [
              0.4444444444444444,
              "#bd3786"
             ],
             [
              0.5555555555555556,
              "#d8576b"
             ],
             [
              0.6666666666666666,
              "#ed7953"
             ],
             [
              0.7777777777777778,
              "#fb9f3a"
             ],
             [
              0.8888888888888888,
              "#fdca26"
             ],
             [
              1,
              "#f0f921"
             ]
            ],
            "type": "heatmap"
           }
          ],
          "heatmapgl": [
           {
            "colorbar": {
             "outlinewidth": 0,
             "ticks": ""
            },
            "colorscale": [
             [
              0,
              "#0d0887"
             ],
             [
              0.1111111111111111,
              "#46039f"
             ],
             [
              0.2222222222222222,
              "#7201a8"
             ],
             [
              0.3333333333333333,
              "#9c179e"
             ],
             [
              0.4444444444444444,
              "#bd3786"
             ],
             [
              0.5555555555555556,
              "#d8576b"
             ],
             [
              0.6666666666666666,
              "#ed7953"
             ],
             [
              0.7777777777777778,
              "#fb9f3a"
             ],
             [
              0.8888888888888888,
              "#fdca26"
             ],
             [
              1,
              "#f0f921"
             ]
            ],
            "type": "heatmapgl"
           }
          ],
          "histogram": [
           {
            "marker": {
             "pattern": {
              "fillmode": "overlay",
              "size": 10,
              "solidity": 0.2
             }
            },
            "type": "histogram"
           }
          ],
          "histogram2d": [
           {
            "colorbar": {
             "outlinewidth": 0,
             "ticks": ""
            },
            "colorscale": [
             [
              0,
              "#0d0887"
             ],
             [
              0.1111111111111111,
              "#46039f"
             ],
             [
              0.2222222222222222,
              "#7201a8"
             ],
             [
              0.3333333333333333,
              "#9c179e"
             ],
             [
              0.4444444444444444,
              "#bd3786"
             ],
             [
              0.5555555555555556,
              "#d8576b"
             ],
             [
              0.6666666666666666,
              "#ed7953"
             ],
             [
              0.7777777777777778,
              "#fb9f3a"
             ],
             [
              0.8888888888888888,
              "#fdca26"
             ],
             [
              1,
              "#f0f921"
             ]
            ],
            "type": "histogram2d"
           }
          ],
          "histogram2dcontour": [
           {
            "colorbar": {
             "outlinewidth": 0,
             "ticks": ""
            },
            "colorscale": [
             [
              0,
              "#0d0887"
             ],
             [
              0.1111111111111111,
              "#46039f"
             ],
             [
              0.2222222222222222,
              "#7201a8"
             ],
             [
              0.3333333333333333,
              "#9c179e"
             ],
             [
              0.4444444444444444,
              "#bd3786"
             ],
             [
              0.5555555555555556,
              "#d8576b"
             ],
             [
              0.6666666666666666,
              "#ed7953"
             ],
             [
              0.7777777777777778,
              "#fb9f3a"
             ],
             [
              0.8888888888888888,
              "#fdca26"
             ],
             [
              1,
              "#f0f921"
             ]
            ],
            "type": "histogram2dcontour"
           }
          ],
          "mesh3d": [
           {
            "colorbar": {
             "outlinewidth": 0,
             "ticks": ""
            },
            "type": "mesh3d"
           }
          ],
          "parcoords": [
           {
            "line": {
             "colorbar": {
              "outlinewidth": 0,
              "ticks": ""
             }
            },
            "type": "parcoords"
           }
          ],
          "pie": [
           {
            "automargin": true,
            "type": "pie"
           }
          ],
          "scatter": [
           {
            "fillpattern": {
             "fillmode": "overlay",
             "size": 10,
             "solidity": 0.2
            },
            "type": "scatter"
           }
          ],
          "scatter3d": [
           {
            "line": {
             "colorbar": {
              "outlinewidth": 0,
              "ticks": ""
             }
            },
            "marker": {
             "colorbar": {
              "outlinewidth": 0,
              "ticks": ""
             }
            },
            "type": "scatter3d"
           }
          ],
          "scattercarpet": [
           {
            "marker": {
             "colorbar": {
              "outlinewidth": 0,
              "ticks": ""
             }
            },
            "type": "scattercarpet"
           }
          ],
          "scattergeo": [
           {
            "marker": {
             "colorbar": {
              "outlinewidth": 0,
              "ticks": ""
             }
            },
            "type": "scattergeo"
           }
          ],
          "scattergl": [
           {
            "marker": {
             "colorbar": {
              "outlinewidth": 0,
              "ticks": ""
             }
            },
            "type": "scattergl"
           }
          ],
          "scattermapbox": [
           {
            "marker": {
             "colorbar": {
              "outlinewidth": 0,
              "ticks": ""
             }
            },
            "type": "scattermapbox"
           }
          ],
          "scatterpolar": [
           {
            "marker": {
             "colorbar": {
              "outlinewidth": 0,
              "ticks": ""
             }
            },
            "type": "scatterpolar"
           }
          ],
          "scatterpolargl": [
           {
            "marker": {
             "colorbar": {
              "outlinewidth": 0,
              "ticks": ""
             }
            },
            "type": "scatterpolargl"
           }
          ],
          "scatterternary": [
           {
            "marker": {
             "colorbar": {
              "outlinewidth": 0,
              "ticks": ""
             }
            },
            "type": "scatterternary"
           }
          ],
          "surface": [
           {
            "colorbar": {
             "outlinewidth": 0,
             "ticks": ""
            },
            "colorscale": [
             [
              0,
              "#0d0887"
             ],
             [
              0.1111111111111111,
              "#46039f"
             ],
             [
              0.2222222222222222,
              "#7201a8"
             ],
             [
              0.3333333333333333,
              "#9c179e"
             ],
             [
              0.4444444444444444,
              "#bd3786"
             ],
             [
              0.5555555555555556,
              "#d8576b"
             ],
             [
              0.6666666666666666,
              "#ed7953"
             ],
             [
              0.7777777777777778,
              "#fb9f3a"
             ],
             [
              0.8888888888888888,
              "#fdca26"
             ],
             [
              1,
              "#f0f921"
             ]
            ],
            "type": "surface"
           }
          ],
          "table": [
           {
            "cells": {
             "fill": {
              "color": "#EBF0F8"
             },
             "line": {
              "color": "white"
             }
            },
            "header": {
             "fill": {
              "color": "#C8D4E3"
             },
             "line": {
              "color": "white"
             }
            },
            "type": "table"
           }
          ]
         },
         "layout": {
          "annotationdefaults": {
           "arrowcolor": "#2a3f5f",
           "arrowhead": 0,
           "arrowwidth": 1
          },
          "autotypenumbers": "strict",
          "coloraxis": {
           "colorbar": {
            "outlinewidth": 0,
            "ticks": ""
           }
          },
          "colorscale": {
           "diverging": [
            [
             0,
             "#8e0152"
            ],
            [
             0.1,
             "#c51b7d"
            ],
            [
             0.2,
             "#de77ae"
            ],
            [
             0.3,
             "#f1b6da"
            ],
            [
             0.4,
             "#fde0ef"
            ],
            [
             0.5,
             "#f7f7f7"
            ],
            [
             0.6,
             "#e6f5d0"
            ],
            [
             0.7,
             "#b8e186"
            ],
            [
             0.8,
             "#7fbc41"
            ],
            [
             0.9,
             "#4d9221"
            ],
            [
             1,
             "#276419"
            ]
           ],
           "sequential": [
            [
             0,
             "#0d0887"
            ],
            [
             0.1111111111111111,
             "#46039f"
            ],
            [
             0.2222222222222222,
             "#7201a8"
            ],
            [
             0.3333333333333333,
             "#9c179e"
            ],
            [
             0.4444444444444444,
             "#bd3786"
            ],
            [
             0.5555555555555556,
             "#d8576b"
            ],
            [
             0.6666666666666666,
             "#ed7953"
            ],
            [
             0.7777777777777778,
             "#fb9f3a"
            ],
            [
             0.8888888888888888,
             "#fdca26"
            ],
            [
             1,
             "#f0f921"
            ]
           ],
           "sequentialminus": [
            [
             0,
             "#0d0887"
            ],
            [
             0.1111111111111111,
             "#46039f"
            ],
            [
             0.2222222222222222,
             "#7201a8"
            ],
            [
             0.3333333333333333,
             "#9c179e"
            ],
            [
             0.4444444444444444,
             "#bd3786"
            ],
            [
             0.5555555555555556,
             "#d8576b"
            ],
            [
             0.6666666666666666,
             "#ed7953"
            ],
            [
             0.7777777777777778,
             "#fb9f3a"
            ],
            [
             0.8888888888888888,
             "#fdca26"
            ],
            [
             1,
             "#f0f921"
            ]
           ]
          },
          "colorway": [
           "#636efa",
           "#EF553B",
           "#00cc96",
           "#ab63fa",
           "#FFA15A",
           "#19d3f3",
           "#FF6692",
           "#B6E880",
           "#FF97FF",
           "#FECB52"
          ],
          "font": {
           "color": "#2a3f5f"
          },
          "geo": {
           "bgcolor": "white",
           "lakecolor": "white",
           "landcolor": "#E5ECF6",
           "showlakes": true,
           "showland": true,
           "subunitcolor": "white"
          },
          "hoverlabel": {
           "align": "left"
          },
          "hovermode": "closest",
          "mapbox": {
           "style": "light"
          },
          "paper_bgcolor": "white",
          "plot_bgcolor": "#E5ECF6",
          "polar": {
           "angularaxis": {
            "gridcolor": "white",
            "linecolor": "white",
            "ticks": ""
           },
           "bgcolor": "#E5ECF6",
           "radialaxis": {
            "gridcolor": "white",
            "linecolor": "white",
            "ticks": ""
           }
          },
          "scene": {
           "xaxis": {
            "backgroundcolor": "#E5ECF6",
            "gridcolor": "white",
            "gridwidth": 2,
            "linecolor": "white",
            "showbackground": true,
            "ticks": "",
            "zerolinecolor": "white"
           },
           "yaxis": {
            "backgroundcolor": "#E5ECF6",
            "gridcolor": "white",
            "gridwidth": 2,
            "linecolor": "white",
            "showbackground": true,
            "ticks": "",
            "zerolinecolor": "white"
           },
           "zaxis": {
            "backgroundcolor": "#E5ECF6",
            "gridcolor": "white",
            "gridwidth": 2,
            "linecolor": "white",
            "showbackground": true,
            "ticks": "",
            "zerolinecolor": "white"
           }
          },
          "shapedefaults": {
           "line": {
            "color": "#2a3f5f"
           }
          },
          "ternary": {
           "aaxis": {
            "gridcolor": "white",
            "linecolor": "white",
            "ticks": ""
           },
           "baxis": {
            "gridcolor": "white",
            "linecolor": "white",
            "ticks": ""
           },
           "bgcolor": "#E5ECF6",
           "caxis": {
            "gridcolor": "white",
            "linecolor": "white",
            "ticks": ""
           }
          },
          "title": {
           "x": 0.05
          },
          "xaxis": {
           "automargin": true,
           "gridcolor": "white",
           "linecolor": "white",
           "ticks": "",
           "title": {
            "standoff": 15
           },
           "zerolinecolor": "white",
           "zerolinewidth": 2
          },
          "yaxis": {
           "automargin": true,
           "gridcolor": "white",
           "linecolor": "white",
           "ticks": "",
           "title": {
            "standoff": 15
           },
           "zerolinecolor": "white",
           "zerolinewidth": 2
          }
         }
        },
        "title": {
         "text": "Similarity to 'Guerre en Ukraine' visualised using t-SNE"
        },
        "width": 1000,
        "xaxis": {
         "anchor": "y",
         "autorange": true,
         "domain": [
          0,
          1
         ],
         "range": [
          -21.314863835425385,
          19.472543835425384
         ],
         "title": {
          "text": "x"
         },
         "type": "linear"
        },
        "yaxis": {
         "anchor": "x",
         "autorange": true,
         "domain": [
          0,
          1
         ],
         "range": [
          -25.32725378820698,
          22.38729778820698
         ],
         "title": {
          "text": "y"
         },
         "type": "linear"
        }
       }
      },
      "image/png": "[encoded data removed]",
      "text/html": [
       "<div>                            <div id=\"dee05b86-3e58-4b16-ad17-e233229259d2\" class=\"plotly-graph-div\" style=\"height:650px; width:1000px;\"></div>            <script type=\"text/javascript\">                require([\"plotly\"], function(Plotly) {                    window.PLOTLYENV=window.PLOTLYENV || {};                                    if (document.getElementById(\"dee05b86-3e58-4b16-ad17-e233229259d2\")) {                    Plotly.newPlot(                        \"dee05b86-3e58-4b16-ad17-e233229259d2\",                        [{\"hovertemplate\":\"<b>%{hovertext}</b><br><br>x=%{x}<br>y=%{y}<br>Similarity=%{marker.color}<extra></extra>\",\"hovertext\":[\"Pour ses voeux aux Français, Emmanuel Macron veut faire de 2024 une « année de détermination »\",\"« L’agrivoltaïsme suppose que l’agriculture conserve une place principale »\",\"Artcurial, Sotheby's, Drouot : les maisons de vente peaufinent leur stratégie de marque\",\"Pour Paris 2024, les chantiers olympiques arrivent dans les temps\",\"La Bulgarie et la Roumanie vont partiellement intégrer l'espace Schengen\",\"Quand la sortie du réveillon est gâchée par le verglas\",\"Paris 2024 : « Quand la magie du sport opère »\",\"Depardieu : la faute politique du président\",\"VIDEO - Pourquoi l'Argentine manifeste contre le « mega-décret » de son nouveau président ?\",\"Vidéo. Les coulisses de notre enquête « Narco Business » sur le trafic de fentanyl des cartels mexicains\",\"Vidéo. A Gaza, des corps enterrés dans des fosses communes, tandis que la riposte israélienne s’intensifie\",\"La Moldavie veut accélérer son rapprochement de l'Union européenne\",\"Les images impressionnantes de l'explosion d'un navire russe dans le port de Feodossia, en Crimée\",\"VIDEO - Pourquoi l'enlisement de la guerre en Ukraine est la meilleure chose qui pouvait arriver à la Russie\",\"VIDEO - Démographie : faire moins d'enfants, est-ce vraiment un problème ?\",\"Google, Apple vs Epic Games : « Le monopole des géants du numérique s’érode trop doucement »\",\"VIDEO - Cet avion militaire américain qui pourrait révolutionner la guerre\",\"Vidéo. Bande de Gaza : avant la guerre, un territoire à l’agonie\",\"Marseille : «On aime ce club, mais pas au point de faire des violences ou des dégradations»\",\"Mal-logement : le parc HLM paralysé par le Covid\",\"Les dix évènements qui marqueront 2024\",\"Elections européennes : Emmanuel Macron et Marine Le Pen installent leur duel\",\"20 photos marquantes de 2023\",\"Le Japon frappé par un important séisme/tsunami mais sans dégâts majeurs\",\"Elections aux Etats-Unis, Russie, UE… Ces 8 scrutins de 2024 qui pourraient tout changer dans le monde\",\"Le smic augmente de 15 euros à partir du 1ᵉʳ janvier 2024\",\"Immobilier ancien : jusqu'où ira la baisse des prix en France ?\",\"Vidéo. Loi « immigration » : le texte consacre-t-il la « préférence nationale », prônée par le Rassemblement national ?\",\"Comment la France a-t-elle été chassée du Sahel ?\",\"Trois ans après le Brexit, la City continue de transférer des emplois vers l'Europe\",\"Inflation : Pepsi, 7up, Lay's… Carrefour boycotte PepsiCo, Leclerc « tenté » de suivre\",\"Israël : le désaveu de la Cour suprême\",\"Légère remontée de l'inflation en France en décembre à 3,7 %\",\"Dès aujourd’hui, les grands patrons britanniques ont gagné autant qu’un salarié moyen en un an\",\"Livret A, LEP, PEL… les nouveaux taux de l'épargne réglementée\",\"« La transparence sur les informations sociales et environnementales incite les entreprises à mener une réflexion stratégique au service de leur pérennité »\",\"Le gouvernement veut s'attaquer à la « shrinkflation », l'inflation masquée en supermarché\",\"Patrick Artus : « Le reflux de l'inflation sera moins fort qu'annoncé »\",\"Vidéo. Les images de l’embrasement de l’avion de la Japan Airlines à Tokyo-Haneda\",\"« La City de Londres s’intéresse de très près au Labour britannique et ce dernier fait tout pour lui plaire »\",\"Vidéo. En images : le Japon touché par un important séisme\",\"« La France du “mais quand même…”, sans cesse occupée à négocier une exception à la règle, complique le vivre-ensemble »\",\"Vidéo. En images : l’Ukraine touchée par « un nombre record de missiles » lancés par la Russie\",\"Vidéo. Les coulisses de notre enquête « Narco Business » sur le trafic de fentanyl des cartels mexicains\",\"Ukraine : « Au sein de l'Otan, nous avons toujours dit que ce serait une guerre longue »\",\"Bruno Le Maire renouvelle son opération séduction à Wall Street\",\"Transport sanitaire : « L’absence de dialogue avec les artisans taxis et de mesures d’accompagnement témoigne d’une gestion technocratique et centralisée »\",\"Le Guyana relance la soif mondiale de pétrole\",\"Carrefour fait une offre sur les magasins de proximité de Casino\",\"Guerre Israël - Hamas : Benyamin Netanyahou sous pression après la mort d'otages tués par des soldats israéliens\",\"Voiture électrique : une démocratisation difficile\",\"Matières premières : « Rayon de soleil pour le miel »\",\"Gaza : Israël s'apprête à inonder les tunnels du Hamas\",\"Vidéo. En images : Bourges, Capitale européenne de la culture en 2028\",\"La guerre Israël-Hamas donne l’occasion à l’Egypte de retrouver une influence diplomatique\",\"Vidéo. En images : à la COP28, un rapport final qui mentionne les énergies fossiles « pour la toute première fois »\",\"Google, Apple vs Epic Games : « Le monople des géants du numérique s’érode trop doucement »\",\"« Dubaï connexion, comment blanchir cinquante millions de dollars » : découvrez le troisième épisode de notre série vidéo « Narco Business »\",\"VIDEO - Armement : les Européens peuvent-ils prendre la main sur leur défense ?\",\"VIDEO - Pourquoi ne fabrique-t-on plus de vélos en France ?\",\"VIDEO - Faut-il vraiment lutter contre l'inflation ?\",\"VIDEO - Pourquoi c'est devenu cool de faire ses courses chez Action ?\",\"Loi immigration : la CMP a démarré sous haute tension\",\"Loi immigration : la caution pour les étudiants étrangers inquiète universités et grandes écoles\",\"Immobilier : plaidoyer pour une forte baisse des « frais de notaire »\",\"Loi immigration : les points chauds de la négociation entre le gouvernement et LR\",\"Casino : Intermarché et Auchan emportent la mise\",\"Au Moyen-Orient, le risque de l’instabilité s’accroît dangereusement\",\"Fin du bonus à l’achat de voitures électriques en Allemagne : « On peut difficilement faire plus brutal »\",\"« Le législateur devrait proposer une formule de calcul de la participation spécifique pour les entreprises de moins de 50 salariés »\",\"Vincent Bolloré et Vivendi, le coup de sa vie\",\"Améliorer le référendum pour le rendre enfin « démocratiquement correct »\",\"Vidéo. En images : Vladimir Poutine réitère son objectif en Ukraine\",\"Les magasins Casino deviennent un sujet social et politique\",\"Inquiets, les salariés de Casino lancent un préavis de grève\",\"VIDEO - Défense : est-ce que les Européens peuvent reprendre le contrôle de leur sécurité ?\",\"Crédit immobilier : les banques repartent à la conquête de nouveaux clients\",\"BFM-TV perd son pari Ruquier face à CNews\",\"Fiscalité : les monnaies numériques dans la ligne de mire\",\"Impôts : la fin de la taxe d'habitation, une manne modeste pour les propriétaires\",\"La France bat son record historique d'exportation d'électricité\",\"A Gaza, la guerre sans fin de Benyamin Nétanyahou\",\"Alimentation : « Les acteurs de la distribution ont un rôle-clé à jouer dans la lutte contre le gaspillage »\",\"Qui est responsable si des bougies de Noël enflamment la jupe d’une invitée ?\",\"Aux origines de la « Terre sainte », ou la lente construction d’une Palestine « mythifiée »\",\"Vidéo. Ukraine : ce que les images disent de la stratégie d’attaque russe des bâtiments civils d’Avdiïvka\",\"VIDEO - Les images de la croix installée sur la flèche de Notre-Dame de Paris\",\"Impôts : taxe d'habitation et taxe foncière en 10 questions pratiques\",\"Ces communes qui majorent la taxe d'habitation sur les résidences secondaires\",\"Intermarché contraint de revendre trois Casino trois mois après leur achat\",\"Mort de Jacques Delors, le « tsar de Bruxelles »\",\"Taxe foncière : la facture va encore s'alourdir en 2024\",\"Impôts : ce qui change pour les entreprises en 2024\",\"« Nous vivons mondialement une économie de casino avec des montages financiers toujours plus complexes »\",\"Le double jeu dangereux de la Serbie\",\"Dans les palaces, les nouvelles frontières de l’hyperluxe\",\"« A travers les légendes sur Jésus, nous arrivons à discerner en filigrane des éléments sur sa véritable existence »\",\"Vidéo. Le Sénégal manque de poisson (mais il y a peut-être une solution)\",\"Impôt : coup de pouce supplémentaire aux attributions gratuites d'actions (AGA)\",\"Impôts : la taxe foncière pèse moins sur les riches propriétaires\",\"Impôt : zoom sur les avantages du plan de partage de la valorisation de l'entreprise (PPVE)\",\"Clap de fin pour les magasins Habitat\",\"M&A : Lazard prend la tête d'un classement français très bousculé\",\"Schneider, L'Oréal, Stellantis : les moteurs du CAC 40 ont tourné à plein régime cette année\",\"Le double héritage de Jacques Delors\",\"Impôts : ce qui change pour les ménages en 2024\",\"Pourquoi l’avenir du Moyen-Orient dépend autant d’Israël\",\"Grève à la tour Eiffel : le monument fermé au public à l’occasion du centenaire du décès de Gustave Eiffel\",\"Schneider Electric retrouve le club fermé des sociétés valant plus de 100 milliards d'euros\",\"L'Oréal continue de progresser encore plus vite que le marché de la beauté\",\"Le M&A mondial signe sa pire année de la décennie\",\"Joseph Stiglitz : « Le résultat des élections aux Etats-Unis dépend des perspectives économiques pour 2024, elles-mêmes liées à l’évolution du conflit au Moyen-Orient »\",\"Le distributeur Grand Frais s’apprête à entrer dans Paris\",\"Chloé Morin : « Pour Emmanuel Macron, le rebond va être de plus en plus difficile »\",\"Avis de gros temps sur la dette des pays en développement\",\"Lutte anticorruption : l’exécutif ne peut être juge et partie\",\"Pour Emmanuel Macron, des voeux 2024 placés sous le signe de la crise politique\",\"Prévention du terrorisme : l’impossible risque zéro\",\"La Chine prise au piège de ses crédits accordés aux pays en développement\",\"Bourse : les 7 chiffres fous des placements en actions\",\"M&A : Lazard prend la tête d'un classement français très bousculé\",\"Européennes 2024 : le camp Macron redoute les effets de la loi immigration\",\"M&A : les prix d'acquisition des PME décrochent\",\"Israël devrait disposer d'un canon laser dès 2024\",\"Trains annulés : grosse pagaille pour des milliers de passagers d'Eurostar avant le nouvel An\",\"Le trafic Eurostar en provenance et vers Londres reprendra de manière normale dimanche après une journée d’annulations complète\",\"Les villes maintiennent leurs efforts pour réduire leurs factures d'énergie\",\"Dominique Méda, sociologue : « Confirmer le tournant social de l’Union européenne est la meilleure manière de rendre moins attractifs les discours de l’extrême droite »\",\"Pourquoi l’avenir du Moyen-Orient dépend autant d’Israël\"],\"legendgroup\":\"\",\"marker\":{\"color\":[0.769,0.663,0.993,0.677,0.526,0.3,0.188,0.002,0.484,0.377,0.542,0.305,0.602,0.462,0.519,0.364,0.429,0.046,0.604,0.439,0.936,0.784,0.023,0.669,0.615,0.944,0.512,0.605,0.565,0.539,0.748,0.517,0.608,0.721,0.978,0.705,0.705,0.785,0.602,0.872,0.186,0.537,0.344,0.377,0.567,0.392,0.748,0.081,0.426,0.508,0.0,0.002,0.641,0.197,0.569,0.411,0.41,0.524,0.577,0.639,0.593,0.72,0.158,0.431,0.386,0.475,0.643,0.736,0.576,0.733,0.318,0.337,0.058,0.36,1.0,0.344,0.439,0.685,0.245,0.691,0.54,0.316,0.706,0.413,0.558,0.274,0.698,0.614,0.904,0.542,0.427,0.657,0.435,0.595,0.222,0.559,0.538,0.452,0.637,0.456,0.552,0.487,0.6,0.634,0.142,0.415,0.546,0.551,0.621,0.995,0.766,0.647,0.771,0.445,0.012,0.447,0.595,0.07,0.348,0.215,0.6,0.44,0.363,0.582,0.825,0.793,0.645,0.66,0.546],\"coloraxis\":\"coloraxis\",\"opacity\":0.7,\"symbol\":\"circle\"},\"mode\":\"markers\",\"name\":\"\",\"orientation\":\"v\",\"showlegend\":false,\"x\":[3.6286051,-5.3387346,-5.235308,4.7351165,1.2740533,3.4266531,3.317844,8.712342,3.6693394,4.702162,11.9999075,2.145154,11.043671,5.768706,10.637909,-1.0204506,9.980354,10.9201355,1.5635628,-6.5655932,-19.08549,-0.5053609,-18.376968,15.976027,1.1807321,-6.306945,-10.991293,2.229883,7.4217772,-8.912879,-3.216991,13.3766575,-13.096765,0.63045216,-12.622253,-6.8950768,-3.50346,-15.063378,11.275842,-1.7835593,15.441075,-2.4429817,14.106589,4.59939,3.1530094,-11.890292,-4.9454393,4.8076158,-16.866838,14.093902,10.230813,2.8328104,15.550572,3.3895216,-1.3164059,3.5922778,-1.3393984,6.3211536,8.652159,9.563162,11.419641,12.33733,-0.94147044,-2.9731503,-9.623589,-1.5908195,-13.098426,2.3064392,2.3691034,-7.0373573,7.3801003,-1.595749,16.603275,-18.6806,-16.254614,8.014477,-8.903956,7.535145,-3.4767764,-10.498325,-6.9965754,11.975394,-5.0804396,1.421244,-4.1248627,13.100394,8.982043,-12.05193,-12.642878,-15.876864,15.961016,-9.662758,-6.4611106,-9.556263,9.247903,-0.976223,-8.380517,6.297917,-9.578602,-10.204843,-10.585449,-18.059795,-8.969662,-7.4359274,15.161558,-6.645109,0.4746722,5.798907,-6.840769,-9.187906,-10.039055,-1.3806478,-3.4395905,0.046606395,-2.4386506,-0.80498004,3.24262,7.6772842,-2.7074838,-7.1767883,-9.614919,0.4218241,-10.048811,17.24317,-17.042828,-16.712366,-14.442546,-3.1915236,0.532866],\"xaxis\":\"x\",\"y\":[-15.931312,6.7479987,-0.19347723,-18.044102,-5.7763324,-9.776985,-11.886297,-8.058243,3.288481,0.82400626,-1.472009,-5.859837,2.6405382,11.716383,12.491184,2.0689862,8.196037,-2.0106225,8.825656,2.850127,-17.758232,-17.5466,-16.572561,5.927561,-20.083254,-21.721931,-11.671896,3.6011868,14.039917,7.6903796,1.2711517,-5.430527,-10.267485,12.744642,-14.957121,12.38946,4.7833643,-8.550189,3.7935555,10.622836,4.6739244,8.570947,3.2321308,0.15923901,10.593212,3.8216963,9.342898,-5.6740603,-2.3500218,-2.706713,-10.139632,-1.5721337,-2.8252695,-12.737415,19.620869,6.426459,1.4685582,0.24859181,10.517765,13.838596,14.28599,11.732556,-12.720855,-13.253622,-12.044905,-14.227038,-3.8089921,19.206589,6.534971,14.115801,-8.69375,6.873097,2.9260204,-1.5214114,0.10762081,11.014519,-10.308832,-12.558927,-14.900358,-19.318306,-6.1193805,-3.7766562,12.117666,-0.22198519,17.448298,2.4449837,4.299311,-19.348375,-20.996918,-2.4195008,-12.314706,-21.962044,-18.824493,9.753887,-7.0803075,-0.69652504,11.866452,8.828186,-16.749426,-20.083286,-16.66368,-4.601555,-4.9205475,-1.4915485,-12.409897,-19.552206,18.608412,4.0481286,-3.2499504,-0.51162016,-2.576006,15.000875,-2.8653872,7.8440857,-7.5301213,4.1404366,-16.671448,-3.319495,-8.196329,-12.19556,-4.9269047,-15.810851,-7.2173567,-2.9117355,11.153097,11.882961,-22.560825,9.458355,17.932621],\"yaxis\":\"y\",\"type\":\"scatter\"}],                        {\"template\":{\"data\":{\"histogram2dcontour\":[{\"type\":\"histogram2dcontour\",\"colorbar\":{\"outlinewidth\":0,\"ticks\":\"\"},\"colorscale\":[[0.0,\"#0d0887\"],[0.1111111111111111,\"#46039f\"],[0.2222222222222222,\"#7201a8\"],[0.3333333333333333,\"#9c179e\"],[0.4444444444444444,\"#bd3786\"],[0.5555555555555556,\"#d8576b\"],[0.6666666666666666,\"#ed7953\"],[0.7777777777777778,\"#fb9f3a\"],[0.8888888888888888,\"#fdca26\"],[1.0,\"#f0f921\"]]}],\"choropleth\":[{\"type\":\"choropleth\",\"colorbar\":{\"outlinewidth\":0,\"ticks\":\"\"}}],\"histogram2d\":[{\"type\":\"histogram2d\",\"colorbar\":{\"outlinewidth\":0,\"ticks\":\"\"},\"colorscale\":[[0.0,\"#0d0887\"],[0.1111111111111111,\"#46039f\"],[0.2222222222222222,\"#7201a8\"],[0.3333333333333333,\"#9c179e\"],[0.4444444444444444,\"#bd3786\"],[0.5555555555555556,\"#d8576b\"],[0.6666666666666666,\"#ed7953\"],[0.7777777777777778,\"#fb9f3a\"],[0.8888888888888888,\"#fdca26\"],[1.0,\"#f0f921\"]]}],\"heatmap\":[{\"type\":\"heatmap\",\"colorbar\":{\"outlinewidth\":0,\"ticks\":\"\"},\"colorscale\":[[0.0,\"#0d0887\"],[0.1111111111111111,\"#46039f\"],[0.2222222222222222,\"#7201a8\"],[0.3333333333333333,\"#9c179e\"],[0.4444444444444444,\"#bd3786\"],[0.5555555555555556,\"#d8576b\"],[0.6666666666666666,\"#ed7953\"],[0.7777777777777778,\"#fb9f3a\"],[0.8888888888888888,\"#fdca26\"],[1.0,\"#f0f921\"]]}],\"heatmapgl\":[{\"type\":\"heatmapgl\",\"colorbar\":{\"outlinewidth\":0,\"ticks\":\"\"},\"colorscale\":[[0.0,\"#0d0887\"],[0.1111111111111111,\"#46039f\"],[0.2222222222222222,\"#7201a8\"],[0.3333333333333333,\"#9c179e\"],[0.4444444444444444,\"#bd3786\"],[0.5555555555555556,\"#d8576b\"],[0.6666666666666666,\"#ed7953\"],[0.7777777777777778,\"#fb9f3a\"],[0.8888888888888888,\"#fdca26\"],[1.0,\"#f0f921\"]]}],\"contourcarpet\":[{\"type\":\"contourcarpet\",\"colorbar\":{\"outlinewidth\":0,\"ticks\":\"\"}}],\"contour\":[{\"type\":\"contour\",\"colorbar\":{\"outlinewidth\":0,\"ticks\":\"\"},\"colorscale\":[[0.0,\"#0d0887\"],[0.1111111111111111,\"#46039f\"],[0.2222222222222222,\"#7201a8\"],[0.3333333333333333,\"#9c179e\"],[0.4444444444444444,\"#bd3786\"],[0.5555555555555556,\"#d8576b\"],[0.6666666666666666,\"#ed7953\"],[0.7777777777777778,\"#fb9f3a\"],[0.8888888888888888,\"#fdca26\"],[1.0,\"#f0f921\"]]}],\"surface\":[{\"type\":\"surface\",\"colorbar\":{\"outlinewidth\":0,\"ticks\":\"\"},\"colorscale\":[[0.0,\"#0d0887\"],[0.1111111111111111,\"#46039f\"],[0.2222222222222222,\"#7201a8\"],[0.3333333333333333,\"#9c179e\"],[0.4444444444444444,\"#bd3786\"],[0.5555555555555556,\"#d8576b\"],[0.6666666666666666,\"#ed7953\"],[0.7777777777777778,\"#fb9f3a\"],[0.8888888888888888,\"#fdca26\"],[1.0,\"#f0f921\"]]}],\"mesh3d\":[{\"type\":\"mesh3d\",\"colorbar\":{\"outlinewidth\":0,\"ticks\":\"\"}}],\"scatter\":[{\"fillpattern\":{\"fillmode\":\"overlay\",\"size\":10,\"solidity\":0.2},\"type\":\"scatter\"}],\"parcoords\":[{\"type\":\"parcoords\",\"line\":{\"colorbar\":{\"outlinewidth\":0,\"ticks\":\"\"}}}],\"scatterpolargl\":[{\"type\":\"scatterpolargl\",\"marker\":{\"colorbar\":{\"outlinewidth\":0,\"ticks\":\"\"}}}],\"bar\":[{\"error_x\":{\"color\":\"#2a3f5f\"},\"error_y\":{\"color\":\"#2a3f5f\"},\"marker\":{\"line\":{\"color\":\"#E5ECF6\",\"width\":0.5},\"pattern\":{\"fillmode\":\"overlay\",\"size\":10,\"solidity\":0.2}},\"type\":\"bar\"}],\"scattergeo\":[{\"type\":\"scattergeo\",\"marker\":{\"colorbar\":{\"outlinewidth\":0,\"ticks\":\"\"}}}],\"scatterpolar\":[{\"type\":\"scatterpolar\",\"marker\":{\"colorbar\":{\"outlinewidth\":0,\"ticks\":\"\"}}}],\"histogram\":[{\"marker\":{\"pattern\":{\"fillmode\":\"overlay\",\"size\":10,\"solidity\":0.2}},\"type\":\"histogram\"}],\"scattergl\":[{\"type\":\"scattergl\",\"marker\":{\"colorbar\":{\"outlinewidth\":0,\"ticks\":\"\"}}}],\"scatter3d\":[{\"type\":\"scatter3d\",\"line\":{\"colorbar\":{\"outlinewidth\":0,\"ticks\":\"\"}},\"marker\":{\"colorbar\":{\"outlinewidth\":0,\"ticks\":\"\"}}}],\"scattermapbox\":[{\"type\":\"scattermapbox\",\"marker\":{\"colorbar\":{\"outlinewidth\":0,\"ticks\":\"\"}}}],\"scatterternary\":[{\"type\":\"scatterternary\",\"marker\":{\"colorbar\":{\"outlinewidth\":0,\"ticks\":\"\"}}}],\"scattercarpet\":[{\"type\":\"scattercarpet\",\"marker\":{\"colorbar\":{\"outlinewidth\":0,\"ticks\":\"\"}}}],\"carpet\":[{\"aaxis\":{\"endlinecolor\":\"#2a3f5f\",\"gridcolor\":\"white\",\"linecolor\":\"white\",\"minorgridcolor\":\"white\",\"startlinecolor\":\"#2a3f5f\"},\"baxis\":{\"endlinecolor\":\"#2a3f5f\",\"gridcolor\":\"white\",\"linecolor\":\"white\",\"minorgridcolor\":\"white\",\"startlinecolor\":\"#2a3f5f\"},\"type\":\"carpet\"}],\"table\":[{\"cells\":{\"fill\":{\"color\":\"#EBF0F8\"},\"line\":{\"color\":\"white\"}},\"header\":{\"fill\":{\"color\":\"#C8D4E3\"},\"line\":{\"color\":\"white\"}},\"type\":\"table\"}],\"barpolar\":[{\"marker\":{\"line\":{\"color\":\"#E5ECF6\",\"width\":0.5},\"pattern\":{\"fillmode\":\"overlay\",\"size\":10,\"solidity\":0.2}},\"type\":\"barpolar\"}],\"pie\":[{\"automargin\":true,\"type\":\"pie\"}]},\"layout\":{\"autotypenumbers\":\"strict\",\"colorway\":[\"#636efa\",\"#EF553B\",\"#00cc96\",\"#ab63fa\",\"#FFA15A\",\"#19d3f3\",\"#FF6692\",\"#B6E880\",\"#FF97FF\",\"#FECB52\"],\"font\":{\"color\":\"#2a3f5f\"},\"hovermode\":\"closest\",\"hoverlabel\":{\"align\":\"left\"},\"paper_bgcolor\":\"white\",\"plot_bgcolor\":\"#E5ECF6\",\"polar\":{\"bgcolor\":\"#E5ECF6\",\"angularaxis\":{\"gridcolor\":\"white\",\"linecolor\":\"white\",\"ticks\":\"\"},\"radialaxis\":{\"gridcolor\":\"white\",\"linecolor\":\"white\",\"ticks\":\"\"}},\"ternary\":{\"bgcolor\":\"#E5ECF6\",\"aaxis\":{\"gridcolor\":\"white\",\"linecolor\":\"white\",\"ticks\":\"\"},\"baxis\":{\"gridcolor\":\"white\",\"linecolor\":\"white\",\"ticks\":\"\"},\"caxis\":{\"gridcolor\":\"white\",\"linecolor\":\"white\",\"ticks\":\"\"}},\"coloraxis\":{\"colorbar\":{\"outlinewidth\":0,\"ticks\":\"\"}},\"colorscale\":{\"sequential\":[[0.0,\"#0d0887\"],[0.1111111111111111,\"#46039f\"],[0.2222222222222222,\"#7201a8\"],[0.3333333333333333,\"#9c179e\"],[0.4444444444444444,\"#bd3786\"],[0.5555555555555556,\"#d8576b\"],[0.6666666666666666,\"#ed7953\"],[0.7777777777777778,\"#fb9f3a\"],[0.8888888888888888,\"#fdca26\"],[1.0,\"#f0f921\"]],\"sequentialminus\":[[0.0,\"#0d0887\"],[0.1111111111111111,\"#46039f\"],[0.2222222222222222,\"#7201a8\"],[0.3333333333333333,\"#9c179e\"],[0.4444444444444444,\"#bd3786\"],[0.5555555555555556,\"#d8576b\"],[0.6666666666666666,\"#ed7953\"],[0.7777777777777778,\"#fb9f3a\"],[0.8888888888888888,\"#fdca26\"],[1.0,\"#f0f921\"]],\"diverging\":[[0,\"#8e0152\"],[0.1,\"#c51b7d\"],[0.2,\"#de77ae\"],[0.3,\"#f1b6da\"],[0.4,\"#fde0ef\"],[0.5,\"#f7f7f7\"],[0.6,\"#e6f5d0\"],[0.7,\"#b8e186\"],[0.8,\"#7fbc41\"],[0.9,\"#4d9221\"],[1,\"#276419\"]]},\"xaxis\":{\"gridcolor\":\"white\",\"linecolor\":\"white\",\"ticks\":\"\",\"title\":{\"standoff\":15},\"zerolinecolor\":\"white\",\"automargin\":true,\"zerolinewidth\":2},\"yaxis\":{\"gridcolor\":\"white\",\"linecolor\":\"white\",\"ticks\":\"\",\"title\":{\"standoff\":15},\"zerolinecolor\":\"white\",\"automargin\":true,\"zerolinewidth\":2},\"scene\":{\"xaxis\":{\"backgroundcolor\":\"#E5ECF6\",\"gridcolor\":\"white\",\"linecolor\":\"white\",\"showbackground\":true,\"ticks\":\"\",\"zerolinecolor\":\"white\",\"gridwidth\":2},\"yaxis\":{\"backgroundcolor\":\"#E5ECF6\",\"gridcolor\":\"white\",\"linecolor\":\"white\",\"showbackground\":true,\"ticks\":\"\",\"zerolinecolor\":\"white\",\"gridwidth\":2},\"zaxis\":{\"backgroundcolor\":\"#E5ECF6\",\"gridcolor\":\"white\",\"linecolor\":\"white\",\"showbackground\":true,\"ticks\":\"\",\"zerolinecolor\":\"white\",\"gridwidth\":2}},\"shapedefaults\":{\"line\":{\"color\":\"#2a3f5f\"}},\"annotationdefaults\":{\"arrowcolor\":\"#2a3f5f\",\"arrowhead\":0,\"arrowwidth\":1},\"geo\":{\"bgcolor\":\"white\",\"landcolor\":\"#E5ECF6\",\"subunitcolor\":\"white\",\"showland\":true,\"showlakes\":true,\"lakecolor\":\"white\"},\"title\":{\"x\":0.05},\"mapbox\":{\"style\":\"light\"}}},\"xaxis\":{\"anchor\":\"y\",\"domain\":[0.0,1.0],\"title\":{\"text\":\"x\"}},\"yaxis\":{\"anchor\":\"x\",\"domain\":[0.0,1.0],\"title\":{\"text\":\"y\"}},\"coloraxis\":{\"colorbar\":{\"title\":{\"text\":\"Similarity\"}},\"colorscale\":[[0.0,\"rgb(150,0,90)\"],[0.125,\"rgb(0,0,200)\"],[0.25,\"rgb(0,25,255)\"],[0.375,\"rgb(0,152,255)\"],[0.5,\"rgb(44,255,150)\"],[0.625,\"rgb(151,255,0)\"],[0.75,\"rgb(255,234,0)\"],[0.875,\"rgb(255,111,0)\"],[1.0,\"rgb(255,0,0)\"]]},\"legend\":{\"tracegroupgap\":0},\"title\":{\"text\":\"Similarity to 'Guerre en Ukraine' visualised using t-SNE\"},\"width\":1000,\"height\":650},                        {\"responsive\": true}                    ).then(function(){\n",
       "                            \n",
       "var gd = document.getElementById('dee05b86-3e58-4b16-ad17-e233229259d2');\n",
       "var x = new MutationObserver(function (mutations, observer) {{\n",
       "        var display = window.getComputedStyle(gd).display;\n",
       "        if (!display || display === 'none') {{\n",
       "            console.log([gd, 'removed!']);\n",
       "            Plotly.purge(gd);\n",
       "            observer.disconnect();\n",
       "        }}\n",
       "}});\n",
       "\n",
       "// Listen for the removal of the full notebook cells\n",
       "var notebookContainer = gd.closest('#notebook-container');\n",
       "if (notebookContainer) {{\n",
       "    x.observe(notebookContainer, {childList: true});\n",
       "}}\n",
       "\n",
       "// Listen for the clearing of the current output cell\n",
       "var outputEl = gd.closest('.output');\n",
       "if (outputEl) {{\n",
       "    x.observe(outputEl, {childList: true});\n",
       "}}\n",
       "\n",
       "                        })                };                });            </script>        </div>"
      ]
     },
     "metadata": {},
     "output_type": "display_data"
    }
   ],
   "source": [
    "import plotly.express as px\n",
    "from sklearn.manifold import TSNE\n",
    "\n",
    "# Create a t-SNE model\n",
    "tsne_model = TSNE(\n",
    "    n_components = 2,\n",
    "    perplexity = 15,\n",
    "    random_state = 42,\n",
    "    init = 'random',\n",
    "    learning_rate = 200\n",
    ")\n",
    "tsne_embeddings = tsne_model.fit_transform(embedding_array)\n",
    "\n",
    "# Create a DataFrame for visualisation\n",
    "visualisation_data = pd.DataFrame(\n",
    "    {'x': tsne_embeddings[:, 0],\n",
    "     'y': tsne_embeddings[:, 1],\n",
    "     'title':df['title'],\n",
    "     'Similarity': df['normalised'].round(3)}\n",
    ")\n",
    "\n",
    "# Create the scatter plot using Plotly Express\n",
    "plot = px.scatter(\n",
    "    visualisation_data,\n",
    "    x = 'x',\n",
    "    y = 'y',\n",
    "    color = 'Similarity',\n",
    "    hover_name='title',\n",
    "    color_continuous_scale = 'rainbow',\n",
    "    opacity = 0.7,\n",
    "    title = f\"Similarity to '{query}' visualised using t-SNE\"\n",
    ")\n",
    "\n",
    "plot.update_layout(\n",
    "    width = 1000,\n",
    "    height = 650\n",
    ")\n",
    "\n",
    "# Show the plot\n",
    "plot.show()"
   ]
  },
  {
   "cell_type": "code",
   "execution_count": null,
   "id": "3861652e-94a8-4f1a-9853-b4f920c11f99",
   "metadata": {},
   "outputs": [],
   "source": []
  },
  {
   "cell_type": "code",
   "execution_count": null,
   "id": "306df827-4e59-4f99-bfd6-2e9258baf5b7",
   "metadata": {},
   "outputs": [],
   "source": []
  },
  {
   "cell_type": "code",
   "execution_count": null,
   "id": "f46442b6-c2e2-4066-af98-b70d84360f20",
   "metadata": {},
   "outputs": [],
   "source": []
  }
 ],
 "metadata": {
  "kernelspec": {
   "display_name": "Python 3 (ipykernel)",
   "language": "python",
   "name": "python3"
  },
  "language_info": {
   "codemirror_mode": {
    "name": "ipython",
    "version": 3
   },
   "file_extension": ".py",
   "mimetype": "text/x-python",
   "name": "python",
   "nbconvert_exporter": "python",
   "pygments_lexer": "ipython3",
   "version": "3.9.16"
  }
 },
 "nbformat": 4,
 "nbformat_minor": 5
}
