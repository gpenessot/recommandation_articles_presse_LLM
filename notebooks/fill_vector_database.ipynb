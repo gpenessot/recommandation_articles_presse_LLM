{
 "cells": [
  {
   "cell_type": "code",
   "execution_count": 1,
   "id": "ab5bce44-4a11-42cb-9b76-047486e84517",
   "metadata": {},
   "outputs": [
    {
     "name": "stdout",
     "output_type": "stream",
     "text": [
      "WARNING:tensorflow:Please fix your imports. Module tensorflow.python.training.tracking.autotrackable has been moved to tensorflow.python.trackable.autotrackable. The old module will be deleted in version 2.11.\n",
      "WARNING:tensorflow:Please fix your imports. Module tensorflow.python.training.tracking.base has been moved to tensorflow.python.trackable.base. The old module will be deleted in version 2.11.\n",
      "WARNING:tensorflow:Please fix your imports. Module tensorflow.python.training.tracking.base_delegate has been moved to tensorflow.python.trackable.base_delegate. The old module will be deleted in version 2.11.\n",
      "WARNING:tensorflow:Please fix your imports. Module tensorflow.python.training.tracking.data_structures has been moved to tensorflow.python.trackable.data_structures. The old module will be deleted in version 2.11.\n",
      "WARNING:tensorflow:Please fix your imports. Module tensorflow.python.training.tracking.graph_view has been moved to tensorflow.python.checkpoint.graph_view. The old module will be deleted in version 2.11.\n",
      "WARNING:tensorflow:Please fix your imports. Module tensorflow.python.training.tracking.util has been moved to tensorflow.python.checkpoint.checkpoint. The old module will be deleted in version 2.11.\n",
      "WARNING:tensorflow:Please fix your imports. Module tensorflow.python.training.checkpoint_management has been moved to tensorflow.python.checkpoint.checkpoint_management. The old module will be deleted in version 2.9.\n",
      "WARNING:tensorflow:Please fix your imports. Module tensorflow.python.training.tracking.resource has been moved to tensorflow.python.trackable.resource. The old module will be deleted in version 2.11.\n",
      "WARNING:tensorflow:Please fix your imports. Module tensorflow.python.training.tracking.asset has been moved to tensorflow.python.trackable.asset. The old module will be deleted in version 2.11.\n",
      "WARNING:tensorflow:Please fix your imports. Module tensorflow.python.training.tracking.python_state has been moved to tensorflow.python.trackable.python_state. The old module will be deleted in version 2.11.\n",
      "WARNING:tensorflow:Please fix your imports. Module tensorflow.python.training.saving.checkpoint_options has been moved to tensorflow.python.checkpoint.checkpoint_options. The old module will be deleted in version 2.11.\n"
     ]
    }
   ],
   "source": [
    "from sentence_transformers import SentenceTransformer\n",
    "from qdrant_client import QdrantClient\n",
    "from qdrant_client import models\n",
    "from qdrant_client.http.models import Distance, VectorParams, PointStruct \n",
    "from qdrant_client.models import Filter\n",
    "from qdrant_client.http import models\n",
    "import numpy as np\n",
    "import pandas as pd\n",
    "import configparser"
   ]
  },
  {
   "cell_type": "code",
   "execution_count": 2,
   "id": "809e6ada-ca61-4d70-8f16-24e53b9bdc2d",
   "metadata": {},
   "outputs": [
    {
     "name": "stderr",
     "output_type": "stream",
     "text": [
      "No sentence-transformers model found with name C:\\Users\\gaelp/.cache\\torch\\sentence_transformers\\moussaKam_barthez. Creating a new one with MEAN pooling.\n"
     ]
    }
   ],
   "source": [
    "config=configparser.ConfigParser()\n",
    "config.read('../config.cfg')\n",
    "\n",
    "model_name = \"moussaKam/barthez\"\n",
    "encoder = SentenceTransformer(model_name_or_path=model_name)"
   ]
  },
  {
   "cell_type": "code",
   "execution_count": 3,
   "id": "9c7f4e7d-6e69-4c9e-a455-fb6094c1b834",
   "metadata": {},
   "outputs": [],
   "source": [
    "QDRANT_HOST=config['QDRANT']['host']\n",
    "QDRANT_PORT=config['QDRANT']['port']\n",
    "QDRANT_API_KEY=config['QDRANT']['qdrant_api_key']\n",
    "\n",
    "client = QdrantClient(url=QDRANT_HOST, \n",
    "                      port=QDRANT_PORT, \n",
    "                      api_key=QDRANT_API_KEY)"
   ]
  },
  {
   "cell_type": "code",
   "execution_count": 4,
   "id": "1c2b933e-3f69-4921-8158-ffbb283f5faf",
   "metadata": {},
   "outputs": [],
   "source": [
    "df = pd.read_csv('../data/processed/articles.csv', index_col=0, encoding='utf-8')"
   ]
  },
  {
   "cell_type": "code",
   "execution_count": 5,
   "id": "2491d55e-8bf1-46e6-a3c9-8d32d6cce61d",
   "metadata": {},
   "outputs": [],
   "source": [
    "df = df.reset_index()"
   ]
  },
  {
   "cell_type": "code",
   "execution_count": 6,
   "id": "ed07a2e8-6bc6-476c-a050-c584d5ae6d33",
   "metadata": {},
   "outputs": [],
   "source": [
    "df.columns = ['newsId', 'author', 'title', 'publishedAt', 'content']"
   ]
  },
  {
   "cell_type": "code",
   "execution_count": 7,
   "id": "83db350d-ee8d-4aa9-8469-eaeb2042a1ca",
   "metadata": {},
   "outputs": [],
   "source": [
    "def generate_item_sentence(item: pd.Series, text_columns=[\"title\"]) -> str:\n",
    "    return ' '.join([item[column] for column in text_columns])"
   ]
  },
  {
   "cell_type": "code",
   "execution_count": 8,
   "id": "afe6b350-79af-4f09-b0a5-7dd35e6cd9a0",
   "metadata": {},
   "outputs": [],
   "source": [
    "df[\"sentence\"] = df.apply(generate_item_sentence, axis=1)\n",
    "df[\"sentence_embedding\"] = df[\"sentence\"].apply(encoder.encode)"
   ]
  },
  {
   "cell_type": "code",
   "execution_count": null,
   "id": "5f81f4fc-e05a-4fb2-880d-207ec95ffaac",
   "metadata": {},
   "outputs": [],
   "source": [
    "client.create_collection(\n",
    "    collection_name = \"articles_fr_newsapi\",\n",
    "    vectors_config = models.VectorParams(\n",
    "        size = encoder.get_sentence_embedding_dimension(),\n",
    "        distance = models.Distance.COSINE,\n",
    "    ),\n",
    ")"
   ]
  },
  {
   "cell_type": "code",
   "execution_count": 9,
   "id": "4aa532a9-d782-4848-9097-1aa30581290b",
   "metadata": {},
   "outputs": [],
   "source": [
    "metadata_columns = df.drop([\"newsId\", \"sentence\", \"sentence_embedding\"], axis=1).columns\n",
    "\n",
    "def create_vector_point(item:pd.Series) -> PointStruct:\n",
    "    \"\"\"Turn vectors into PointStruct\"\"\"\n",
    "    return PointStruct(\n",
    "        id = item[\"newsId\"],\n",
    "        vector = item[\"sentence_embedding\"].tolist(),\n",
    "        payload = {\n",
    "            field: item[field]\n",
    "            for field in metadata_columns\n",
    "            if (str(item[field]) not in ['None', 'nan'])\n",
    "        }\n",
    "    )\n",
    "\n",
    "points = df.apply(create_vector_point, axis=1).tolist()"
   ]
  },
  {
   "cell_type": "code",
   "execution_count": 10,
   "id": "50a6d88a-95c3-420d-a891-ddee8b4bd0c9",
   "metadata": {},
   "outputs": [],
   "source": [
    "CHUNK_SIZE = 500\n",
    "n_chunks = np.ceil(len(points)/CHUNK_SIZE)\n",
    "\n",
    "for i, points_chunk in enumerate(np.array_split(points, n_chunks)):\n",
    "    client.upsert(\n",
    "        collection_name=\"articles_fr_newsapi\",\n",
    "        wait=True,\n",
    "        points=points_chunk.tolist()\n",
    "    )"
   ]
  },
  {
   "cell_type": "code",
   "execution_count": 11,
   "id": "803badbc-f01b-463a-8c4c-69499d8e6c03",
   "metadata": {},
   "outputs": [],
   "source": [
    "query_text = \"Macron\"\n",
    "query_vector = encoder.encode(query_text).tolist()"
   ]
  },
  {
   "cell_type": "code",
   "execution_count": 12,
   "id": "60af206d-a703-4dbe-9241-a3f993cab0b7",
   "metadata": {},
   "outputs": [
    {
     "data": {
      "text/plain": [
       "[ScoredPoint(id=110, version=2, score=0.46678478, payload={'content': 'La bagnole\\xa0? «\\xa0Moi, je ladore\\xa0!\\xa0», avait déclaré Emmanuel Macron lors dune interview télévisée le 24\\xa0septembre. Cette passion a sans doute incité le chef de lEtat à annoncer lui-même, jeudi 14\\xa0décemb… [+3356 chars]', 'title': 'Voiture électrique\\xa0: une démocratisation difficile'}, vector=None, shard_key=None),\n",
       " ScoredPoint(id=67, version=2, score=0.4470032, payload={'content': 'En\\xa02023, le groupe japonais Toyota a conservé la tête du classement mondial des constructeurs automobiles, avec près de dix millions de voitures vendues. Linformation, qui autrefois aurait fait les g… [+3385 chars]', 'title': 'Automobile\\xa0: une hiérarchie mondiale bousculée'}, vector=None, shard_key=None),\n",
       " ScoredPoint(id=22, version=2, score=0.43773925, payload={'content': 'Les funérailles du Pape émérite Benoît XVI\\r\\nLa dépouille de Joseph Ratzinger, pape de\\xa02005 à\\xa02013, a été exposée dans la basilique Saint-Pierre de Rome.Andreas SOLARO/AFP\\r\\nPour la première fois depui… [+11062 chars]', 'title': '20 photos marquantes de\\xa02023'}, vector=None, shard_key=None),\n",
       " ScoredPoint(id=7, version=2, score=0.42466035, payload={'content': 'Depuis 2017\\xa0et les révélations sur le producteur de cinéma prédateur Harvey Weinstein, la vague qui a libéré la parole des femmes victimes de violences sexistes et sexuelles a aussi bouleversé la man… [+3427 chars]', 'title': 'Depardieu\\xa0: la faute politique du président'}, vector=None, shard_key=None),\n",
       " ScoredPoint(id=189, version=2, score=0.40177527, payload={'content': 'Une figure politique singulière disparaît avec Jacques Delors. Autodidacte formé par le syndicalisme chrétien, humaniste inspiré par le personnalisme engagé du philosophe Emmanuel Mounier, profondéme… [+3259 chars]', 'title': 'Le double héritage de Jacques Delors'}, vector=None, shard_key=None),\n",
       " ScoredPoint(id=174, version=1, score=0.400306, payload={'content': 'Lautomne 2023\\xa0a vu la résurgence du risque terroriste en France. Deux attentats au couteau ont été commis au nom de lorganisation Etat islamique. Chacun deux pose, à sa manière, le problème de la pré… [+2904 chars]', 'title': 'Prévention du terrorisme\\xa0: l’impossible risque zéro'}, vector=None, shard_key=None),\n",
       " ScoredPoint(id=215, version=2, score=0.400306, payload={'content': 'Lautomne 2023\\xa0a vu la résurgence du risque terroriste en France. Deux attentats au couteau ont été commis au nom de lorganisation Etat islamique. Chacun deux pose, à sa manière, le problème de la pré… [+2904 chars]', 'title': 'Prévention du terrorisme\\xa0: l’impossible risque zéro'}, vector=None, shard_key=None),\n",
       " ScoredPoint(id=171, version=2, score=0.35586882, payload={'content': 'Loin des champs de bataille dUkraine, un autre front de la guerre russe se déploie dans les Balkans, où Moscou tente dexploiter les tensions nationalistes contre laspiration des pays de la région à r… [+3208 chars]', 'title': 'Le double jeu dangereux de la Serbie'}, vector=None, shard_key=None),\n",
       " ScoredPoint(id=107, version=2, score=0.3551863, payload={'content': 'Un navire participe à la création dun port côtier nécessaire à la production pétrolière offshore à lembouchure de la rivière Demerara, à Georgetown, la capitale du Guyana, le 11\\xa0avril\\xa02023. MATIAS DE… [+2745 chars]', 'title': 'Le Guyana relance la soif mondiale de pétrole'}, vector=None, shard_key=None),\n",
       " ScoredPoint(id=69, version=2, score=0.34704986, payload={'content': 'Un TGV à quai à la gare du Nord, à Paris, en octobre 2023. MIGUEL MEDINA / AFP\\r\\n«\\xa0Vite, dépêchez-vous, notre train est à quai\\xa0!\\xa0», sexclame une jeune femme, en poussant ses amis vers la foule de voya… [+2938 chars]', 'title': 'SNCF\\xa0: le système\\xa0D des voyageurs face au train cher'}, vector=None, shard_key=None)]"
      ]
     },
     "execution_count": 12,
     "metadata": {},
     "output_type": "execute_result"
    }
   ],
   "source": [
    "client.search(\n",
    "    collection_name=\"articles_fr_newsapi\",\n",
    "    query_vector=query_vector,\n",
    "    with_payload=[\"newsId\", \"title\", \"content\"],\n",
    "    query_filter=None\n",
    ")"
   ]
  },
  {
   "cell_type": "markdown",
   "id": "22f78ab8-145b-432a-b1a6-085c23f77d1b",
   "metadata": {},
   "source": [
    "## Affichage"
   ]
  },
  {
   "cell_type": "code",
   "execution_count": 13,
   "id": "ed2195ac-f396-4f07-a680-e48b2454357b",
   "metadata": {},
   "outputs": [],
   "source": [
    "import numpy as np\n",
    "import ast\n",
    "\n",
    "# Convert embeddings from CSV str type to NumPy Array\n",
    "embedding_array = np.array(\n",
    "    df['sentence_embedding'].to_list()\n",
    ")"
   ]
  },
  {
   "cell_type": "code",
   "execution_count": 14,
   "id": "09890f6a-34ce-4c36-a1a9-af5beb23e4ae",
   "metadata": {},
   "outputs": [],
   "source": [
    "query = \"Guerre en Ukraine\"\n",
    "query_embedding_response = np.array(\n",
    "    encoder.encode(query)\n",
    ")"
   ]
  },
  {
   "cell_type": "code",
   "execution_count": 15,
   "id": "f8e14b2d-9962-443a-9542-68d68068710d",
   "metadata": {},
   "outputs": [],
   "source": [
    "from scipy.spatial.distance import cdist\n",
    "\n",
    "df['distance'] = cdist(\n",
    "    embedding_array,\n",
    "    [query_embedding_response]\n",
    ")"
   ]
  },
  {
   "cell_type": "code",
   "execution_count": 16,
   "id": "9c663685-422b-4418-86a1-9265bbdb0a02",
   "metadata": {},
   "outputs": [],
   "source": [
    "from sklearn.preprocessing import MinMaxScaler\n",
    "\n",
    "scaler = MinMaxScaler()\n",
    "\n",
    "scaler.fit(df[['distance']])\n",
    "\n",
    "df['normalised'] = scaler.transform(df[['distance']])"
   ]
  },
  {
   "cell_type": "code",
   "execution_count": 22,
   "id": "79b77cc5-1a86-453a-aab8-68a86bb2a052",
   "metadata": {},
   "outputs": [
    {
     "data": {
      "application/vnd.plotly.v1+json": {
       "config": {
        "plotlyServerURL": "https://plot.ly"
       },
       "data": [
        {
         "hovertemplate": "<b>%{hovertext}</b><br><br>x=%{x}<br>y=%{y}<br>z=%{z}<br>Similarity=%{marker.color}<extra></extra>",
         "hovertext": [
          "Pour ses voeux aux Français, Emmanuel Macron veut faire de 2024 une « année de détermination »",
          "« L’agrivoltaïsme suppose que l’agriculture conserve une place principale »",
          "Artcurial, Sotheby's, Drouot : les maisons de vente peaufinent leur stratégie de marque",
          "Pour Paris 2024, les chantiers olympiques arrivent dans les temps",
          "La Bulgarie et la Roumanie vont partiellement intégrer l'espace Schengen",
          "Quand la sortie du réveillon est gâchée par le verglas",
          "Paris 2024 : « Quand la magie du sport opère »",
          "Depardieu : la faute politique du président",
          "VIDEO - Pourquoi l'Argentine manifeste contre le « mega-décret » de son nouveau président ?",
          "Vidéo. Les coulisses de notre enquête « Narco Business » sur le trafic de fentanyl des cartels mexicains",
          "Vidéo. A Gaza, des corps enterrés dans des fosses communes, tandis que la riposte israélienne s’intensifie",
          "La Moldavie veut accélérer son rapprochement de l'Union européenne",
          "Les images impressionnantes de l'explosion d'un navire russe dans le port de Feodossia, en Crimée",
          "VIDEO - Pourquoi l'enlisement de la guerre en Ukraine est la meilleure chose qui pouvait arriver à la Russie",
          "VIDEO - Démographie : faire moins d'enfants, est-ce vraiment un problème ?",
          "Google, Apple vs Epic Games : « Le monopole des géants du numérique s’érode trop doucement »",
          "VIDEO - Cet avion militaire américain qui pourrait révolutionner la guerre",
          "Vidéo. Bande de Gaza : avant la guerre, un territoire à l’agonie",
          "Marseille : «On aime ce club, mais pas au point de faire des violences ou des dégradations»",
          "Mal-logement : le parc HLM paralysé par le Covid",
          "Les dix évènements qui marqueront 2024",
          "Elections européennes : Emmanuel Macron et Marine Le Pen installent leur duel",
          "20 photos marquantes de 2023",
          "Le Japon frappé par un important séisme/tsunami mais sans dégâts majeurs",
          "Elections aux Etats-Unis, Russie, UE… Ces 8 scrutins de 2024 qui pourraient tout changer dans le monde",
          "Le smic augmente de 15 euros à partir du 1ᵉʳ janvier 2024",
          "Immobilier ancien : jusqu'où ira la baisse des prix en France ?",
          "Vidéo. Loi « immigration » : le texte consacre-t-il la « préférence nationale », prônée par le Rassemblement national ?",
          "Comment la France a-t-elle été chassée du Sahel ?",
          "Trois ans après le Brexit, la City continue de transférer des emplois vers l'Europe",
          "Inflation : Pepsi, 7up, Lay's… Carrefour boycotte PepsiCo, Leclerc « tenté » de suivre",
          "Israël : le désaveu de la Cour suprême",
          "Légère remontée de l'inflation en France en décembre à 3,7 %",
          "Dès aujourd’hui, les grands patrons britanniques ont gagné autant qu’un salarié moyen en un an",
          "Livret A, LEP, PEL… les nouveaux taux de l'épargne réglementée",
          "« La transparence sur les informations sociales et environnementales incite les entreprises à mener une réflexion stratégique au service de leur pérennité »",
          "Le gouvernement veut s'attaquer à la « shrinkflation », l'inflation masquée en supermarché",
          "Patrick Artus : « Le reflux de l'inflation sera moins fort qu'annoncé »",
          "Vidéo. Les images de l’embrasement de l’avion de la Japan Airlines à Tokyo-Haneda",
          "« La City de Londres s’intéresse de très près au Labour britannique et ce dernier fait tout pour lui plaire »",
          "Vidéo. En images : le Japon touché par un important séisme",
          "« La France du “mais quand même…”, sans cesse occupée à négocier une exception à la règle, complique le vivre-ensemble »",
          "Vidéo. En images : l’Ukraine touchée par « un nombre record de missiles » lancés par la Russie",
          "Vidéo. Les coulisses de notre enquête « Narco Business » sur le trafic de fentanyl des cartels mexicains",
          "En ces temps tragiques, que nous est-il permis d’espérer ?",
          "La France franchit le cap symbolique du million de voitures électriques",
          "« Gouvernement et secteur privé sont des alliés dans le financement de la R&D, pas des ennemis »",
          "Fusions-acquisitions : un rebond espéré en 2024 après le trou d’air de l’an passé",
          "Automobile : une hiérarchie mondiale bousculée",
          "Immobilier : ces passoires thermiques qui affolent le marché",
          "SNCF : le système D des voyageurs face au train cher",
          "Disparition de Jacques Delors : pluie d'hommages pour l'artisan de l'Europe",
          "Mort de Jacques Delors, le « tsar de Bruxelles »",
          "Huîtres : la vague d'intoxications alimentaires au norovirus s'étend sur le littoral",
          "Bridgewater, le « Big Brother » du trading mondial, fait face à ses accusateurs",
          "Belarus: The opposition tries to get out of Lukashenko's trap",
          "AI start-ups are booming in San Francisco's 'Cerebral Valley'",
          "'Qatargate': Belgian investigation risks stalling",
          "Flooding in Northern France: 'It's only logical that rainfall will become more frequent and intense'",
          "Between North and South Korea, 2024 begins under high tension",
          "Trop d'eau, étiquetage non conforme… La répression des fraudes épingle des fabricants de beurre",
          "What exactly is Gérard Depardieu accused of?",
          "Un Boeing 737 MAX perd un hublot en plein vol et relance la question de la fiabilité",
          "Canada's carbon tax under threat from all sides",
          "Video. Why Middle East stability revolves around Israel",
          "Video. The year in review: 2023 in six minutes",
          "VIDEO - Les images de la croix installée sur la flèche de Notre-Dame de Paris",
          "Video. Why are Ukrainian special forces fighting Russia's Wagner mercenaries in Sudan?",
          "Ukraine : « Au sein de l'Otan, nous avons toujours dit que ce serait une guerre longue »",
          "Bruno Le Maire renouvelle son opération séduction à Wall Street",
          "Transport sanitaire : « L’absence de dialogue avec les artisans taxis et de mesures d’accompagnement témoigne d’une gestion technocratique et centralisée »",
          "Le Guyana relance la soif mondiale de pétrole",
          "Carrefour fait une offre sur les magasins de proximité de Casino",
          "Guerre Israël - Hamas : Benyamin Netanyahou sous pression après la mort d'otages tués par des soldats israéliens",
          "Voiture électrique : une démocratisation difficile",
          "Matières premières : « Rayon de soleil pour le miel »",
          "Gaza : Israël s'apprête à inonder les tunnels du Hamas",
          "Vidéo. En images : Bourges, Capitale européenne de la culture en 2028",
          "La guerre Israël-Hamas donne l’occasion à l’Egypte de retrouver une influence diplomatique",
          "Vidéo. En images : à la COP28, un rapport final qui mentionne les énergies fossiles « pour la toute première fois »",
          "Google, Apple vs Epic Games : « Le monople des géants du numérique s’érode trop doucement »",
          "« Dubaï connexion, comment blanchir cinquante millions de dollars » : découvrez le troisième épisode de notre série vidéo « Narco Business »",
          "VIDEO - Armement : les Européens peuvent-ils prendre la main sur leur défense ?",
          "VIDEO - Pourquoi ne fabrique-t-on plus de vélos en France ?",
          "VIDEO - Faut-il vraiment lutter contre l'inflation ?",
          "VIDEO - Pourquoi c'est devenu cool de faire ses courses chez Action ?",
          "Loi immigration : la CMP a démarré sous haute tension",
          "Loi immigration : la caution pour les étudiants étrangers inquiète universités et grandes écoles",
          "Immobilier : plaidoyer pour une forte baisse des « frais de notaire »",
          "Loi immigration : les points chauds de la négociation entre le gouvernement et LR",
          "Casino : Intermarché et Auchan emportent la mise",
          "Au Moyen-Orient, le risque de l’instabilité s’accroît dangereusement",
          "Fin du bonus à l’achat de voitures électriques en Allemagne : « On peut difficilement faire plus brutal »",
          "« Le législateur devrait proposer une formule de calcul de la participation spécifique pour les entreprises de moins de 50 salariés »",
          "Vincent Bolloré et Vivendi, le coup de sa vie",
          "Améliorer le référendum pour le rendre enfin « démocratiquement correct »",
          "Vidéo. En images : Vladimir Poutine réitère son objectif en Ukraine",
          "Les magasins Casino deviennent un sujet social et politique",
          "Inquiets, les salariés de Casino lancent un préavis de grève",
          "VIDEO - Défense : est-ce que les Européens peuvent reprendre le contrôle de leur sécurité ?",
          "Crédit immobilier : les banques repartent à la conquête de nouveaux clients",
          "BFM-TV perd son pari Ruquier face à CNews",
          "Fiscalité : les monnaies numériques dans la ligne de mire",
          "Impôts : la fin de la taxe d'habitation, une manne modeste pour les propriétaires",
          "La France bat son record historique d'exportation d'électricité",
          "A Gaza, la guerre sans fin de Benyamin Nétanyahou",
          "Alimentation : « Les acteurs de la distribution ont un rôle-clé à jouer dans la lutte contre le gaspillage »",
          "Qui est responsable si des bougies de Noël enflamment la jupe d’une invitée ?",
          "Aux origines de la « Terre sainte », ou la lente construction d’une Palestine « mythifiée »",
          "Vidéo. Ukraine : ce que les images disent de la stratégie d’attaque russe des bâtiments civils d’Avdiïvka",
          "Impôts : taxe d'habitation et taxe foncière en 10 questions pratiques",
          "Ces communes qui majorent la taxe d'habitation sur les résidences secondaires",
          "Intermarché contraint de revendre trois Casino trois mois après leur achat",
          "Mort de Jacques Delors, le « tsar de Bruxelles »",
          "Taxe foncière : la facture va encore s'alourdir en 2024",
          "Impôts : ce qui change pour les entreprises en 2024",
          "« Nous vivons mondialement une économie de casino avec des montages financiers toujours plus complexes »",
          "Le double jeu dangereux de la Serbie",
          "Dans les palaces, les nouvelles frontières de l’hyperluxe",
          "« A travers les légendes sur Jésus, nous arrivons à discerner en filigrane des éléments sur sa véritable existence »",
          "Vidéo. Le Sénégal manque de poisson (mais il y a peut-être une solution)",
          "Impôt : coup de pouce supplémentaire aux attributions gratuites d'actions (AGA)",
          "Impôts : la taxe foncière pèse moins sur les riches propriétaires",
          "Impôt : zoom sur les avantages du plan de partage de la valorisation de l'entreprise (PPVE)",
          "Clap de fin pour les magasins Habitat",
          "M&A : Lazard prend la tête d'un classement français très bousculé",
          "Schneider, L'Oréal, Stellantis : les moteurs du CAC 40 ont tourné à plein régime cette année",
          "Le double héritage de Jacques Delors",
          "Impôts : ce qui change pour les ménages en 2024",
          "Pourquoi l’avenir du Moyen-Orient dépend autant d’Israël",
          "Grève à la tour Eiffel : le monument fermé au public à l’occasion du centenaire du décès de Gustave Eiffel",
          "Schneider Electric retrouve le club fermé des sociétés valant plus de 100 milliards d'euros",
          "L'Oréal continue de progresser encore plus vite que le marché de la beauté",
          "Le M&A mondial signe sa pire année de la décennie",
          "Joseph Stiglitz : « Le résultat des élections aux Etats-Unis dépend des perspectives économiques pour 2024, elles-mêmes liées à l’évolution du conflit au Moyen-Orient »",
          "Le distributeur Grand Frais s’apprête à entrer dans Paris",
          "Chloé Morin : « Pour Emmanuel Macron, le rebond va être de plus en plus difficile »",
          "Avis de gros temps sur la dette des pays en développement",
          "Lutte anticorruption : l’exécutif ne peut être juge et partie",
          "Pour Emmanuel Macron, des voeux 2024 placés sous le signe de la crise politique",
          "Prévention du terrorisme : l’impossible risque zéro",
          "La Chine prise au piège de ses crédits accordés aux pays en développement",
          "Bourse : les 7 chiffres fous des placements en actions",
          "M&A : Lazard prend la tête d'un classement français très bousculé",
          "Européennes 2024 : le camp Macron redoute les effets de la loi immigration",
          "M&A : les prix d'acquisition des PME décrochent",
          "Israël devrait disposer d'un canon laser dès 2024",
          "Trains annulés : grosse pagaille pour des milliers de passagers d'Eurostar avant le nouvel An",
          "Le trafic Eurostar en provenance et vers Londres reprendra de manière normale dimanche après une journée d’annulations complète",
          "Les villes maintiennent leurs efforts pour réduire leurs factures d'énergie",
          "Dominique Méda, sociologue : « Confirmer le tournant social de l’Union européenne est la meilleure manière de rendre moins attractifs les discours de l’extrême droite »",
          "Pourquoi l’avenir du Moyen-Orient dépend autant d’Israël"
         ],
         "legendgroup": "",
         "marker": {
          "color": [
           0.606,
           0.536,
           0.755,
           0.545,
           0.445,
           0.295,
           0.221,
           0.098,
           0.417,
           0.346,
           0.456,
           0.298,
           0.496,
           0.403,
           0.44,
           0.338,
           0.381,
           0.127,
           0.497,
           0.388,
           0.717,
           0.616,
           0.112,
           0.54,
           0.504,
           0.722,
           0.436,
           0.497,
           0.471,
           0.454,
           0.592,
           0.439,
           0.5,
           0.575,
           0.745,
           0.563,
           0.564,
           0.617,
           0.496,
           0.674,
           0.22,
           0.452,
           0.325,
           0.346,
           0.616,
           0.486,
           0.562,
           0.49,
           0,
           0.429,
           0.22,
           0.558,
           0.38,
           0.506,
           0.368,
           0.766,
           0.876,
           0.862,
           0.924,
           1,
           0.502,
           0.932,
           0.627,
           0.918,
           0.674,
           0.367,
           0.559,
           0.829,
           0.472,
           0.356,
           0.592,
           0.15,
           0.379,
           0.433,
           0.097,
           0.098,
           0.521,
           0.227,
           0.473,
           0.369,
           0.368,
           0.443,
           0.479,
           0.52,
           0.49,
           0.574,
           0.201,
           0.382,
           0.352,
           0.411,
           0.523,
           0.584,
           0.478,
           0.582,
           0.307,
           0.32,
           0.135,
           0.335,
           0.759,
           0.324,
           0.387,
           0.551,
           0.259,
           0.554,
           0.454,
           0.306,
           0.564,
           0.371,
           0.467,
           0.278,
           0.503,
           0.695,
           0.456,
           0.38,
           0.532,
           0.385,
           0.491,
           0.244,
           0.467,
           0.453,
           0.396,
           0.519,
           0.398,
           0.463,
           0.419,
           0.494,
           0.516,
           0.191,
           0.372,
           0.458,
           0.462,
           0.508,
           0.756,
           0.604,
           0.525,
           0.608,
           0.391,
           0.104,
           0.392,
           0.49,
           0.143,
           0.327,
           0.239,
           0.494,
           0.388,
           0.337,
           0.482,
           0.643,
           0.622,
           0.524,
           0.534,
           0.458
          ],
          "coloraxis": "coloraxis",
          "opacity": 0.7,
          "symbol": "circle"
         },
         "mode": "markers",
         "name": "",
         "scene": "scene",
         "showlegend": false,
         "type": "scatter3d",
         "x": [
          -25.398146,
          16.916773,
          55.75492,
          31.636684,
          -67.763504,
          -74.0534,
          -51.340836,
          137.76843,
          56.86442,
          -98.6706,
          -135.97382,
          -56.908108,
          -153.30829,
          -109.839745,
          -87.90589,
          -22.449806,
          -171.32365,
          47.799828,
          -142.82217,
          -31.199883,
          163.09232,
          -63.433067,
          -177.80202,
          75.09862,
          5.66142,
          126.00451,
          72.57602,
          -60.808784,
          -105.86683,
          78.53396,
          -4.265904,
          -113.53438,
          102.96381,
          63.78126,
          124.19794,
          1.2349402,
          66.9284,
          125.698784,
          -117.900566,
          69.150246,
          -100.08186,
          -70.86218,
          -135.27957,
          111.19202,
          -48.544777,
          -25.937979,
          -3.545652,
          143.9495,
          5.600779,
          24.985415,
          -11.450262,
          -60.258045,
          78.81363,
          -27.337006,
          -14.635039,
          9.121929,
          84.19844,
          68.60056,
          61.66559,
          95.675674,
          36.03967,
          30.42892,
          -199.25201,
          72.50748,
          86.28936,
          108.679474,
          -119.8789,
          52.855408,
          -121.44733,
          -15.965593,
          6.583693,
          -49.960316,
          -8.289885,
          -119.23548,
          -9.277832,
          -80.52517,
          142.79417,
          -56.87558,
          66.70047,
          28.325294,
          -2.4319916,
          -32.70665,
          -86.64546,
          92.252205,
          -84.86521,
          -139.54607,
          31.980782,
          37.25117,
          -148.46552,
          -38.39308,
          -26.997408,
          132.5517,
          -0.31963295,
          5.2942157,
          -17.560764,
          -121.796814,
          -75.75672,
          -20.248974,
          8.175564,
          -69.51501,
          27.239561,
          -24.986654,
          52.62646,
          142.26404,
          -3.4069667,
          -86.3808,
          39.733654,
          -24.435137,
          10.519231,
          -147.58565,
          162.78137,
          141.98871,
          -4.3391647,
          -98.85923,
          193.72958,
          109.14534,
          -30.067394,
          -54.52787,
          25.993435,
          -17.44127,
          -52.703598,
          175.06577,
          64.64499,
          47.120422,
          17.849522,
          43.474533,
          -115.96986,
          -82.18887,
          102.741875,
          98.23455,
          -70.1244,
          8.632028,
          33.80262,
          97.24448,
          64.17456,
          -55.555233,
          -128.48013,
          -224.29002,
          20.75627,
          -85.65243,
          9.643401,
          -46.571266,
          69.369125,
          -1.1668143,
          -73.248505,
          93.30859,
          20.506685,
          95.90463,
          -70.57194,
          107.80826,
          167.5512,
          87.86469
         ],
         "y": [
          -153.98975,
          40.25245,
          -129.42397,
          -6.6632123,
          50.026707,
          1.5381203,
          29.806936,
          96.85716,
          -60.804295,
          -43.888363,
          19.95097,
          118.818794,
          -55.533134,
          65.80152,
          94.43215,
          -15.629441,
          13.64053,
          119.186264,
          104.092606,
          -28.480217,
          21.763603,
          -35.077267,
          -13.786152,
          24.543818,
          -16.89997,
          4.4551587,
          25.169159,
          -50.76976,
          -5.550342,
          108.32883,
          -83.14766,
          62.647842,
          28.805319,
          171.36227,
          -37.125423,
          115.75606,
          9.621344,
          -3.5960236,
          -51.784836,
          80.17538,
          -0.57703096,
          18.189949,
          3.4597595,
          -106.22023,
          63.0622,
          -143.91634,
          173.68288,
          -10.63261,
          -67.605095,
          46.195343,
          -20.361849,
          -100.57753,
          124.161,
          -56.31242,
          27.817234,
          52.608864,
          -79.12822,
          -72.90014,
          -107.469536,
          -109.58742,
          -53.752716,
          -146.28845,
          -4.6853848,
          -136.12001,
          -143.65163,
          -108.2042,
          -98.308815,
          -124.43501,
          66.22927,
          52.60456,
          82.79897,
          97.7568,
          -48.79601,
          -5.99531,
          -82.79134,
          111.66512,
          -42.26128,
          120.485435,
          -58.018795,
          46.55688,
          -38.72403,
          75.06978,
          -31.825575,
          -112.39879,
          -97.71274,
          -75.92092,
          61.518875,
          30.441412,
          83.52999,
          -139.48552,
          -17.915672,
          -69.01019,
          4.071441,
          133.8805,
          11.881443,
          15.463584,
          17.048489,
          -61.250347,
          -111.75133,
          60.245766,
          -173.11082,
          41.97508,
          -6.0781083,
          57.93169,
          136.54716,
          28.39426,
          104.01543,
          36.18198,
          -84.42742,
          -26.693184,
          44.418106,
          84.61139,
          -70.04192,
          -109.36463,
          66.212204,
          19.018267,
          147.50197,
          -12.5585375,
          -74.86168,
          101.09388,
          8.751489,
          36.645805,
          223.94678,
          -210.8244,
          -12.400173,
          140.56567,
          38.362724,
          -82.30617,
          66.42512,
          -47.40279,
          -86.20103,
          106.477875,
          95.627815,
          141.98344,
          -20.289347,
          -145.64233,
          62.60057,
          -313.38898,
          4.488685,
          110.57209,
          -6.050194,
          167.07816,
          -10.965958,
          -136.60265,
          67.08571,
          47.93357,
          189.51904,
          -32.260464,
          -87.31966,
          80.147644,
          -81.53997,
          -63.297638
         ],
         "z": [
          -94.62713,
          117.98822,
          72.175606,
          -189.32256,
          174.68468,
          23.500067,
          4.0505795,
          -68.19659,
          -120.618935,
          22.099646,
          -99.671585,
          -147.67288,
          -25.739183,
          -54.456257,
          65.32862,
          48.11012,
          6.283167,
          -93.13729,
          92.83456,
          -0.97585434,
          -98.72215,
          -74.127594,
          93.128685,
          -144.2385,
          146.02994,
          -44.625122,
          33.589565,
          145.76384,
          142.10791,
          -44.30932,
          36.468742,
          -140.5306,
          62.23028,
          63.683323,
          -113.054054,
          51.97195,
          124.07294,
          92.771095,
          -33.549515,
          -9.432712,
          -32.483017,
          72.429306,
          -48.560917,
          31.93803,
          104.727356,
          119.256676,
          35.654488,
          60.33697,
          -46.53978,
          1.917764,
          -42.1826,
          -75.43953,
          113.848045,
          81.12077,
          -34.187603,
          173.89717,
          -15.759646,
          -60.406944,
          -38.55533,
          -87.613434,
          20.691387,
          -42.370525,
          19.366005,
          -9.146456,
          -58.366566,
          -37.99763,
          -17.401325,
          -75.34194,
          132.31436,
          -118.99768,
          97.74985,
          -101.04756,
          -196.27899,
          -128.22176,
          -22.99541,
          -68.59772,
          -31.417303,
          102.89413,
          118.71539,
          66.31419,
          48.92794,
          -45.228756,
          83.78202,
          133.07018,
          117.13037,
          81.45577,
          -89.8431,
          -53.40419,
          -16.379269,
          -24.804901,
          200.7463,
          75.896965,
          87.9944,
          88.47395,
          -88.04109,
          79.99701,
          -60.970215,
          -162.03038,
          -156.47824,
          56.042557,
          18.268541,
          -173.40584,
          -29.825775,
          26.54949,
          -93.29431,
          -123.85862,
          44.939087,
          53.31987,
          157.72641,
          -62.310043,
          -8.757346,
          -6.736631,
          -124.44457,
          -92.36746,
          30.672941,
          -0.021002129,
          0.49892372,
          -145.83704,
          80.381424,
          22.100107,
          114.269,
          80.070595,
          186.57043,
          -96.82515,
          -131.0635,
          -12.495115,
          22.477575,
          -124.50806,
          97.53885,
          50.375717,
          -7.3428755,
          -37.38385,
          -158.66985,
          10.461343,
          75.185646,
          43.60955,
          79.83866,
          133.55234,
          46.881138,
          -1.3198402,
          4.966808,
          -60.65086,
          -83.46076,
          52.863415,
          -6.5247006,
          -61.48244,
          -54.994823,
          170.8139,
          52.769867,
          -114.78914,
          -2.5082135,
          74.88498
         ]
        }
       ],
       "layout": {
        "coloraxis": {
         "colorbar": {
          "title": {
           "text": "Similarity"
          }
         },
         "colorscale": [
          [
           0,
           "#0d0887"
          ],
          [
           0.1111111111111111,
           "#46039f"
          ],
          [
           0.2222222222222222,
           "#7201a8"
          ],
          [
           0.3333333333333333,
           "#9c179e"
          ],
          [
           0.4444444444444444,
           "#bd3786"
          ],
          [
           0.5555555555555556,
           "#d8576b"
          ],
          [
           0.6666666666666666,
           "#ed7953"
          ],
          [
           0.7777777777777778,
           "#fb9f3a"
          ],
          [
           0.8888888888888888,
           "#fdca26"
          ],
          [
           1,
           "#f0f921"
          ]
         ]
        },
        "height": 650,
        "legend": {
         "tracegroupgap": 0
        },
        "scene": {
         "aspectmode": "auto",
         "aspectratio": {
          "x": 0.9356421789293186,
          "y": 1.2027043739170156,
          "z": 0.8886511719202749
         },
         "camera": {
          "center": {
           "x": 0,
           "y": 0,
           "z": 0
          },
          "eye": {
           "x": -1.0357420305552258,
           "y": -1.8968765119695985,
           "z": 0.1288330100532775
          },
          "projection": {
           "type": "perspective"
          },
          "up": {
           "x": 0,
           "y": 0,
           "z": 1
          }
         },
         "domain": {
          "x": [
           0,
           1
          ],
          "y": [
           0,
           1
          ]
         },
         "xaxis": {
          "title": {
           "text": "x"
          },
          "type": "linear"
         },
         "yaxis": {
          "title": {
           "text": "y"
          },
          "type": "linear"
         },
         "zaxis": {
          "title": {
           "text": "z"
          },
          "type": "linear"
         }
        },
        "template": {
         "data": {
          "bar": [
           {
            "error_x": {
             "color": "#2a3f5f"
            },
            "error_y": {
             "color": "#2a3f5f"
            },
            "marker": {
             "line": {
              "color": "#E5ECF6",
              "width": 0.5
             },
             "pattern": {
              "fillmode": "overlay",
              "size": 10,
              "solidity": 0.2
             }
            },
            "type": "bar"
           }
          ],
          "barpolar": [
           {
            "marker": {
             "line": {
              "color": "#E5ECF6",
              "width": 0.5
             },
             "pattern": {
              "fillmode": "overlay",
              "size": 10,
              "solidity": 0.2
             }
            },
            "type": "barpolar"
           }
          ],
          "carpet": [
           {
            "aaxis": {
             "endlinecolor": "#2a3f5f",
             "gridcolor": "white",
             "linecolor": "white",
             "minorgridcolor": "white",
             "startlinecolor": "#2a3f5f"
            },
            "baxis": {
             "endlinecolor": "#2a3f5f",
             "gridcolor": "white",
             "linecolor": "white",
             "minorgridcolor": "white",
             "startlinecolor": "#2a3f5f"
            },
            "type": "carpet"
           }
          ],
          "choropleth": [
           {
            "colorbar": {
             "outlinewidth": 0,
             "ticks": ""
            },
            "type": "choropleth"
           }
          ],
          "contour": [
           {
            "colorbar": {
             "outlinewidth": 0,
             "ticks": ""
            },
            "colorscale": [
             [
              0,
              "#0d0887"
             ],
             [
              0.1111111111111111,
              "#46039f"
             ],
             [
              0.2222222222222222,
              "#7201a8"
             ],
             [
              0.3333333333333333,
              "#9c179e"
             ],
             [
              0.4444444444444444,
              "#bd3786"
             ],
             [
              0.5555555555555556,
              "#d8576b"
             ],
             [
              0.6666666666666666,
              "#ed7953"
             ],
             [
              0.7777777777777778,
              "#fb9f3a"
             ],
             [
              0.8888888888888888,
              "#fdca26"
             ],
             [
              1,
              "#f0f921"
             ]
            ],
            "type": "contour"
           }
          ],
          "contourcarpet": [
           {
            "colorbar": {
             "outlinewidth": 0,
             "ticks": ""
            },
            "type": "contourcarpet"
           }
          ],
          "heatmap": [
           {
            "colorbar": {
             "outlinewidth": 0,
             "ticks": ""
            },
            "colorscale": [
             [
              0,
              "#0d0887"
             ],
             [
              0.1111111111111111,
              "#46039f"
             ],
             [
              0.2222222222222222,
              "#7201a8"
             ],
             [
              0.3333333333333333,
              "#9c179e"
             ],
             [
              0.4444444444444444,
              "#bd3786"
             ],
             [
              0.5555555555555556,
              "#d8576b"
             ],
             [
              0.6666666666666666,
              "#ed7953"
             ],
             [
              0.7777777777777778,
              "#fb9f3a"
             ],
             [
              0.8888888888888888,
              "#fdca26"
             ],
             [
              1,
              "#f0f921"
             ]
            ],
            "type": "heatmap"
           }
          ],
          "heatmapgl": [
           {
            "colorbar": {
             "outlinewidth": 0,
             "ticks": ""
            },
            "colorscale": [
             [
              0,
              "#0d0887"
             ],
             [
              0.1111111111111111,
              "#46039f"
             ],
             [
              0.2222222222222222,
              "#7201a8"
             ],
             [
              0.3333333333333333,
              "#9c179e"
             ],
             [
              0.4444444444444444,
              "#bd3786"
             ],
             [
              0.5555555555555556,
              "#d8576b"
             ],
             [
              0.6666666666666666,
              "#ed7953"
             ],
             [
              0.7777777777777778,
              "#fb9f3a"
             ],
             [
              0.8888888888888888,
              "#fdca26"
             ],
             [
              1,
              "#f0f921"
             ]
            ],
            "type": "heatmapgl"
           }
          ],
          "histogram": [
           {
            "marker": {
             "pattern": {
              "fillmode": "overlay",
              "size": 10,
              "solidity": 0.2
             }
            },
            "type": "histogram"
           }
          ],
          "histogram2d": [
           {
            "colorbar": {
             "outlinewidth": 0,
             "ticks": ""
            },
            "colorscale": [
             [
              0,
              "#0d0887"
             ],
             [
              0.1111111111111111,
              "#46039f"
             ],
             [
              0.2222222222222222,
              "#7201a8"
             ],
             [
              0.3333333333333333,
              "#9c179e"
             ],
             [
              0.4444444444444444,
              "#bd3786"
             ],
             [
              0.5555555555555556,
              "#d8576b"
             ],
             [
              0.6666666666666666,
              "#ed7953"
             ],
             [
              0.7777777777777778,
              "#fb9f3a"
             ],
             [
              0.8888888888888888,
              "#fdca26"
             ],
             [
              1,
              "#f0f921"
             ]
            ],
            "type": "histogram2d"
           }
          ],
          "histogram2dcontour": [
           {
            "colorbar": {
             "outlinewidth": 0,
             "ticks": ""
            },
            "colorscale": [
             [
              0,
              "#0d0887"
             ],
             [
              0.1111111111111111,
              "#46039f"
             ],
             [
              0.2222222222222222,
              "#7201a8"
             ],
             [
              0.3333333333333333,
              "#9c179e"
             ],
             [
              0.4444444444444444,
              "#bd3786"
             ],
             [
              0.5555555555555556,
              "#d8576b"
             ],
             [
              0.6666666666666666,
              "#ed7953"
             ],
             [
              0.7777777777777778,
              "#fb9f3a"
             ],
             [
              0.8888888888888888,
              "#fdca26"
             ],
             [
              1,
              "#f0f921"
             ]
            ],
            "type": "histogram2dcontour"
           }
          ],
          "mesh3d": [
           {
            "colorbar": {
             "outlinewidth": 0,
             "ticks": ""
            },
            "type": "mesh3d"
           }
          ],
          "parcoords": [
           {
            "line": {
             "colorbar": {
              "outlinewidth": 0,
              "ticks": ""
             }
            },
            "type": "parcoords"
           }
          ],
          "pie": [
           {
            "automargin": true,
            "type": "pie"
           }
          ],
          "scatter": [
           {
            "fillpattern": {
             "fillmode": "overlay",
             "size": 10,
             "solidity": 0.2
            },
            "type": "scatter"
           }
          ],
          "scatter3d": [
           {
            "line": {
             "colorbar": {
              "outlinewidth": 0,
              "ticks": ""
             }
            },
            "marker": {
             "colorbar": {
              "outlinewidth": 0,
              "ticks": ""
             }
            },
            "type": "scatter3d"
           }
          ],
          "scattercarpet": [
           {
            "marker": {
             "colorbar": {
              "outlinewidth": 0,
              "ticks": ""
             }
            },
            "type": "scattercarpet"
           }
          ],
          "scattergeo": [
           {
            "marker": {
             "colorbar": {
              "outlinewidth": 0,
              "ticks": ""
             }
            },
            "type": "scattergeo"
           }
          ],
          "scattergl": [
           {
            "marker": {
             "colorbar": {
              "outlinewidth": 0,
              "ticks": ""
             }
            },
            "type": "scattergl"
           }
          ],
          "scattermapbox": [
           {
            "marker": {
             "colorbar": {
              "outlinewidth": 0,
              "ticks": ""
             }
            },
            "type": "scattermapbox"
           }
          ],
          "scatterpolar": [
           {
            "marker": {
             "colorbar": {
              "outlinewidth": 0,
              "ticks": ""
             }
            },
            "type": "scatterpolar"
           }
          ],
          "scatterpolargl": [
           {
            "marker": {
             "colorbar": {
              "outlinewidth": 0,
              "ticks": ""
             }
            },
            "type": "scatterpolargl"
           }
          ],
          "scatterternary": [
           {
            "marker": {
             "colorbar": {
              "outlinewidth": 0,
              "ticks": ""
             }
            },
            "type": "scatterternary"
           }
          ],
          "surface": [
           {
            "colorbar": {
             "outlinewidth": 0,
             "ticks": ""
            },
            "colorscale": [
             [
              0,
              "#0d0887"
             ],
             [
              0.1111111111111111,
              "#46039f"
             ],
             [
              0.2222222222222222,
              "#7201a8"
             ],
             [
              0.3333333333333333,
              "#9c179e"
             ],
             [
              0.4444444444444444,
              "#bd3786"
             ],
             [
              0.5555555555555556,
              "#d8576b"
             ],
             [
              0.6666666666666666,
              "#ed7953"
             ],
             [
              0.7777777777777778,
              "#fb9f3a"
             ],
             [
              0.8888888888888888,
              "#fdca26"
             ],
             [
              1,
              "#f0f921"
             ]
            ],
            "type": "surface"
           }
          ],
          "table": [
           {
            "cells": {
             "fill": {
              "color": "#EBF0F8"
             },
             "line": {
              "color": "white"
             }
            },
            "header": {
             "fill": {
              "color": "#C8D4E3"
             },
             "line": {
              "color": "white"
             }
            },
            "type": "table"
           }
          ]
         },
         "layout": {
          "annotationdefaults": {
           "arrowcolor": "#2a3f5f",
           "arrowhead": 0,
           "arrowwidth": 1
          },
          "autotypenumbers": "strict",
          "coloraxis": {
           "colorbar": {
            "outlinewidth": 0,
            "ticks": ""
           }
          },
          "colorscale": {
           "diverging": [
            [
             0,
             "#8e0152"
            ],
            [
             0.1,
             "#c51b7d"
            ],
            [
             0.2,
             "#de77ae"
            ],
            [
             0.3,
             "#f1b6da"
            ],
            [
             0.4,
             "#fde0ef"
            ],
            [
             0.5,
             "#f7f7f7"
            ],
            [
             0.6,
             "#e6f5d0"
            ],
            [
             0.7,
             "#b8e186"
            ],
            [
             0.8,
             "#7fbc41"
            ],
            [
             0.9,
             "#4d9221"
            ],
            [
             1,
             "#276419"
            ]
           ],
           "sequential": [
            [
             0,
             "#0d0887"
            ],
            [
             0.1111111111111111,
             "#46039f"
            ],
            [
             0.2222222222222222,
             "#7201a8"
            ],
            [
             0.3333333333333333,
             "#9c179e"
            ],
            [
             0.4444444444444444,
             "#bd3786"
            ],
            [
             0.5555555555555556,
             "#d8576b"
            ],
            [
             0.6666666666666666,
             "#ed7953"
            ],
            [
             0.7777777777777778,
             "#fb9f3a"
            ],
            [
             0.8888888888888888,
             "#fdca26"
            ],
            [
             1,
             "#f0f921"
            ]
           ],
           "sequentialminus": [
            [
             0,
             "#0d0887"
            ],
            [
             0.1111111111111111,
             "#46039f"
            ],
            [
             0.2222222222222222,
             "#7201a8"
            ],
            [
             0.3333333333333333,
             "#9c179e"
            ],
            [
             0.4444444444444444,
             "#bd3786"
            ],
            [
             0.5555555555555556,
             "#d8576b"
            ],
            [
             0.6666666666666666,
             "#ed7953"
            ],
            [
             0.7777777777777778,
             "#fb9f3a"
            ],
            [
             0.8888888888888888,
             "#fdca26"
            ],
            [
             1,
             "#f0f921"
            ]
           ]
          },
          "colorway": [
           "#636efa",
           "#EF553B",
           "#00cc96",
           "#ab63fa",
           "#FFA15A",
           "#19d3f3",
           "#FF6692",
           "#B6E880",
           "#FF97FF",
           "#FECB52"
          ],
          "font": {
           "color": "#2a3f5f"
          },
          "geo": {
           "bgcolor": "white",
           "lakecolor": "white",
           "landcolor": "#E5ECF6",
           "showlakes": true,
           "showland": true,
           "subunitcolor": "white"
          },
          "hoverlabel": {
           "align": "left"
          },
          "hovermode": "closest",
          "mapbox": {
           "style": "light"
          },
          "paper_bgcolor": "white",
          "plot_bgcolor": "#E5ECF6",
          "polar": {
           "angularaxis": {
            "gridcolor": "white",
            "linecolor": "white",
            "ticks": ""
           },
           "bgcolor": "#E5ECF6",
           "radialaxis": {
            "gridcolor": "white",
            "linecolor": "white",
            "ticks": ""
           }
          },
          "scene": {
           "xaxis": {
            "backgroundcolor": "#E5ECF6",
            "gridcolor": "white",
            "gridwidth": 2,
            "linecolor": "white",
            "showbackground": true,
            "ticks": "",
            "zerolinecolor": "white"
           },
           "yaxis": {
            "backgroundcolor": "#E5ECF6",
            "gridcolor": "white",
            "gridwidth": 2,
            "linecolor": "white",
            "showbackground": true,
            "ticks": "",
            "zerolinecolor": "white"
           },
           "zaxis": {
            "backgroundcolor": "#E5ECF6",
            "gridcolor": "white",
            "gridwidth": 2,
            "linecolor": "white",
            "showbackground": true,
            "ticks": "",
            "zerolinecolor": "white"
           }
          },
          "shapedefaults": {
           "line": {
            "color": "#2a3f5f"
           }
          },
          "ternary": {
           "aaxis": {
            "gridcolor": "white",
            "linecolor": "white",
            "ticks": ""
           },
           "baxis": {
            "gridcolor": "white",
            "linecolor": "white",
            "ticks": ""
           },
           "bgcolor": "#E5ECF6",
           "caxis": {
            "gridcolor": "white",
            "linecolor": "white",
            "ticks": ""
           }
          },
          "title": {
           "x": 0.05
          },
          "xaxis": {
           "automargin": true,
           "gridcolor": "white",
           "linecolor": "white",
           "ticks": "",
           "title": {
            "standoff": 15
           },
           "zerolinecolor": "white",
           "zerolinewidth": 2
          },
          "yaxis": {
           "automargin": true,
           "gridcolor": "white",
           "linecolor": "white",
           "ticks": "",
           "title": {
            "standoff": 15
           },
           "zerolinecolor": "white",
           "zerolinewidth": 2
          }
         }
        },
        "title": {
         "text": "Similarity to 'Guerre en Ukraine' visualised using t-SNE"
        },
        "width": 1000
       }
      },
      "image/png": "[encoded data removed]",
      "text/html": [
       "<div>                            <div id=\"14b1b411-2633-4e51-a3ca-785d674ab0c1\" class=\"plotly-graph-div\" style=\"height:650px; width:1000px;\"></div>            <script type=\"text/javascript\">                require([\"plotly\"], function(Plotly) {                    window.PLOTLYENV=window.PLOTLYENV || {};                                    if (document.getElementById(\"14b1b411-2633-4e51-a3ca-785d674ab0c1\")) {                    Plotly.newPlot(                        \"14b1b411-2633-4e51-a3ca-785d674ab0c1\",                        [{\"hovertemplate\":\"<b>%{hovertext}</b><br><br>x=%{x}<br>y=%{y}<br>z=%{z}<br>Similarity=%{marker.color}<extra></extra>\",\"hovertext\":[\"Pour ses voeux aux Français, Emmanuel Macron veut faire de 2024 une « année de détermination »\",\"« L’agrivoltaïsme suppose que l’agriculture conserve une place principale »\",\"Artcurial, Sotheby's, Drouot : les maisons de vente peaufinent leur stratégie de marque\",\"Pour Paris 2024, les chantiers olympiques arrivent dans les temps\",\"La Bulgarie et la Roumanie vont partiellement intégrer l'espace Schengen\",\"Quand la sortie du réveillon est gâchée par le verglas\",\"Paris 2024 : « Quand la magie du sport opère »\",\"Depardieu : la faute politique du président\",\"VIDEO - Pourquoi l'Argentine manifeste contre le « mega-décret » de son nouveau président ?\",\"Vidéo. Les coulisses de notre enquête « Narco Business » sur le trafic de fentanyl des cartels mexicains\",\"Vidéo. A Gaza, des corps enterrés dans des fosses communes, tandis que la riposte israélienne s’intensifie\",\"La Moldavie veut accélérer son rapprochement de l'Union européenne\",\"Les images impressionnantes de l'explosion d'un navire russe dans le port de Feodossia, en Crimée\",\"VIDEO - Pourquoi l'enlisement de la guerre en Ukraine est la meilleure chose qui pouvait arriver à la Russie\",\"VIDEO - Démographie : faire moins d'enfants, est-ce vraiment un problème ?\",\"Google, Apple vs Epic Games : « Le monopole des géants du numérique s’érode trop doucement »\",\"VIDEO - Cet avion militaire américain qui pourrait révolutionner la guerre\",\"Vidéo. Bande de Gaza : avant la guerre, un territoire à l’agonie\",\"Marseille : «On aime ce club, mais pas au point de faire des violences ou des dégradations»\",\"Mal-logement : le parc HLM paralysé par le Covid\",\"Les dix évènements qui marqueront 2024\",\"Elections européennes : Emmanuel Macron et Marine Le Pen installent leur duel\",\"20 photos marquantes de 2023\",\"Le Japon frappé par un important séisme/tsunami mais sans dégâts majeurs\",\"Elections aux Etats-Unis, Russie, UE… Ces 8 scrutins de 2024 qui pourraient tout changer dans le monde\",\"Le smic augmente de 15 euros à partir du 1ᵉʳ janvier 2024\",\"Immobilier ancien : jusqu'où ira la baisse des prix en France ?\",\"Vidéo. Loi « immigration » : le texte consacre-t-il la « préférence nationale », prônée par le Rassemblement national ?\",\"Comment la France a-t-elle été chassée du Sahel ?\",\"Trois ans après le Brexit, la City continue de transférer des emplois vers l'Europe\",\"Inflation : Pepsi, 7up, Lay's… Carrefour boycotte PepsiCo, Leclerc « tenté » de suivre\",\"Israël : le désaveu de la Cour suprême\",\"Légère remontée de l'inflation en France en décembre à 3,7 %\",\"Dès aujourd’hui, les grands patrons britanniques ont gagné autant qu’un salarié moyen en un an\",\"Livret A, LEP, PEL… les nouveaux taux de l'épargne réglementée\",\"« La transparence sur les informations sociales et environnementales incite les entreprises à mener une réflexion stratégique au service de leur pérennité »\",\"Le gouvernement veut s'attaquer à la « shrinkflation », l'inflation masquée en supermarché\",\"Patrick Artus : « Le reflux de l'inflation sera moins fort qu'annoncé »\",\"Vidéo. Les images de l’embrasement de l’avion de la Japan Airlines à Tokyo-Haneda\",\"« La City de Londres s’intéresse de très près au Labour britannique et ce dernier fait tout pour lui plaire »\",\"Vidéo. En images : le Japon touché par un important séisme\",\"« La France du “mais quand même…”, sans cesse occupée à négocier une exception à la règle, complique le vivre-ensemble »\",\"Vidéo. En images : l’Ukraine touchée par « un nombre record de missiles » lancés par la Russie\",\"Vidéo. Les coulisses de notre enquête « Narco Business » sur le trafic de fentanyl des cartels mexicains\",\"En ces temps tragiques, que nous est-il permis d’espérer ?\",\"La France franchit le cap symbolique du million de voitures électriques\",\"« Gouvernement et secteur privé sont des alliés dans le financement de la R&D, pas des ennemis »\",\"Fusions-acquisitions : un rebond espéré en 2024 après le trou d’air de l’an passé\",\"Automobile : une hiérarchie mondiale bousculée\",\"Immobilier : ces passoires thermiques qui affolent le marché\",\"SNCF : le système D des voyageurs face au train cher\",\"Disparition de Jacques Delors : pluie d'hommages pour l'artisan de l'Europe\",\"Mort de Jacques Delors, le « tsar de Bruxelles »\",\"Huîtres : la vague d'intoxications alimentaires au norovirus s'étend sur le littoral\",\"Bridgewater, le « Big Brother » du trading mondial, fait face à ses accusateurs\",\"Belarus: The opposition tries to get out of Lukashenko's trap\",\"AI start-ups are booming in San Francisco's 'Cerebral Valley'\",\"'Qatargate': Belgian investigation risks stalling\",\"Flooding in Northern France: 'It's only logical that rainfall will become more frequent and intense'\",\"Between North and South Korea, 2024 begins under high tension\",\"Trop d'eau, étiquetage non conforme… La répression des fraudes épingle des fabricants de beurre\",\"What exactly is Gérard Depardieu accused of?\",\"Un Boeing 737 MAX perd un hublot en plein vol et relance la question de la fiabilité\",\"Canada's carbon tax under threat from all sides\",\"Video. Why Middle East stability revolves around Israel\",\"Video. The year in review: 2023 in six minutes\",\"VIDEO - Les images de la croix installée sur la flèche de Notre-Dame de Paris\",\"Video. Why are Ukrainian special forces fighting Russia's Wagner mercenaries in Sudan?\",\"Ukraine : « Au sein de l'Otan, nous avons toujours dit que ce serait une guerre longue »\",\"Bruno Le Maire renouvelle son opération séduction à Wall Street\",\"Transport sanitaire : « L’absence de dialogue avec les artisans taxis et de mesures d’accompagnement témoigne d’une gestion technocratique et centralisée »\",\"Le Guyana relance la soif mondiale de pétrole\",\"Carrefour fait une offre sur les magasins de proximité de Casino\",\"Guerre Israël - Hamas : Benyamin Netanyahou sous pression après la mort d'otages tués par des soldats israéliens\",\"Voiture électrique : une démocratisation difficile\",\"Matières premières : « Rayon de soleil pour le miel »\",\"Gaza : Israël s'apprête à inonder les tunnels du Hamas\",\"Vidéo. En images : Bourges, Capitale européenne de la culture en 2028\",\"La guerre Israël-Hamas donne l’occasion à l’Egypte de retrouver une influence diplomatique\",\"Vidéo. En images : à la COP28, un rapport final qui mentionne les énergies fossiles « pour la toute première fois »\",\"Google, Apple vs Epic Games : « Le monople des géants du numérique s’érode trop doucement »\",\"« Dubaï connexion, comment blanchir cinquante millions de dollars » : découvrez le troisième épisode de notre série vidéo « Narco Business »\",\"VIDEO - Armement : les Européens peuvent-ils prendre la main sur leur défense ?\",\"VIDEO - Pourquoi ne fabrique-t-on plus de vélos en France ?\",\"VIDEO - Faut-il vraiment lutter contre l'inflation ?\",\"VIDEO - Pourquoi c'est devenu cool de faire ses courses chez Action ?\",\"Loi immigration : la CMP a démarré sous haute tension\",\"Loi immigration : la caution pour les étudiants étrangers inquiète universités et grandes écoles\",\"Immobilier : plaidoyer pour une forte baisse des « frais de notaire »\",\"Loi immigration : les points chauds de la négociation entre le gouvernement et LR\",\"Casino : Intermarché et Auchan emportent la mise\",\"Au Moyen-Orient, le risque de l’instabilité s’accroît dangereusement\",\"Fin du bonus à l’achat de voitures électriques en Allemagne : « On peut difficilement faire plus brutal »\",\"« Le législateur devrait proposer une formule de calcul de la participation spécifique pour les entreprises de moins de 50 salariés »\",\"Vincent Bolloré et Vivendi, le coup de sa vie\",\"Améliorer le référendum pour le rendre enfin « démocratiquement correct »\",\"Vidéo. En images : Vladimir Poutine réitère son objectif en Ukraine\",\"Les magasins Casino deviennent un sujet social et politique\",\"Inquiets, les salariés de Casino lancent un préavis de grève\",\"VIDEO - Défense : est-ce que les Européens peuvent reprendre le contrôle de leur sécurité ?\",\"Crédit immobilier : les banques repartent à la conquête de nouveaux clients\",\"BFM-TV perd son pari Ruquier face à CNews\",\"Fiscalité : les monnaies numériques dans la ligne de mire\",\"Impôts : la fin de la taxe d'habitation, une manne modeste pour les propriétaires\",\"La France bat son record historique d'exportation d'électricité\",\"A Gaza, la guerre sans fin de Benyamin Nétanyahou\",\"Alimentation : « Les acteurs de la distribution ont un rôle-clé à jouer dans la lutte contre le gaspillage »\",\"Qui est responsable si des bougies de Noël enflamment la jupe d’une invitée ?\",\"Aux origines de la « Terre sainte », ou la lente construction d’une Palestine « mythifiée »\",\"Vidéo. Ukraine : ce que les images disent de la stratégie d’attaque russe des bâtiments civils d’Avdiïvka\",\"Impôts : taxe d'habitation et taxe foncière en 10 questions pratiques\",\"Ces communes qui majorent la taxe d'habitation sur les résidences secondaires\",\"Intermarché contraint de revendre trois Casino trois mois après leur achat\",\"Mort de Jacques Delors, le « tsar de Bruxelles »\",\"Taxe foncière : la facture va encore s'alourdir en 2024\",\"Impôts : ce qui change pour les entreprises en 2024\",\"« Nous vivons mondialement une économie de casino avec des montages financiers toujours plus complexes »\",\"Le double jeu dangereux de la Serbie\",\"Dans les palaces, les nouvelles frontières de l’hyperluxe\",\"« A travers les légendes sur Jésus, nous arrivons à discerner en filigrane des éléments sur sa véritable existence »\",\"Vidéo. Le Sénégal manque de poisson (mais il y a peut-être une solution)\",\"Impôt : coup de pouce supplémentaire aux attributions gratuites d'actions (AGA)\",\"Impôts : la taxe foncière pèse moins sur les riches propriétaires\",\"Impôt : zoom sur les avantages du plan de partage de la valorisation de l'entreprise (PPVE)\",\"Clap de fin pour les magasins Habitat\",\"M&A : Lazard prend la tête d'un classement français très bousculé\",\"Schneider, L'Oréal, Stellantis : les moteurs du CAC 40 ont tourné à plein régime cette année\",\"Le double héritage de Jacques Delors\",\"Impôts : ce qui change pour les ménages en 2024\",\"Pourquoi l’avenir du Moyen-Orient dépend autant d’Israël\",\"Grève à la tour Eiffel : le monument fermé au public à l’occasion du centenaire du décès de Gustave Eiffel\",\"Schneider Electric retrouve le club fermé des sociétés valant plus de 100 milliards d'euros\",\"L'Oréal continue de progresser encore plus vite que le marché de la beauté\",\"Le M&A mondial signe sa pire année de la décennie\",\"Joseph Stiglitz : « Le résultat des élections aux Etats-Unis dépend des perspectives économiques pour 2024, elles-mêmes liées à l’évolution du conflit au Moyen-Orient »\",\"Le distributeur Grand Frais s’apprête à entrer dans Paris\",\"Chloé Morin : « Pour Emmanuel Macron, le rebond va être de plus en plus difficile »\",\"Avis de gros temps sur la dette des pays en développement\",\"Lutte anticorruption : l’exécutif ne peut être juge et partie\",\"Pour Emmanuel Macron, des voeux 2024 placés sous le signe de la crise politique\",\"Prévention du terrorisme : l’impossible risque zéro\",\"La Chine prise au piège de ses crédits accordés aux pays en développement\",\"Bourse : les 7 chiffres fous des placements en actions\",\"M&A : Lazard prend la tête d'un classement français très bousculé\",\"Européennes 2024 : le camp Macron redoute les effets de la loi immigration\",\"M&A : les prix d'acquisition des PME décrochent\",\"Israël devrait disposer d'un canon laser dès 2024\",\"Trains annulés : grosse pagaille pour des milliers de passagers d'Eurostar avant le nouvel An\",\"Le trafic Eurostar en provenance et vers Londres reprendra de manière normale dimanche après une journée d’annulations complète\",\"Les villes maintiennent leurs efforts pour réduire leurs factures d'énergie\",\"Dominique Méda, sociologue : « Confirmer le tournant social de l’Union européenne est la meilleure manière de rendre moins attractifs les discours de l’extrême droite »\",\"Pourquoi l’avenir du Moyen-Orient dépend autant d’Israël\"],\"legendgroup\":\"\",\"marker\":{\"color\":[0.606,0.536,0.755,0.545,0.445,0.295,0.221,0.098,0.417,0.346,0.456,0.298,0.496,0.403,0.44,0.338,0.381,0.127,0.497,0.388,0.717,0.616,0.112,0.54,0.504,0.722,0.436,0.497,0.471,0.454,0.592,0.439,0.5,0.575,0.745,0.563,0.564,0.617,0.496,0.674,0.22,0.452,0.325,0.346,0.616,0.486,0.562,0.49,0.0,0.429,0.22,0.558,0.38,0.506,0.368,0.766,0.876,0.862,0.924,1.0,0.502,0.932,0.627,0.918,0.674,0.367,0.559,0.829,0.472,0.356,0.592,0.15,0.379,0.433,0.097,0.098,0.521,0.227,0.473,0.369,0.368,0.443,0.479,0.52,0.49,0.574,0.201,0.382,0.352,0.411,0.523,0.584,0.478,0.582,0.307,0.32,0.135,0.335,0.759,0.324,0.387,0.551,0.259,0.554,0.454,0.306,0.564,0.371,0.467,0.278,0.503,0.695,0.456,0.38,0.532,0.385,0.491,0.244,0.467,0.453,0.396,0.519,0.398,0.463,0.419,0.494,0.516,0.191,0.372,0.458,0.462,0.508,0.756,0.604,0.525,0.608,0.391,0.104,0.392,0.49,0.143,0.327,0.239,0.494,0.388,0.337,0.482,0.643,0.622,0.524,0.534,0.458],\"coloraxis\":\"coloraxis\",\"opacity\":0.7,\"symbol\":\"circle\"},\"mode\":\"markers\",\"name\":\"\",\"scene\":\"scene\",\"showlegend\":false,\"x\":[-25.398146,16.916773,55.75492,31.636684,-67.763504,-74.0534,-51.340836,137.76843,56.86442,-98.6706,-135.97382,-56.908108,-153.30829,-109.839745,-87.90589,-22.449806,-171.32365,47.799828,-142.82217,-31.199883,163.09232,-63.433067,-177.80202,75.09862,5.66142,126.00451,72.57602,-60.808784,-105.86683,78.53396,-4.265904,-113.53438,102.96381,63.78126,124.19794,1.2349402,66.9284,125.698784,-117.900566,69.150246,-100.08186,-70.86218,-135.27957,111.19202,-48.544777,-25.937979,-3.545652,143.9495,5.600779,24.985415,-11.450262,-60.258045,78.81363,-27.337006,-14.635039,9.121929,84.19844,68.60056,61.66559,95.675674,36.03967,30.42892,-199.25201,72.50748,86.28936,108.679474,-119.8789,52.855408,-121.44733,-15.965593,6.583693,-49.960316,-8.289885,-119.23548,-9.277832,-80.52517,142.79417,-56.87558,66.70047,28.325294,-2.4319916,-32.70665,-86.64546,92.252205,-84.86521,-139.54607,31.980782,37.25117,-148.46552,-38.39308,-26.997408,132.5517,-0.31963295,5.2942157,-17.560764,-121.796814,-75.75672,-20.248974,8.175564,-69.51501,27.239561,-24.986654,52.62646,142.26404,-3.4069667,-86.3808,39.733654,-24.435137,10.519231,-147.58565,162.78137,141.98871,-4.3391647,-98.85923,193.72958,109.14534,-30.067394,-54.52787,25.993435,-17.44127,-52.703598,175.06577,64.64499,47.120422,17.849522,43.474533,-115.96986,-82.18887,102.741875,98.23455,-70.1244,8.632028,33.80262,97.24448,64.17456,-55.555233,-128.48013,-224.29002,20.75627,-85.65243,9.643401,-46.571266,69.369125,-1.1668143,-73.248505,93.30859,20.506685,95.90463,-70.57194,107.80826,167.5512,87.86469],\"y\":[-153.98975,40.25245,-129.42397,-6.6632123,50.026707,1.5381203,29.806936,96.85716,-60.804295,-43.888363,19.95097,118.818794,-55.533134,65.80152,94.43215,-15.629441,13.64053,119.186264,104.092606,-28.480217,21.763603,-35.077267,-13.786152,24.543818,-16.89997,4.4551587,25.169159,-50.76976,-5.550342,108.32883,-83.14766,62.647842,28.805319,171.36227,-37.125423,115.75606,9.621344,-3.5960236,-51.784836,80.17538,-0.57703096,18.189949,3.4597595,-106.22023,63.0622,-143.91634,173.68288,-10.63261,-67.605095,46.195343,-20.361849,-100.57753,124.161,-56.31242,27.817234,52.608864,-79.12822,-72.90014,-107.469536,-109.58742,-53.752716,-146.28845,-4.6853848,-136.12001,-143.65163,-108.2042,-98.308815,-124.43501,66.22927,52.60456,82.79897,97.7568,-48.79601,-5.99531,-82.79134,111.66512,-42.26128,120.485435,-58.018795,46.55688,-38.72403,75.06978,-31.825575,-112.39879,-97.71274,-75.92092,61.518875,30.441412,83.52999,-139.48552,-17.915672,-69.01019,4.071441,133.8805,11.881443,15.463584,17.048489,-61.250347,-111.75133,60.245766,-173.11082,41.97508,-6.0781083,57.93169,136.54716,28.39426,104.01543,36.18198,-84.42742,-26.693184,44.418106,84.61139,-70.04192,-109.36463,66.212204,19.018267,147.50197,-12.5585375,-74.86168,101.09388,8.751489,36.645805,223.94678,-210.8244,-12.400173,140.56567,38.362724,-82.30617,66.42512,-47.40279,-86.20103,106.477875,95.627815,141.98344,-20.289347,-145.64233,62.60057,-313.38898,4.488685,110.57209,-6.050194,167.07816,-10.965958,-136.60265,67.08571,47.93357,189.51904,-32.260464,-87.31966,80.147644,-81.53997,-63.297638],\"z\":[-94.62713,117.98822,72.175606,-189.32256,174.68468,23.500067,4.0505795,-68.19659,-120.618935,22.099646,-99.671585,-147.67288,-25.739183,-54.456257,65.32862,48.11012,6.283167,-93.13729,92.83456,-0.97585434,-98.72215,-74.127594,93.128685,-144.2385,146.02994,-44.625122,33.589565,145.76384,142.10791,-44.30932,36.468742,-140.5306,62.23028,63.683323,-113.054054,51.97195,124.07294,92.771095,-33.549515,-9.432712,-32.483017,72.429306,-48.560917,31.93803,104.727356,119.256676,35.654488,60.33697,-46.53978,1.917764,-42.1826,-75.43953,113.848045,81.12077,-34.187603,173.89717,-15.759646,-60.406944,-38.55533,-87.613434,20.691387,-42.370525,19.366005,-9.146456,-58.366566,-37.99763,-17.401325,-75.34194,132.31436,-118.99768,97.74985,-101.04756,-196.27899,-128.22176,-22.99541,-68.59772,-31.417303,102.89413,118.71539,66.31419,48.92794,-45.228756,83.78202,133.07018,117.13037,81.45577,-89.8431,-53.40419,-16.379269,-24.804901,200.7463,75.896965,87.9944,88.47395,-88.04109,79.99701,-60.970215,-162.03038,-156.47824,56.042557,18.268541,-173.40584,-29.825775,26.54949,-93.29431,-123.85862,44.939087,53.31987,157.72641,-62.310043,-8.757346,-6.736631,-124.44457,-92.36746,30.672941,-0.021002129,0.49892372,-145.83704,80.381424,22.100107,114.269,80.070595,186.57043,-96.82515,-131.0635,-12.495115,22.477575,-124.50806,97.53885,50.375717,-7.3428755,-37.38385,-158.66985,10.461343,75.185646,43.60955,79.83866,133.55234,46.881138,-1.3198402,4.966808,-60.65086,-83.46076,52.863415,-6.5247006,-61.48244,-54.994823,170.8139,52.769867,-114.78914,-2.5082135,74.88498],\"type\":\"scatter3d\"}],                        {\"template\":{\"data\":{\"histogram2dcontour\":[{\"type\":\"histogram2dcontour\",\"colorbar\":{\"outlinewidth\":0,\"ticks\":\"\"},\"colorscale\":[[0.0,\"#0d0887\"],[0.1111111111111111,\"#46039f\"],[0.2222222222222222,\"#7201a8\"],[0.3333333333333333,\"#9c179e\"],[0.4444444444444444,\"#bd3786\"],[0.5555555555555556,\"#d8576b\"],[0.6666666666666666,\"#ed7953\"],[0.7777777777777778,\"#fb9f3a\"],[0.8888888888888888,\"#fdca26\"],[1.0,\"#f0f921\"]]}],\"choropleth\":[{\"type\":\"choropleth\",\"colorbar\":{\"outlinewidth\":0,\"ticks\":\"\"}}],\"histogram2d\":[{\"type\":\"histogram2d\",\"colorbar\":{\"outlinewidth\":0,\"ticks\":\"\"},\"colorscale\":[[0.0,\"#0d0887\"],[0.1111111111111111,\"#46039f\"],[0.2222222222222222,\"#7201a8\"],[0.3333333333333333,\"#9c179e\"],[0.4444444444444444,\"#bd3786\"],[0.5555555555555556,\"#d8576b\"],[0.6666666666666666,\"#ed7953\"],[0.7777777777777778,\"#fb9f3a\"],[0.8888888888888888,\"#fdca26\"],[1.0,\"#f0f921\"]]}],\"heatmap\":[{\"type\":\"heatmap\",\"colorbar\":{\"outlinewidth\":0,\"ticks\":\"\"},\"colorscale\":[[0.0,\"#0d0887\"],[0.1111111111111111,\"#46039f\"],[0.2222222222222222,\"#7201a8\"],[0.3333333333333333,\"#9c179e\"],[0.4444444444444444,\"#bd3786\"],[0.5555555555555556,\"#d8576b\"],[0.6666666666666666,\"#ed7953\"],[0.7777777777777778,\"#fb9f3a\"],[0.8888888888888888,\"#fdca26\"],[1.0,\"#f0f921\"]]}],\"heatmapgl\":[{\"type\":\"heatmapgl\",\"colorbar\":{\"outlinewidth\":0,\"ticks\":\"\"},\"colorscale\":[[0.0,\"#0d0887\"],[0.1111111111111111,\"#46039f\"],[0.2222222222222222,\"#7201a8\"],[0.3333333333333333,\"#9c179e\"],[0.4444444444444444,\"#bd3786\"],[0.5555555555555556,\"#d8576b\"],[0.6666666666666666,\"#ed7953\"],[0.7777777777777778,\"#fb9f3a\"],[0.8888888888888888,\"#fdca26\"],[1.0,\"#f0f921\"]]}],\"contourcarpet\":[{\"type\":\"contourcarpet\",\"colorbar\":{\"outlinewidth\":0,\"ticks\":\"\"}}],\"contour\":[{\"type\":\"contour\",\"colorbar\":{\"outlinewidth\":0,\"ticks\":\"\"},\"colorscale\":[[0.0,\"#0d0887\"],[0.1111111111111111,\"#46039f\"],[0.2222222222222222,\"#7201a8\"],[0.3333333333333333,\"#9c179e\"],[0.4444444444444444,\"#bd3786\"],[0.5555555555555556,\"#d8576b\"],[0.6666666666666666,\"#ed7953\"],[0.7777777777777778,\"#fb9f3a\"],[0.8888888888888888,\"#fdca26\"],[1.0,\"#f0f921\"]]}],\"surface\":[{\"type\":\"surface\",\"colorbar\":{\"outlinewidth\":0,\"ticks\":\"\"},\"colorscale\":[[0.0,\"#0d0887\"],[0.1111111111111111,\"#46039f\"],[0.2222222222222222,\"#7201a8\"],[0.3333333333333333,\"#9c179e\"],[0.4444444444444444,\"#bd3786\"],[0.5555555555555556,\"#d8576b\"],[0.6666666666666666,\"#ed7953\"],[0.7777777777777778,\"#fb9f3a\"],[0.8888888888888888,\"#fdca26\"],[1.0,\"#f0f921\"]]}],\"mesh3d\":[{\"type\":\"mesh3d\",\"colorbar\":{\"outlinewidth\":0,\"ticks\":\"\"}}],\"scatter\":[{\"fillpattern\":{\"fillmode\":\"overlay\",\"size\":10,\"solidity\":0.2},\"type\":\"scatter\"}],\"parcoords\":[{\"type\":\"parcoords\",\"line\":{\"colorbar\":{\"outlinewidth\":0,\"ticks\":\"\"}}}],\"scatterpolargl\":[{\"type\":\"scatterpolargl\",\"marker\":{\"colorbar\":{\"outlinewidth\":0,\"ticks\":\"\"}}}],\"bar\":[{\"error_x\":{\"color\":\"#2a3f5f\"},\"error_y\":{\"color\":\"#2a3f5f\"},\"marker\":{\"line\":{\"color\":\"#E5ECF6\",\"width\":0.5},\"pattern\":{\"fillmode\":\"overlay\",\"size\":10,\"solidity\":0.2}},\"type\":\"bar\"}],\"scattergeo\":[{\"type\":\"scattergeo\",\"marker\":{\"colorbar\":{\"outlinewidth\":0,\"ticks\":\"\"}}}],\"scatterpolar\":[{\"type\":\"scatterpolar\",\"marker\":{\"colorbar\":{\"outlinewidth\":0,\"ticks\":\"\"}}}],\"histogram\":[{\"marker\":{\"pattern\":{\"fillmode\":\"overlay\",\"size\":10,\"solidity\":0.2}},\"type\":\"histogram\"}],\"scattergl\":[{\"type\":\"scattergl\",\"marker\":{\"colorbar\":{\"outlinewidth\":0,\"ticks\":\"\"}}}],\"scatter3d\":[{\"type\":\"scatter3d\",\"line\":{\"colorbar\":{\"outlinewidth\":0,\"ticks\":\"\"}},\"marker\":{\"colorbar\":{\"outlinewidth\":0,\"ticks\":\"\"}}}],\"scattermapbox\":[{\"type\":\"scattermapbox\",\"marker\":{\"colorbar\":{\"outlinewidth\":0,\"ticks\":\"\"}}}],\"scatterternary\":[{\"type\":\"scatterternary\",\"marker\":{\"colorbar\":{\"outlinewidth\":0,\"ticks\":\"\"}}}],\"scattercarpet\":[{\"type\":\"scattercarpet\",\"marker\":{\"colorbar\":{\"outlinewidth\":0,\"ticks\":\"\"}}}],\"carpet\":[{\"aaxis\":{\"endlinecolor\":\"#2a3f5f\",\"gridcolor\":\"white\",\"linecolor\":\"white\",\"minorgridcolor\":\"white\",\"startlinecolor\":\"#2a3f5f\"},\"baxis\":{\"endlinecolor\":\"#2a3f5f\",\"gridcolor\":\"white\",\"linecolor\":\"white\",\"minorgridcolor\":\"white\",\"startlinecolor\":\"#2a3f5f\"},\"type\":\"carpet\"}],\"table\":[{\"cells\":{\"fill\":{\"color\":\"#EBF0F8\"},\"line\":{\"color\":\"white\"}},\"header\":{\"fill\":{\"color\":\"#C8D4E3\"},\"line\":{\"color\":\"white\"}},\"type\":\"table\"}],\"barpolar\":[{\"marker\":{\"line\":{\"color\":\"#E5ECF6\",\"width\":0.5},\"pattern\":{\"fillmode\":\"overlay\",\"size\":10,\"solidity\":0.2}},\"type\":\"barpolar\"}],\"pie\":[{\"automargin\":true,\"type\":\"pie\"}]},\"layout\":{\"autotypenumbers\":\"strict\",\"colorway\":[\"#636efa\",\"#EF553B\",\"#00cc96\",\"#ab63fa\",\"#FFA15A\",\"#19d3f3\",\"#FF6692\",\"#B6E880\",\"#FF97FF\",\"#FECB52\"],\"font\":{\"color\":\"#2a3f5f\"},\"hovermode\":\"closest\",\"hoverlabel\":{\"align\":\"left\"},\"paper_bgcolor\":\"white\",\"plot_bgcolor\":\"#E5ECF6\",\"polar\":{\"bgcolor\":\"#E5ECF6\",\"angularaxis\":{\"gridcolor\":\"white\",\"linecolor\":\"white\",\"ticks\":\"\"},\"radialaxis\":{\"gridcolor\":\"white\",\"linecolor\":\"white\",\"ticks\":\"\"}},\"ternary\":{\"bgcolor\":\"#E5ECF6\",\"aaxis\":{\"gridcolor\":\"white\",\"linecolor\":\"white\",\"ticks\":\"\"},\"baxis\":{\"gridcolor\":\"white\",\"linecolor\":\"white\",\"ticks\":\"\"},\"caxis\":{\"gridcolor\":\"white\",\"linecolor\":\"white\",\"ticks\":\"\"}},\"coloraxis\":{\"colorbar\":{\"outlinewidth\":0,\"ticks\":\"\"}},\"colorscale\":{\"sequential\":[[0.0,\"#0d0887\"],[0.1111111111111111,\"#46039f\"],[0.2222222222222222,\"#7201a8\"],[0.3333333333333333,\"#9c179e\"],[0.4444444444444444,\"#bd3786\"],[0.5555555555555556,\"#d8576b\"],[0.6666666666666666,\"#ed7953\"],[0.7777777777777778,\"#fb9f3a\"],[0.8888888888888888,\"#fdca26\"],[1.0,\"#f0f921\"]],\"sequentialminus\":[[0.0,\"#0d0887\"],[0.1111111111111111,\"#46039f\"],[0.2222222222222222,\"#7201a8\"],[0.3333333333333333,\"#9c179e\"],[0.4444444444444444,\"#bd3786\"],[0.5555555555555556,\"#d8576b\"],[0.6666666666666666,\"#ed7953\"],[0.7777777777777778,\"#fb9f3a\"],[0.8888888888888888,\"#fdca26\"],[1.0,\"#f0f921\"]],\"diverging\":[[0,\"#8e0152\"],[0.1,\"#c51b7d\"],[0.2,\"#de77ae\"],[0.3,\"#f1b6da\"],[0.4,\"#fde0ef\"],[0.5,\"#f7f7f7\"],[0.6,\"#e6f5d0\"],[0.7,\"#b8e186\"],[0.8,\"#7fbc41\"],[0.9,\"#4d9221\"],[1,\"#276419\"]]},\"xaxis\":{\"gridcolor\":\"white\",\"linecolor\":\"white\",\"ticks\":\"\",\"title\":{\"standoff\":15},\"zerolinecolor\":\"white\",\"automargin\":true,\"zerolinewidth\":2},\"yaxis\":{\"gridcolor\":\"white\",\"linecolor\":\"white\",\"ticks\":\"\",\"title\":{\"standoff\":15},\"zerolinecolor\":\"white\",\"automargin\":true,\"zerolinewidth\":2},\"scene\":{\"xaxis\":{\"backgroundcolor\":\"#E5ECF6\",\"gridcolor\":\"white\",\"linecolor\":\"white\",\"showbackground\":true,\"ticks\":\"\",\"zerolinecolor\":\"white\",\"gridwidth\":2},\"yaxis\":{\"backgroundcolor\":\"#E5ECF6\",\"gridcolor\":\"white\",\"linecolor\":\"white\",\"showbackground\":true,\"ticks\":\"\",\"zerolinecolor\":\"white\",\"gridwidth\":2},\"zaxis\":{\"backgroundcolor\":\"#E5ECF6\",\"gridcolor\":\"white\",\"linecolor\":\"white\",\"showbackground\":true,\"ticks\":\"\",\"zerolinecolor\":\"white\",\"gridwidth\":2}},\"shapedefaults\":{\"line\":{\"color\":\"#2a3f5f\"}},\"annotationdefaults\":{\"arrowcolor\":\"#2a3f5f\",\"arrowhead\":0,\"arrowwidth\":1},\"geo\":{\"bgcolor\":\"white\",\"landcolor\":\"#E5ECF6\",\"subunitcolor\":\"white\",\"showland\":true,\"showlakes\":true,\"lakecolor\":\"white\"},\"title\":{\"x\":0.05},\"mapbox\":{\"style\":\"light\"}}},\"scene\":{\"domain\":{\"x\":[0.0,1.0],\"y\":[0.0,1.0]},\"xaxis\":{\"title\":{\"text\":\"x\"}},\"yaxis\":{\"title\":{\"text\":\"y\"}},\"zaxis\":{\"title\":{\"text\":\"z\"}}},\"coloraxis\":{\"colorbar\":{\"title\":{\"text\":\"Similarity\"}},\"colorscale\":[[0.0,\"#0d0887\"],[0.1111111111111111,\"#46039f\"],[0.2222222222222222,\"#7201a8\"],[0.3333333333333333,\"#9c179e\"],[0.4444444444444444,\"#bd3786\"],[0.5555555555555556,\"#d8576b\"],[0.6666666666666666,\"#ed7953\"],[0.7777777777777778,\"#fb9f3a\"],[0.8888888888888888,\"#fdca26\"],[1.0,\"#f0f921\"]]},\"legend\":{\"tracegroupgap\":0},\"title\":{\"text\":\"Similarity to 'Guerre en Ukraine' visualised using t-SNE\"},\"width\":1000,\"height\":650},                        {\"responsive\": true}                    ).then(function(){\n",
       "                            \n",
       "var gd = document.getElementById('14b1b411-2633-4e51-a3ca-785d674ab0c1');\n",
       "var x = new MutationObserver(function (mutations, observer) {{\n",
       "        var display = window.getComputedStyle(gd).display;\n",
       "        if (!display || display === 'none') {{\n",
       "            console.log([gd, 'removed!']);\n",
       "            Plotly.purge(gd);\n",
       "            observer.disconnect();\n",
       "        }}\n",
       "}});\n",
       "\n",
       "// Listen for the removal of the full notebook cells\n",
       "var notebookContainer = gd.closest('#notebook-container');\n",
       "if (notebookContainer) {{\n",
       "    x.observe(notebookContainer, {childList: true});\n",
       "}}\n",
       "\n",
       "// Listen for the clearing of the current output cell\n",
       "var outputEl = gd.closest('.output');\n",
       "if (outputEl) {{\n",
       "    x.observe(outputEl, {childList: true});\n",
       "}}\n",
       "\n",
       "                        })                };                });            </script>        </div>"
      ]
     },
     "metadata": {},
     "output_type": "display_data"
    }
   ],
   "source": [
    "import plotly.express as px\n",
    "from sklearn.manifold import TSNE\n",
    "\n",
    "# Create a t-SNE model\n",
    "tsne_model = TSNE(\n",
    "    n_components = 3,\n",
    "    perplexity = 15,\n",
    "    random_state = 42,\n",
    "    init = 'random',\n",
    "    learning_rate = 200\n",
    ")\n",
    "tsne_embeddings = tsne_model.fit_transform(embedding_array)\n",
    "\n",
    "# Create a DataFrame for visualisation\n",
    "visualisation_data = pd.DataFrame(\n",
    "    {'x': tsne_embeddings[:, 0],\n",
    "     'y': tsne_embeddings[:, 1],\n",
    "     'z': tsne_embeddings[:, 2],\n",
    "     'title':df['title'],\n",
    "     'Similarity': df['normalised'].round(3)}\n",
    ")\n",
    "\n",
    "# Create the scatter plot using Plotly Express\n",
    "plot = px.scatter_3d(\n",
    "    visualisation_data,\n",
    "    x = 'x',\n",
    "    y = 'y',\n",
    "    z = 'z',\n",
    "    color = 'Similarity',\n",
    "    hover_name='title',\n",
    "    #color_continuous_scale = 'rainbow',\n",
    "    opacity = 0.7,\n",
    "    title = f\"Similarity to '{query}' visualised using t-SNE\"\n",
    ")\n",
    "\n",
    "plot.update_layout(\n",
    "    width = 1000,\n",
    "    height = 650\n",
    ")\n",
    "\n",
    "# Show the plot\n",
    "plot.show()"
   ]
  },
  {
   "cell_type": "code",
   "execution_count": null,
   "id": "3861652e-94a8-4f1a-9853-b4f920c11f99",
   "metadata": {},
   "outputs": [],
   "source": []
  },
  {
   "cell_type": "code",
   "execution_count": null,
   "id": "f46442b6-c2e2-4066-af98-b70d84360f20",
   "metadata": {},
   "outputs": [],
   "source": []
  }
 ],
 "metadata": {
  "kernelspec": {
   "display_name": "Python 3 (ipykernel)",
   "language": "python",
   "name": "python3"
  },
  "language_info": {
   "codemirror_mode": {
    "name": "ipython",
    "version": 3
   },
   "file_extension": ".py",
   "mimetype": "text/x-python",
   "name": "python",
   "nbconvert_exporter": "python",
   "pygments_lexer": "ipython3",
   "version": "3.9.16"
  }
 },
 "nbformat": 4,
 "nbformat_minor": 5
}
