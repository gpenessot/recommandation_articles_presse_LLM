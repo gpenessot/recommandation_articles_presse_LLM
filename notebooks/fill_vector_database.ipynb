{
 "cells": [
  {
   "cell_type": "code",
   "execution_count": 46,
   "id": "ab5bce44-4a11-42cb-9b76-047486e84517",
   "metadata": {},
   "outputs": [],
   "source": [
    "from sentence_transformers import SentenceTransformer\n",
    "from qdrant_client import QdrantClient\n",
    "from qdrant_client import models\n",
    "from qdrant_client.http.models import Distance, VectorParams, PointStruct \n",
    "from qdrant_client.models import Filter\n",
    "from qdrant_client.http import models\n",
    "import numpy as np\n",
    "import pandas as pd\n",
    "import configparser"
   ]
  },
  {
   "cell_type": "code",
   "execution_count": 22,
   "id": "809e6ada-ca61-4d70-8f16-24e53b9bdc2d",
   "metadata": {},
   "outputs": [
    {
     "name": "stderr",
     "output_type": "stream",
     "text": [
      "No sentence-transformers model found with name C:\\Users\\gaelp/.cache\\torch\\sentence_transformers\\dangvantuan_sentence-camembert-large. Creating a new one with MEAN pooling.\n"
     ]
    }
   ],
   "source": [
    "config=configparser.ConfigParser()\n",
    "config.read('../config.cfg')\n",
    "\n",
    "model_name = \"dangvantuan/sentence-camembert-large\"\n",
    "encoder = SentenceTransformer(model_name_or_path=model_name)"
   ]
  },
  {
   "cell_type": "code",
   "execution_count": 23,
   "id": "9c7f4e7d-6e69-4c9e-a455-fb6094c1b834",
   "metadata": {},
   "outputs": [],
   "source": [
    "QDRANT_HOST=config['QDRANT']['host']\n",
    "QDRANT_PORT=config['QDRANT']['port']\n",
    "QDRANT_API_KEY=config['QDRANT']['qdrant_api_key']\n",
    "\n",
    "client = QdrantClient(url=QDRANT_HOST, \n",
    "                      port=QDRANT_PORT, \n",
    "                      api_key=QDRANT_API_KEY)"
   ]
  },
  {
   "cell_type": "code",
   "execution_count": 36,
   "id": "1c2b933e-3f69-4921-8158-ffbb283f5faf",
   "metadata": {},
   "outputs": [],
   "source": [
    "df = pd.read_csv('../data/processed/articles.csv', index_col=0)"
   ]
  },
  {
   "cell_type": "code",
   "execution_count": 37,
   "id": "2491d55e-8bf1-46e6-a3c9-8d32d6cce61d",
   "metadata": {},
   "outputs": [],
   "source": [
    "df = df.reset_index()"
   ]
  },
  {
   "cell_type": "code",
   "execution_count": 38,
   "id": "ed07a2e8-6bc6-476c-a050-c584d5ae6d33",
   "metadata": {},
   "outputs": [],
   "source": [
    "df.columns = ['newsId', 'author', 'title', 'publishedAt', 'content']"
   ]
  },
  {
   "cell_type": "code",
   "execution_count": 39,
   "id": "83db350d-ee8d-4aa9-8469-eaeb2042a1ca",
   "metadata": {},
   "outputs": [],
   "source": [
    "def generate_item_sentence(item: pd.Series, text_columns=[\"title\"]) -> str:\n",
    "    return ' '.join([item[column] for column in text_columns])"
   ]
  },
  {
   "cell_type": "code",
   "execution_count": 40,
   "id": "afe6b350-79af-4f09-b0a5-7dd35e6cd9a0",
   "metadata": {},
   "outputs": [],
   "source": [
    "df[\"sentence\"] = df.apply(generate_item_sentence, axis=1)\n",
    "df[\"sentence_embedding\"] = df[\"sentence\"].apply(encoder.encode)"
   ]
  },
  {
   "cell_type": "code",
   "execution_count": null,
   "id": "5f81f4fc-e05a-4fb2-880d-207ec95ffaac",
   "metadata": {},
   "outputs": [],
   "source": [
    "client.create_collection(\n",
    "    collection_name = \"articles_fr_newsapi\",\n",
    "    vectors_config = models.VectorParams(\n",
    "        size = encoder.get_sentence_embedding_dimension(),\n",
    "        distance = models.Distance.COSINE,\n",
    "    ),\n",
    ")"
   ]
  },
  {
   "cell_type": "code",
   "execution_count": 42,
   "id": "4aa532a9-d782-4848-9097-1aa30581290b",
   "metadata": {},
   "outputs": [],
   "source": [
    "metadata_columns = df.drop([\"newsId\", \"sentence\", \"sentence_embedding\"], axis=1).columns\n",
    "\n",
    "def create_vector_point(item:pd.Series) -> PointStruct:\n",
    "    \"\"\"Turn vectors into PointStruct\"\"\"\n",
    "    return PointStruct(\n",
    "        id = item[\"newsId\"],\n",
    "        vector = item[\"sentence_embedding\"].tolist(),\n",
    "        payload = {\n",
    "            field: item[field]\n",
    "            for field in metadata_columns\n",
    "            if (str(item[field]) not in ['None', 'nan'])\n",
    "        }\n",
    "    )\n",
    "\n",
    "points = df.apply(create_vector_point, axis=1).tolist()"
   ]
  },
  {
   "cell_type": "code",
   "execution_count": 45,
   "id": "50a6d88a-95c3-420d-a891-ddee8b4bd0c9",
   "metadata": {},
   "outputs": [],
   "source": [
    "CHUNK_SIZE = 500\n",
    "n_chunks = np.ceil(len(points)/CHUNK_SIZE)\n",
    "\n",
    "for i, points_chunk in enumerate(np.array_split(points, n_chunks)):\n",
    "    client.upsert(\n",
    "        collection_name=\"articles_fr_newsapi\",\n",
    "        wait=True,\n",
    "        points=points_chunk.tolist()\n",
    "    )"
   ]
  },
  {
   "cell_type": "code",
   "execution_count": 47,
   "id": "803badbc-f01b-463a-8c4c-69499d8e6c03",
   "metadata": {},
   "outputs": [],
   "source": [
    "query_text = \"Hamas\"\n",
    "query_vector = encoder.encode(query_text).tolist()"
   ]
  },
  {
   "cell_type": "code",
   "execution_count": 48,
   "id": "60af206d-a703-4dbe-9241-a3f993cab0b7",
   "metadata": {},
   "outputs": [
    {
     "data": {
      "text/plain": [
       "[ScoredPoint(id=28, version=0, score=0.39190134, payload={'content': \"Tsahal va utiliser une nouvelle arme contre le Hamas\\xa0: l'eau pompée de la Méditerranée pour inonder le vaste réseau de 500\\xa0km de tunnels creusés par Hamas dans la bande de Gaza. Les tests effectués c… [+3614 chars]\", 'title': \"Gaza\\xa0: Israël s'apprête à inonder les tunnels du Hamas\"}, vector=None, shard_key=None),\n",
       " ScoredPoint(id=67, version=0, score=0.29526114, payload={'content': 'Personne ne discute plus lampleur du bilan humain du carnage en cours à Gaza. Mais personne, parmi les responsables internationaux qui prétendent vouloir apporter des réponses au conflit israélo-pale… [+3387 chars]', 'title': 'A Gaza, la guerre sans fin de Benyamin Nétanyahou'}, vector=None, shard_key=None),\n",
       " ScoredPoint(id=17, version=0, score=0.28084984, payload={'content': 'La bande de Gaza na pas connu de répit depuis les années\\xa01950. Coincé entre Israël et lEgypte, soumis à une succession de guerres et doccupations, ce morceau de Palestine parvient à peine survivre. D… [+2162 chars]', 'title': 'Vidéo. Bande de Gaza\\xa0: avant la guerre, un territoire à l’agonie'}, vector=None, shard_key=None),\n",
       " ScoredPoint(id=25, version=0, score=0.28057295, payload={'content': \"«\\xa0Les combats tuent des otages\\xa0»\\xa0: ce cri du coeur d'Itay Svirsky, dont le cousin Uri est détenu par le Hamas, reflète la sidération des Israéliens et surtout des familles des 132 captifs après la mo… [+3859 chars]\", 'title': \"Guerre Israël - Hamas\\xa0: Benyamin Netanyahou sous pression après la mort d'otages tués par des soldats israéliens\"}, vector=None, shard_key=None),\n",
       " ScoredPoint(id=10, version=0, score=0.27132693, payload={'content': 'A Rafah, mardi 26\\xa0octobre, les autorités ont enterré les corps de 80\\xa0Palestiniens tués dans la bande de Gaza.\\xa0Dans le même temps, Benyamin Nétanyahou avait annoncé «\\xa0lintensification\\xa0» des combats da… [+318 chars]', 'title': 'Vidéo. A Gaza, des corps enterrés dans des fosses communes, tandis que\\xa0la\\xa0riposte israélienne s’intensifie'}, vector=None, shard_key=None),\n",
       " ScoredPoint(id=72, version=0, score=0.23494111, payload={'content': '«\\xa0Jerusalem Calling\\xa0», 2015, oeuvre du photographe Rula Halawani. COURTESY AYYAM GALLERY\\xa0/ RULA HALAWANI\\r\\nHistoire dune notion. Faut-il changer de regard sur la Palestine\\xa0? Cest ce à quoi nous invite… [+2464 chars]', 'title': 'Aux origines de la «\\xa0Terre sainte\\xa0», ou la lente construction d’une Palestine «\\xa0mythifiée\\xa0»'}, vector=None, shard_key=None),\n",
       " ScoredPoint(id=102, version=0, score=0.22063822, payload={'content': \"Fin d'une époque dans le monde du design. Le chevalier blanc de dernière minute dont rêvaient certains salariés d'Habitat n'a pas fait une apparition surprise aux lendemains de Noël. Le tribunal de c… [+3350 chars]\", 'title': 'Clap de fin pour les magasins Habitat'}, vector=None, shard_key=None),\n",
       " ScoredPoint(id=45, version=0, score=0.17888169, payload={'content': \"La nuit de dimanche à ce lundi a été longue en tractations pour les candidats à la reprise des supermarchés et hypermarchés Casino. Intermarché, qui s'est allié à Auchan pour le rachat des 320 magasi… [+381 chars]\", 'title': 'Casino : Intermarché et Auchan emportent la mise'}, vector=None, shard_key=None),\n",
       " ScoredPoint(id=30, version=0, score=0.1633408, payload={'content': 'Plus discret que Doha dans la médiation entre Israël et le Hamas, Le\\xa0Caire nen est pas moins incontournable. Avec la guerre à Gaza, lEgypte retrouve une centralité quelle avait perdue sur la scène in… [+2557 chars]', 'title': 'La guerre Israël-Hamas donne l’occasion à l’Egypte de retrouver une influence diplomatique'}, vector=None, shard_key=None),\n",
       " ScoredPoint(id=54, version=0, score=0.16235924, payload={'content': \"Ce mardi 5\\xa0décembre débute le préavis de grève déposé par l'intersyndicale du groupe Casino.\\xa0Les cinq syndicats du distributeur\\xa0SNTA FO, CGT, CFDT, Unsa et CGC ont décidé de faire cause commune, comm… [+582 chars]\", 'title': 'Les magasins Casino deviennent un sujet social et politique'}, vector=None, shard_key=None)]"
      ]
     },
     "execution_count": 48,
     "metadata": {},
     "output_type": "execute_result"
    }
   ],
   "source": [
    "client.search(\n",
    "    collection_name=\"articles_fr_newsapi\",\n",
    "    query_vector=query_vector,\n",
    "    with_payload=[\"newsId\", \"title\", \"content\"],\n",
    "    query_filter=None\n",
    ")"
   ]
  },
  {
   "cell_type": "code",
   "execution_count": null,
   "id": "ef79e57f-4040-44f8-82e5-71686c13683d",
   "metadata": {},
   "outputs": [],
   "source": []
  }
 ],
 "metadata": {
  "kernelspec": {
   "display_name": "Python 3 (ipykernel)",
   "language": "python",
   "name": "python3"
  },
  "language_info": {
   "codemirror_mode": {
    "name": "ipython",
    "version": 3
   },
   "file_extension": ".py",
   "mimetype": "text/x-python",
   "name": "python",
   "nbconvert_exporter": "python",
   "pygments_lexer": "ipython3",
   "version": "3.9.16"
  }
 },
 "nbformat": 4,
 "nbformat_minor": 5
}
