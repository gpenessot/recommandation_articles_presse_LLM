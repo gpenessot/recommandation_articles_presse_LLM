{
 "cells": [
  {
   "cell_type": "code",
   "execution_count": 8,
   "metadata": {},
   "outputs": [],
   "source": [
    "from newsapi import NewsApiClient\n",
    "import pandas as pd\n",
    "\n",
    "# Init\n",
    "newsapi = NewsApiClient(api_key='b535dee1d4b54f218e8fe3746b1b824e')"
   ]
  },
  {
   "cell_type": "code",
   "execution_count": 9,
   "metadata": {},
   "outputs": [
    {
     "data": {
      "text/plain": [
       "'lequipe'"
      ]
     },
     "execution_count": 9,
     "metadata": {},
     "output_type": "execute_result"
    }
   ],
   "source": [
    "liste_sources = newsapi.get_sources()\n",
    "df_sources = pd.DataFrame().from_dict(liste_sources['sources'])\n",
    "sources_fr = df_sources[df_sources['country']=='fr']['id'].tolist()\n",
    "sources_fr.pop(2)"
   ]
  },
  {
   "cell_type": "code",
   "execution_count": 10,
   "metadata": {},
   "outputs": [
    {
     "name": "stdout",
     "output_type": "stream",
     "text": [
      "Erreur p.6 : {'status': 'error', 'code': 'maximumResultsReached', 'message': 'You have requested too many results. Developer accounts are limited to a max of 100 results. You are trying to request results 100 to 120. Please upgrade to a paid plan if you need more results.'}\n",
      "Erreur p.7 : {'status': 'error', 'code': 'maximumResultsReached', 'message': 'You have requested too many results. Developer accounts are limited to a max of 100 results. You are trying to request results 120 to 140. Please upgrade to a paid plan if you need more results.'}\n",
      "Erreur p.8 : {'status': 'error', 'code': 'maximumResultsReached', 'message': 'You have requested too many results. Developer accounts are limited to a max of 100 results. You are trying to request results 140 to 160. Please upgrade to a paid plan if you need more results.'}\n",
      "Erreur p.9 : {'status': 'error', 'code': 'maximumResultsReached', 'message': 'You have requested too many results. Developer accounts are limited to a max of 100 results. You are trying to request results 160 to 180. Please upgrade to a paid plan if you need more results.'}\n"
     ]
    }
   ],
   "source": [
    "concat_articles = pd.DataFrame()\n",
    "\n",
    "for p in range(1, 10):\n",
    "    try:\n",
    "        top_headlines = newsapi.get_top_headlines(sources=', '.join(sources_fr),\n",
    "                                          page=p,\n",
    "                                          language='fr')\n",
    "        df_articles_fr = pd.DataFrame().from_dict(top_headlines['articles'])\n",
    "        concat_articles = pd.concat([concat_articles, df_articles_fr])\n",
    "    except Exception as e:\n",
    "        print(f'Erreur p.{p} : {e}')\n",
    "        continue"
   ]
  },
  {
   "cell_type": "code",
   "execution_count": 11,
   "metadata": {},
   "outputs": [],
   "source": [
    "concat_articles.to_csv('../data/raw/news_12-28.csv')"
   ]
  },
  {
   "cell_type": "code",
   "execution_count": null,
   "metadata": {},
   "outputs": [],
   "source": []
  }
 ],
 "metadata": {
  "kernelspec": {
   "display_name": "Python 3 (ipykernel)",
   "language": "python",
   "name": "python3"
  },
  "language_info": {
   "codemirror_mode": {
    "name": "ipython",
    "version": 3
   },
   "file_extension": ".py",
   "mimetype": "text/x-python",
   "name": "python",
   "nbconvert_exporter": "python",
   "pygments_lexer": "ipython3",
   "version": "3.9.16"
  }
 },
 "nbformat": 4,
 "nbformat_minor": 4
}
